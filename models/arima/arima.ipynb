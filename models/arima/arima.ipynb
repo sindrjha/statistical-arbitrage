{
 "cells": [
  {
   "cell_type": "markdown",
   "metadata": {},
   "source": [
    "# Statistical models in R\n",
    "This notebook is covering:\n",
    "1. ARIMA-models."
   ]
  },
  {
   "cell_type": "code",
   "execution_count": 2,
   "metadata": {},
   "outputs": [],
   "source": [
    "import pandas as pd\n",
    "import plotly.express as px\n",
    "import plotly.graph_objs as go"
   ]
  },
  {
   "cell_type": "code",
   "execution_count": 3,
   "metadata": {},
   "outputs": [
    {
     "name": "stdout",
     "output_type": "stream",
     "text": [
      "Requirement already satisfied: rpy2 in /Users/sindrehaugland/Documents/Master/statistical-arbitrage/.conda/lib/python3.11/site-packages (3.5.16)\n",
      "Requirement already satisfied: cffi>=1.15.1 in /Users/sindrehaugland/Documents/Master/statistical-arbitrage/.conda/lib/python3.11/site-packages (from rpy2) (1.17.1)\n",
      "Requirement already satisfied: jinja2 in /Users/sindrehaugland/Documents/Master/statistical-arbitrage/.conda/lib/python3.11/site-packages (from rpy2) (3.1.4)\n",
      "Requirement already satisfied: tzlocal in /Users/sindrehaugland/Documents/Master/statistical-arbitrage/.conda/lib/python3.11/site-packages (from rpy2) (5.2)\n",
      "Requirement already satisfied: pycparser in /Users/sindrehaugland/Documents/Master/statistical-arbitrage/.conda/lib/python3.11/site-packages (from cffi>=1.15.1->rpy2) (2.22)\n",
      "Requirement already satisfied: MarkupSafe>=2.0 in /Users/sindrehaugland/Documents/Master/statistical-arbitrage/.conda/lib/python3.11/site-packages (from jinja2->rpy2) (2.1.5)\n",
      "Note: you may need to restart the kernel to use updated packages.\n"
     ]
    }
   ],
   "source": [
    "# rpy2 is a Python package that allows you to run R code from Python\n",
    "%pip install rpy2"
   ]
  },
  {
   "cell_type": "code",
   "execution_count": 4,
   "metadata": {},
   "outputs": [],
   "source": [
    "# Load the rpy2 extension to use R in Jupyter\n",
    "%load_ext rpy2.ipython"
   ]
  },
  {
   "cell_type": "markdown",
   "metadata": {},
   "source": [
    "The magic function `%%R` is used for running R code in Jupyter"
   ]
  },
  {
   "cell_type": "code",
   "execution_count": 5,
   "metadata": {},
   "outputs": [
    {
     "data": {
      "text/plain": [
       "Loading required package: dplyr\n",
       "\n",
       "Attaching package: ‘dplyr’\n",
       "\n",
       "The following objects are masked from ‘package:stats’:\n",
       "\n",
       "    filter, lag\n",
       "\n",
       "The following objects are masked from ‘package:base’:\n",
       "\n",
       "    intersect, setdiff, setequal, union\n",
       "\n",
       "Loading required package: zoo\n",
       "\n",
       "Attaching package: ‘zoo’\n",
       "\n",
       "The following objects are masked from ‘package:base’:\n",
       "\n",
       "    as.Date, as.Date.numeric\n",
       "\n",
       "Loading required package: psych\n",
       "Loading required package: TSA\n",
       "\n",
       "Attaching package: ‘TSA’\n",
       "\n",
       "The following objects are masked from ‘package:stats’:\n",
       "\n",
       "    acf, arima\n",
       "\n",
       "The following object is masked from ‘package:utils’:\n",
       "\n",
       "    tar\n",
       "\n",
       "Loading required package: forecast\n",
       "Registered S3 method overwritten by 'quantmod':\n",
       "  method            from\n",
       "  as.zoo.data.frame zoo \n",
       "Registered S3 methods overwritten by 'forecast':\n",
       "  method       from\n",
       "  fitted.Arima TSA \n",
       "  plot.Arima   TSA \n",
       "Loading required package: Metrics\n",
       "\n",
       "Attaching package: ‘Metrics’\n",
       "\n",
       "The following object is masked from ‘package:forecast’:\n",
       "\n",
       "    accuracy\n",
       "\n",
       "Loading required package: ggplot2\n",
       "\n",
       "Attaching package: ‘ggplot2’\n",
       "\n",
       "The following objects are masked from ‘package:psych’:\n",
       "\n",
       "    %+%, alpha\n",
       "\n",
       "Loading required package: vars\n",
       "Loading required package: MASS\n",
       "\n",
       "Attaching package: ‘MASS’\n",
       "\n",
       "The following object is masked from ‘package:dplyr’:\n",
       "\n",
       "    select\n",
       "\n",
       "Loading required package: strucchange\n",
       "Loading required package: sandwich\n",
       "Loading required package: urca\n",
       "Loading required package: lmtest\n",
       "Loading required package: svars\n",
       "Registered S3 method overwritten by 'svars':\n",
       "  method           from\n",
       "  stability.varest vars\n",
       "Loading required package: tsDyn\n",
       "\n",
       "Attaching package: ‘tsDyn’\n",
       "\n",
       "The following object is masked from ‘package:Metrics’:\n",
       "\n",
       "    mse\n",
       "\n"
      ]
     },
     "metadata": {},
     "output_type": "display_data"
    }
   ],
   "source": [
    "%%R\n",
    "# Install required packages\n",
    "if (require(\"dplyr\") == FALSE) {\n",
    "  install.packages(\"dplyr\")\n",
    "  library(dplyr)\n",
    "}\n",
    "if (require(\"zoo\") == FALSE) {\n",
    "  install.packages(\"zoo\")\n",
    "  library(zoo)\n",
    "}\n",
    "if (require(\"psych\") == FALSE) {\n",
    "  install.packages(\"psych\")\n",
    "  library(psych)\n",
    "}\n",
    "if (require(\"TSA\") == FALSE) {\n",
    "  install.packages(\"TSA\")\n",
    "  library(TSA)\n",
    "}\n",
    "if (require(\"forecast\") == FALSE) {\n",
    "  install.packages(\"forecast\")\n",
    "  library(forecast)\n",
    "}\n",
    "if (require(\"Metrics\") == FALSE) {\n",
    "  install.packages(\"Metrics\")\n",
    "  library(Metrics)\n",
    "}\n",
    "if (require(\"ggplot2\") == FALSE) {\n",
    "  install.packages(\"ggplot2\")\n",
    "  library(ggplot2)\n",
    "}\n",
    "if (require(\"vars\") == FALSE) {\n",
    "  install.packages(\"vars\")\n",
    "  library(vars)\n",
    "}\n",
    "if (require(\"svars\") == FALSE) {\n",
    "  install.packages(\"svars\")\n",
    "  library(svars)\n",
    "}\n",
    "if (require(\"tsDyn\") == FALSE) {\n",
    "  install.packages(\"tsDyn\")\n",
    "  library(tsDyn)\n",
    "}\n"
   ]
  },
  {
   "cell_type": "code",
   "execution_count": 7,
   "metadata": {},
   "outputs": [],
   "source": [
    "%%R\n",
    "# Load data\n",
    "hub_prices <- list(\n",
    "  nbp = read.csv(\"../../data/interpolated/nbp_close_interpolated.csv\"),\n",
    "  peg = read.csv(\"../../data/interpolated/peg_close_interpolated.csv\"),\n",
    "  the = read.csv(\"../../data/interpolated/the_close_interpolated.csv\"),\n",
    "  ttf = read.csv(\"../../data/interpolated/ttf_close_interpolated.csv\"),\n",
    "  ztp = read.csv(\"../../data/interpolated/ztp_close_interpolated.csv\")\n",
    ")"
   ]
  },
  {
   "cell_type": "code",
   "execution_count": 24,
   "metadata": {},
   "outputs": [],
   "source": [
    "%%R\n",
    "\n",
    "hub1_name <- \"nbp\"\n",
    "\n",
    "hub1 <- hub_prices[[hub1_name]]\n",
    "\n",
    "hub <- data.frame(hub = hub1$CLOSE)\n"
   ]
  },
  {
   "cell_type": "code",
   "execution_count": 19,
   "metadata": {},
   "outputs": [],
   "source": [
    "%%R\n",
    "arima_predictions <- function(hub, window_size = 5, horizon = 250) {\n",
    "  \n",
    "  # Initialize empty data frames for storing predictions and actual values\n",
    "  predictions <- data.frame(matrix(ncol = ncol(hub), nrow = 0))\n",
    "  actuals <- data.frame(matrix(ncol = ncol(hub), nrow = 0))\n",
    "  \n",
    "  colnames(predictions) <- colnames(hub)\n",
    "  colnames(actuals) <- colnames(hub)\n",
    "  \n",
    "  for (i in 1:horizon) {\n",
    "    train_size <- nrow(hub) - horizon - window_size + i\n",
    "    hub_train <- hub[1:train_size, ]\n",
    "    \n",
    "    # Fit the VECM model\n",
    "    arima_model <- arima(hub_train, order = c(3, 1, 3))\n",
    "    \n",
    "    # Predict the future values\n",
    "    hub_forecast <- predict(arima_model, n.ahead = window_size)$pred\n",
    "    \n",
    "    hub_prediction <- hub_forecast[window_size]\n",
    "    \n",
    "    prediction_data <- data.frame(hub_prediction)\n",
    "    colnames(prediction_data) <- colnames(hub)\n",
    "    \n",
    "    hub_actual <- hub[train_size + window_size, ]\n",
    "    actual_data <- data.frame(hub_actual)\n",
    "    colnames(actual_data) <- colnames(hub)\n",
    "    \n",
    "    predictions <- rbind(predictions, prediction_data)\n",
    "    actuals <- rbind(actuals, actual_data)\n",
    "  }\n",
    "  \n",
    "  # Return both data frames as a list\n",
    "  return(list(predictions = predictions, actuals = actuals))\n",
    "}\n",
    "  "
   ]
  },
  {
   "cell_type": "code",
   "execution_count": 20,
   "metadata": {},
   "outputs": [
    {
     "name": "stdout",
     "output_type": "stream",
     "text": [
      "[1] \"nbp: Mean Absolute Error: 2.23807459091554\"\n",
      "[1] \"nbp: Root Mean Squared Error: 3.0877651956768\"\n"
     ]
    },
    {
     "data": {
      "text/plain": [
       "In addition: Warning message:\n",
       "In stats::arima(x = x, order = order, seasonal = seasonal, xreg = xreg,  :\n",
       "  possible convergence problem: optim gave code = 1\n"
      ]
     },
     "metadata": {},
     "output_type": "display_data"
    }
   ],
   "source": [
    "%%R\n",
    "output <- arima_predictions(hub)\n",
    "hub_predictions <- output$predictions$hub\n",
    "hub_actuals <- output$actuals$hub\n",
    "\n",
    "\n",
    "hub_mae <- mae(hub_actuals, hub_predictions)\n",
    "hub_rmse <- rmse(hub_actuals, hub_predictions)\n",
    "\n",
    "print(paste0(hub_name, \": Mean Absolute Error: \", hub_mae))\n",
    "print(paste0(hub_name, \": Root Mean Squared Error: \", hub_rmse))"
   ]
  },
  {
   "cell_type": "code",
   "execution_count": 21,
   "metadata": {},
   "outputs": [],
   "source": [
    "%%R\n",
    "predictions <- output$predictions\n",
    "actuals <- output$actuals\n",
    "\n",
    "colnames(predictions) <- c(hub_name)\n",
    "colnames(actuals) <- c(hub_name)\n",
    "\n",
    "prediction_dates = tail(hub1$Date, horizon)\n",
    "predictions <- cbind(data.frame(Date = prediction_dates), predictions)\n",
    "actuals <- cbind(data.frame(Date = prediction_dates), actuals)"
   ]
  },
  {
   "cell_type": "code",
   "execution_count": 25,
   "metadata": {},
   "outputs": [],
   "source": [
    "%%R\n",
    "write.csv(predictions, paste0(\"../../predictions/\",hub1_name, \"_h\", horizon, \"_w\", window_size, \"arima_predictions.csv\"), row.names = FALSE)\n",
    "write.csv(actuals, paste0(\"../../predictions/\",hub1_name, \"_h\", horizon, \"_w\", window_size, \"_actuals.csv\"), row.names = FALSE)"
   ]
  },
  {
   "cell_type": "code",
   "execution_count": 12,
   "metadata": {},
   "outputs": [],
   "source": [
    "%%R\n",
    "hub_forecast_comparison <- data.frame(\n",
    "  Actual = hub_actuals,\n",
    "  Forecasted = hub_predictions\n",
    ")"
   ]
  },
  {
   "cell_type": "code",
   "execution_count": 14,
   "metadata": {},
   "outputs": [
    {
     "data": {
      "application/vnd.plotly.v1+json": {
       "config": {
        "plotlyServerURL": "https://plot.ly"
       },
       "data": [
        {
         "mode": "lines",
         "name": "Actual Prices",
         "type": "scatter",
         "x": [
          "1",
          "2",
          "3",
          "4",
          "5",
          "6",
          "7",
          "8",
          "9",
          "10",
          "11",
          "12",
          "13",
          "14",
          "15",
          "16",
          "17",
          "18",
          "19",
          "20",
          "21",
          "22",
          "23",
          "24",
          "25",
          "26",
          "27",
          "28",
          "29",
          "30",
          "31",
          "32",
          "33",
          "34",
          "35",
          "36",
          "37",
          "38",
          "39",
          "40",
          "41",
          "42",
          "43",
          "44",
          "45",
          "46",
          "47",
          "48",
          "49",
          "50",
          "51",
          "52",
          "53",
          "54",
          "55",
          "56",
          "57",
          "58",
          "59",
          "60",
          "61",
          "62",
          "63",
          "64",
          "65",
          "66",
          "67",
          "68",
          "69",
          "70",
          "71",
          "72",
          "73",
          "74",
          "75",
          "76",
          "77",
          "78",
          "79",
          "80",
          "81",
          "82",
          "83",
          "84",
          "85",
          "86",
          "87",
          "88",
          "89",
          "90",
          "91",
          "92",
          "93",
          "94",
          "95",
          "96",
          "97",
          "98",
          "99",
          "100",
          "101",
          "102",
          "103",
          "104",
          "105",
          "106",
          "107",
          "108",
          "109",
          "110",
          "111",
          "112",
          "113",
          "114",
          "115",
          "116",
          "117",
          "118",
          "119",
          "120",
          "121",
          "122",
          "123",
          "124",
          "125",
          "126",
          "127",
          "128",
          "129",
          "130",
          "131",
          "132",
          "133",
          "134",
          "135",
          "136",
          "137",
          "138",
          "139",
          "140",
          "141",
          "142",
          "143",
          "144",
          "145",
          "146",
          "147",
          "148",
          "149",
          "150",
          "151",
          "152",
          "153",
          "154",
          "155",
          "156",
          "157",
          "158",
          "159",
          "160",
          "161",
          "162",
          "163",
          "164",
          "165",
          "166",
          "167",
          "168",
          "169",
          "170",
          "171",
          "172",
          "173",
          "174",
          "175",
          "176",
          "177",
          "178",
          "179",
          "180",
          "181",
          "182",
          "183",
          "184",
          "185",
          "186",
          "187",
          "188",
          "189",
          "190",
          "191",
          "192",
          "193",
          "194",
          "195",
          "196",
          "197",
          "198",
          "199",
          "200",
          "201",
          "202",
          "203",
          "204",
          "205",
          "206",
          "207",
          "208",
          "209",
          "210",
          "211",
          "212",
          "213",
          "214",
          "215",
          "216",
          "217",
          "218",
          "219",
          "220",
          "221",
          "222",
          "223",
          "224",
          "225",
          "226",
          "227",
          "228",
          "229",
          "230",
          "231",
          "232",
          "233",
          "234",
          "235",
          "236",
          "237",
          "238",
          "239",
          "240",
          "241",
          "242",
          "243",
          "244",
          "245",
          "246",
          "247",
          "248",
          "249",
          "250"
         ],
         "y": [
          34.5815538949739,
          37.047039615109,
          37.67028764459,
          39.5698184734023,
          40.0036905858669,
          44.3311580850991,
          40.1043542498379,
          39.1846425768588,
          39.5243474255297,
          41.4881905346845,
          38.7137066229911,
          36.3072818780496,
          37.810985430102,
          35.430374313304,
          37.2227471252602,
          43.1760200634661,
          49.2848541304125,
          46.1314928174156,
          52.8489958030505,
          53.9066400518647,
          47.8279782987,
          47.9467516293036,
          49.4612754631999,
          48.3982321629645,
          49.3961060497492,
          49.6455880847579,
          47.8438547104787,
          48.5701914218446,
          49.4031323574573,
          49.2012802402157,
          50.0061869178012,
          48.6255167707374,
          47.9524311597912,
          48.7780376701812,
          48.2263332992118,
          44.6619770020814,
          45.7139594636094,
          45.4463575255059,
          47.7128112737571,
          45.947458968847,
          46.860402634183,
          46.6815934759614,
          46.1682806155526,
          45.0540638755246,
          44.2781472003276,
          45.3424038625584,
          43.8359429487836,
          44.2486965571365,
          46.9999034360392,
          47.1075084450814,
          44.1343252465281,
          42.8163674207527,
          40.4059146279046,
          42.3738683590951,
          43.6549698024363,
          40.0674596512779,
          37.9280895349234,
          39.0928191217115,
          39.7754857201351,
          38.5722933087658,
          35.8849135018937,
          34.4202579588494,
          35.4843552734842,
          34.3681441293889,
          32.7726908247176,
          35.0393858122633,
          31.8577490019449,
          32.862565257447,
          33.6338451564473,
          33.5870897737742,
          34.1897765039069,
          34.7924632340397,
          35.3951499641724,
          32.8087119118299,
          31.747530624083,
          30.8768891391135,
          30.0062476541441,
          32.2434244378476,
          33.1468331797864,
          34.4849448937114,
          31.2761074146108,
          30.3222711297642,
          30.5525017913809,
          30.433327191456,
          31.7422049339748,
          29.3880096905176,
          29.1425884600949,
          27.1648602722899,
          27.2727484901218,
          27.7895342409663,
          26.6548691438905,
          26.6184614597195,
          28.4632531477122,
          27.3667642542737,
          27.6860477019142,
          27.8043279762514,
          29.1965956938615,
          29.7281127375712,
          28.4907615927935,
          28.5022445149623,
          27.5999969290613,
          28.0077793701164,
          27.5830559252056,
          27.2891578803699,
          26.5253925683284,
          25.0582898283686,
          24.946451018528,
          24.384656907906,
          24.3799570068584,
          24.1603548640257,
          23.083445593203,
          23.6233435697956,
          23.5495574436142,
          22.8656464325929,
          22.5516347630259,
          23.6455386085236,
          24.1825161224281,
          25.5344320469512,
          24.5462708567919,
          25.5742587095233,
          26.84562732453,
          27.4265533831508,
          26.486390964616,
          26.060285938513,
          26.3703255195005,
          24.9548101136247,
          24.9599071894087,
          24.8859043914423,
          26.0906285187839,
          27.1186016992527,
          29.2620042993142,
          29.4377520728836,
          28.5037752072884,
          27.1874971849729,
          28.493315590132,
          29.1991800593715,
          27.4960487255604,
          27.5656539393319,
          27.1624151226669,
          26.6985835010976,
          26.2347518795282,
          25.7709202579589,
          25.1508636162009,
          25.8036960453134,
          26.2791278534139,
          27.710837001399,
          27.0867710785819,
          26.8059361244754,
          29.4237001398983,
          30.4769413450711,
          30.9714402702426,
          33.0755450916163,
          31.0925376189989,
          32.3654007574982,
          30.6568123656464,
          29.253152147951,
          28.2038393557853,
          28.8562005664176,
          29.6389221005221,
          28.6381362814345,
          27.524024976968,
          28.5807588630703,
          27.8482516122428,
          30.0918217490702,
          29.6208001501348,
          29.8571186064763,
          30.0934370628178,
          29.6451694134507,
          29.9436783021121,
          28.9405261541611,
          28.4089985327737,
          28.5708724878015,
          28.6315562834818,
          29.0455413382468,
          29.6404790664346,
          30.6255638584638,
          31.777112976422,
          33.0520906268127,
          34.1820793667042,
          32.824833657488,
          32.6146743098918,
          32.4045149622957,
          32.7479158562801,
          33.8452216194083,
          32.7660644214693,
          34.902102569352,
          32.2585488108643,
          31.8421223598458,
          32.2675057153581,
          31.4956331251919,
          32.8088060872829,
          32.8032743030675,
          33.8748145494251,
          34.1808066332276,
          33.6433964581841,
          32.508023339134,
          32.8738936090354,
          33.4301238611936,
          32.4335947043368,
          31.9414150203023,
          32.1212669328147,
          32.9567140956086,
          31.8471740539803,
          32.533270549698,
          32.7515149964172,
          31.4594636093766,
          31.7074483911693,
          30.6192254410209,
          31.3814488006278,
          31.1537284607773,
          30.2692189579281,
          29.3623837308493,
          28.8125082744737,
          29.2501880096905,
          29.7200477701573,
          29.3352523287952,
          30.9584314327635,
          29.9263496775514,
          30.8083038182004,
          30.274995393592,
          29.9605254717303,
          29.6991739174941,
          30.7901330740096,
          29.9904094584911,
          30.7769341795476,
          32.3129423004743,
          32.5933394752107,
          35.2437131060839,
          36.3116777561675,
          35.9144845941243,
          34.633466407343,
          35.7561585969222,
          37.4429938240011,
          39.0638956563278,
          39.258707817245,
          38.5276312826287,
          38.2751724843894,
          37.4066745146211,
          38.2062374176818,
          38.1126502200839,
          38.439535605828,
          36.5315712969598,
          35.4969034701607,
          35.1668720783431,
          35.6491773296482,
          36.6769532876105,
          37.7047292455727,
          37.5567263793633,
          37.1902910567441,
          38.9560548674378
         ]
        },
        {
         "mode": "lines",
         "name": "Forecasted Prices",
         "type": "scatter",
         "x": [
          "1",
          "2",
          "3",
          "4",
          "5",
          "6",
          "7",
          "8",
          "9",
          "10",
          "11",
          "12",
          "13",
          "14",
          "15",
          "16",
          "17",
          "18",
          "19",
          "20",
          "21",
          "22",
          "23",
          "24",
          "25",
          "26",
          "27",
          "28",
          "29",
          "30",
          "31",
          "32",
          "33",
          "34",
          "35",
          "36",
          "37",
          "38",
          "39",
          "40",
          "41",
          "42",
          "43",
          "44",
          "45",
          "46",
          "47",
          "48",
          "49",
          "50",
          "51",
          "52",
          "53",
          "54",
          "55",
          "56",
          "57",
          "58",
          "59",
          "60",
          "61",
          "62",
          "63",
          "64",
          "65",
          "66",
          "67",
          "68",
          "69",
          "70",
          "71",
          "72",
          "73",
          "74",
          "75",
          "76",
          "77",
          "78",
          "79",
          "80",
          "81",
          "82",
          "83",
          "84",
          "85",
          "86",
          "87",
          "88",
          "89",
          "90",
          "91",
          "92",
          "93",
          "94",
          "95",
          "96",
          "97",
          "98",
          "99",
          "100",
          "101",
          "102",
          "103",
          "104",
          "105",
          "106",
          "107",
          "108",
          "109",
          "110",
          "111",
          "112",
          "113",
          "114",
          "115",
          "116",
          "117",
          "118",
          "119",
          "120",
          "121",
          "122",
          "123",
          "124",
          "125",
          "126",
          "127",
          "128",
          "129",
          "130",
          "131",
          "132",
          "133",
          "134",
          "135",
          "136",
          "137",
          "138",
          "139",
          "140",
          "141",
          "142",
          "143",
          "144",
          "145",
          "146",
          "147",
          "148",
          "149",
          "150",
          "151",
          "152",
          "153",
          "154",
          "155",
          "156",
          "157",
          "158",
          "159",
          "160",
          "161",
          "162",
          "163",
          "164",
          "165",
          "166",
          "167",
          "168",
          "169",
          "170",
          "171",
          "172",
          "173",
          "174",
          "175",
          "176",
          "177",
          "178",
          "179",
          "180",
          "181",
          "182",
          "183",
          "184",
          "185",
          "186",
          "187",
          "188",
          "189",
          "190",
          "191",
          "192",
          "193",
          "194",
          "195",
          "196",
          "197",
          "198",
          "199",
          "200",
          "201",
          "202",
          "203",
          "204",
          "205",
          "206",
          "207",
          "208",
          "209",
          "210",
          "211",
          "212",
          "213",
          "214",
          "215",
          "216",
          "217",
          "218",
          "219",
          "220",
          "221",
          "222",
          "223",
          "224",
          "225",
          "226",
          "227",
          "228",
          "229",
          "230",
          "231",
          "232",
          "233",
          "234",
          "235",
          "236",
          "237",
          "238",
          "239",
          "240",
          "241",
          "242",
          "243",
          "244",
          "245",
          "246",
          "247",
          "248",
          "249",
          "250"
         ],
         "y": [
          35.26140338059033,
          34.471162081952265,
          36.918982901062186,
          35.21781001536462,
          36.58568278144391,
          34.57653298248562,
          37.22031493114444,
          37.371488491440836,
          39.54148341895329,
          39.99977921897443,
          44.41562014526333,
          39.6803712077069,
          39.73529023139047,
          39.64993701415343,
          41.14275710580974,
          38.53362506664937,
          36.79313351100768,
          37.98552365853033,
          34.946491302695236,
          37.50121737692984,
          43.1665381585951,
          48.62044426876742,
          45.778992110259864,
          53.75524624851264,
          53.22489248207664,
          47.555961906090936,
          48.990529093898104,
          49.255303240241865,
          47.780430973670285,
          49.779294981096406,
          49.73377493546619,
          47.611647227284024,
          48.77364550159091,
          49.374556677753965,
          49.03009615557452,
          50.097805419998075,
          48.601926767152605,
          48.05433025805177,
          48.818595896015054,
          48.072630551879804,
          44.72731693411165,
          46.11150997418184,
          45.16373575530254,
          47.62572158241687,
          45.87761486128551,
          47.1158668091744,
          46.54773679603608,
          46.102921178106804,
          45.18301017535386,
          44.374225799109674,
          45.31864006340867,
          43.674286186654804,
          44.455758758015435,
          46.97692958520864,
          46.747145899836084,
          44.251890635111984,
          43.254544444142525,
          40.32446903445288,
          42.40042917967239,
          43.465732944300846,
          39.97602518168478,
          38.39885508710649,
          39.188771384952936,
          39.377375644253796,
          38.56147856810484,
          36.19105879905546,
          34.58572823796769,
          35.403522169439874,
          34.1725711730815,
          32.9636076157644,
          35.23097912837803,
          31.459160962529253,
          33.20034540292371,
          33.61110624536464,
          33.3553506573961,
          34.278179236797584,
          34.82818015734845,
          35.29624702390323,
          32.76180338898644,
          32.063148028918505,
          30.888584138865664,
          29.90795674352271,
          32.33574551336583,
          32.93902910473854,
          34.4310964720803,
          31.268208779155504,
          30.677432037354155,
          30.52820260443043,
          30.225342299366666,
          31.819038970056273,
          29.329192592788527,
          29.359824122266936,
          27.133375460547647,
          27.357415664336703,
          27.748571952433668,
          26.562259656513437,
          26.773856563074332,
          28.4635444491028,
          27.105434656630507,
          27.879688841831275,
          27.84276556983031,
          29.087311044284082,
          29.608356619375908,
          28.535760447259186,
          28.678818448016276,
          27.519420932555214,
          28.029971032599622,
          27.564762002520922,
          27.323074775931666,
          26.546565624505515,
          25.10032965315967,
          25.05571023908245,
          24.324283880297312,
          24.38807394927992,
          24.17681921218881,
          23.088128074020663,
          23.71515935274737,
          23.457192439521013,
          22.851230420295607,
          22.663765130324098,
          23.648376375191933,
          24.017968444976947,
          25.539140445832807,
          24.500337356571688,
          25.701052329321065,
          26.73671511172617,
          27.28494067276239,
          26.53583437266789,
          26.217766430522666,
          26.341977502477736,
          24.84586113855462,
          25.1394275699992,
          24.874216824774884,
          26.012163245953328,
          27.02965616568993,
          29.242917047622065,
          29.29590776996429,
          28.560257315661286,
          27.34082831905829,
          28.552178328854037,
          28.97081268704476,
          27.463099643884526,
          27.858848069551502,
          27.078008353162836,
          26.61304714428552,
          26.335625027516514,
          25.820530785924127,
          25.12365247737868,
          25.840850723784765,
          26.210861050430477,
          27.67240707332637,
          26.99581980729479,
          26.925262428880163,
          29.471661632921357,
          30.15586763745268,
          30.96174772403272,
          33.215325485355415,
          30.864997063650996,
          32.5833492311312,
          30.57148859481238,
          29.34118256764684,
          28.339739512378166,
          28.860027012860172,
          29.492786251652372,
          28.59558029195979,
          27.705933411137295,
          28.655445201997804,
          27.621930979497343,
          30.19918323339024,
          29.477756223656126,
          29.91021947044914,
          30.129928532675056,
          29.5895788244455,
          29.98940756450284,
          28.920453078899794,
          28.489158924842478,
          28.601248509093207,
          28.559907829888957,
          29.043361344650943,
          29.63712848088791,
          30.577136281397603,
          31.70830339192376,
          33.00073414447144,
          34.12807531236856,
          32.77183903778077,
          32.80553219621005,
          32.39294927389909,
          32.67606895374195,
          33.83686722465722,
          32.69577214916999,
          35.04812706015494,
          32.033561379789795,
          32.10420139458378,
          32.328086500251146,
          31.296823911791083,
          32.910357838437754,
          32.737314140831444,
          33.85742932905508,
          34.1199198581421,
          33.65016960225942,
          32.59228984794587,
          32.956190202360055,
          33.32148343469298,
          32.36490785584648,
          32.11131709760717,
          32.14825468483839,
          32.84400139848168,
          31.77876445758452,
          32.72252934998511,
          32.660426670936566,
          31.37107386751452,
          31.903706231081628,
          30.56983819967709,
          31.404090901782865,
          31.085227744303594,
          30.298234082502653,
          29.468106577177835,
          28.845201208102104,
          29.23054253671666,
          29.657347652400606,
          29.314858400746406,
          31.041003783448833,
          29.753026149397428,
          30.932953739085338,
          30.235082791133706,
          29.968845869461138,
          29.743288356830103,
          30.79858715195067,
          29.855270042474274,
          30.897560574157737,
          32.2711435633252,
          32.406421459283244,
          35.31486811033205,
          36.14353760701104,
          35.854854449883355,
          34.79028824027635,
          35.87607767897931,
          37.222981688562975,
          38.916427728116695,
          39.27139222434821,
          38.60081228002062,
          38.33224926966771,
          37.375618806430865,
          38.26946531326796,
          38.023063439385524,
          38.44692255727295,
          36.53596887618351,
          35.67550104807145,
          35.19661562579045,
          35.5696648268016
         ]
        }
       ],
       "layout": {
        "template": {
         "data": {
          "bar": [
           {
            "error_x": {
             "color": "#2a3f5f"
            },
            "error_y": {
             "color": "#2a3f5f"
            },
            "marker": {
             "line": {
              "color": "#E5ECF6",
              "width": 0.5
             },
             "pattern": {
              "fillmode": "overlay",
              "size": 10,
              "solidity": 0.2
             }
            },
            "type": "bar"
           }
          ],
          "barpolar": [
           {
            "marker": {
             "line": {
              "color": "#E5ECF6",
              "width": 0.5
             },
             "pattern": {
              "fillmode": "overlay",
              "size": 10,
              "solidity": 0.2
             }
            },
            "type": "barpolar"
           }
          ],
          "carpet": [
           {
            "aaxis": {
             "endlinecolor": "#2a3f5f",
             "gridcolor": "white",
             "linecolor": "white",
             "minorgridcolor": "white",
             "startlinecolor": "#2a3f5f"
            },
            "baxis": {
             "endlinecolor": "#2a3f5f",
             "gridcolor": "white",
             "linecolor": "white",
             "minorgridcolor": "white",
             "startlinecolor": "#2a3f5f"
            },
            "type": "carpet"
           }
          ],
          "choropleth": [
           {
            "colorbar": {
             "outlinewidth": 0,
             "ticks": ""
            },
            "type": "choropleth"
           }
          ],
          "contour": [
           {
            "colorbar": {
             "outlinewidth": 0,
             "ticks": ""
            },
            "colorscale": [
             [
              0,
              "#0d0887"
             ],
             [
              0.1111111111111111,
              "#46039f"
             ],
             [
              0.2222222222222222,
              "#7201a8"
             ],
             [
              0.3333333333333333,
              "#9c179e"
             ],
             [
              0.4444444444444444,
              "#bd3786"
             ],
             [
              0.5555555555555556,
              "#d8576b"
             ],
             [
              0.6666666666666666,
              "#ed7953"
             ],
             [
              0.7777777777777778,
              "#fb9f3a"
             ],
             [
              0.8888888888888888,
              "#fdca26"
             ],
             [
              1,
              "#f0f921"
             ]
            ],
            "type": "contour"
           }
          ],
          "contourcarpet": [
           {
            "colorbar": {
             "outlinewidth": 0,
             "ticks": ""
            },
            "type": "contourcarpet"
           }
          ],
          "heatmap": [
           {
            "colorbar": {
             "outlinewidth": 0,
             "ticks": ""
            },
            "colorscale": [
             [
              0,
              "#0d0887"
             ],
             [
              0.1111111111111111,
              "#46039f"
             ],
             [
              0.2222222222222222,
              "#7201a8"
             ],
             [
              0.3333333333333333,
              "#9c179e"
             ],
             [
              0.4444444444444444,
              "#bd3786"
             ],
             [
              0.5555555555555556,
              "#d8576b"
             ],
             [
              0.6666666666666666,
              "#ed7953"
             ],
             [
              0.7777777777777778,
              "#fb9f3a"
             ],
             [
              0.8888888888888888,
              "#fdca26"
             ],
             [
              1,
              "#f0f921"
             ]
            ],
            "type": "heatmap"
           }
          ],
          "heatmapgl": [
           {
            "colorbar": {
             "outlinewidth": 0,
             "ticks": ""
            },
            "colorscale": [
             [
              0,
              "#0d0887"
             ],
             [
              0.1111111111111111,
              "#46039f"
             ],
             [
              0.2222222222222222,
              "#7201a8"
             ],
             [
              0.3333333333333333,
              "#9c179e"
             ],
             [
              0.4444444444444444,
              "#bd3786"
             ],
             [
              0.5555555555555556,
              "#d8576b"
             ],
             [
              0.6666666666666666,
              "#ed7953"
             ],
             [
              0.7777777777777778,
              "#fb9f3a"
             ],
             [
              0.8888888888888888,
              "#fdca26"
             ],
             [
              1,
              "#f0f921"
             ]
            ],
            "type": "heatmapgl"
           }
          ],
          "histogram": [
           {
            "marker": {
             "pattern": {
              "fillmode": "overlay",
              "size": 10,
              "solidity": 0.2
             }
            },
            "type": "histogram"
           }
          ],
          "histogram2d": [
           {
            "colorbar": {
             "outlinewidth": 0,
             "ticks": ""
            },
            "colorscale": [
             [
              0,
              "#0d0887"
             ],
             [
              0.1111111111111111,
              "#46039f"
             ],
             [
              0.2222222222222222,
              "#7201a8"
             ],
             [
              0.3333333333333333,
              "#9c179e"
             ],
             [
              0.4444444444444444,
              "#bd3786"
             ],
             [
              0.5555555555555556,
              "#d8576b"
             ],
             [
              0.6666666666666666,
              "#ed7953"
             ],
             [
              0.7777777777777778,
              "#fb9f3a"
             ],
             [
              0.8888888888888888,
              "#fdca26"
             ],
             [
              1,
              "#f0f921"
             ]
            ],
            "type": "histogram2d"
           }
          ],
          "histogram2dcontour": [
           {
            "colorbar": {
             "outlinewidth": 0,
             "ticks": ""
            },
            "colorscale": [
             [
              0,
              "#0d0887"
             ],
             [
              0.1111111111111111,
              "#46039f"
             ],
             [
              0.2222222222222222,
              "#7201a8"
             ],
             [
              0.3333333333333333,
              "#9c179e"
             ],
             [
              0.4444444444444444,
              "#bd3786"
             ],
             [
              0.5555555555555556,
              "#d8576b"
             ],
             [
              0.6666666666666666,
              "#ed7953"
             ],
             [
              0.7777777777777778,
              "#fb9f3a"
             ],
             [
              0.8888888888888888,
              "#fdca26"
             ],
             [
              1,
              "#f0f921"
             ]
            ],
            "type": "histogram2dcontour"
           }
          ],
          "mesh3d": [
           {
            "colorbar": {
             "outlinewidth": 0,
             "ticks": ""
            },
            "type": "mesh3d"
           }
          ],
          "parcoords": [
           {
            "line": {
             "colorbar": {
              "outlinewidth": 0,
              "ticks": ""
             }
            },
            "type": "parcoords"
           }
          ],
          "pie": [
           {
            "automargin": true,
            "type": "pie"
           }
          ],
          "scatter": [
           {
            "fillpattern": {
             "fillmode": "overlay",
             "size": 10,
             "solidity": 0.2
            },
            "type": "scatter"
           }
          ],
          "scatter3d": [
           {
            "line": {
             "colorbar": {
              "outlinewidth": 0,
              "ticks": ""
             }
            },
            "marker": {
             "colorbar": {
              "outlinewidth": 0,
              "ticks": ""
             }
            },
            "type": "scatter3d"
           }
          ],
          "scattercarpet": [
           {
            "marker": {
             "colorbar": {
              "outlinewidth": 0,
              "ticks": ""
             }
            },
            "type": "scattercarpet"
           }
          ],
          "scattergeo": [
           {
            "marker": {
             "colorbar": {
              "outlinewidth": 0,
              "ticks": ""
             }
            },
            "type": "scattergeo"
           }
          ],
          "scattergl": [
           {
            "marker": {
             "colorbar": {
              "outlinewidth": 0,
              "ticks": ""
             }
            },
            "type": "scattergl"
           }
          ],
          "scattermapbox": [
           {
            "marker": {
             "colorbar": {
              "outlinewidth": 0,
              "ticks": ""
             }
            },
            "type": "scattermapbox"
           }
          ],
          "scatterpolar": [
           {
            "marker": {
             "colorbar": {
              "outlinewidth": 0,
              "ticks": ""
             }
            },
            "type": "scatterpolar"
           }
          ],
          "scatterpolargl": [
           {
            "marker": {
             "colorbar": {
              "outlinewidth": 0,
              "ticks": ""
             }
            },
            "type": "scatterpolargl"
           }
          ],
          "scatterternary": [
           {
            "marker": {
             "colorbar": {
              "outlinewidth": 0,
              "ticks": ""
             }
            },
            "type": "scatterternary"
           }
          ],
          "surface": [
           {
            "colorbar": {
             "outlinewidth": 0,
             "ticks": ""
            },
            "colorscale": [
             [
              0,
              "#0d0887"
             ],
             [
              0.1111111111111111,
              "#46039f"
             ],
             [
              0.2222222222222222,
              "#7201a8"
             ],
             [
              0.3333333333333333,
              "#9c179e"
             ],
             [
              0.4444444444444444,
              "#bd3786"
             ],
             [
              0.5555555555555556,
              "#d8576b"
             ],
             [
              0.6666666666666666,
              "#ed7953"
             ],
             [
              0.7777777777777778,
              "#fb9f3a"
             ],
             [
              0.8888888888888888,
              "#fdca26"
             ],
             [
              1,
              "#f0f921"
             ]
            ],
            "type": "surface"
           }
          ],
          "table": [
           {
            "cells": {
             "fill": {
              "color": "#EBF0F8"
             },
             "line": {
              "color": "white"
             }
            },
            "header": {
             "fill": {
              "color": "#C8D4E3"
             },
             "line": {
              "color": "white"
             }
            },
            "type": "table"
           }
          ]
         },
         "layout": {
          "annotationdefaults": {
           "arrowcolor": "#2a3f5f",
           "arrowhead": 0,
           "arrowwidth": 1
          },
          "autotypenumbers": "strict",
          "coloraxis": {
           "colorbar": {
            "outlinewidth": 0,
            "ticks": ""
           }
          },
          "colorscale": {
           "diverging": [
            [
             0,
             "#8e0152"
            ],
            [
             0.1,
             "#c51b7d"
            ],
            [
             0.2,
             "#de77ae"
            ],
            [
             0.3,
             "#f1b6da"
            ],
            [
             0.4,
             "#fde0ef"
            ],
            [
             0.5,
             "#f7f7f7"
            ],
            [
             0.6,
             "#e6f5d0"
            ],
            [
             0.7,
             "#b8e186"
            ],
            [
             0.8,
             "#7fbc41"
            ],
            [
             0.9,
             "#4d9221"
            ],
            [
             1,
             "#276419"
            ]
           ],
           "sequential": [
            [
             0,
             "#0d0887"
            ],
            [
             0.1111111111111111,
             "#46039f"
            ],
            [
             0.2222222222222222,
             "#7201a8"
            ],
            [
             0.3333333333333333,
             "#9c179e"
            ],
            [
             0.4444444444444444,
             "#bd3786"
            ],
            [
             0.5555555555555556,
             "#d8576b"
            ],
            [
             0.6666666666666666,
             "#ed7953"
            ],
            [
             0.7777777777777778,
             "#fb9f3a"
            ],
            [
             0.8888888888888888,
             "#fdca26"
            ],
            [
             1,
             "#f0f921"
            ]
           ],
           "sequentialminus": [
            [
             0,
             "#0d0887"
            ],
            [
             0.1111111111111111,
             "#46039f"
            ],
            [
             0.2222222222222222,
             "#7201a8"
            ],
            [
             0.3333333333333333,
             "#9c179e"
            ],
            [
             0.4444444444444444,
             "#bd3786"
            ],
            [
             0.5555555555555556,
             "#d8576b"
            ],
            [
             0.6666666666666666,
             "#ed7953"
            ],
            [
             0.7777777777777778,
             "#fb9f3a"
            ],
            [
             0.8888888888888888,
             "#fdca26"
            ],
            [
             1,
             "#f0f921"
            ]
           ]
          },
          "colorway": [
           "#636efa",
           "#EF553B",
           "#00cc96",
           "#ab63fa",
           "#FFA15A",
           "#19d3f3",
           "#FF6692",
           "#B6E880",
           "#FF97FF",
           "#FECB52"
          ],
          "font": {
           "color": "#2a3f5f"
          },
          "geo": {
           "bgcolor": "white",
           "lakecolor": "white",
           "landcolor": "#E5ECF6",
           "showlakes": true,
           "showland": true,
           "subunitcolor": "white"
          },
          "hoverlabel": {
           "align": "left"
          },
          "hovermode": "closest",
          "mapbox": {
           "style": "light"
          },
          "paper_bgcolor": "white",
          "plot_bgcolor": "#E5ECF6",
          "polar": {
           "angularaxis": {
            "gridcolor": "white",
            "linecolor": "white",
            "ticks": ""
           },
           "bgcolor": "#E5ECF6",
           "radialaxis": {
            "gridcolor": "white",
            "linecolor": "white",
            "ticks": ""
           }
          },
          "scene": {
           "xaxis": {
            "backgroundcolor": "#E5ECF6",
            "gridcolor": "white",
            "gridwidth": 2,
            "linecolor": "white",
            "showbackground": true,
            "ticks": "",
            "zerolinecolor": "white"
           },
           "yaxis": {
            "backgroundcolor": "#E5ECF6",
            "gridcolor": "white",
            "gridwidth": 2,
            "linecolor": "white",
            "showbackground": true,
            "ticks": "",
            "zerolinecolor": "white"
           },
           "zaxis": {
            "backgroundcolor": "#E5ECF6",
            "gridcolor": "white",
            "gridwidth": 2,
            "linecolor": "white",
            "showbackground": true,
            "ticks": "",
            "zerolinecolor": "white"
           }
          },
          "shapedefaults": {
           "line": {
            "color": "#2a3f5f"
           }
          },
          "ternary": {
           "aaxis": {
            "gridcolor": "white",
            "linecolor": "white",
            "ticks": ""
           },
           "baxis": {
            "gridcolor": "white",
            "linecolor": "white",
            "ticks": ""
           },
           "bgcolor": "#E5ECF6",
           "caxis": {
            "gridcolor": "white",
            "linecolor": "white",
            "ticks": ""
           }
          },
          "title": {
           "x": 0.05
          },
          "xaxis": {
           "automargin": true,
           "gridcolor": "white",
           "linecolor": "white",
           "ticks": "",
           "title": {
            "standoff": 15
           },
           "zerolinecolor": "white",
           "zerolinewidth": 2
          },
          "yaxis": {
           "automargin": true,
           "gridcolor": "white",
           "linecolor": "white",
           "ticks": "",
           "title": {
            "standoff": 15
           },
           "zerolinecolor": "white",
           "zerolinewidth": 2
          }
         }
        },
        "title": {
         "text": "nbp: ARIMA Actual vs Forecasted Prices"
        },
        "xaxis": {
         "title": {
          "text": "Index"
         }
        },
        "yaxis": {
         "title": {
          "text": "Price"
         }
        }
       }
      }
     },
     "metadata": {},
     "output_type": "display_data"
    }
   ],
   "source": [
    "%R -o hub_forecast_comparison\n",
    "%R -o hub_name\n",
    "\n",
    "hub_forecast_comparison = hub_forecast_comparison\n",
    "\n",
    "actual_trace = go.Scatter(\n",
    "    x=hub_forecast_comparison.index,\n",
    "    y=hub_forecast_comparison['Actual'],\n",
    "    mode='lines',\n",
    "    name='Actual Prices'\n",
    ")\n",
    "\n",
    "forecasted_trace = go.Scatter(\n",
    "    x=hub_forecast_comparison.index,\n",
    "    y=hub_forecast_comparison['Forecasted'],\n",
    "    mode='lines',\n",
    "    name='Forecasted Prices'\n",
    ")\n",
    "\n",
    "# Create the plot\n",
    "layout = go.Layout(\n",
    "    title=hub_name.item()+ ': ARIMA Actual vs Forecasted Prices',\n",
    "    xaxis=dict(title='Index'),\n",
    "    yaxis=dict(title='Price'),\n",
    ")\n",
    "\n",
    "fig = go.Figure(data=[actual_trace, forecasted_trace], layout=layout)\n",
    "fig.show()\n"
   ]
  },
  {
   "cell_type": "code",
   "execution_count": 15,
   "metadata": {},
   "outputs": [
    {
     "name": "stdout",
     "output_type": "stream",
     "text": [
      "[1] \"nbp: Mean Absolute Error: 2.23126705883691\"\n",
      "[1] \"nbp: Mean Squared Error: 3.08543650003223\"\n"
     ]
    }
   ],
   "source": [
    "%%R\n",
    "window_size <- 5\n",
    "horizon <- 250\n",
    "\n",
    "hub_lag <- lag(hub, window_size)\n",
    "\n",
    "\n",
    "hub_prediction <- tail(hub_lag, n = horizon)\n",
    "hub_actual <- tail(hub, n = horizon)\n",
    "\n",
    "hub_naive_predictions <- hub_prediction$hub\n",
    "hub_naive_actuals <- hub_actual$hub\n",
    "\n",
    "hub_naive_mae <- mae(hub_naive_actuals, hub_naive_predictions)\n",
    "hub_naive_rmse <- rmse(hub_naive_actuals, hub_naive_predictions)\n",
    "\n",
    "print(paste0(hub_name, \": Mean Absolute Error: \", hub_naive_mae))\n",
    "print(paste0(hub_name, \": Mean Squared Error: \", hub_naive_rmse))"
   ]
  },
  {
   "cell_type": "code",
   "execution_count": 16,
   "metadata": {},
   "outputs": [
    {
     "name": "stdout",
     "output_type": "stream",
     "text": [
      "[1] \"nbp: Diebold Mariano Test\"\n",
      "\n",
      "\tDiebold-Mariano Test\n",
      "\n",
      "data:  arima_residsnaive_resids\n",
      "DM = 0.77795, Forecast horizon = 5, Loss function power = 1, p-value =\n",
      "0.2187\n",
      "alternative hypothesis: greater\n",
      "\n"
     ]
    }
   ],
   "source": [
    "%%R\n",
    "naive_resids <- hub_naive_actuals - hub_naive_predictions\n",
    "arima_resids <- hub_actuals - hub_predictions\n",
    "print(paste0(hub_name, \": Diebold Mariano Test\"))\n",
    "dm.test(arima_resids, naive_resids, h = window_size, power = 1, alternative = \"greater\")"
   ]
  }
 ],
 "metadata": {
  "kernelspec": {
   "display_name": "Python 3",
   "language": "python",
   "name": "python3"
  },
  "language_info": {
   "codemirror_mode": {
    "name": "ipython",
    "version": 3
   },
   "file_extension": ".py",
   "mimetype": "text/x-python",
   "name": "python",
   "nbconvert_exporter": "python",
   "pygments_lexer": "ipython3",
   "version": "3.11.9"
  }
 },
 "nbformat": 4,
 "nbformat_minor": 2
}
