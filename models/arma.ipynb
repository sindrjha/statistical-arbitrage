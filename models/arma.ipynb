{
 "cells": [
  {
   "cell_type": "markdown",
   "metadata": {},
   "source": [
    "# Statistical models in R\n",
    "This notebook is covering:\n",
    "1. Data preprocessing:\n",
    "    1. Aligning all dataframe to 5-day week from 2018-10-01 to 2024-08-30.\n",
    "    2. Interpolating missing values.\n",
    "2. ARMA-models."
   ]
  },
  {
   "cell_type": "code",
   "execution_count": null,
   "metadata": {},
   "outputs": [],
   "source": [
    "# rpy2 is a Python package that allows you to run R code from Python\n",
    "%pip install rpy2"
   ]
  },
  {
   "cell_type": "code",
   "execution_count": 1,
   "metadata": {},
   "outputs": [],
   "source": [
    "# Load the rpy2 extension to use R in Jupyter\n",
    "%load_ext rpy2.ipython"
   ]
  },
  {
   "cell_type": "markdown",
   "metadata": {},
   "source": [
    "The magic function `%%R` is used for running R code in Jupyter"
   ]
  },
  {
   "cell_type": "code",
   "execution_count": 19,
   "metadata": {},
   "outputs": [],
   "source": [
    "# Load the R packages that we will use in this notebook\n",
    "%%R\n",
    "if (require(\"dplyr\") == FALSE) {\n",
    "  install.packages(\"dplyr\")\n",
    "  library(dplyr)\n",
    "}\n",
    "if (require(\"zoo\") == FALSE) {\n",
    "  install.packages(\"zoo\")\n",
    "  library(zoo)\n",
    "}\n",
    "if (require(\"psych\") == FALSE) {\n",
    "  install.packages(\"psych\")\n",
    "  library(psych)\n",
    "}"
   ]
  },
  {
   "cell_type": "code",
   "execution_count": 42,
   "metadata": {},
   "outputs": [],
   "source": [
    "# Load the data\n",
    "%%R\n",
    "hubs <- list(\n",
    "  nbp = read.csv(\"../data/nbp_close.csv\"),\n",
    "  peg = read.csv(\"../data/peg_close.csv\"),\n",
    "  the = read.csv(\"../data/the_close.csv\"),\n",
    "  ttf = read.csv(\"../data/ttf_close.csv\"),\n",
    "  ztp = read.csv(\"../data/ztp_close.csv\")\n",
    ")"
   ]
  },
  {
   "cell_type": "code",
   "execution_count": 43,
   "metadata": {},
   "outputs": [],
   "source": [
    "# Create a date index with a 5 day week\n",
    "%%R\n",
    "start_date <- as.Date(\"2018-10-01\")\n",
    "end_date <- as.Date(\"2024-08-30\")\n",
    "date_seq <- seq.Date(start_date, end_date, by = \"day\")\n",
    "date_index <- date_seq[!weekdays(date_seq) %in% c(\"Saturday\", \"Sunday\")]"
   ]
  },
  {
   "cell_type": "code",
   "execution_count": 44,
   "metadata": {},
   "outputs": [],
   "source": [
    "# Merge the hub data with the created date index and fill in missing values\n",
    "%%R\n",
    "hubs <- lapply(hubs, function(df) {\n",
    "  df$Date <- as.Date(df$Date)\n",
    "  df <- merge(data.frame(Date = date_index), df, by = \"Date\", all.x = TRUE)\n",
    "  df <- df %>%\n",
    "    mutate(CLOSE = na.approx(CLOSE, rule = 2))\n",
    "  return(df)\n",
    "})"
   ]
  },
  {
   "cell_type": "code",
   "execution_count": 45,
   "metadata": {},
   "outputs": [],
   "source": [
    "# Rename the columns\n",
    "%%R\n",
    "nbp <- hubs$nbp\n",
    "peg <- hubs$peg\n",
    "the <- hubs$the\n",
    "ttf <- hubs$ttf\n",
    "ztp <- hubs$ztp"
   ]
  },
  {
   "cell_type": "code",
   "execution_count": 54,
   "metadata": {},
   "outputs": [],
   "source": [
    "%%R\n",
    "store_ols_residuals <- function(hub1, hub2, file_name) {\n",
    "  ols_model <- lm(hub1$CLOSE ~ hub2$CLOSE)\n",
    "  residuals_df <- data.frame(Date = hub1$Date, Residuals = ols_model$residuals)\n",
    "  write.csv(residuals_df, file_name, row.names = FALSE)\n",
    "  return(ols_model)\n",
    "}\n",
    "folder_path <- \"intermediate_storage/\"\n",
    "ztp_ttf_ols <- store_ols_residuals(ztp, ttf, paste(folder_path, \"ztp_ttf_residuals.csv\", sep = \"\")) # paste() concatenates strings"
   ]
  }
 ],
 "metadata": {
  "kernelspec": {
   "display_name": "Python 3",
   "language": "python",
   "name": "python3"
  },
  "language_info": {
   "codemirror_mode": {
    "name": "ipython",
    "version": 3
   },
   "file_extension": ".py",
   "mimetype": "text/x-python",
   "name": "python",
   "nbconvert_exporter": "python",
   "pygments_lexer": "ipython3",
   "version": "3.11.9"
  }
 },
 "nbformat": 4,
 "nbformat_minor": 2
}
