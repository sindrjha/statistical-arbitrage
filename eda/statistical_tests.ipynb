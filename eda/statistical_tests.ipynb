{
 "cells": [
  {
   "cell_type": "code",
   "execution_count": 23,
   "metadata": {},
   "outputs": [
    {
     "name": "stdout",
     "output_type": "stream",
     "text": [
      "Requirement already satisfied: rpy2 in /Users/sindrehaugland/Documents/Master/statistical-arbitrage/.conda/lib/python3.11/site-packages (3.5.16)\n",
      "Requirement already satisfied: cffi>=1.15.1 in /Users/sindrehaugland/Documents/Master/statistical-arbitrage/.conda/lib/python3.11/site-packages (from rpy2) (1.17.1)\n",
      "Requirement already satisfied: jinja2 in /Users/sindrehaugland/Documents/Master/statistical-arbitrage/.conda/lib/python3.11/site-packages (from rpy2) (3.1.4)\n",
      "Requirement already satisfied: tzlocal in /Users/sindrehaugland/Documents/Master/statistical-arbitrage/.conda/lib/python3.11/site-packages (from rpy2) (5.2)\n",
      "Requirement already satisfied: pycparser in /Users/sindrehaugland/Documents/Master/statistical-arbitrage/.conda/lib/python3.11/site-packages (from cffi>=1.15.1->rpy2) (2.22)\n",
      "Requirement already satisfied: MarkupSafe>=2.0 in /Users/sindrehaugland/Documents/Master/statistical-arbitrage/.conda/lib/python3.11/site-packages (from jinja2->rpy2) (2.1.5)\n",
      "Note: you may need to restart the kernel to use updated packages.\n"
     ]
    }
   ],
   "source": [
    "# rpy2 is a Python package that allows you to run R code from Python\n",
    "%pip install rpy2"
   ]
  },
  {
   "cell_type": "code",
   "execution_count": 24,
   "metadata": {},
   "outputs": [
    {
     "name": "stdout",
     "output_type": "stream",
     "text": [
      "The rpy2.ipython extension is already loaded. To reload it, use:\n",
      "  %reload_ext rpy2.ipython\n"
     ]
    }
   ],
   "source": [
    "# Load the rpy2 extension to use R in Jupyter\n",
    "%load_ext rpy2.ipython"
   ]
  },
  {
   "cell_type": "code",
   "execution_count": 25,
   "metadata": {},
   "outputs": [],
   "source": [
    "%%R\n",
    "# Install required packages\n",
    "if (require(\"dplyr\") == FALSE) {\n",
    "  install.packages(\"dplyr\")\n",
    "  library(dplyr)\n",
    "}\n",
    "if (require(\"zoo\") == FALSE) {\n",
    "  install.packages(\"zoo\")\n",
    "  library(zoo)\n",
    "}\n",
    "\n",
    "if (require(\"forecast\") == FALSE) {\n",
    "  install.packages(\"forecast\")\n",
    "  library(forecast)\n",
    "}\n",
    "if (require(\"tseries\") == FALSE) {\n",
    "  install.packages(\"tseries\")\n",
    "  library(tseries)\n",
    "}\n",
    "if (require(\"moments\") == FALSE) {\n",
    "  install.packages(\"moments\")\n",
    "  library(moments)\n",
    "}\n",
    "if (require(\"tibble\") == FALSE) {\n",
    "  install.packages(\"tibble\")\n",
    "  library(tibble)\n",
    "}\n",
    "if (require(\"urca\") == FALSE) {\n",
    "  install.packages(\"urca\")\n",
    "  library(urca)\n",
    "}\n",
    "if (require(\"kableExtra\") == FALSE) {\n",
    "  install.packages(\"kableExtra\")\n",
    "  library(kableExtra)\n",
    "}"
   ]
  },
  {
   "cell_type": "code",
   "execution_count": 26,
   "metadata": {},
   "outputs": [
    {
     "name": "stdout",
     "output_type": "stream",
     "text": [
      "\n",
      "\tAugmented Dickey-Fuller Test\n",
      "\n",
      "data:  nbp$CLOSE\n",
      "Dickey-Fuller = -2.9848, Lag order = 5, p-value = 0.1614\n",
      "alternative hypothesis: stationary\n",
      "\n",
      "\n",
      "\tAugmented Dickey-Fuller Test\n",
      "\n",
      "data:  peg$CLOSE\n",
      "Dickey-Fuller = -2.7475, Lag order = 5, p-value = 0.2619\n",
      "alternative hypothesis: stationary\n",
      "\n",
      "\n",
      "\tAugmented Dickey-Fuller Test\n",
      "\n",
      "data:  the$CLOSE\n",
      "Dickey-Fuller = -2.2454, Lag order = 5, p-value = 0.4744\n",
      "alternative hypothesis: stationary\n",
      "\n",
      "\n",
      "\tAugmented Dickey-Fuller Test\n",
      "\n",
      "data:  ttf$CLOSE\n",
      "Dickey-Fuller = -2.2424, Lag order = 5, p-value = 0.4757\n",
      "alternative hypothesis: stationary\n",
      "\n",
      "\n",
      "\tAugmented Dickey-Fuller Test\n",
      "\n",
      "data:  ztp$CLOSE\n",
      "Dickey-Fuller = -2.5844, Lag order = 5, p-value = 0.3309\n",
      "alternative hypothesis: stationary\n",
      "\n"
     ]
    }
   ],
   "source": [
    "%%R\n",
    "\n",
    "nbp <- read.csv(\"../data/interpolated/nbp_close_interpolated.csv\")\n",
    "peg <- read.csv(\"../data/interpolated/peg_close_interpolated.csv\")\n",
    "the <- read.csv(\"../data/interpolated/the_close_interpolated.csv\")\n",
    "ttf <- read.csv(\"../data/interpolated/ttf_close_interpolated.csv\")\n",
    "ztp <- read.csv(\"../data/interpolated/ztp_close_interpolated.csv\")\n",
    "\n",
    "print(adf.test(nbp$CLOSE, k = 5))\n",
    "print(adf.test(peg$CLOSE, k = 5))\n",
    "print(adf.test(the$CLOSE, k = 5))\n",
    "print(adf.test(ttf$CLOSE, k = 5))\n",
    "print(adf.test(ztp$CLOSE, k = 5))\n",
    "\n"
   ]
  },
  {
   "cell_type": "code",
   "execution_count": 27,
   "metadata": {},
   "outputs": [
    {
     "name": "stdout",
     "output_type": "stream",
     "text": [
      "# A tibble: 3 × 9\n",
      "  Hub   Mean   SD     Skewness Kurtosis JB_Test   Ljung_Box KPSS      ADF    \n",
      "  <chr> <chr>  <chr>  <chr>    <chr>    <chr>     <chr>     <chr>     <chr>  \n",
      "1 NBP   41.242 38.365 1.8621   6.7830   1814.2*** 7253.4*** 5.4219*** -2.9848\n",
      "2 THE   46.366 48.857 2.1434   8.0624   2832.8*** 7437.6*** 5.0059*** -2.2454\n",
      "3 TTF   46.037 48.737 2.1481   8.1111   2869.8*** 7435.9*** 5.0023*** -2.2424\n"
     ]
    },
    {
     "data": {
      "text/plain": [
       "In addition: Warning messages:\n",
       "1: In kpss.test(data) : p-value smaller than printed p-value\n",
       "2: In kpss.test(data) : p-value smaller than printed p-value\n",
       "3: In kpss.test(data) : p-value smaller than printed p-value\n"
      ]
     },
     "metadata": {},
     "output_type": "display_data"
    }
   ],
   "source": [
    "%%R\n",
    "# Function to add stars based on p-values\n",
    "add_stars <- function(p_value) {\n",
    "  if (p_value <= 0.01) {\n",
    "    return(\"***\")\n",
    "  } else if (p_value <= 0.05) {\n",
    "    return(\"**\")\n",
    "  } else if (p_value <= 0.1) {\n",
    "    return(\"*\")\n",
    "  } else {\n",
    "    return(\"\")\n",
    "  }\n",
    "}\n",
    "\n",
    "# Define a function to calculate the statistics with 5 lags and format the results\n",
    "calculate_statistics <- function(data) {\n",
    "  # Use formatC to ensure a width of 5 characters (including both integer and decimal places)\n",
    "  mean_val <- formatC(mean(data, na.rm = TRUE), format = \"f\", digits = 3, width = 5)\n",
    "  sd_val <- formatC(sd(data, na.rm = TRUE), format = \"f\", digits = 3, width = 5)\n",
    "  skewness_val <- formatC(skewness(data, na.rm = TRUE), format = \"f\", digits = 4, width = 5)\n",
    "  kurtosis_val <- formatC(kurtosis(data, na.rm = TRUE), format = \"f\", digits = 4, width = 5)\n",
    "  \n",
    "  jarque_bera_test <- jarque.test(data)\n",
    "  ljung_box_test <- Box.test(data, lag = 5, type = \"Ljung-Box\")\n",
    "  kpss_test <- kpss.test(data)\n",
    "  adf_test <- adf.test(data, k = 5)\n",
    "  \n",
    "  # Get p-values and add stars\n",
    "  jarque_bera_pval <- jarque_bera_test$p.value\n",
    "  ljung_box_pval <- ljung_box_test$p.value\n",
    "  kpss_pval <- kpss_test$p.value\n",
    "  adf_pval <- adf_test$p.value\n",
    "  \n",
    "  jarque_bera_stars <- add_stars(jarque_bera_pval)\n",
    "  ljung_box_stars <- add_stars(ljung_box_pval)\n",
    "  kpss_stars <- add_stars(kpss_pval)\n",
    "  adf_stars <- add_stars(adf_pval)\n",
    "  \n",
    "  return(list(mean = mean_val,\n",
    "              std_dev = sd_val,\n",
    "              skewness = skewness_val,\n",
    "              kurtosis = kurtosis_val,\n",
    "              jarque_bera = paste0(formatC(jarque_bera_test$statistic, format = \"f\",digits = 1, width = 5), jarque_bera_stars),\n",
    "              ljung_box = paste0(formatC(ljung_box_test$statistic, format = \"f\", digits = 1, width = 5), ljung_box_stars),\n",
    "              kpss = paste0(formatC(kpss_test$statistic, format = \"f\", digits = 4, width = 5), kpss_stars),\n",
    "              adf = paste0(formatC(adf_test$statistic, format = \"f\", digits = 4, width = 5), adf_stars)))\n",
    "}\n",
    "\n",
    "# List of datasets to calculate statistics for\n",
    "dataset_list <- list(NBP = nbp$CLOSE, \n",
    "                     THE = the$CLOSE, \n",
    "                     TTF = ttf$CLOSE)\n",
    "\n",
    "# Calculate statistics for each dataset and store them in a data frame\n",
    "results <- tibble::tibble(\n",
    "  Hub = character(),\n",
    "  Mean = character(),\n",
    "  SD = character(),\n",
    "  Skewness = character(),\n",
    "  Kurtosis = character(),\n",
    "  JB_Test = character(),\n",
    "  Ljung_Box = character(),\n",
    "  KPSS = character(),\n",
    "  ADF = character()\n",
    ")\n",
    "\n",
    "for (hub in names(dataset_list)) {\n",
    "  stats <- calculate_statistics(dataset_list[[hub]])\n",
    "  results <- results %>%\n",
    "    add_row(Hub = hub,\n",
    "            Mean = stats$mean,\n",
    "            SD = stats$std_dev,\n",
    "            Skewness = stats$skewness,\n",
    "            Kurtosis = stats$kurtosis,\n",
    "            JB_Test = stats$jarque_bera,\n",
    "            Ljung_Box = stats$ljung_box,\n",
    "            KPSS = stats$kpss,\n",
    "            ADF = stats$adf)\n",
    "}\n",
    "\n",
    "# Print the results as a table\n",
    "print(results)\n"
   ]
  },
  {
   "cell_type": "code",
   "execution_count": 28,
   "metadata": {},
   "outputs": [
    {
     "data": {
      "image/png": "[encoded data removed]",
      "text/plain": [
       "<IPython.core.display.Image object>"
      ]
     },
     "metadata": {},
     "output_type": "display_data"
    }
   ],
   "source": [
    "%%R\n",
    "library(ggplot2)\n",
    "\n",
    "# Assuming the 'nbp' dataframe has a 'Date' column\n",
    "ggplot(nbp, aes(x = as.Date(Date), y = CLOSE)) +\n",
    "    geom_line() +\n",
    "    labs(title = \"NBP Close Prices Over Time\", x = \"Date\", y = \"Close Price\") +\n",
    "    theme_minimal()"
   ]
  },
  {
   "cell_type": "code",
   "execution_count": 29,
   "metadata": {},
   "outputs": [
    {
     "name": "stdout",
     "output_type": "stream",
     "text": [
      "\\begin{table}[!h]\n",
      "\\centering\n",
      "\\begin{tabular}[t]{llll}\n",
      "\\toprule\n",
      "Statistic & NBP & THE & TTF\\\\\n",
      "\\midrule\n",
      "Mean & 41.242 & 46.366 & 46.037\\\\\n",
      "SD & 38.365 & 48.857 & 48.737\\\\\n",
      "Skewness & 1.8621 & 2.1434 & 2.1481\\\\\n",
      "Kurtosis & 6.7830 & 8.0624 & 8.1111\\\\\n",
      "JB\\_Test & 1814.2*** & 2832.8*** & 2869.8***\\\\\n",
      "\\addlinespace\n",
      "Ljung\\_Box & 7253.4*** & 7437.6*** & 7435.9***\\\\\n",
      "KPSS & 5.4219*** & 5.0059*** & 5.0023***\\\\\n",
      "ADF & -2.9848 & -2.2454 & -2.2424\\\\\n",
      "\\bottomrule\n",
      "\\end{tabular}\n",
      "\\end{table}"
     ]
    }
   ],
   "source": [
    "%%R\n",
    "library(kableExtra)\n",
    "\n",
    "# Transpose the dataframe\n",
    "transposed_results <- t(as.matrix(results[, -1])) # Remove the Hub column and transpose\n",
    "\n",
    "# Convert to dataframe for better manipulation\n",
    "transposed_df <- as.data.frame(transposed_results)\n",
    "\n",
    "# Set row names as a column for the LaTeX output\n",
    "transposed_df$Statistic <- rownames(transposed_df)\n",
    "rownames(transposed_df) <- NULL\n",
    "\n",
    "# Reorder the columns so Statistic is first\n",
    "transposed_df <- transposed_df[, c(ncol(transposed_df), 1:(ncol(transposed_df) - 1))]\n",
    "\n",
    "hub_names <- results[['Hub']]\n",
    "\n",
    "latex_table <- kbl(transposed_df, format = \"latex\", booktabs = TRUE, col.names = c(\"Statistic\", hub_names)) %>%\n",
    "  kable_styling(latex_options = c(\"hold_position\")) # Keep the table at the position in the document\n",
    "\n",
    "# Print the LaTeX table\n",
    "cat(latex_table)"
   ]
  },
  {
   "cell_type": "code",
   "execution_count": 30,
   "metadata": {},
   "outputs": [
    {
     "name": "stdout",
     "output_type": "stream",
     "text": [
      "\n",
      "###################### \n",
      "# Johansen-Procedure # \n",
      "###################### \n",
      "\n",
      "Test type: trace statistic , with linear trend \n",
      "\n",
      "Eigenvalues (lambda):\n",
      "[1] 0.017437875 0.003391326\n",
      "\n",
      "Values of teststatistic and critical values of test:\n",
      "\n",
      "          test 10pct  5pct  1pct\n",
      "r <= 1 |  5.24  6.50  8.18 11.65"
     ]
    },
    {
     "name": "stdout",
     "output_type": "stream",
     "text": [
      "\n",
      "r = 0  | 32.39 15.66 17.95 23.52\n",
      "\n",
      "Eigenvectors, normalised to first column:\n",
      "(These are the cointegration relations)\n",
      "\n",
      "           hub1.l2   hub2.l2\n",
      "hub1.l2  1.0000000  1.000000\n",
      "hub2.l2 -0.7160428 -1.496456\n",
      "\n",
      "Weights W:\n",
      "(This is the loading matrix)\n",
      "\n",
      "           hub1.l2     hub2.l2\n",
      "hub1.d -0.05867338 0.006015453\n",
      "hub2.d -0.03063507 0.007994856\n",
      "\n"
     ]
    }
   ],
   "source": [
    "%%R\n",
    "\n",
    "hub1 <- nbp\n",
    "hub2 <- ttf\n",
    "\n",
    "hubs <- data.frame(hub1 = hub1$CLOSE, hub2 = hub2$CLOSE)\n",
    "johansen_test_all_hubs <- ca.jo(hubs, type=\"trace\", ecdet=\"none\", spec=\"longrun\")\n",
    "\n",
    "summary(johansen_test_all_hubs)"
   ]
  },
  {
   "cell_type": "code",
   "execution_count": 31,
   "metadata": {},
   "outputs": [],
   "source": [
    "%%R\n",
    "combined_hubs <- data.frame( \n",
    "                            #peg = peg$CLOSE, \n",
    "                            ttf = ttf$CLOSE,\n",
    "                            the = the$CLOSE, \n",
    "                            nbp = nbp$CLOSE \n",
    "                            #ztp = ztp$CLOSE\n",
    ")"
   ]
  },
  {
   "cell_type": "code",
   "execution_count": 32,
   "metadata": {},
   "outputs": [],
   "source": [
    "%%R\n",
    "lags <- data.frame(\n",
    "    ttf_the = 5,\n",
    "    ttf_nbp = 6,\n",
    "    the_nbp = 5\n",
    "\n",
    ")"
   ]
  },
  {
   "cell_type": "code",
   "execution_count": 33,
   "metadata": {},
   "outputs": [
    {
     "name": "stdout",
     "output_type": "stream",
     "text": [
      "       Pair Lags     H0    H1 Test_Statistic Critical_Value\n",
      "1 ttf - the    5 r <= 1 r > 1           4.64           8.18\n",
      "2 ttf - the    5  r = 0 r > 1          56.91          17.95\n",
      "3 ttf - nbp    6 r <= 1 r > 1           3.99           8.18\n",
      "4 ttf - nbp    6  r = 0 r > 1          24.34          17.95\n",
      "5 the - nbp    5 r <= 1 r > 1           3.80           8.18\n",
      "6 the - nbp    5  r = 0 r > 1          26.98          17.95\n"
     ]
    }
   ],
   "source": [
    "%%R\n",
    "\n",
    "hub_pairs <- combn(names(combined_hubs), 2, simplify = FALSE)\n",
    "\n",
    "results <- data.frame()\n",
    "\n",
    "for (pair in hub_pairs) {\n",
    "  selected_hubs <- combined_hubs[, pair]\n",
    "\n",
    "  K <- lags[paste(pair[1], \"_\", pair[2], sep = \"\")][[1]] + 1\n",
    "\n",
    "  jotest <- ca.jo(selected_hubs, type=\"trace\", ecdet=\"none\", spec=\"longrun\", K = K)\n",
    "  \n",
    "  test_stats <- jotest@teststat\n",
    "  crit_values_5pct <- jotest@cval[,2]\n",
    "  \n",
    "  coefficients_first_column <- jotest@V[,1]\n",
    "\n",
    "  temp_df <- data.frame(\n",
    "    Pair = paste(pair[1], \"-\", pair[2]),\n",
    "    Lags = (K - 1),\n",
    "    H0 = c(\"r <= 1\", \"r = 0\"),\n",
    "    H1 = c(\"r > 1\", \"r > 1\"),\n",
    "    Test_Statistic = round(test_stats, 2),\n",
    "    Critical_Value = crit_values_5pct\n",
    "  )\n",
    "\n",
    "  results <- rbind(results, temp_df)\n",
    "}\n",
    "rownames(results) <- NULL\n",
    "print(results)\n"
   ]
  },
  {
   "cell_type": "code",
   "execution_count": 43,
   "metadata": {},
   "outputs": [
    {
     "name": "stdout",
     "output_type": "stream",
     "text": [
      "## Test of linear versus threshold cointegration of Hansen and Seo (2002) ##\n",
      "\n",
      "Test Statistic:\t 37.17732\t(Maximized for threshold value: -6.890663 )\n",
      "P-Value:\t 0.12 \t\t( Fixed regressor bootstrap )\n",
      "\n",
      "Critical values:\n",
      "    0.90%    0.95%    0.99%\n",
      " 37.70142 40.08694 44.70146\n",
      "Number of bootstrap replications:\t 1000 \n",
      "\n",
      "Cointegrating value (estimated under restricted linear model): -1.3862 \n"
     ]
    }
   ],
   "source": [
    "%%R\n",
    "hub1_name <- \"the\"\n",
    "hub2_name <- \"nbp\"\n",
    "hub1 <- combined_hubs[[hub1_name]]\n",
    "hub2 <- combined_hubs[[hub2_name]]\n",
    "hubs <- data.frame(hub1 = hub1, hub2 = hub2)\n",
    "lag <- lags[paste(hub1_name, \"_\", hub2_name, sep = \"\")][[1]]\n",
    "hs <- tsDyn:::TVECM.HStest(hubs, lag = lag, ngridTh = 300, nboot = 100)\n",
    "summary(hs)"
   ]
  },
  {
   "cell_type": "code",
   "execution_count": 35,
   "metadata": {},
   "outputs": [
    {
     "name": "stdout",
     "output_type": "stream",
     "text": [
      "\\begin{table}[!h]\n",
      "\\centering\n",
      "\\begin{tabular}[t]{lrllrr}\n",
      "\\toprule\n",
      "Pair & Lags & H0 & H1 & Test Statistic & Critical Value\\\\\n",
      "\\midrule\n",
      "ttf - the & 5 & r <= 1 & r > 1 & 4.64 & 8.18\\\\\n",
      "ttf - the & 5 & r = 0 & r > 1 & 56.91 & 17.95\\\\\n",
      "ttf - nbp & 6 & r <= 1 & r > 1 & 3.99 & 8.18\\\\\n",
      "ttf - nbp & 6 & r = 0 & r > 1 & 24.34 & 17.95\\\\\n",
      "the - nbp & 5 & r <= 1 & r > 1 & 3.80 & 8.18\\\\\n",
      "\\addlinespace\n",
      "the - nbp & 5 & r = 0 & r > 1 & 26.98 & 17.95\\\\\n",
      "\\bottomrule\n",
      "\\end{tabular}\n",
      "\\end{table}"
     ]
    }
   ],
   "source": [
    "%%R\n",
    "latex_table <- kbl(\n",
    "  results, \n",
    "  format = \"latex\", \n",
    "  booktabs = TRUE, \n",
    "  col.names = c(\"Pair\", \"Lags\", \"H0\", \"H1\", \"Test Statistic\", \"Critical Value\")\n",
    ") %>%\n",
    "  kable_styling(latex_options = c(\"hold_position\")) # Keep the table at the specified position in LaTeX\n",
    "\n",
    "# Print the LaTeX table\n",
    "cat(latex_table)"
   ]
  },
  {
   "cell_type": "code",
   "execution_count": 36,
   "metadata": {},
   "outputs": [],
   "source": [
    "%%R\n",
    "jotest = ca.jo(combined_hubs, type=\"trace\", ecdet=\"const\", spec=\"longrun\")"
   ]
  },
  {
   "cell_type": "code",
   "execution_count": 37,
   "metadata": {},
   "outputs": [
    {
     "name": "stdout",
     "output_type": "stream",
     "text": [
      "Error in test(jotest) : could not find function \"test\"\n"
     ]
    },
    {
     "ename": "RInterpreterError",
     "evalue": "Failed to parse and evaluate line 'test(jotest)\\n'.\nR error message: 'Error in test(jotest) : could not find function \"test\"'",
     "output_type": "error",
     "traceback": [
      "\u001b[0;31m---------------------------------------------------------------------------\u001b[0m",
      "\u001b[0;31mRRuntimeError\u001b[0m                             Traceback (most recent call last)",
      "File \u001b[0;32m~/Documents/Master/statistical-arbitrage/.conda/lib/python3.11/site-packages/rpy2/ipython/rmagic.py:407\u001b[0m, in \u001b[0;36mRMagics.eval\u001b[0;34m(self, code)\u001b[0m\n\u001b[1;32m    406\u001b[0m     r_expr \u001b[38;5;241m=\u001b[39m ri\u001b[38;5;241m.\u001b[39mparse(code)\n\u001b[0;32m--> 407\u001b[0m     value, visible \u001b[38;5;241m=\u001b[39m \u001b[43mri\u001b[49m\u001b[38;5;241;43m.\u001b[39;49m\u001b[43mevalr_expr_with_visible\u001b[49m\u001b[43m(\u001b[49m\n\u001b[1;32m    408\u001b[0m \u001b[43m        \u001b[49m\u001b[43mr_expr\u001b[49m\n\u001b[1;32m    409\u001b[0m \u001b[43m    \u001b[49m\u001b[43m)\u001b[49m\n\u001b[1;32m    410\u001b[0m \u001b[38;5;28;01mexcept\u001b[39;00m (ri\u001b[38;5;241m.\u001b[39membedded\u001b[38;5;241m.\u001b[39mRRuntimeError, \u001b[38;5;167;01mValueError\u001b[39;00m) \u001b[38;5;28;01mas\u001b[39;00m exception:\n\u001b[1;32m    411\u001b[0m     \u001b[38;5;66;03m# Otherwise next return seems to have copy of error.\u001b[39;00m\n",
      "File \u001b[0;32m~/Documents/Master/statistical-arbitrage/.conda/lib/python3.11/site-packages/rpy2/rinterface.py:192\u001b[0m, in \u001b[0;36mevalr_expr_with_visible\u001b[0;34m(expr, envir)\u001b[0m\n\u001b[1;32m    191\u001b[0m \u001b[38;5;28;01mif\u001b[39;00m error_occured[\u001b[38;5;241m0\u001b[39m]:\n\u001b[0;32m--> 192\u001b[0m     \u001b[38;5;28;01mraise\u001b[39;00m embedded\u001b[38;5;241m.\u001b[39mRRuntimeError(_rinterface\u001b[38;5;241m.\u001b[39m_geterrmessage())\n\u001b[1;32m    193\u001b[0m res \u001b[38;5;241m=\u001b[39m conversion\u001b[38;5;241m.\u001b[39m_cdata_to_rinterface(r_res)\n",
      "\u001b[0;31mRRuntimeError\u001b[0m: Error in test(jotest) : could not find function \"test\"\n",
      "\nDuring handling of the above exception, another exception occurred:\n",
      "\u001b[0;31mRInterpreterError\u001b[0m                         Traceback (most recent call last)",
      "Cell \u001b[0;32mIn[37], line 1\u001b[0m\n\u001b[0;32m----> 1\u001b[0m \u001b[43mget_ipython\u001b[49m\u001b[43m(\u001b[49m\u001b[43m)\u001b[49m\u001b[38;5;241;43m.\u001b[39;49m\u001b[43mrun_cell_magic\u001b[49m\u001b[43m(\u001b[49m\u001b[38;5;124;43m'\u001b[39;49m\u001b[38;5;124;43mR\u001b[39;49m\u001b[38;5;124;43m'\u001b[39;49m\u001b[43m,\u001b[49m\u001b[43m \u001b[49m\u001b[38;5;124;43m'\u001b[39;49m\u001b[38;5;124;43m'\u001b[39;49m\u001b[43m,\u001b[49m\u001b[43m \u001b[49m\u001b[38;5;124;43m'\u001b[39;49m\u001b[38;5;124;43mtest(jotest)\u001b[39;49m\u001b[38;5;130;43;01m\\n\u001b[39;49;00m\u001b[38;5;124;43m'\u001b[39;49m\u001b[43m)\u001b[49m\n",
      "File \u001b[0;32m~/Documents/Master/statistical-arbitrage/.conda/lib/python3.11/site-packages/IPython/core/interactiveshell.py:2541\u001b[0m, in \u001b[0;36mInteractiveShell.run_cell_magic\u001b[0;34m(self, magic_name, line, cell)\u001b[0m\n\u001b[1;32m   2539\u001b[0m \u001b[38;5;28;01mwith\u001b[39;00m \u001b[38;5;28mself\u001b[39m\u001b[38;5;241m.\u001b[39mbuiltin_trap:\n\u001b[1;32m   2540\u001b[0m     args \u001b[38;5;241m=\u001b[39m (magic_arg_s, cell)\n\u001b[0;32m-> 2541\u001b[0m     result \u001b[38;5;241m=\u001b[39m \u001b[43mfn\u001b[49m\u001b[43m(\u001b[49m\u001b[38;5;241;43m*\u001b[39;49m\u001b[43margs\u001b[49m\u001b[43m,\u001b[49m\u001b[43m \u001b[49m\u001b[38;5;241;43m*\u001b[39;49m\u001b[38;5;241;43m*\u001b[39;49m\u001b[43mkwargs\u001b[49m\u001b[43m)\u001b[49m\n\u001b[1;32m   2543\u001b[0m \u001b[38;5;66;03m# The code below prevents the output from being displayed\u001b[39;00m\n\u001b[1;32m   2544\u001b[0m \u001b[38;5;66;03m# when using magics with decorator @output_can_be_silenced\u001b[39;00m\n\u001b[1;32m   2545\u001b[0m \u001b[38;5;66;03m# when the last Python token in the expression is a ';'.\u001b[39;00m\n\u001b[1;32m   2546\u001b[0m \u001b[38;5;28;01mif\u001b[39;00m \u001b[38;5;28mgetattr\u001b[39m(fn, magic\u001b[38;5;241m.\u001b[39mMAGIC_OUTPUT_CAN_BE_SILENCED, \u001b[38;5;28;01mFalse\u001b[39;00m):\n",
      "File \u001b[0;32m~/Documents/Master/statistical-arbitrage/.conda/lib/python3.11/site-packages/rpy2/ipython/rmagic.py:984\u001b[0m, in \u001b[0;36mRMagics.R\u001b[0;34m(self, line, cell, local_ns)\u001b[0m\n\u001b[1;32m    982\u001b[0m     \u001b[38;5;28;01mif\u001b[39;00m \u001b[38;5;129;01mnot\u001b[39;00m e\u001b[38;5;241m.\u001b[39mstdout\u001b[38;5;241m.\u001b[39mendswith(e\u001b[38;5;241m.\u001b[39merr):\n\u001b[1;32m    983\u001b[0m         \u001b[38;5;28mprint\u001b[39m(e\u001b[38;5;241m.\u001b[39merr)\n\u001b[0;32m--> 984\u001b[0m     \u001b[38;5;28;01mraise\u001b[39;00m e\n\u001b[1;32m    985\u001b[0m \u001b[38;5;28;01mfinally\u001b[39;00m:\n\u001b[1;32m    986\u001b[0m     \u001b[38;5;28;01mif\u001b[39;00m \u001b[38;5;28mself\u001b[39m\u001b[38;5;241m.\u001b[39mdevice \u001b[38;5;129;01min\u001b[39;00m DEVICES_STATIC:\n",
      "File \u001b[0;32m~/Documents/Master/statistical-arbitrage/.conda/lib/python3.11/site-packages/rpy2/ipython/rmagic.py:949\u001b[0m, in \u001b[0;36mRMagics.R\u001b[0;34m(self, line, cell, local_ns)\u001b[0m\n\u001b[1;32m    947\u001b[0m         return_output \u001b[38;5;241m=\u001b[39m \u001b[38;5;28;01mFalse\u001b[39;00m\n\u001b[1;32m    948\u001b[0m \u001b[38;5;28;01melse\u001b[39;00m:\n\u001b[0;32m--> 949\u001b[0m     text_result, result, visible \u001b[38;5;241m=\u001b[39m \u001b[38;5;28;43mself\u001b[39;49m\u001b[38;5;241;43m.\u001b[39;49m\u001b[43meval\u001b[49m\u001b[43m(\u001b[49m\u001b[43mcode\u001b[49m\u001b[43m)\u001b[49m\n\u001b[1;32m    950\u001b[0m     text_output \u001b[38;5;241m+\u001b[39m\u001b[38;5;241m=\u001b[39m text_result\n\u001b[1;32m    951\u001b[0m     \u001b[38;5;28;01mif\u001b[39;00m visible:\n",
      "File \u001b[0;32m~/Documents/Master/statistical-arbitrage/.conda/lib/python3.11/site-packages/rpy2/ipython/rmagic.py:413\u001b[0m, in \u001b[0;36mRMagics.eval\u001b[0;34m(self, code)\u001b[0m\n\u001b[1;32m    410\u001b[0m \u001b[38;5;28;01mexcept\u001b[39;00m (ri\u001b[38;5;241m.\u001b[39membedded\u001b[38;5;241m.\u001b[39mRRuntimeError, \u001b[38;5;167;01mValueError\u001b[39;00m) \u001b[38;5;28;01mas\u001b[39;00m exception:\n\u001b[1;32m    411\u001b[0m     \u001b[38;5;66;03m# Otherwise next return seems to have copy of error.\u001b[39;00m\n\u001b[1;32m    412\u001b[0m     warning_or_other_msg \u001b[38;5;241m=\u001b[39m \u001b[38;5;28mself\u001b[39m\u001b[38;5;241m.\u001b[39mflush()\n\u001b[0;32m--> 413\u001b[0m     \u001b[38;5;28;01mraise\u001b[39;00m RInterpreterError(code, \u001b[38;5;28mstr\u001b[39m(exception),\n\u001b[1;32m    414\u001b[0m                             warning_or_other_msg)\n\u001b[1;32m    415\u001b[0m \u001b[38;5;28;01mfinally\u001b[39;00m:\n\u001b[1;32m    416\u001b[0m     ro\u001b[38;5;241m.\u001b[39m_print_deferred_warnings()\n",
      "\u001b[0;31mRInterpreterError\u001b[0m: Failed to parse and evaluate line 'test(jotest)\\n'.\nR error message: 'Error in test(jotest) : could not find function \"test\"'"
     ]
    }
   ],
   "source": [
    "%%R\n",
    "test(jotest)"
   ]
  },
  {
   "cell_type": "code",
   "execution_count": 12,
   "metadata": {},
   "outputs": [
    {
     "name": "stdout",
     "output_type": "stream",
     "text": [
      "[1] \"nbp - peg\"\n",
      "\n",
      "\tAugmented Dickey-Fuller Test\n",
      "\n",
      "data:  spread\n",
      "Dickey-Fuller = -5.5732, Lag order = 5, p-value = 0.01\n",
      "alternative hypothesis: "
     ]
    },
    {
     "name": "stdout",
     "output_type": "stream",
     "text": [
      "stationary\n",
      "\n",
      "[1] \"nbp - the\"\n",
      "\n",
      "\tAugmented Dickey-Fuller Test\n",
      "\n",
      "data:  spread\n",
      "Dickey-Fuller = -5.0076, Lag order = 5, p-value = 0.01\n",
      "alternative hypothesis: stationary\n",
      "\n",
      "[1] \"nbp - ttf\"\n",
      "\n",
      "\tAugmented Dickey-Fuller Test\n",
      "\n",
      "data:  spread\n",
      "Dickey-Fuller = -5.081, Lag order = 5, p-value = 0.01\n",
      "alternative hypothesis: stationary\n",
      "\n",
      "[1] \"nbp - ztp\"\n",
      "\n",
      "\tAugmented Dickey-Fuller Test\n",
      "\n",
      "data:  spread\n",
      "Dickey-Fuller = -5.5803, Lag order = 5, p-value = 0.01\n",
      "alternative hypothesis: stationary\n",
      "\n",
      "[1] \"peg - the\"\n",
      "\n",
      "\tAugmented Dickey-Fuller Test\n",
      "\n",
      "data:  spread\n",
      "Dickey-Fuller = -4.6626, Lag order = 5, p-value = 0.01\n",
      "alternative hypothesis: stationary\n",
      "\n",
      "[1] \"peg - ttf\"\n",
      "\n",
      "\tAugmented Dickey-Fuller Test\n",
      "\n",
      "data:  spread\n",
      "Dickey-Fuller = -4.6385, Lag order = 5, p-value = 0.01\n",
      "alternative hypothesis: stationary\n",
      "\n",
      "[1] \"peg - ztp\"\n",
      "\n",
      "\tAugmented Dickey-Fuller Test\n",
      "\n",
      "data:  spread\n",
      "Dickey-Fuller = -4.7976, Lag order = 5, p-value = 0.01\n",
      "alternative hypothesis: stationary\n",
      "\n",
      "[1] \"the - ttf\"\n",
      "\n",
      "\tAugmented Dickey-Fuller Test\n",
      "\n",
      "data:  spread\n",
      "Dickey-Fuller = -5.4218, Lag order = 5, p-value = 0.01\n",
      "alternative hypothesis: stationary\n",
      "\n",
      "[1] \"the - ztp\"\n",
      "\n",
      "\tAugmented Dickey-Fuller Test\n",
      "\n",
      "data:  spread\n",
      "Dickey-Fuller = -5.66, Lag order = 5, p-value = 0.01\n",
      "alternative hypothesis: stationary\n",
      "\n",
      "[1] \"ttf - ztp\"\n",
      "\n",
      "\tAugmented Dickey-Fuller Test\n",
      "\n",
      "data:  spread\n",
      "Dickey-Fuller = -6.4922, Lag order = 5, p-value = 0.01\n",
      "alternative hypothesis: stationary\n",
      "\n"
     ]
    },
    {
     "data": {
      "text/plain": [
       "In addition: Warning messages:\n",
       "1: In adf.test(spread, k = 5) : p-value smaller than printed p-value\n",
       "2: In adf.test(spread, k = 5) : p-value smaller than printed p-value\n",
       "3: In adf.test(spread, k = 5) : p-value smaller than printed p-value\n",
       "4: In adf.test(spread, k = 5) : p-value smaller than printed p-value\n",
       "5: In adf.test(spread, k = 5) : p-value smaller than printed p-value\n",
       "6: In adf.test(spread, k = 5) : p-value smaller than printed p-value\n",
       "7: In adf.test(spread, k = 5) : p-value smaller than printed p-value\n",
       "8: In adf.test(spread, k = 5) : p-value smaller than printed p-value\n",
       "9: In adf.test(spread, k = 5) : p-value smaller than printed p-value\n",
       "10: In adf.test(spread, k = 5) : p-value smaller than printed p-value\n"
      ]
     },
     "metadata": {},
     "output_type": "display_data"
    }
   ],
   "source": [
    "%%R\n",
    "# Loop through the results dataframe to generate plots for each pair\n",
    "for (i in seq(1, nrow(results), by = 2)) {\n",
    "  # Extract the hub pair and coefficient\n",
    "  pair <- results$Pair[i]\n",
    "  hubs <- unlist(strsplit(pair, \" - \"))\n",
    "  \n",
    "  # Extract the relevant coefficient\n",
    "  coefficient <- results$Coefficient.1[i + 1]  # Coefficient for r = 0\n",
    "  \n",
    "  # Calculate the spread\n",
    "  spread <- combined_hubs[[hubs[1]]] + coefficient * combined_hubs[[hubs[2]]]\n",
    "  \n",
    "  print(pair)\n",
    "  print(adf.test(spread, k=5))\n",
    "}\n"
   ]
  },
  {
   "cell_type": "code",
   "execution_count": 13,
   "metadata": {},
   "outputs": [],
   "source": [
    "%%R\n",
    "\n",
    "# Initialize a data frame to store the spreads\n",
    "spreads <- data.frame(Time = rownames(combined_hubs))\n",
    "\n",
    "# Loop through the results dataframe to calculate each spread\n",
    "for (i in seq(1, nrow(results), by = 2)) {\n",
    "  # Extract the hub pair and coefficient\n",
    "  pair <- results$Pair[i]\n",
    "  hubs <- unlist(strsplit(pair, \" - \"))\n",
    "  \n",
    "  # Extract the relevant coefficient for r = 0\n",
    "  coefficient <- results$Coefficient.1[i + 1]  \n",
    "  \n",
    "  # Calculate the spread\n",
    "  spread <- combined_hubs[[hubs[1]]] + coefficient * combined_hubs[[hubs[2]]]\n",
    "  \n",
    "  # Store the spread in the spreads data frame with a column named after the pair\n",
    "  spreads[[paste(hubs[1], hubs[2], sep = \"_\")]] <- spread\n",
    "}\n",
    "\n",
    "\n",
    "\n"
   ]
  }
 ],
 "metadata": {
  "kernelspec": {
   "display_name": "Python 3",
   "language": "python",
   "name": "python3"
  },
  "language_info": {
   "codemirror_mode": {
    "name": "ipython",
    "version": 3
   },
   "file_extension": ".py",
   "mimetype": "text/x-python",
   "name": "python",
   "nbconvert_exporter": "python",
   "pygments_lexer": "ipython3",
   "version": "3.11.9"
  }
 },
 "nbformat": 4,
 "nbformat_minor": 2
}
