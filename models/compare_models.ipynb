{
 "cells": [
  {
   "cell_type": "markdown",
   "metadata": {},
   "source": [
    "# Statistical models in R\n",
    "This notebook is covering:\n",
    "1. Comparing models using MAE and RMSE as well as performing Diebold-Mariano"
   ]
  },
  {
   "cell_type": "code",
   "execution_count": 2,
   "metadata": {},
   "outputs": [],
   "source": [
    "import pandas as pd\n",
    "import plotly.express as px\n",
    "import plotly.graph_objs as go"
   ]
  },
  {
   "cell_type": "code",
   "execution_count": 3,
   "metadata": {},
   "outputs": [
    {
     "name": "stdout",
     "output_type": "stream",
     "text": [
      "Requirement already satisfied: rpy2 in /Users/sindrehaugland/Documents/Master/statistical-arbitrage/.conda/lib/python3.11/site-packages (3.5.16)\n",
      "Requirement already satisfied: cffi>=1.15.1 in /Users/sindrehaugland/Documents/Master/statistical-arbitrage/.conda/lib/python3.11/site-packages (from rpy2) (1.17.1)\n",
      "Requirement already satisfied: jinja2 in /Users/sindrehaugland/Documents/Master/statistical-arbitrage/.conda/lib/python3.11/site-packages (from rpy2) (3.1.4)\n",
      "Requirement already satisfied: tzlocal in /Users/sindrehaugland/Documents/Master/statistical-arbitrage/.conda/lib/python3.11/site-packages (from rpy2) (5.2)\n",
      "Requirement already satisfied: pycparser in /Users/sindrehaugland/Documents/Master/statistical-arbitrage/.conda/lib/python3.11/site-packages (from cffi>=1.15.1->rpy2) (2.22)\n",
      "Requirement already satisfied: MarkupSafe>=2.0 in /Users/sindrehaugland/Documents/Master/statistical-arbitrage/.conda/lib/python3.11/site-packages (from jinja2->rpy2) (2.1.5)\n",
      "Note: you may need to restart the kernel to use updated packages.\n"
     ]
    }
   ],
   "source": [
    "# rpy2 is a Python package that allows you to run R code from Python\n",
    "%pip install rpy2"
   ]
  },
  {
   "cell_type": "code",
   "execution_count": 4,
   "metadata": {},
   "outputs": [],
   "source": [
    "# Load the rpy2 extension to use R in Jupyter\n",
    "%load_ext rpy2.ipython"
   ]
  },
  {
   "cell_type": "markdown",
   "metadata": {},
   "source": [
    "The magic function `%%R` is used for running R code in Jupyter"
   ]
  },
  {
   "cell_type": "code",
   "execution_count": 13,
   "metadata": {},
   "outputs": [
    {
     "name": "stdout",
     "output_type": "stream",
     "text": [
      "$the_nbp\n",
      "$the_nbp$the\n",
      "           mae  rmse\n",
      "naive    2.08  2.73 \n",
      "arima    2.08  2.74 \n",
      "vecm     2.01  2.66 \n",
      "tvecm_t1 2.18  2.84 \n",
      "tvecm_t2    2~ 2.56~\n",
      "\n",
      "$the_nbp$nbp\n",
      "           mae  rmse\n",
      "naive    2.23  3.09 \n",
      "arima    2.24  3.08 \n",
      "vecm     2.05  2.89 \n",
      "tvecm_t1 2.17  3.02 \n",
      "tvecm_t2 2.02~ 2.83~\n",
      "\n",
      "\n",
      "$ttf_nbp\n",
      "$ttf_nbp$ttf\n",
      "           mae  rmse\n",
      "naive    2.14  2.96 \n",
      "arima    2.14  2.97 \n",
      "vecm     2.07~ 2.94~\n",
      "tvecm_t1 2.28  3.04 \n",
      "tvecm_t2 2.16  2.97 \n",
      "\n",
      "$ttf_nbp$nbp\n",
      "           mae  rmse\n",
      "naive    2.23  3.09 \n",
      "arima    2.24  3.08 \n",
      "vecm     2.13~ 3.03~\n",
      "tvecm_t1 2.23  3.06 \n",
      "tvecm_t2 2.37   3.2 \n",
      "\n",
      "\n",
      "$ttf_the\n",
      "$ttf_the$ttf\n",
      "           mae  rmse\n",
      "naive    2.14  2.96 \n",
      "arima    2.14  2.97 \n",
      "vecm     2.14~ 2.94~\n",
      "tvecm_t1 2.17     3 \n",
      "tvecm_t2 2.15     3 \n",
      "\n",
      "$ttf_the$the\n",
      "           mae  rmse\n",
      "naive    2.08  2.73~\n",
      "arima    2.08~ 2.74 \n",
      "vecm     2.14  2.83 \n",
      "tvecm_t1 2.18  2.89 \n",
      "tvecm_t2 2.19  2.91 \n",
      "\n",
      "\n"
     ]
    }
   ],
   "source": [
    "%%R\n",
    "\n",
    "# Define the hub pairs and models\n",
    "hub_pairs <- list(c(\"the\", \"nbp\"), c(\"ttf\", \"nbp\"), c(\"ttf\", \"the\"))\n",
    "models <- c(\"naive\", \"arima\", \"vecm\", \"tvecm_t1\", \"tvecm_t2\")\n",
    "horizon <- 250\n",
    "window_size <- 5\n",
    "\n",
    "source(\"compare_models.r\")\n",
    "\n",
    "compare_error_metrics(hub_pairs, models, horizon, window_size)\n",
    "\n"
   ]
  },
  {
   "cell_type": "code",
   "execution_count": 14,
   "metadata": {},
   "outputs": [
    {
     "name": "stdout",
     "output_type": "stream",
     "text": [
      "$the_nbp\n",
      "$the_nbp$the\n",
      "            naive    arima     vecm tvecm_t1 tvecm_t2\n",
      "naive        -    0.760    0.213    0.874    0.531   \n",
      "arima    0.240        -    0.183    0.862    0.513   \n",
      "vecm     0.787    0.817        -    0.931    0.645   \n",
      "tvecm_t1 0.126    0.138    0.069        -    0.170   \n",
      "tvecm_t2 0.469    0.487    0.355    0.830        -   \n",
      "\n",
      "$the_nbp$nbp\n",
      "            naive    arima     vecm tvecm_t1 tvecm_t2\n",
      "naive        -    0.285    0.093    0.992    0.997   \n",
      "arima    0.715        -    0.099    0.995    0.997   \n",
      "vecm     0.907    0.901        -    0.993    0.991   \n",
      "tvecm_t1 0.008**  0.005**  0.007**      -    0.917   \n",
      "tvecm_t2 0.003**  0.003**  0.009**  0.083        -   \n",
      "\n",
      "\n",
      "$ttf_nbp\n",
      "$ttf_nbp$ttf\n",
      "            naive    arima     vecm tvecm_t1 tvecm_t2\n",
      "naive        -    0.339    0.030*   0.065    0.694   \n",
      "arima    0.661        -    0.032*   0.093    0.740   \n",
      "vecm     0.970    0.968        -    0.948    0.960   \n",
      "tvecm_t1 0.935    0.907    0.052        -    0.856   \n",
      "tvecm_t2 0.306    0.260    0.040*   0.144        -   \n",
      "\n",
      "$ttf_nbp$nbp\n",
      "            naive    arima     vecm tvecm_t1 tvecm_t2\n",
      "naive        -    0.285    0.007**  0.762    0.013*  \n",
      "arima    0.715        -    0.008**  0.825    0.015*  \n",
      "vecm     0.993    0.992        -    0.997    0.982   \n",
      "tvecm_t1 0.238    0.175    0.003**      -    0.004** \n",
      "tvecm_t2 0.987    0.985    0.018*   0.996        -   \n",
      "\n",
      "\n",
      "$ttf_the\n",
      "$ttf_the$ttf\n",
      "            naive    arima     vecm tvecm_t1 tvecm_t2\n",
      "naive        -    0.339    0.377    0.059    0.129   \n",
      "arima    0.661        -    0.409    0.077    0.185   \n",
      "vecm     0.623    0.591        -    0.135    0.377   \n",
      "tvecm_t1 0.941    0.923    0.865        -    0.813   \n",
      "tvecm_t2 0.871    0.815    0.623    0.187        -   \n",
      "\n",
      "$ttf_the$the\n",
      "            naive    arima     vecm tvecm_t1 tvecm_t2\n",
      "naive        -    0.760    0.043*   0.063    0.061   \n",
      "arima    0.240        -    0.037*   0.058    0.054   \n",
      "vecm     0.957    0.963        -    0.128    0.262   \n",
      "tvecm_t1 0.937    0.942    0.872        -    0.809   \n",
      "tvecm_t2 0.939    0.946    0.738    0.191        -   \n",
      "\n",
      "\n"
     ]
    }
   ],
   "source": [
    "%%R\n",
    "source(\"compare_models.r\")\n",
    "diebold_mariano(hub_pairs, models, horizon, window_size)"
   ]
  }
 ],
 "metadata": {
  "kernelspec": {
   "display_name": "Python 3",
   "language": "python",
   "name": "python3"
  },
  "language_info": {
   "codemirror_mode": {
    "name": "ipython",
    "version": 3
   },
   "file_extension": ".py",
   "mimetype": "text/x-python",
   "name": "python",
   "nbconvert_exporter": "python",
   "pygments_lexer": "ipython3",
   "version": "3.11.9"
  }
 },
 "nbformat": 4,
 "nbformat_minor": 2
}
