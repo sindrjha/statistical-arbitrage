{
 "cells": [
  {
   "cell_type": "markdown",
   "metadata": {},
   "source": [
    "# Statistical models in R\n",
    "This notebook is covering:\n",
    "1. Comparing models using MAE and RMSE as well as performing Diebold-Mariano"
   ]
  },
  {
   "cell_type": "code",
   "execution_count": 42,
   "metadata": {},
   "outputs": [],
   "source": [
    "import pandas as pd\n",
    "import plotly.express as px\n",
    "import plotly.graph_objs as go"
   ]
  },
  {
   "cell_type": "code",
   "execution_count": 43,
   "metadata": {},
   "outputs": [
    {
     "name": "stdout",
     "output_type": "stream",
     "text": [
      "Requirement already satisfied: rpy2 in /Users/sindrehaugland/Documents/Master/statistical-arbitrage/.conda/lib/python3.11/site-packages (3.5.16)\n",
      "Requirement already satisfied: cffi>=1.15.1 in /Users/sindrehaugland/Documents/Master/statistical-arbitrage/.conda/lib/python3.11/site-packages (from rpy2) (1.17.1)\n",
      "Requirement already satisfied: jinja2 in /Users/sindrehaugland/Documents/Master/statistical-arbitrage/.conda/lib/python3.11/site-packages (from rpy2) (3.1.4)\n",
      "Requirement already satisfied: tzlocal in /Users/sindrehaugland/Documents/Master/statistical-arbitrage/.conda/lib/python3.11/site-packages (from rpy2) (5.2)\n",
      "Requirement already satisfied: pycparser in /Users/sindrehaugland/Documents/Master/statistical-arbitrage/.conda/lib/python3.11/site-packages (from cffi>=1.15.1->rpy2) (2.22)\n",
      "Requirement already satisfied: MarkupSafe>=2.0 in /Users/sindrehaugland/Documents/Master/statistical-arbitrage/.conda/lib/python3.11/site-packages (from jinja2->rpy2) (2.1.5)\n",
      "Note: you may need to restart the kernel to use updated packages.\n"
     ]
    }
   ],
   "source": [
    "# rpy2 is a Python package that allows you to run R code from Python\n",
    "%pip install rpy2"
   ]
  },
  {
   "cell_type": "code",
   "execution_count": 44,
   "metadata": {},
   "outputs": [
    {
     "name": "stdout",
     "output_type": "stream",
     "text": [
      "The rpy2.ipython extension is already loaded. To reload it, use:\n",
      "  %reload_ext rpy2.ipython\n"
     ]
    }
   ],
   "source": [
    "# Load the rpy2 extension to use R in Jupyter\n",
    "%load_ext rpy2.ipython"
   ]
  },
  {
   "cell_type": "markdown",
   "metadata": {},
   "source": [
    "The magic function `%%R` is used for running R code in Jupyter"
   ]
  },
  {
   "cell_type": "code",
   "execution_count": 45,
   "metadata": {},
   "outputs": [
    {
     "name": "stdout",
     "output_type": "stream",
     "text": [
      "$ttf_the\n",
      "$ttf_the$ttf\n",
      "               mape  rmse\n",
      "naive          6.1  2.96 \n",
      "arima         6.11  2.97 \n",
      "vecm           6.1  2.92~\n",
      "tvecm_long_t1 5.95  2.92~\n",
      "tvecm_long_t2 6.76   3.2 \n",
      "ann           5.92~ 3.02 \n",
      "\n",
      "$ttf_the$the\n",
      "               mape  rmse\n",
      "naive         6.02  2.94 \n",
      "arima         6.03  2.95 \n",
      "vecm          6.03   2.9~\n",
      "tvecm_long_t1 5.92  2.91 \n",
      "tvecm_long_t2 6.63  3.16 \n",
      "ann           5.82~ 2.96 \n",
      "\n",
      "\n",
      "$ttf_nbp\n",
      "$ttf_nbp$ttf\n",
      "               mape  rmse\n",
      "naive          6.1  2.96 \n",
      "arima         6.11  2.97 \n",
      "vecm          5.91~ 2.94~\n",
      "tvecm_long_t1 6.49  3.04 \n",
      "tvecm_long_t2 6.41  3.06 \n",
      "ann           6.23  2.99 \n",
      "\n",
      "$ttf_nbp$nbp\n",
      "               mape  rmse\n",
      "naive          6.5  3.09 \n",
      "arima         6.51  3.08 \n",
      "vecm           6.2~ 3.03~\n",
      "tvecm_long_t1 6.53  3.06 \n",
      "tvecm_long_t2 6.97  3.23 \n",
      "ann           6.62  3.12 \n",
      "\n",
      "\n",
      "$the_nbp\n",
      "$the_nbp$the\n",
      "               mape  rmse\n",
      "naive         6.02  2.94 \n",
      "arima         6.03  2.95 \n",
      "vecm          5.86~ 2.93~\n",
      "tvecm_long_t1 6.44  3.04 \n",
      "tvecm_long_t2 6.45  3.07 \n",
      "ann           6.13  2.99 \n",
      "\n",
      "$the_nbp$nbp\n",
      "               mape  rmse\n",
      "naive          6.5  3.09 \n",
      "arima         6.51  3.08 \n",
      "vecm          6.23~ 3.03~\n",
      "tvecm_long_t1 6.56  3.09 \n",
      "tvecm_long_t2 6.99  3.24 \n",
      "ann            6.5  3.14 \n",
      "\n",
      "\n"
     ]
    }
   ],
   "source": [
    "%%R\n",
    "\n",
    "# Define the hub pairs and models\n",
    "hub_pairs <- list(c(\"ttf\", \"the\"),c(\"ttf\", \"nbp\"), c(\"the\", \"nbp\"))\n",
    "models <- c(\"naive\", \"arima\", \"vecm\", \"tvecm_long_t1\", \"tvecm_long_t2\", \"ann\")\n",
    "horizon <- 250\n",
    "window_size <- 5\n",
    "\n",
    "source(\"compare_models.r\")\n",
    "\n",
    "results_list <- compare_error_metrics(hub_pairs, models, horizon, window_size)\n",
    "\n"
   ]
  },
  {
   "cell_type": "code",
   "execution_count": 46,
   "metadata": {},
   "outputs": [
    {
     "name": "stdout",
     "output_type": "stream",
     "text": [
      "$ttf_the\n",
      "$ttf_the$ttf\n",
      "                 naive    arima     vecm tvecm_long_t1 tvecm_long_t2      ann\n",
      "naive             -    0.339    0.536         0.626         0.007**  0.713   \n",
      "arima         0.661        -    0.555         0.648         0.005**  0.730   \n",
      "vecm          0.464    0.445        -         0.623         0.038*   0.641   \n",
      "tvecm_long_t1 0.374    0.352    0.377             -         0.021*   0.565   \n",
      "tvecm_long_t2 0.993    0.995    0.962         0.979             -    0.993   \n",
      "ann           0.287    0.270    0.359         0.435         0.007**      -   \n",
      "\n",
      "$ttf_the$the\n",
      "                 naive    arima     vecm tvecm_long_t1 tvecm_long_t2      ann\n",
      "naive             -    0.414    0.521         0.566         0.013*   0.791   \n",
      "arima         0.586        -    0.532         0.580         0.010**  0.799   \n",
      "vecm          0.479    0.468        -         0.562         0.058    0.721   \n",
      "tvecm_long_t1 0.434    0.420    0.438             -         0.037*   0.668   \n",
      "tvecm_long_t2 0.987    0.990    0.942         0.963             -    0.995   \n",
      "ann           0.209    0.201    0.279         0.332         0.005**      -   \n",
      "\n",
      "\n",
      "$ttf_nbp\n",
      "$ttf_nbp$ttf\n",
      "                 naive    arima     vecm tvecm_long_t1 tvecm_long_t2      ann\n",
      "naive             -    0.339    0.972         0.049*        0.038*   0.342   \n",
      "arima         0.661        -    0.987         0.058         0.044*   0.352   \n",
      "vecm          0.028*   0.013*       -         0.019*        0.003**  0.184   \n",
      "tvecm_long_t1 0.951    0.942    0.981             -         0.656    0.669   \n",
      "tvecm_long_t2 0.962    0.956    0.997         0.344             -    0.630   \n",
      "ann           0.658    0.648    0.816         0.331         0.370        -   \n",
      "\n",
      "$ttf_nbp$nbp\n",
      "                 naive    arima     vecm tvecm_long_t1 tvecm_long_t2      ann\n",
      "naive             -    0.285    0.964         0.492         0.007**  0.379   \n",
      "arima         0.715        -    0.976         0.570         0.009**  0.390   \n",
      "vecm          0.036*   0.024*       -         0.055         0.004**  0.147   \n",
      "tvecm_long_t1 0.508    0.430    0.945             -         0.003**  0.390   \n",
      "tvecm_long_t2 0.993    0.991    0.996         0.997             -    0.731   \n",
      "ann           0.621    0.610    0.853         0.610         0.269        -   \n",
      "\n",
      "\n",
      "$the_nbp\n",
      "$the_nbp$the\n",
      "                 naive    arima     vecm tvecm_long_t1 tvecm_long_t2      ann\n",
      "naive             -    0.414    0.957         0.023*        0.009**  0.389   \n",
      "arima         0.586        -    0.979         0.028*        0.010*   0.395   \n",
      "vecm          0.043*   0.021*       -         0.010*        0.003**  0.230   \n",
      "tvecm_long_t1 0.977    0.972    0.990             -         0.292    0.732   \n",
      "tvecm_long_t2 0.991    0.990    0.997         0.708             -    0.757   \n",
      "ann           0.611    0.605    0.770         0.268         0.243        -   \n",
      "\n",
      "$the_nbp$nbp\n",
      "                 naive    arima     vecm tvecm_long_t1 tvecm_long_t2      ann\n",
      "naive             -    0.285    0.951         0.168         0.003**  0.491   \n",
      "arima         0.715        -    0.967         0.258         0.003**  0.506   \n",
      "vecm          0.049*   0.033*       -         0.031*        0.002**  0.234   \n",
      "tvecm_long_t1 0.832    0.742    0.969             -         0.001*** 0.540   \n",
      "tvecm_long_t2 0.997    0.997    0.998         0.999             -    0.826   \n",
      "ann           0.509    0.494    0.766         0.460         0.174        -   \n",
      "\n",
      "\n"
     ]
    }
   ],
   "source": [
    "%%R\n",
    "source(\"compare_models.r\")\n",
    "diebold_mariano(hub_pairs, models, horizon, window_size)"
   ]
  },
  {
   "cell_type": "code",
   "execution_count": 47,
   "metadata": {},
   "outputs": [
    {
     "name": "stdout",
     "output_type": "stream",
     "text": [
      "[1] \"MAPE for ttf: 5.95078067443684\"\n",
      "[1] \"RMSE for ttf: 2.92374370973872\"\n",
      "[1]"
     ]
    },
    {
     "name": "stdout",
     "output_type": "stream",
     "text": [
      " \"MAPE for ttf: 6.09504827799185\"\n",
      "[1] \"RMSE for ttf: 2.91780895245976\"\n"
     ]
    }
   ],
   "source": [
    "%%R\n",
    "\n",
    "hub1_name <- \"ttf\"\n",
    "hub2_name <- \"the\"\n",
    "model1_name <- \"tvecm_long_t1\"\n",
    "model2_name <- \"vecm\"\n",
    "horizon <- 250\n",
    "window_size <- 5\n",
    "\n",
    "model1_filename <- paste0(\"../predictions/test/predictions/\", hub1_name, \"_\", hub2_name, \"_h\", horizon, \"_w\", window_size, \"_\", model1_name, \"_predictions.csv\")\n",
    "model1_predictions <- read.csv(model1_filename)\n",
    "\n",
    "#model2_filename <- paste0(\"../predictions/test/predictions/\", hub1_name, \"_h\", horizon, \"_w\", window_size, \"_\", model2_name, \"_predictions.csv\")\n",
    "#model2_predictions <- read.csv(model2_filename)\n",
    "\n",
    "model2_filename <- paste0(\"../predictions/test/predictions/\", hub1_name, \"_\", hub2_name, \"_h\", horizon, \"_w\", window_size, \"_\", model2_name, \"_predictions.csv\")\n",
    "model2_predictions <- read.csv(model2_filename)\n",
    "\n",
    "actuals_hub1_filename <- paste0(\"../data/interpolated/\", hub1_name, \"_close_interpolated.csv\")\n",
    "actuals_hub1 <- tail(read.csv(actuals_hub1_filename), horizon)\n",
    "colnames(actuals_hub1) <- c(\"Date\", hub1_name)\n",
    "\n",
    "actuals_hub2_filename <- paste0(\"../data/interpolated/\", hub2_name, \"_close_interpolated.csv\")\n",
    "actuals_hub2 <- tail(read.csv(actuals_hub2_filename), horizon)\n",
    "colnames(actuals_hub2) <- c(\"Date\", hub2_name)\n",
    "\n",
    "model1_mape_hub1 <- mape(actuals_hub1[[hub1_name]], model1_predictions[[hub1_name]])*100\n",
    "model1_rmse_hub1 <- rmse(actuals_hub1[[hub1_name]], model1_predictions[[hub1_name]])\n",
    "\n",
    "model2_mape_hub1 <- mape(actuals_hub1[[hub1_name]], model2_predictions[[hub1_name]])*100\n",
    "model2_rmse_hub1 <- rmse(actuals_hub1[[hub1_name]], model2_predictions[[hub1_name]])\n",
    "\n",
    "print(paste0(\"MAPE for \", hub1_name, \": \", model1_mape_hub1))\n",
    "print(paste0(\"RMSE for \", hub1_name, \": \", model1_rmse_hub1))\n",
    "\n",
    "print(paste0(\"MAPE for \", hub1_name, \": \", model2_mape_hub1))\n",
    "print(paste0(\"RMSE for \", hub1_name, \": \", model2_rmse_hub1))"
   ]
  },
  {
   "cell_type": "code",
   "execution_count": 48,
   "metadata": {},
   "outputs": [
    {
     "name": "stdout",
     "output_type": "stream",
     "text": [
      "[1] \"MAPE for the: 5.91787470613681\"\n",
      "[1] \"RMSE for the: 2.91450453591841\"\n",
      "[1] \"MAPE for the: 6.03477430668957\"\n",
      "[1] \"RMSE for the: 2.90185965738467\"\n"
     ]
    }
   ],
   "source": [
    "%%R\n",
    "\n",
    "model1_mape_hub2 <- mape(actuals_hub2[[hub2_name]], model1_predictions[[hub2_name]])*100\n",
    "model1_rmse_hub2 <- rmse(actuals_hub2[[hub2_name]], model1_predictions[[hub2_name]])\n",
    "\n",
    "model2_mape_hub2 <- mape(actuals_hub2[[hub2_name]], model2_predictions[[hub2_name]])*100\n",
    "model2_rmse_hub2 <- rmse(actuals_hub2[[hub2_name]], model2_predictions[[hub2_name]])\n",
    "\n",
    "print(paste0(\"MAPE for \", hub2_name, \": \", model1_mape_hub2))\n",
    "print(paste0(\"RMSE for \", hub2_name, \": \", model1_rmse_hub2))\n",
    "\n",
    "print(paste0(\"MAPE for \", hub2_name, \": \", model2_mape_hub2))\n",
    "print(paste0(\"RMSE for \", hub2_name, \": \", model2_rmse_hub2))"
   ]
  },
  {
   "cell_type": "code",
   "execution_count": 49,
   "metadata": {},
   "outputs": [
    {
     "name": "stdout",
     "output_type": "stream",
     "text": [
      "\n",
      "\tDiebold-Mariano Test\n",
      "\n",
      "data:  model1_hub1_residsmodel2_hub1_resids\n",
      "DM = -0.31266, Forecast horizon = 5, Loss function power = 1, p-value =\n",
      "0.3774\n",
      "alternative hypothesis: less\n",
      "\n"
     ]
    }
   ],
   "source": [
    "%%R\n",
    "model1_hub1_resids <- actuals_hub1[[hub1_name]] - model1_predictions[[hub1_name]]\n",
    "model2_hub1_resids <- actuals_hub1[[hub1_name]] - model2_predictions[[hub1_name]]\n",
    "hub1_dm <- dm.test(model1_hub1_resids, model2_hub1_resids, h = 5, power = 1, alternative = \"less\")\n",
    "hub1_dm"
   ]
  },
  {
   "cell_type": "code",
   "execution_count": 50,
   "metadata": {},
   "outputs": [
    {
     "name": "stdout",
     "output_type": "stream",
     "text": [
      "[1]  0.190307  2.733733  1.237164  5.067614  3.821259 10.077344\n"
     ]
    }
   ],
   "source": [
    "%%R\n",
    "head(model2_hub1_resids)"
   ]
  }
 ],
 "metadata": {
  "kernelspec": {
   "display_name": "Python 3",
   "language": "python",
   "name": "python3"
  },
  "language_info": {
   "codemirror_mode": {
    "name": "ipython",
    "version": 3
   },
   "file_extension": ".py",
   "mimetype": "text/x-python",
   "name": "python",
   "nbconvert_exporter": "python",
   "pygments_lexer": "ipython3",
   "version": "3.11.9"
  }
 },
 "nbformat": 4,
 "nbformat_minor": 2
}
