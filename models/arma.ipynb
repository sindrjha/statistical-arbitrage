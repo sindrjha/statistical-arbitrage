{
 "cells": [
  {
   "cell_type": "markdown",
   "metadata": {},
   "source": [
    "# Statistical models in R\n",
    "This notebook is covering:\n",
    "1. Data preprocessing:\n",
    "    1. Aligning all dataframe to 5-day week from 2018-10-01 to 2024-08-30.\n",
    "    2. Interpolating missing values.\n",
    "2. ARMA-models."
   ]
  },
  {
   "cell_type": "code",
   "execution_count": null,
   "metadata": {},
   "outputs": [],
   "source": [
    "# rpy2 is a Python package that allows you to run R code from Python\n",
    "%pip install rpy2"
   ]
  },
  {
   "cell_type": "code",
   "execution_count": 1,
   "metadata": {},
   "outputs": [],
   "source": [
    "# Load the rpy2 extension to use R in Jupyter\n",
    "%load_ext rpy2.ipython"
   ]
  },
  {
   "cell_type": "markdown",
   "metadata": {},
   "source": [
    "The magic function `%%R` is used for running R code in Jupyter"
   ]
  },
  {
   "cell_type": "code",
   "execution_count": 207,
   "metadata": {},
   "outputs": [],
   "source": [
    "%%R\n",
    "# Install required packages\n",
    "if (require(\"dplyr\") == FALSE) {\n",
    "  install.packages(\"dplyr\")\n",
    "  library(dplyr)\n",
    "}\n",
    "if (require(\"zoo\") == FALSE) {\n",
    "  install.packages(\"zoo\")\n",
    "  library(zoo)\n",
    "}\n",
    "if (require(\"psych\") == FALSE) {\n",
    "  install.packages(\"psych\")\n",
    "  library(psych)\n",
    "}\n",
    "if (require(\"TSA\") == FALSE) {\n",
    "  install.packages(\"TSA\")\n",
    "  library(TSA)\n",
    "}\n",
    "if (require(\"forecast\") == FALSE) {\n",
    "  install.packages(\"forecast\")\n",
    "  library(forecast)\n",
    "}\n",
    "if (require(\"Metrics\") == FALSE) {\n",
    "  install.packages(\"Metrics\")\n",
    "  library(Metrics)\n",
    "}"
   ]
  },
  {
   "cell_type": "code",
   "execution_count": 76,
   "metadata": {},
   "outputs": [],
   "source": [
    "%%R\n",
    "# Load data\n",
    "hub_prices <- list(\n",
    "  nbp = read.csv(\"../data/nbp_close.csv\"),\n",
    "  peg = read.csv(\"../data/peg_close.csv\"),\n",
    "  the = read.csv(\"../data/the_close.csv\"),\n",
    "  ttf = read.csv(\"../data/ttf_close.csv\"),\n",
    "  ztp = read.csv(\"../data/ztp_close.csv\")\n",
    ")"
   ]
  },
  {
   "cell_type": "code",
   "execution_count": 77,
   "metadata": {},
   "outputs": [],
   "source": [
    "%%R\n",
    "# Create a date index with a 5 day week to align data\n",
    "start_date <- as.Date(\"2018-10-01\")\n",
    "end_date <- as.Date(\"2024-08-30\")\n",
    "date_seq <- seq.Date(start_date, end_date, by = \"day\")\n",
    "date_index <- date_seq[!weekdays(date_seq) %in% c(\"Saturday\", \"Sunday\")]"
   ]
  },
  {
   "cell_type": "code",
   "execution_count": 78,
   "metadata": {},
   "outputs": [],
   "source": [
    "%%R\n",
    "# Merge the hub data with the created date index so that all data is aligned and fill in missing values\n",
    "hub_prices <- lapply(hub_prices, function(df) {\n",
    "  df$Date <- as.Date(df$Date)\n",
    "  df <- merge(data.frame(Date = date_index), df, by = \"Date\", all.x = TRUE)\n",
    "  df <- df %>%\n",
    "    mutate(CLOSE = na.approx(CLOSE, rule = 2))\n",
    "  return(df)\n",
    "})"
   ]
  },
  {
   "cell_type": "code",
   "execution_count": 79,
   "metadata": {},
   "outputs": [],
   "source": [
    "%%R\n",
    "# Load the prices processed pricing data for each hub\n",
    "nbp_price <- hub_prices$nbp\n",
    "peg_price <- hub_prices$peg\n",
    "the_price <- hub_prices$the\n",
    "ttf_price <- hub_prices$ttf\n",
    "ztp_price <- hub_prices$ztp"
   ]
  },
  {
   "cell_type": "code",
   "execution_count": 80,
   "metadata": {},
   "outputs": [],
   "source": [
    "%%R\n",
    "# Function to store the residuals of an OLS model to be used in VAR\n",
    "store_ols_residuals <- function(hub1, hub2, file_name) {\n",
    "  ols_model <- lm(hub1$CLOSE ~ hub2$CLOSE)\n",
    "  residuals_df <- data.frame(Date = hub1$Date, Residuals = ols_model$residuals)\n",
    "  write.csv(residuals_df, file_name, row.names = FALSE)\n",
    "  return(ols_model)\n",
    "}\n",
    "folder_path <- \"intermediate_storage/\"\n",
    "ztp_ttf_ols <- store_ols_residuals(ztp_price, ttf_price, paste(folder_path, \"ztp_ttf_residuals.csv\", sep = \"\")) # paste() concatenates strings"
   ]
  },
  {
   "cell_type": "code",
   "execution_count": 89,
   "metadata": {},
   "outputs": [],
   "source": [
    "%%R\n",
    "# Calculate log returns for each hub\n",
    "hub_returns <- lapply(hub_prices, function(df) {\n",
    "  df <- df %>%\n",
    "    mutate(Return = log(CLOSE) - lag(log(CLOSE))) %>%  # Calculate log returns\n",
    "    slice(-1)  # Drop the first row\n",
    "  return(df)\n",
    "})"
   ]
  },
  {
   "cell_type": "code",
   "execution_count": 90,
   "metadata": {},
   "outputs": [],
   "source": [
    "%%R\n",
    "nbp_returns <- hub_returns$nbp\n",
    "peg_returns <- hub_returns$peg\n",
    "the_returns <- hub_returns$the\n",
    "ttf_returns <- hub_returns$ttf\n",
    "ztp_returns <- hub_returns$ztp"
   ]
  },
  {
   "cell_type": "code",
   "execution_count": 203,
   "metadata": {},
   "outputs": [],
   "source": [
    "%%R\n",
    "# Create a function to fit an ARMA with exogenous variables model\n",
    "armax_model <- function(hub1, hub2_lag1, ar_order, ma_order) {\n",
    "  armax_model <- arima(hub1$Return, order = c(ar_order, 0, ma_order), xreg = hub2_lag1$Return, optim.control = list(maxit = 1000))\n",
    "return(armax_model)\n",
    "}"
   ]
  },
  {
   "cell_type": "code",
   "execution_count": 204,
   "metadata": {},
   "outputs": [],
   "source": [
    "%%R\n",
    "expanding_window_armax_forecast <- function(hub1, hub2, ar_order, ma_order, window_size = 10) {\n",
    "  \n",
    "  n <- length(hub1$Return)\n",
    "  \n",
    "  start_points <- seq(n - 250, n - window_size, by = window_size)\n",
    "  performance <- data.frame(Interval = numeric(), MAE = numeric(), RMSE = numeric())\n",
    "\n",
    "  hub1 <- hub1 %>% slice(-1) # Drop the first row\n",
    "  hub2_lag1 <- lag(hub2) %>% slice(-1) # Drop the first row\n",
    "  \n",
    "  for (start in start_points) {\n",
    "    \n",
    "    hub1_train <- hub1[1:(start - 1), ]  # Use data up to the window for hub1\n",
    "    hub2_lag1_train <- hub2_lag1[1:(start - 1), ]  # Use data up to the window for hub2\n",
    "    \n",
    "    hub1_actual <- hub1$Return[start:(start + window_size - 1)]\n",
    "\n",
    "    armax_fit <- armax_model(hub1_train, hub2_lag1_train, ar_order, ma_order)\n",
    "      \n",
    "    # Fit the ARMA(3,3) model on hub2\n",
    "    hub2_arma <- arima(hub2_lag1_train$Return, order = c(3, 0, 3),  optim.control = list(maxit = 1000))  # Fit ARMA(3,3) on hub2\n",
    "    hub2_future_forecast <- predict(hub2_arma, n.ahead = window_size)$pred  # Forecast hub2 for the next window\n",
    "    forecasted_values <- predict(armax_fit, newxreg = hub2_future_forecast, n.ahead = window_size)$pred\n",
    "    \n",
    "    mae_value <- mae(hub1_actual, forecasted_values)\n",
    "    rmse_value <- rmse(hub1_actual, forecasted_values)\n",
    "    performance <- rbind(performance, data.frame(Interval = start, MAE = mae_value, RMSE = rmse_value))\n",
    "  }\n",
    "  \n",
    "  return(performance)\n",
    "}"
   ]
  },
  {
   "cell_type": "code",
   "execution_count": 206,
   "metadata": {},
   "outputs": [
    {
     "name": "stdout",
     "output_type": "stream",
     "text": [
      "       MAE       RMSE \n",
      "0.02997572 0.03559818 \n"
     ]
    }
   ],
   "source": [
    "%%R\n",
    "performance_metrics <- expanding_window_armax_forecast(ztp_returns, ttf_returns, ar_order = 3, ma_order = 1, window_size = 10)\n",
    "mean_performance <- colMeans(performance_metrics[, -1])  # Exclude the \"Interval\" column\n",
    "print(mean_performance)"
   ]
  }
 ],
 "metadata": {
  "kernelspec": {
   "display_name": "Python 3",
   "language": "python",
   "name": "python3"
  },
  "language_info": {
   "codemirror_mode": {
    "name": "ipython",
    "version": 3
   },
   "file_extension": ".py",
   "mimetype": "text/x-python",
   "name": "python",
   "nbconvert_exporter": "python",
   "pygments_lexer": "ipython3",
   "version": "3.11.9"
  }
 },
 "nbformat": 4,
 "nbformat_minor": 2
}
