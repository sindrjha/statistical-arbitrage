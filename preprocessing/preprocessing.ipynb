{
 "cells": [
  {
   "cell_type": "markdown",
   "metadata": {},
   "source": [
    "# Statistical models in R\n",
    "This notebook is covering:\n",
    "1. Data preprocessing:\n",
    "    1. Aligning all dataframe to 5-day week from 2018-10-01 to 2024-08-30.\n",
    "    2. Interpolating missing values."
   ]
  },
  {
   "cell_type": "code",
   "execution_count": 22,
   "metadata": {},
   "outputs": [],
   "source": [
    "import pandas as pd\n",
    "import plotly.express as px\n",
    "import plotly.graph_objs as go"
   ]
  },
  {
   "cell_type": "markdown",
   "metadata": {},
   "source": [
    "Removing duplicates and converting NBP to MWh / EUR"
   ]
  },
  {
   "cell_type": "code",
   "execution_count": 23,
   "metadata": {},
   "outputs": [],
   "source": [
    "nbp = pd.read_csv(\"../data/raw/nbp.csv\")\n",
    "peg = pd.read_csv(\"../data/raw/peg.csv\")\n",
    "the = pd.read_csv(\"../data/raw/the.csv\")\n",
    "ttf = pd.read_csv(\"../data/raw/ttf.csv\")\n",
    "ztp = pd.read_csv(\"../data/raw/ztp.csv\")\n",
    "gbpeur = pd.read_csv(\"../data/raw/gbpeur.csv\")\n",
    "hubs = [nbp, peg, the, ttf, ztp, gbpeur]"
   ]
  },
  {
   "cell_type": "code",
   "execution_count": 24,
   "metadata": {},
   "outputs": [],
   "source": [
    "for idx, hub in enumerate(hubs):\n",
    "    hub[\"Date\"] = pd.to_datetime(hub[\"Date\"])\n",
    "    hub.set_index(\"Date\", inplace=True)\n",
    "    hub = hub[~hub.index.duplicated(keep='first')]\n",
    "    hubs[idx] = hub\n",
    "\n",
    "nbp, peg, the, ttf, ztp, gbpeur = hubs"
   ]
  },
  {
   "cell_type": "code",
   "execution_count": 25,
   "metadata": {},
   "outputs": [],
   "source": [
    "nbp_eur_mwh = nbp.copy()\n",
    "nbp_eur_mwh['CLOSE'] = nbp_eur_mwh['CLOSE'] * gbpeur['CLOSE'] / 2.9307"
   ]
  },
  {
   "cell_type": "code",
   "execution_count": 26,
   "metadata": {},
   "outputs": [],
   "source": [
    "nbp_eur_mwh[['CLOSE']].to_csv(\"../data/close/nbp_close.csv\")\n",
    "peg[['CLOSE']].to_csv(\"../data/close/peg_close.csv\")\n",
    "the[['CLOSE']].to_csv(\"../data/close/the_close.csv\")\n",
    "ttf[['CLOSE']].to_csv(\"../data/close/ttf_close.csv\")\n",
    "ztp[['CLOSE']].to_csv(\"../data/close/ztp_close.csv\")"
   ]
  },
  {
   "cell_type": "markdown",
   "metadata": {},
   "source": [
    "Continuing preprocessing in R"
   ]
  },
  {
   "cell_type": "code",
   "execution_count": 27,
   "metadata": {},
   "outputs": [
    {
     "name": "stdout",
     "output_type": "stream",
     "text": [
      "Requirement already satisfied: rpy2 in /Users/sindrehaugland/Documents/Master/statistical-arbitrage/.conda/lib/python3.11/site-packages (3.5.16)\n",
      "Requirement already satisfied: cffi>=1.15.1 in /Users/sindrehaugland/Documents/Master/statistical-arbitrage/.conda/lib/python3.11/site-packages (from rpy2) (1.17.1)\n",
      "Requirement already satisfied: jinja2 in /Users/sindrehaugland/Documents/Master/statistical-arbitrage/.conda/lib/python3.11/site-packages (from rpy2) (3.1.4)\n",
      "Requirement already satisfied: tzlocal in /Users/sindrehaugland/Documents/Master/statistical-arbitrage/.conda/lib/python3.11/site-packages (from rpy2) (5.2)\n",
      "Requirement already satisfied: pycparser in /Users/sindrehaugland/Documents/Master/statistical-arbitrage/.conda/lib/python3.11/site-packages (from cffi>=1.15.1->rpy2) (2.22)\n",
      "Requirement already satisfied: MarkupSafe>=2.0 in /Users/sindrehaugland/Documents/Master/statistical-arbitrage/.conda/lib/python3.11/site-packages (from jinja2->rpy2) (2.1.5)\n",
      "Note: you may need to restart the kernel to use updated packages.\n"
     ]
    }
   ],
   "source": [
    "# rpy2 is a Python package that allows you to run R code from Python\n",
    "%pip install rpy2"
   ]
  },
  {
   "cell_type": "code",
   "execution_count": 28,
   "metadata": {},
   "outputs": [
    {
     "name": "stdout",
     "output_type": "stream",
     "text": [
      "The rpy2.ipython extension is already loaded. To reload it, use:\n",
      "  %reload_ext rpy2.ipython\n"
     ]
    }
   ],
   "source": [
    "# Load the rpy2 extension to use R in Jupyter\n",
    "%load_ext rpy2.ipython"
   ]
  },
  {
   "cell_type": "markdown",
   "metadata": {},
   "source": [
    "The magic function `%%R` is used for running R code in Jupyter"
   ]
  },
  {
   "cell_type": "markdown",
   "metadata": {},
   "source": [
    "Loading required libraries"
   ]
  },
  {
   "cell_type": "code",
   "execution_count": 29,
   "metadata": {},
   "outputs": [],
   "source": [
    "%%R\n",
    "# Install required packages\n",
    "if (require(\"dplyr\") == FALSE) {\n",
    "  install.packages(\"dplyr\")\n",
    "  library(dplyr)\n",
    "}\n",
    "if (require(\"zoo\") == FALSE) {\n",
    "  install.packages(\"zoo\")\n",
    "  library(zoo)\n",
    "}\n",
    "if (require(\"psych\") == FALSE) {\n",
    "  install.packages(\"psych\")\n",
    "  library(psych)\n",
    "}\n",
    "if (require(\"TSA\") == FALSE) {\n",
    "  install.packages(\"TSA\")\n",
    "  library(TSA)\n",
    "}\n",
    "if (require(\"forecast\") == FALSE) {\n",
    "  install.packages(\"forecast\")\n",
    "  library(forecast)\n",
    "}\n",
    "if (require(\"Metrics\") == FALSE) {\n",
    "  install.packages(\"Metrics\")\n",
    "  library(Metrics)\n",
    "}\n",
    "if (require(\"ggplot2\") == FALSE) {\n",
    "  install.packages(\"ggplot2\")\n",
    "  library(ggplot2)\n",
    "}\n",
    "if (require(\"vars\") == FALSE) {\n",
    "  install.packages(\"vars\")\n",
    "  library(vars)\n",
    "}\n",
    "if (require(\"svars\") == FALSE) {\n",
    "  install.packages(\"svars\")\n",
    "  library(svars)\n",
    "}\n",
    "if (require(\"tsDyn\") == FALSE) {\n",
    "  install.packages(\"tsDyn\")\n",
    "  library(tsDyn)\n",
    "}\n"
   ]
  },
  {
   "cell_type": "code",
   "execution_count": 30,
   "metadata": {},
   "outputs": [],
   "source": [
    "%%R\n",
    "# Load data\n",
    "hub_prices <- list(\n",
    "  nbp = read.csv(\"../data/close/nbp_close.csv\"),\n",
    "  peg = read.csv(\"../data/close/peg_close.csv\"),\n",
    "  the = read.csv(\"../data/close/the_close.csv\"),\n",
    "  ttf = read.csv(\"../data/close/ttf_close.csv\"),\n",
    "  ztp = read.csv(\"../data/close/ztp_close.csv\")\n",
    ")"
   ]
  },
  {
   "cell_type": "code",
   "execution_count": 31,
   "metadata": {},
   "outputs": [],
   "source": [
    "%%R\n",
    "# Create a date index with a 5 day week to align data\n",
    "start_date <- as.Date(\"2018-10-01\")\n",
    "end_date <- as.Date(\"2024-08-30\")\n",
    "date_seq <- seq.Date(start_date, end_date, by = \"day\")\n",
    "date_index <- date_seq[!weekdays(date_seq) %in% c(\"Saturday\", \"Sunday\")]"
   ]
  },
  {
   "cell_type": "code",
   "execution_count": 32,
   "metadata": {},
   "outputs": [],
   "source": [
    "%%R\n",
    "# Merge the hub data with the created date index so that all data is aligned and fill in missing values\n",
    "hub_prices <- lapply(hub_prices, function(df) {\n",
    "  df$Date <- as.Date(df$Date)\n",
    "  df <- merge(data.frame(Date = date_index), df, by = \"Date\", all.x = TRUE)\n",
    "  df <- df %>%\n",
    "    mutate(CLOSE = na.approx(CLOSE, rule = 2))\n",
    "  return(df)\n",
    "})"
   ]
  },
  {
   "cell_type": "code",
   "execution_count": 33,
   "metadata": {},
   "outputs": [],
   "source": [
    "%%R\n",
    "# Load the prices processed pricing data for each hub\n",
    "nbp_price <- hub_prices$nbp\n",
    "peg_price <- hub_prices$peg\n",
    "the_price <- hub_prices$the\n",
    "ttf_price <- hub_prices$ttf\n",
    "ztp_price <- hub_prices$ztp"
   ]
  },
  {
   "cell_type": "code",
   "execution_count": 34,
   "metadata": {},
   "outputs": [],
   "source": [
    "%%R\n",
    "write.csv(nbp_price, \"../data/interpolated/nbp_close_interpolated.csv\", row.names = FALSE)\n",
    "write.csv(peg_price, \"../data/interpolated/peg_close_interpolated.csv\", row.names = FALSE)\n",
    "write.csv(the_price, \"../data/interpolated/the_close_interpolated.csv\", row.names = FALSE)\n",
    "write.csv(ttf_price, \"../data/interpolated/ttf_close_interpolated.csv\", row.names = FALSE)\n",
    "write.csv(ztp_price, \"../data/interpolated/ztp_close_interpolated.csv\", row.names = FALSE)"
   ]
  }
 ],
 "metadata": {
  "kernelspec": {
   "display_name": "Python 3",
   "language": "python",
   "name": "python3"
  },
  "language_info": {
   "codemirror_mode": {
    "name": "ipython",
    "version": 3
   },
   "file_extension": ".py",
   "mimetype": "text/x-python",
   "name": "python",
   "nbconvert_exporter": "python",
   "pygments_lexer": "ipython3",
   "version": "3.11.9"
  }
 },
 "nbformat": 4,
 "nbformat_minor": 2
}
