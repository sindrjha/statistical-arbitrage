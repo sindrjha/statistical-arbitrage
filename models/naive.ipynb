{
 "cells": [
  {
   "cell_type": "markdown",
   "metadata": {},
   "source": [
    "# Statistical models in R\n",
    "This notebook is covering:\n",
    "1. Naïve model"
   ]
  },
  {
   "cell_type": "code",
   "execution_count": 20,
   "metadata": {},
   "outputs": [],
   "source": [
    "import pandas as pd\n",
    "import plotly.express as px\n",
    "import plotly.graph_objs as go"
   ]
  },
  {
   "cell_type": "code",
   "execution_count": 21,
   "metadata": {},
   "outputs": [
    {
     "name": "stdout",
     "output_type": "stream",
     "text": [
      "Requirement already satisfied: rpy2 in /Users/sindrehaugland/Documents/Master/statistical-arbitrage/.conda/lib/python3.11/site-packages (3.5.16)\n",
      "Requirement already satisfied: cffi>=1.15.1 in /Users/sindrehaugland/Documents/Master/statistical-arbitrage/.conda/lib/python3.11/site-packages (from rpy2) (1.17.1)\n",
      "Requirement already satisfied: jinja2 in /Users/sindrehaugland/Documents/Master/statistical-arbitrage/.conda/lib/python3.11/site-packages (from rpy2) (3.1.4)\n",
      "Requirement already satisfied: tzlocal in /Users/sindrehaugland/Documents/Master/statistical-arbitrage/.conda/lib/python3.11/site-packages (from rpy2) (5.2)\n",
      "Requirement already satisfied: pycparser in /Users/sindrehaugland/Documents/Master/statistical-arbitrage/.conda/lib/python3.11/site-packages (from cffi>=1.15.1->rpy2) (2.22)\n",
      "Requirement already satisfied: MarkupSafe>=2.0 in /Users/sindrehaugland/Documents/Master/statistical-arbitrage/.conda/lib/python3.11/site-packages (from jinja2->rpy2) (2.1.5)\n",
      "Note: you may need to restart the kernel to use updated packages.\n"
     ]
    }
   ],
   "source": [
    "# rpy2 is a Python package that allows you to run R code from Python\n",
    "%pip install rpy2"
   ]
  },
  {
   "cell_type": "code",
   "execution_count": 22,
   "metadata": {},
   "outputs": [
    {
     "name": "stdout",
     "output_type": "stream",
     "text": [
      "The rpy2.ipython extension is already loaded. To reload it, use:\n",
      "  %reload_ext rpy2.ipython\n"
     ]
    }
   ],
   "source": [
    "# Load the rpy2 extension to use R in Jupyter\n",
    "%load_ext rpy2.ipython"
   ]
  },
  {
   "cell_type": "markdown",
   "metadata": {},
   "source": [
    "The magic function `%%R` is used for running R code in Jupyter"
   ]
  },
  {
   "cell_type": "code",
   "execution_count": 23,
   "metadata": {},
   "outputs": [],
   "source": [
    "%%R\n",
    "# Install required packages\n",
    "if (require(\"dplyr\") == FALSE) {\n",
    "  install.packages(\"dplyr\")\n",
    "  library(dplyr)\n",
    "}\n",
    "if (require(\"zoo\") == FALSE) {\n",
    "  install.packages(\"zoo\")\n",
    "  library(zoo)\n",
    "}\n",
    "if (require(\"psych\") == FALSE) {\n",
    "  install.packages(\"psych\")\n",
    "  library(psych)\n",
    "}\n",
    "if (require(\"TSA\") == FALSE) {\n",
    "  install.packages(\"TSA\")\n",
    "  library(TSA)\n",
    "}\n",
    "if (require(\"forecast\") == FALSE) {\n",
    "  install.packages(\"forecast\")\n",
    "  library(forecast)\n",
    "}\n",
    "if (require(\"Metrics\") == FALSE) {\n",
    "  install.packages(\"Metrics\")\n",
    "  library(Metrics)\n",
    "}\n",
    "if (require(\"ggplot2\") == FALSE) {\n",
    "  install.packages(\"ggplot2\")\n",
    "  library(ggplot2)\n",
    "}\n",
    "if (require(\"vars\") == FALSE) {\n",
    "  install.packages(\"vars\")\n",
    "  library(vars)\n",
    "}\n",
    "if (require(\"svars\") == FALSE) {\n",
    "  install.packages(\"svars\")\n",
    "  library(svars)\n",
    "}\n",
    "if (require(\"tsDyn\") == FALSE) {\n",
    "  install.packages(\"tsDyn\")\n",
    "  library(tsDyn)\n",
    "}\n"
   ]
  },
  {
   "cell_type": "code",
   "execution_count": 24,
   "metadata": {},
   "outputs": [],
   "source": [
    "%%R\n",
    "# Load data\n",
    "hub_prices <- list(\n",
    "  nbp = read.csv(\"../data/interpolated/nbp_close_interpolated.csv\"),\n",
    "  peg = read.csv(\"../data/interpolated/peg_close_interpolated.csv\"),\n",
    "  the = read.csv(\"../data/interpolated/the_close_interpolated.csv\"),\n",
    "  ttf = read.csv(\"../data/interpolated/ttf_close_interpolated.csv\"),\n",
    "  ztp = read.csv(\"../data/interpolated/ztp_close_interpolated.csv\")\n",
    ")"
   ]
  },
  {
   "cell_type": "code",
   "execution_count": 25,
   "metadata": {},
   "outputs": [],
   "source": [
    "%%R\n",
    "\n",
    "naive_predictions <- function(hub1_name, horizon, window_size, verbose = TRUE, save = TRUE) {\n",
    "\n",
    "hub1 <- hub_prices[[hub1_name]]\n",
    "hubs <- data.frame(hub1 = hub1$CLOSE)\n",
    "\n",
    "train_size <- nrow(hubs) - horizon - window_size\n",
    "hub_train <- hubs[1:train_size+1, ]\n",
    "\n",
    "hubs_lag <- lag(hubs, window_size)\n",
    "\n",
    "\n",
    "hubs_prediction <- tail(hubs_lag, n = horizon)\n",
    "hubs_actual <- tail(hubs, n = horizon)\n",
    "\n",
    "\n",
    "if (verbose) {\n",
    "\n",
    "  hub1_naive_predictions <- hubs_prediction$hub1\n",
    "  hub1_naive_actuals <- hubs_actual$hub1\n",
    "  hub1_naive_mae <- mae(hub1_naive_actuals, hub1_naive_predictions)\n",
    "  hub1_naive_rmse <- rmse(hub1_naive_actuals, hub1_naive_predictions)\n",
    "  print(paste0(hub1_name, \": Mean Absolute Error: \", hub1_naive_mae))\n",
    "  print(paste0(hub1_name, \": Mean Squared Error: \", hub1_naive_rmse))\n",
    "}\n",
    "if (save) {\n",
    "    naive_predictions <- hubs_prediction\n",
    "    naive_actuals <- hubs_actual\n",
    "    colnames(naive_predictions) <- c(hub1_name)\n",
    "    colnames(naive_actuals) <- c(hub1_name)\n",
    "    prediction_dates = tail(hub1$Date, horizon)\n",
    "    naive_predictions <- cbind(data.frame(Date = prediction_dates), naive_predictions)\n",
    "    naive_actuals <- cbind(data.frame(Date = prediction_dates), naive_actuals)\n",
    "    write.csv(naive_predictions, paste0(\"../predictions/test/predictions/\",hub1_name, \"_h\", horizon, \"_w\", window_size, \"_naive_predictions.csv\"), row.names = FALSE)\n",
    "}\n",
    "\n",
    "}"
   ]
  },
  {
   "cell_type": "code",
   "execution_count": 30,
   "metadata": {},
   "outputs": [
    {
     "name": "stdout",
     "output_type": "stream",
     "text": [
      "[1] \"the: Mean Absolute Error: 2.13075466666667\"\n"
     ]
    },
    {
     "name": "stdout",
     "output_type": "stream",
     "text": [
      "[1] \"the: Mean Squared Error: 2.94050043911652\"\n"
     ]
    }
   ],
   "source": [
    "%%R\n",
    "hub1_name <- \"the\"\n",
    "window_size <- 5\n",
    "horizon <- 250\n",
    "\n",
    "naive_predictions(hub1_name, horizon, window_size, verbose = TRUE, save = TRUE)"
   ]
  },
  {
   "cell_type": "code",
   "execution_count": 31,
   "metadata": {},
   "outputs": [],
   "source": [
    "%%R\n",
    "hubs <- c(\"ttf\", \"the\", \"nbp\")\n",
    "window_sizes <- c(1, 2, 5, 10)\n",
    "horizon <- 250\n",
    "\n",
    "for (hub in hubs) {\n",
    "  for (window_size in window_sizes) {\n",
    "    naive_predictions(hub, horizon, window_size, verbose = FALSE, save = TRUE)\n",
    "  }\n",
    "}"
   ]
  },
  {
   "cell_type": "code",
   "execution_count": 28,
   "metadata": {},
   "outputs": [
    {
     "name": "stderr",
     "output_type": "stream",
     "text": [
      "UsageError: %%R is a cell magic, but the cell body is empty. Did you mean the line magic %R (single %)?\n"
     ]
    }
   ],
   "source": [
    "%%R\n"
   ]
  }
 ],
 "metadata": {
  "kernelspec": {
   "display_name": "Python 3",
   "language": "python",
   "name": "python3"
  },
  "language_info": {
   "codemirror_mode": {
    "name": "ipython",
    "version": 3
   },
   "file_extension": ".py",
   "mimetype": "text/x-python",
   "name": "python",
   "nbconvert_exporter": "python",
   "pygments_lexer": "ipython3",
   "version": "3.11.9"
  }
 },
 "nbformat": 4,
 "nbformat_minor": 2
}
