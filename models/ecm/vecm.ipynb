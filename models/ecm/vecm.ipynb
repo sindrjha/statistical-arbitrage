{
 "cells": [
  {
   "cell_type": "markdown",
   "metadata": {},
   "source": [
    "# Statistical models in R\n",
    "This notebook is covering:\n",
    "1. Data preprocessing:\n",
    "    1. Aligning all dataframe to 5-day week from 2018-10-01 to 2024-08-30.\n",
    "    2. Interpolating missing values.\n",
    "2. ARMA-models."
   ]
  },
  {
   "cell_type": "code",
   "execution_count": 1,
   "metadata": {},
   "outputs": [],
   "source": [
    "import pandas as pd\n",
    "import plotly.express as px\n",
    "import plotly.graph_objs as go"
   ]
  },
  {
   "cell_type": "code",
   "execution_count": 2,
   "metadata": {},
   "outputs": [
    {
     "name": "stdout",
     "output_type": "stream",
     "text": [
      "Requirement already satisfied: rpy2 in /Users/sindrehaugland/Documents/Master/statistical-arbitrage/.conda/lib/python3.11/site-packages (3.5.16)\n",
      "Requirement already satisfied: cffi>=1.15.1 in /Users/sindrehaugland/Documents/Master/statistical-arbitrage/.conda/lib/python3.11/site-packages (from rpy2) (1.17.1)\n",
      "Requirement already satisfied: jinja2 in /Users/sindrehaugland/Documents/Master/statistical-arbitrage/.conda/lib/python3.11/site-packages (from rpy2) (3.1.4)\n",
      "Requirement already satisfied: tzlocal in /Users/sindrehaugland/Documents/Master/statistical-arbitrage/.conda/lib/python3.11/site-packages (from rpy2) (5.2)\n",
      "Requirement already satisfied: pycparser in /Users/sindrehaugland/Documents/Master/statistical-arbitrage/.conda/lib/python3.11/site-packages (from cffi>=1.15.1->rpy2) (2.22)\n",
      "Requirement already satisfied: MarkupSafe>=2.0 in /Users/sindrehaugland/Documents/Master/statistical-arbitrage/.conda/lib/python3.11/site-packages (from jinja2->rpy2) (2.1.5)\n",
      "Note: you may need to restart the kernel to use updated packages.\n"
     ]
    }
   ],
   "source": [
    "# rpy2 is a Python package that allows you to run R code from Python\n",
    "%pip install rpy2"
   ]
  },
  {
   "cell_type": "code",
   "execution_count": 3,
   "metadata": {},
   "outputs": [],
   "source": [
    "# Load the rpy2 extension to use R in Jupyter\n",
    "%load_ext rpy2.ipython"
   ]
  },
  {
   "cell_type": "markdown",
   "metadata": {},
   "source": [
    "The magic function `%%R` is used for running R code in Jupyter"
   ]
  },
  {
   "cell_type": "code",
   "execution_count": 4,
   "metadata": {},
   "outputs": [
    {
     "data": {
      "text/plain": [
       "Loading required package: dplyr\n",
       "\n",
       "Attaching package: ‘dplyr’\n",
       "\n",
       "The following objects are masked from ‘package:stats’:\n",
       "\n",
       "    filter, lag\n",
       "\n",
       "The following objects are masked from ‘package:base’:\n",
       "\n",
       "    intersect, setdiff, setequal, union\n",
       "\n",
       "Loading required package: zoo\n",
       "\n",
       "Attaching package: ‘zoo’\n",
       "\n",
       "The following objects are masked from ‘package:base’:\n",
       "\n",
       "    as.Date, as.Date.numeric\n",
       "\n",
       "Loading required package: psych\n",
       "Loading required package: TSA\n",
       "\n",
       "Attaching package: ‘TSA’\n",
       "\n",
       "The following objects are masked from ‘package:stats’:\n",
       "\n",
       "    acf, arima\n",
       "\n",
       "The following object is masked from ‘package:utils’:\n",
       "\n",
       "    tar\n",
       "\n",
       "Loading required package: forecast\n",
       "Registered S3 method overwritten by 'quantmod':\n",
       "  method            from\n",
       "  as.zoo.data.frame zoo \n",
       "Registered S3 methods overwritten by 'forecast':\n",
       "  method       from\n",
       "  fitted.Arima TSA \n",
       "  plot.Arima   TSA \n",
       "Loading required package: Metrics\n",
       "\n",
       "Attaching package: ‘Metrics’\n",
       "\n",
       "The following object is masked from ‘package:forecast’:\n",
       "\n",
       "    accuracy\n",
       "\n",
       "Loading required package: ggplot2\n",
       "\n",
       "Attaching package: ‘ggplot2’\n",
       "\n",
       "The following objects are masked from ‘package:psych’:\n",
       "\n",
       "    %+%, alpha\n",
       "\n",
       "Loading required package: vars\n",
       "Loading required package: MASS\n",
       "\n",
       "Attaching package: ‘MASS’\n",
       "\n",
       "The following object is masked from ‘package:dplyr’:\n",
       "\n",
       "    select\n",
       "\n",
       "Loading required package: strucchange\n",
       "Loading required package: sandwich\n",
       "Loading required package: urca\n",
       "Loading required package: lmtest\n",
       "Loading required package: svars\n",
       "Registered S3 method overwritten by 'svars':\n",
       "  method           from\n",
       "  stability.varest vars\n",
       "Loading required package: tsDyn\n",
       "\n",
       "Attaching package: ‘tsDyn’\n",
       "\n",
       "The following object is masked from ‘package:Metrics’:\n",
       "\n",
       "    mse\n",
       "\n"
      ]
     },
     "metadata": {},
     "output_type": "display_data"
    }
   ],
   "source": [
    "%%R\n",
    "# Install required packages\n",
    "if (require(\"dplyr\") == FALSE) {\n",
    "  install.packages(\"dplyr\")\n",
    "  library(dplyr)\n",
    "}\n",
    "if (require(\"zoo\") == FALSE) {\n",
    "  install.packages(\"zoo\")\n",
    "  library(zoo)\n",
    "}\n",
    "if (require(\"psych\") == FALSE) {\n",
    "  install.packages(\"psych\")\n",
    "  library(psych)\n",
    "}\n",
    "if (require(\"TSA\") == FALSE) {\n",
    "  install.packages(\"TSA\")\n",
    "  library(TSA)\n",
    "}\n",
    "if (require(\"forecast\") == FALSE) {\n",
    "  install.packages(\"forecast\")\n",
    "  library(forecast)\n",
    "}\n",
    "if (require(\"Metrics\") == FALSE) {\n",
    "  install.packages(\"Metrics\")\n",
    "  library(Metrics)\n",
    "}\n",
    "if (require(\"ggplot2\") == FALSE) {\n",
    "  install.packages(\"ggplot2\")\n",
    "  library(ggplot2)\n",
    "}\n",
    "if (require(\"vars\") == FALSE) {\n",
    "  install.packages(\"vars\")\n",
    "  library(vars)\n",
    "}\n",
    "if (require(\"svars\") == FALSE) {\n",
    "  install.packages(\"svars\")\n",
    "  library(svars)\n",
    "}\n",
    "if (require(\"tsDyn\") == FALSE) {\n",
    "  install.packages(\"tsDyn\")\n",
    "  library(tsDyn)\n",
    "}\n"
   ]
  },
  {
   "cell_type": "code",
   "execution_count": 5,
   "metadata": {},
   "outputs": [],
   "source": [
    "%%R\n",
    "# Load data\n",
    "hub_prices <- list(\n",
    "  nbp = read.csv(\"../../data/interpolated/nbp_close_interpolated.csv\"),\n",
    "  peg = read.csv(\"../../data/interpolated/peg_close_interpolated.csv\"),\n",
    "  the = read.csv(\"../../data/interpolated/the_close_interpolated.csv\"),\n",
    "  ttf = read.csv(\"../../data/interpolated/ttf_close_interpolated.csv\"),\n",
    "  ztp = read.csv(\"../../data/interpolated/ztp_close_interpolated.csv\")\n",
    ")"
   ]
  },
  {
   "cell_type": "code",
   "execution_count": 6,
   "metadata": {},
   "outputs": [],
   "source": [
    "%%R\n",
    "# Load the prices processed pricing data for each hub\n",
    "nbp_price <- hub_prices$nbp\n",
    "peg_price <- hub_prices$peg\n",
    "the_price <- hub_prices$the\n",
    "ttf_price <- hub_prices$ttf\n",
    "ztp_price <- hub_prices$ztp"
   ]
  },
  {
   "cell_type": "code",
   "execution_count": 7,
   "metadata": {},
   "outputs": [
    {
     "name": "stdout",
     "output_type": "stream",
     "text": [
      "SC(n) \n",
      "    5 \n"
     ]
    }
   ],
   "source": [
    "%%R\n",
    "hub1 <- the_price\n",
    "hub2 <- nbp_price\n",
    "\n",
    "hubs <- data.frame(hub1 = hub1$CLOSE, hub2 = hub2$CLOSE)\n",
    "var_p <- VAR(hubs, type = \"const\", lag.max = 20, ic = \"SC\")\n",
    "\n",
    "var_p$p"
   ]
  },
  {
   "cell_type": "code",
   "execution_count": 8,
   "metadata": {},
   "outputs": [],
   "source": [
    "%%R\n",
    "vecm_predictions <- function(hubs, window_size = 5, horizon = 250) {\n",
    "  \n",
    "  # Initialize empty data frames for storing predictions and actual values\n",
    "  predictions <- data.frame(matrix(ncol = ncol(hubs), nrow = 0))\n",
    "  actuals <- data.frame(matrix(ncol = ncol(hubs), nrow = 0))\n",
    "  \n",
    "  colnames(predictions) <- colnames(hubs)\n",
    "  colnames(actuals) <- colnames(hubs)\n",
    "  \n",
    "  for (i in 1:horizon) {\n",
    "    train_size <- nrow(hubs) - horizon - window_size + i\n",
    "    hub_train <- hubs[1:train_size, ]\n",
    "    \n",
    "    # Fit the VECM model\n",
    "    vecm <- VECM(hub_train, lag = 2, r = 1, include = \"both\", estim = \"ML\")\n",
    "    \n",
    "    # Predict the future values\n",
    "    hub_forecast <- predict(vecm, n.ahead = window_size)\n",
    "    \n",
    "    hub_prediction <- hub_forecast[window_size, , drop = FALSE]\n",
    "    \n",
    "    hub_actual <- hubs[train_size + window_size, ]\n",
    "    \n",
    "    predictions <- rbind(predictions, hub_prediction)\n",
    "    actuals <- rbind(actuals, hub_actual)\n",
    "  }\n",
    "  \n",
    "  # Return both data frames as a list\n",
    "  return(list(predictions = predictions, actuals = actuals))\n",
    "}\n",
    "  "
   ]
  },
  {
   "cell_type": "code",
   "execution_count": 9,
   "metadata": {},
   "outputs": [
    {
     "name": "stdout",
     "output_type": "stream",
     "text": [
      "[1] \"Hub1: Mean Absolute Error: 2.0670589525671\"\n",
      "[1] \"Hub1: Root Mean Squared Error: 2.71339321109405\"\n",
      "[1] \"Hub2: Mean Absolute Error: 2.18863991694114\"\n",
      "[1] \"Hub2: Root Mean Squared Error: 2.95114231020944\"\n"
     ]
    }
   ],
   "source": [
    "%%R\n",
    "vecm_output <- vecm_predictions(hubs, window_size = 5, horizon = 250)\n",
    "hub1_predictions <- vecm_output$predictions$hub1\n",
    "hub1_actuals <- vecm_output$actuals$hub1\n",
    "hub2_predictions <- vecm_output$predictions$hub2\n",
    "hub2_actuals <- vecm_output$actuals$hub2\n",
    "\n",
    "hub1_mae <- mae(hub1_actuals, hub1_predictions)\n",
    "hub2_mae <- mae(hub2_actuals, hub2_predictions)\n",
    "\n",
    "hub1_rmse <- rmse(hub1_actuals, hub1_predictions)\n",
    "hub2_rmse <- rmse(hub2_actuals, hub2_predictions)\n",
    "\n",
    "print(paste0(\"Hub1: Mean Absolute Error: \", hub1_mae))\n",
    "print(paste0(\"Hub1: Root Mean Squared Error: \", hub1_rmse))\n",
    "\n",
    "print(paste0(\"Hub2: Mean Absolute Error: \", hub2_mae))\n",
    "print(paste0(\"Hub2: Root Mean Squared Error: \", hub2_rmse))"
   ]
  },
  {
   "cell_type": "code",
   "execution_count": 10,
   "metadata": {},
   "outputs": [],
   "source": [
    "%%R\n",
    "hub1_forecast_comparison <- data.frame(\n",
    "  Actual = hub1_actuals,\n",
    "  Forecasted = hub1_predictions\n",
    ")"
   ]
  },
  {
   "cell_type": "code",
   "execution_count": 11,
   "metadata": {},
   "outputs": [
    {
     "data": {
      "application/vnd.plotly.v1+json": {
       "config": {
        "plotlyServerURL": "https://plot.ly"
       },
       "data": [
        {
         "mode": "lines",
         "name": "Actual Prices",
         "type": "scatter",
         "x": [
          "1",
          "2",
          "3",
          "4",
          "5",
          "6",
          "7",
          "8",
          "9",
          "10",
          "11",
          "12",
          "13",
          "14",
          "15",
          "16",
          "17",
          "18",
          "19",
          "20",
          "21",
          "22",
          "23",
          "24",
          "25",
          "26",
          "27",
          "28",
          "29",
          "30",
          "31",
          "32",
          "33",
          "34",
          "35",
          "36",
          "37",
          "38",
          "39",
          "40",
          "41",
          "42",
          "43",
          "44",
          "45",
          "46",
          "47",
          "48",
          "49",
          "50",
          "51",
          "52",
          "53",
          "54",
          "55",
          "56",
          "57",
          "58",
          "59",
          "60",
          "61",
          "62",
          "63",
          "64",
          "65",
          "66",
          "67",
          "68",
          "69",
          "70",
          "71",
          "72",
          "73",
          "74",
          "75",
          "76",
          "77",
          "78",
          "79",
          "80",
          "81",
          "82",
          "83",
          "84",
          "85",
          "86",
          "87",
          "88",
          "89",
          "90",
          "91",
          "92",
          "93",
          "94",
          "95",
          "96",
          "97",
          "98",
          "99",
          "100",
          "101",
          "102",
          "103",
          "104",
          "105",
          "106",
          "107",
          "108",
          "109",
          "110",
          "111",
          "112",
          "113",
          "114",
          "115",
          "116",
          "117",
          "118",
          "119",
          "120",
          "121",
          "122",
          "123",
          "124",
          "125",
          "126",
          "127",
          "128",
          "129",
          "130",
          "131",
          "132",
          "133",
          "134",
          "135",
          "136",
          "137",
          "138",
          "139",
          "140",
          "141",
          "142",
          "143",
          "144",
          "145",
          "146",
          "147",
          "148",
          "149",
          "150",
          "151",
          "152",
          "153",
          "154",
          "155",
          "156",
          "157",
          "158",
          "159",
          "160",
          "161",
          "162",
          "163",
          "164",
          "165",
          "166",
          "167",
          "168",
          "169",
          "170",
          "171",
          "172",
          "173",
          "174",
          "175",
          "176",
          "177",
          "178",
          "179",
          "180",
          "181",
          "182",
          "183",
          "184",
          "185",
          "186",
          "187",
          "188",
          "189",
          "190",
          "191",
          "192",
          "193",
          "194",
          "195",
          "196",
          "197",
          "198",
          "199",
          "200",
          "201",
          "202",
          "203",
          "204",
          "205",
          "206",
          "207",
          "208",
          "209",
          "210",
          "211",
          "212",
          "213",
          "214",
          "215",
          "216",
          "217",
          "218",
          "219",
          "220",
          "221",
          "222",
          "223",
          "224",
          "225",
          "226",
          "227",
          "228",
          "229",
          "230",
          "231",
          "232",
          "233",
          "234",
          "235",
          "236",
          "237",
          "238",
          "239",
          "240",
          "241",
          "242",
          "243",
          "244",
          "245",
          "246",
          "247",
          "248",
          "249",
          "250"
         ],
         "y": [
          42.753,
          44.069,
          43.462,
          44.531,
          44.902,
          48.254,
          44.49,
          43.685,
          48.697,
          48.057,
          46.578,
          44.781,
          45.73,
          44.633,
          45.869,
          49.677,
          53.954,
          51.543,
          56.704,
          57.981,
          54.642,
          55.142,
          57.177,
          57.43,
          58.032,
          58.365,
          55.62,
          54.894,
          55.407,
          55.238,
          55.486,
          50.42,
          50.237,
          51.215,
          50.923,
          47.409,
          48.095,
          47.877,
          50.318,
          48.919,
          49.722,
          49.899,
          49.134,
          47.972,
          47.17,
          47.566,
          46.006,
          46.129,
          48.357,
          48.31,
          45.667,
          44.348,
          42.089,
          42.965,
          44.273,
          41.023,
          39.088,
          40.224,
          40.817,
          39.469,
          37.06,
          35.676,
          36.879,
          35.782,
          34.211,
          36.423,
          33.682,
          34.451,
          35.068,
          35.32,
          35.6976666666667,
          36.0753333333333,
          36.453,
          33.99,
          32.392,
          31.7185,
          31.045,
          32.755,
          33.843,
          34.695,
          32.052,
          31.083,
          31.285,
          31.301,
          31.301,
          30.457,
          30.238,
          28.277,
          28.7,
          29.314,
          28.43,
          28.678,
          30.073,
          29,
          29.298,
          29.373,
          30.48,
          31.06,
          30.117,
          30.094,
          29.137,
          29.278,
          28.825,
          28.446,
          27.812,
          26.571,
          26.211,
          25.595,
          25.641,
          25.529,
          24.405,
          24.854,
          24.598,
          23.886,
          23.59,
          24.531,
          24.955,
          26.04,
          25.33,
          26.038,
          27.211,
          27.781,
          26.948,
          26.279,
          26.658,
          25.356,
          25.212,
          25.233,
          26.38,
          27.325,
          29.137,
          29.173,
          27.984,
          26.739,
          27.946,
          28.774,
          27.807,
          28.317,
          28.071,
          27.744,
          27.417,
          27.09,
          26.431,
          27.069,
          27.549,
          28.912,
          28.39,
          28.085,
          30.395,
          31.615,
          31.876,
          33.883,
          31.879,
          32.969,
          31.424,
          30.101,
          29.216,
          29.739,
          30.4,
          29.588,
          28.679,
          29.728,
          30.5855,
          31.443,
          31.198,
          32.31,
          31.602,
          31.291,
          31.51,
          30.692,
          30.259,
          30.485,
          30.5,
          30.992,
          31.591,
          32.579,
          33.833,
          35.22,
          36.239,
          34.929,
          35.954,
          34.452,
          34.806,
          35.786,
          34.806,
          36.368,
          34.252,
          33.743,
          34.076,
          33.485,
          34.659,
          34.745,
          35.723,
          36.216,
          35.959,
          34.768,
          35.243,
          35.89,
          35.108,
          34.551,
          34.634,
          35.452,
          34.427,
          38.898,
          38.734,
          38.165,
          38.643,
          37.829,
          38.118,
          37.896,
          37.321,
          36.355,
          35.889,
          36.309,
          37.011,
          36.388,
          37.45,
          36.641,
          37.168,
          36.882,
          36.496,
          36.392,
          37.281,
          36.655,
          37.066,
          38.216,
          38.5,
          39.113,
          40.143,
          39.929,
          38.817,
          39.592,
          41.208,
          42.769,
          43.247,
          42.761,
          42.667,
          42.25,
          42.799,
          42.947,
          42.799,
          40.868,
          39.973,
          39.54,
          39.851,
          40.554,
          41.292,
          41.229,
          40.834,
          41.583
         ]
        },
        {
         "mode": "lines",
         "name": "Forecasted Prices",
         "type": "scatter",
         "x": [
          "1",
          "2",
          "3",
          "4",
          "5",
          "6",
          "7",
          "8",
          "9",
          "10",
          "11",
          "12",
          "13",
          "14",
          "15",
          "16",
          "17",
          "18",
          "19",
          "20",
          "21",
          "22",
          "23",
          "24",
          "25",
          "26",
          "27",
          "28",
          "29",
          "30",
          "31",
          "32",
          "33",
          "34",
          "35",
          "36",
          "37",
          "38",
          "39",
          "40",
          "41",
          "42",
          "43",
          "44",
          "45",
          "46",
          "47",
          "48",
          "49",
          "50",
          "51",
          "52",
          "53",
          "54",
          "55",
          "56",
          "57",
          "58",
          "59",
          "60",
          "61",
          "62",
          "63",
          "64",
          "65",
          "66",
          "67",
          "68",
          "69",
          "70",
          "71",
          "72",
          "73",
          "74",
          "75",
          "76",
          "77",
          "78",
          "79",
          "80",
          "81",
          "82",
          "83",
          "84",
          "85",
          "86",
          "87",
          "88",
          "89",
          "90",
          "91",
          "92",
          "93",
          "94",
          "95",
          "96",
          "97",
          "98",
          "99",
          "100",
          "101",
          "102",
          "103",
          "104",
          "105",
          "106",
          "107",
          "108",
          "109",
          "110",
          "111",
          "112",
          "113",
          "114",
          "115",
          "116",
          "117",
          "118",
          "119",
          "120",
          "121",
          "122",
          "123",
          "124",
          "125",
          "126",
          "127",
          "128",
          "129",
          "130",
          "131",
          "132",
          "133",
          "134",
          "135",
          "136",
          "137",
          "138",
          "139",
          "140",
          "141",
          "142",
          "143",
          "144",
          "145",
          "146",
          "147",
          "148",
          "149",
          "150",
          "151",
          "152",
          "153",
          "154",
          "155",
          "156",
          "157",
          "158",
          "159",
          "160",
          "161",
          "162",
          "163",
          "164",
          "165",
          "166",
          "167",
          "168",
          "169",
          "170",
          "171",
          "172",
          "173",
          "174",
          "175",
          "176",
          "177",
          "178",
          "179",
          "180",
          "181",
          "182",
          "183",
          "184",
          "185",
          "186",
          "187",
          "188",
          "189",
          "190",
          "191",
          "192",
          "193",
          "194",
          "195",
          "196",
          "197",
          "198",
          "199",
          "200",
          "201",
          "202",
          "203",
          "204",
          "205",
          "206",
          "207",
          "208",
          "209",
          "210",
          "211",
          "212",
          "213",
          "214",
          "215",
          "216",
          "217",
          "218",
          "219",
          "220",
          "221",
          "222",
          "223",
          "224",
          "225",
          "226",
          "227",
          "228",
          "229",
          "230",
          "231",
          "232",
          "233",
          "234",
          "235",
          "236",
          "237",
          "238",
          "239",
          "240",
          "241",
          "242",
          "243",
          "244",
          "245",
          "246",
          "247",
          "248",
          "249",
          "250"
         ],
         "y": [
          44.337421272244754,
          43.589721334532065,
          45.50355938596318,
          44.02618578370959,
          44.69978416689151,
          42.81753531183929,
          44.36177289363545,
          43.118568768735905,
          44.50977365885774,
          44.695615708027596,
          48.125783578267566,
          43.81180156840153,
          44.16424877309964,
          49.6797448941142,
          47.275147553026244,
          46.78884903842605,
          45.20637488121577,
          46.13154624825765,
          44.77906623740212,
          46.24370071621785,
          49.45323977785242,
          53.22286347971102,
          50.802898219946776,
          56.94700391486888,
          57.09582749459951,
          54.636167346788234,
          55.82248427324305,
          57.32418441028979,
          57.455416148143826,
          58.15677852203936,
          58.42041397800143,
          55.46496496663506,
          55.07990434466308,
          55.42122780336815,
          55.12595804560215,
          55.40428672403515,
          49.53731378373459,
          50.63312955696625,
          51.07542840265379,
          50.58787409277787,
          47.1410705402312,
          48.371746859813996,
          47.551270927699115,
          50.24601490507841,
          48.37789202030332,
          49.760800898031846,
          49.651948102118894,
          48.88606816610069,
          47.84666231623359,
          47.12758496993056,
          47.410721367670334,
          45.64988835855024,
          46.094587290561435,
          48.084412102342526,
          47.669730721545534,
          45.35166219912532,
          44.44634826593255,
          41.99003080942645,
          42.92797651953471,
          43.86576959289935,
          40.49283743033663,
          39.28090671923554,
          40.30975876358177,
          40.42083643984174,
          39.06877125612911,
          36.96827850244099,
          35.78240810433363,
          36.93735664596515,
          35.38100480123377,
          34.12679369147281,
          36.52618382714041,
          33.14502163273078,
          34.68576921997642,
          34.7671882267741,
          35.09163690752128,
          35.47467279862543,
          35.80027538565706,
          36.16199437047443,
          33.64724798071191,
          32.40932884653357,
          31.710742088701956,
          30.945292247951016,
          32.63280051321612,
          33.407662372303605,
          34.26462144998796,
          31.65296339046872,
          31.229128796370496,
          31.210877169763375,
          31.075945295570794,
          30.885583465078945,
          30.335297087223665,
          30.21462224875504,
          28.055454525221506,
          28.86189553587767,
          29.1333374704151,
          28.191223820698088,
          28.719481736887666,
          29.89144183843887,
          28.588432215234107,
          29.29965516556194,
          29.162863449856225,
          30.293777504464984,
          30.73123393795644,
          29.863847709201572,
          30.066606947120462,
          28.929797852052236,
          29.20663654021207,
          28.590104225713393,
          28.29736822649728,
          27.671932764339576,
          26.478699459680655,
          26.180675631609596,
          25.42967193474323,
          25.555835651346392,
          25.358091944781574,
          24.205672297014782,
          24.840705980454654,
          24.312127249906045,
          23.695941717147882,
          23.49146332935663,
          24.390980026705186,
          24.608313171717494,
          25.75887627809585,
          24.954285010847425,
          25.910315770686694,
          26.88844639200815,
          27.38305310260096,
          26.608386525640434,
          26.10392933526043,
          26.51911241863864,
          25.031189499348702,
          25.13776128467669,
          25.019029416347212,
          26.16969949106278,
          26.92985917272078,
          28.75119501429742,
          28.59938180709171,
          27.60446197037764,
          26.57042935159871,
          27.85976111943934,
          28.342592612199073,
          27.479363027437863,
          28.316730591138306,
          27.803114535265973,
          27.578530903421377,
          27.27123152811319,
          26.9528954064891,
          26.26380667399396,
          26.989964944214776,
          27.279312573574813,
          28.6819938165778,
          27.985951018545755,
          27.9518379515348,
          30.267720321220665,
          31.115117253234555,
          31.4590232824964,
          33.65303306271204,
          31.271248941870905,
          33.019931275093334,
          30.981195616871585,
          30.057370312546432,
          29.17553417294278,
          29.651960922574037,
          30.097428748719246,
          29.256762226917612,
          28.582778366324696,
          29.692515787333996,
          30.50279610491909,
          31.06446821113406,
          30.84892211412641,
          32.33590246565731,
          31.156776518423516,
          31.173596525920242,
          31.365721759976896,
          30.466509056101692,
          30.203848101276172,
          30.395294658613818,
          30.29331959908218,
          30.84393077727844,
          31.3733784744395,
          32.35387176821676,
          33.57273440819278,
          34.93185310144839,
          35.88556494241859,
          34.55859813651245,
          36.19420821732822,
          33.987258337353005,
          34.81039342149829,
          35.56977025043594,
          34.45536906229118,
          36.29071996509635,
          33.8032553573091,
          33.85188371912508,
          33.95843485290373,
          33.253625045978474,
          34.58888700301686,
          34.39993560847843,
          35.54576915589379,
          35.92398512074933,
          35.74539087531009,
          34.59927433393623,
          35.27784153932124,
          35.699996231113396,
          34.86864641990147,
          34.49908104019204,
          34.554592882085316,
          35.31036936817608,
          34.13502184390008,
          39.64303083897481,
          38.2198473701747,
          38.30533574582218,
          38.88007436049802,
          37.87434951876918,
          38.2867000596625,
          37.910090978473114,
          37.46007739232564,
          36.502598159222686,
          36.11695518387858,
          36.48966844868843,
          37.10698949325868,
          36.34443910689082,
          37.57302937101866,
          36.53548431289088,
          37.3255406952527,
          36.8729002402197,
          36.584684480492164,
          36.525161245523954,
          37.3676483546122,
          36.58024559485276,
          37.18046239444412,
          38.162989379882774,
          38.34666048057992,
          38.78636873393941,
          39.90411319778696,
          39.68737753693672,
          38.74073904020829,
          39.63741514232154,
          41.01320419636728,
          42.45235220440395,
          42.947164593007265,
          42.60510215924944,
          42.66287926262063,
          42.23278952319258,
          42.78705311447507,
          42.820492369469896,
          42.63797735981564,
          40.71116089300169,
          40.15181052489161,
          39.565852597476834,
          39.81171875525833
         ]
        }
       ],
       "layout": {
        "template": {
         "data": {
          "bar": [
           {
            "error_x": {
             "color": "#2a3f5f"
            },
            "error_y": {
             "color": "#2a3f5f"
            },
            "marker": {
             "line": {
              "color": "#E5ECF6",
              "width": 0.5
             },
             "pattern": {
              "fillmode": "overlay",
              "size": 10,
              "solidity": 0.2
             }
            },
            "type": "bar"
           }
          ],
          "barpolar": [
           {
            "marker": {
             "line": {
              "color": "#E5ECF6",
              "width": 0.5
             },
             "pattern": {
              "fillmode": "overlay",
              "size": 10,
              "solidity": 0.2
             }
            },
            "type": "barpolar"
           }
          ],
          "carpet": [
           {
            "aaxis": {
             "endlinecolor": "#2a3f5f",
             "gridcolor": "white",
             "linecolor": "white",
             "minorgridcolor": "white",
             "startlinecolor": "#2a3f5f"
            },
            "baxis": {
             "endlinecolor": "#2a3f5f",
             "gridcolor": "white",
             "linecolor": "white",
             "minorgridcolor": "white",
             "startlinecolor": "#2a3f5f"
            },
            "type": "carpet"
           }
          ],
          "choropleth": [
           {
            "colorbar": {
             "outlinewidth": 0,
             "ticks": ""
            },
            "type": "choropleth"
           }
          ],
          "contour": [
           {
            "colorbar": {
             "outlinewidth": 0,
             "ticks": ""
            },
            "colorscale": [
             [
              0,
              "#0d0887"
             ],
             [
              0.1111111111111111,
              "#46039f"
             ],
             [
              0.2222222222222222,
              "#7201a8"
             ],
             [
              0.3333333333333333,
              "#9c179e"
             ],
             [
              0.4444444444444444,
              "#bd3786"
             ],
             [
              0.5555555555555556,
              "#d8576b"
             ],
             [
              0.6666666666666666,
              "#ed7953"
             ],
             [
              0.7777777777777778,
              "#fb9f3a"
             ],
             [
              0.8888888888888888,
              "#fdca26"
             ],
             [
              1,
              "#f0f921"
             ]
            ],
            "type": "contour"
           }
          ],
          "contourcarpet": [
           {
            "colorbar": {
             "outlinewidth": 0,
             "ticks": ""
            },
            "type": "contourcarpet"
           }
          ],
          "heatmap": [
           {
            "colorbar": {
             "outlinewidth": 0,
             "ticks": ""
            },
            "colorscale": [
             [
              0,
              "#0d0887"
             ],
             [
              0.1111111111111111,
              "#46039f"
             ],
             [
              0.2222222222222222,
              "#7201a8"
             ],
             [
              0.3333333333333333,
              "#9c179e"
             ],
             [
              0.4444444444444444,
              "#bd3786"
             ],
             [
              0.5555555555555556,
              "#d8576b"
             ],
             [
              0.6666666666666666,
              "#ed7953"
             ],
             [
              0.7777777777777778,
              "#fb9f3a"
             ],
             [
              0.8888888888888888,
              "#fdca26"
             ],
             [
              1,
              "#f0f921"
             ]
            ],
            "type": "heatmap"
           }
          ],
          "heatmapgl": [
           {
            "colorbar": {
             "outlinewidth": 0,
             "ticks": ""
            },
            "colorscale": [
             [
              0,
              "#0d0887"
             ],
             [
              0.1111111111111111,
              "#46039f"
             ],
             [
              0.2222222222222222,
              "#7201a8"
             ],
             [
              0.3333333333333333,
              "#9c179e"
             ],
             [
              0.4444444444444444,
              "#bd3786"
             ],
             [
              0.5555555555555556,
              "#d8576b"
             ],
             [
              0.6666666666666666,
              "#ed7953"
             ],
             [
              0.7777777777777778,
              "#fb9f3a"
             ],
             [
              0.8888888888888888,
              "#fdca26"
             ],
             [
              1,
              "#f0f921"
             ]
            ],
            "type": "heatmapgl"
           }
          ],
          "histogram": [
           {
            "marker": {
             "pattern": {
              "fillmode": "overlay",
              "size": 10,
              "solidity": 0.2
             }
            },
            "type": "histogram"
           }
          ],
          "histogram2d": [
           {
            "colorbar": {
             "outlinewidth": 0,
             "ticks": ""
            },
            "colorscale": [
             [
              0,
              "#0d0887"
             ],
             [
              0.1111111111111111,
              "#46039f"
             ],
             [
              0.2222222222222222,
              "#7201a8"
             ],
             [
              0.3333333333333333,
              "#9c179e"
             ],
             [
              0.4444444444444444,
              "#bd3786"
             ],
             [
              0.5555555555555556,
              "#d8576b"
             ],
             [
              0.6666666666666666,
              "#ed7953"
             ],
             [
              0.7777777777777778,
              "#fb9f3a"
             ],
             [
              0.8888888888888888,
              "#fdca26"
             ],
             [
              1,
              "#f0f921"
             ]
            ],
            "type": "histogram2d"
           }
          ],
          "histogram2dcontour": [
           {
            "colorbar": {
             "outlinewidth": 0,
             "ticks": ""
            },
            "colorscale": [
             [
              0,
              "#0d0887"
             ],
             [
              0.1111111111111111,
              "#46039f"
             ],
             [
              0.2222222222222222,
              "#7201a8"
             ],
             [
              0.3333333333333333,
              "#9c179e"
             ],
             [
              0.4444444444444444,
              "#bd3786"
             ],
             [
              0.5555555555555556,
              "#d8576b"
             ],
             [
              0.6666666666666666,
              "#ed7953"
             ],
             [
              0.7777777777777778,
              "#fb9f3a"
             ],
             [
              0.8888888888888888,
              "#fdca26"
             ],
             [
              1,
              "#f0f921"
             ]
            ],
            "type": "histogram2dcontour"
           }
          ],
          "mesh3d": [
           {
            "colorbar": {
             "outlinewidth": 0,
             "ticks": ""
            },
            "type": "mesh3d"
           }
          ],
          "parcoords": [
           {
            "line": {
             "colorbar": {
              "outlinewidth": 0,
              "ticks": ""
             }
            },
            "type": "parcoords"
           }
          ],
          "pie": [
           {
            "automargin": true,
            "type": "pie"
           }
          ],
          "scatter": [
           {
            "fillpattern": {
             "fillmode": "overlay",
             "size": 10,
             "solidity": 0.2
            },
            "type": "scatter"
           }
          ],
          "scatter3d": [
           {
            "line": {
             "colorbar": {
              "outlinewidth": 0,
              "ticks": ""
             }
            },
            "marker": {
             "colorbar": {
              "outlinewidth": 0,
              "ticks": ""
             }
            },
            "type": "scatter3d"
           }
          ],
          "scattercarpet": [
           {
            "marker": {
             "colorbar": {
              "outlinewidth": 0,
              "ticks": ""
             }
            },
            "type": "scattercarpet"
           }
          ],
          "scattergeo": [
           {
            "marker": {
             "colorbar": {
              "outlinewidth": 0,
              "ticks": ""
             }
            },
            "type": "scattergeo"
           }
          ],
          "scattergl": [
           {
            "marker": {
             "colorbar": {
              "outlinewidth": 0,
              "ticks": ""
             }
            },
            "type": "scattergl"
           }
          ],
          "scattermapbox": [
           {
            "marker": {
             "colorbar": {
              "outlinewidth": 0,
              "ticks": ""
             }
            },
            "type": "scattermapbox"
           }
          ],
          "scatterpolar": [
           {
            "marker": {
             "colorbar": {
              "outlinewidth": 0,
              "ticks": ""
             }
            },
            "type": "scatterpolar"
           }
          ],
          "scatterpolargl": [
           {
            "marker": {
             "colorbar": {
              "outlinewidth": 0,
              "ticks": ""
             }
            },
            "type": "scatterpolargl"
           }
          ],
          "scatterternary": [
           {
            "marker": {
             "colorbar": {
              "outlinewidth": 0,
              "ticks": ""
             }
            },
            "type": "scatterternary"
           }
          ],
          "surface": [
           {
            "colorbar": {
             "outlinewidth": 0,
             "ticks": ""
            },
            "colorscale": [
             [
              0,
              "#0d0887"
             ],
             [
              0.1111111111111111,
              "#46039f"
             ],
             [
              0.2222222222222222,
              "#7201a8"
             ],
             [
              0.3333333333333333,
              "#9c179e"
             ],
             [
              0.4444444444444444,
              "#bd3786"
             ],
             [
              0.5555555555555556,
              "#d8576b"
             ],
             [
              0.6666666666666666,
              "#ed7953"
             ],
             [
              0.7777777777777778,
              "#fb9f3a"
             ],
             [
              0.8888888888888888,
              "#fdca26"
             ],
             [
              1,
              "#f0f921"
             ]
            ],
            "type": "surface"
           }
          ],
          "table": [
           {
            "cells": {
             "fill": {
              "color": "#EBF0F8"
             },
             "line": {
              "color": "white"
             }
            },
            "header": {
             "fill": {
              "color": "#C8D4E3"
             },
             "line": {
              "color": "white"
             }
            },
            "type": "table"
           }
          ]
         },
         "layout": {
          "annotationdefaults": {
           "arrowcolor": "#2a3f5f",
           "arrowhead": 0,
           "arrowwidth": 1
          },
          "autotypenumbers": "strict",
          "coloraxis": {
           "colorbar": {
            "outlinewidth": 0,
            "ticks": ""
           }
          },
          "colorscale": {
           "diverging": [
            [
             0,
             "#8e0152"
            ],
            [
             0.1,
             "#c51b7d"
            ],
            [
             0.2,
             "#de77ae"
            ],
            [
             0.3,
             "#f1b6da"
            ],
            [
             0.4,
             "#fde0ef"
            ],
            [
             0.5,
             "#f7f7f7"
            ],
            [
             0.6,
             "#e6f5d0"
            ],
            [
             0.7,
             "#b8e186"
            ],
            [
             0.8,
             "#7fbc41"
            ],
            [
             0.9,
             "#4d9221"
            ],
            [
             1,
             "#276419"
            ]
           ],
           "sequential": [
            [
             0,
             "#0d0887"
            ],
            [
             0.1111111111111111,
             "#46039f"
            ],
            [
             0.2222222222222222,
             "#7201a8"
            ],
            [
             0.3333333333333333,
             "#9c179e"
            ],
            [
             0.4444444444444444,
             "#bd3786"
            ],
            [
             0.5555555555555556,
             "#d8576b"
            ],
            [
             0.6666666666666666,
             "#ed7953"
            ],
            [
             0.7777777777777778,
             "#fb9f3a"
            ],
            [
             0.8888888888888888,
             "#fdca26"
            ],
            [
             1,
             "#f0f921"
            ]
           ],
           "sequentialminus": [
            [
             0,
             "#0d0887"
            ],
            [
             0.1111111111111111,
             "#46039f"
            ],
            [
             0.2222222222222222,
             "#7201a8"
            ],
            [
             0.3333333333333333,
             "#9c179e"
            ],
            [
             0.4444444444444444,
             "#bd3786"
            ],
            [
             0.5555555555555556,
             "#d8576b"
            ],
            [
             0.6666666666666666,
             "#ed7953"
            ],
            [
             0.7777777777777778,
             "#fb9f3a"
            ],
            [
             0.8888888888888888,
             "#fdca26"
            ],
            [
             1,
             "#f0f921"
            ]
           ]
          },
          "colorway": [
           "#636efa",
           "#EF553B",
           "#00cc96",
           "#ab63fa",
           "#FFA15A",
           "#19d3f3",
           "#FF6692",
           "#B6E880",
           "#FF97FF",
           "#FECB52"
          ],
          "font": {
           "color": "#2a3f5f"
          },
          "geo": {
           "bgcolor": "white",
           "lakecolor": "white",
           "landcolor": "#E5ECF6",
           "showlakes": true,
           "showland": true,
           "subunitcolor": "white"
          },
          "hoverlabel": {
           "align": "left"
          },
          "hovermode": "closest",
          "mapbox": {
           "style": "light"
          },
          "paper_bgcolor": "white",
          "plot_bgcolor": "#E5ECF6",
          "polar": {
           "angularaxis": {
            "gridcolor": "white",
            "linecolor": "white",
            "ticks": ""
           },
           "bgcolor": "#E5ECF6",
           "radialaxis": {
            "gridcolor": "white",
            "linecolor": "white",
            "ticks": ""
           }
          },
          "scene": {
           "xaxis": {
            "backgroundcolor": "#E5ECF6",
            "gridcolor": "white",
            "gridwidth": 2,
            "linecolor": "white",
            "showbackground": true,
            "ticks": "",
            "zerolinecolor": "white"
           },
           "yaxis": {
            "backgroundcolor": "#E5ECF6",
            "gridcolor": "white",
            "gridwidth": 2,
            "linecolor": "white",
            "showbackground": true,
            "ticks": "",
            "zerolinecolor": "white"
           },
           "zaxis": {
            "backgroundcolor": "#E5ECF6",
            "gridcolor": "white",
            "gridwidth": 2,
            "linecolor": "white",
            "showbackground": true,
            "ticks": "",
            "zerolinecolor": "white"
           }
          },
          "shapedefaults": {
           "line": {
            "color": "#2a3f5f"
           }
          },
          "ternary": {
           "aaxis": {
            "gridcolor": "white",
            "linecolor": "white",
            "ticks": ""
           },
           "baxis": {
            "gridcolor": "white",
            "linecolor": "white",
            "ticks": ""
           },
           "bgcolor": "#E5ECF6",
           "caxis": {
            "gridcolor": "white",
            "linecolor": "white",
            "ticks": ""
           }
          },
          "title": {
           "x": 0.05
          },
          "xaxis": {
           "automargin": true,
           "gridcolor": "white",
           "linecolor": "white",
           "ticks": "",
           "title": {
            "standoff": 15
           },
           "zerolinecolor": "white",
           "zerolinewidth": 2
          },
          "yaxis": {
           "automargin": true,
           "gridcolor": "white",
           "linecolor": "white",
           "ticks": "",
           "title": {
            "standoff": 15
           },
           "zerolinecolor": "white",
           "zerolinewidth": 2
          }
         }
        },
        "title": {
         "text": "VECM Actual vs Forecasted Prices"
        },
        "xaxis": {
         "title": {
          "text": "Index"
         }
        },
        "yaxis": {
         "title": {
          "text": "Price"
         }
        }
       }
      }
     },
     "metadata": {},
     "output_type": "display_data"
    }
   ],
   "source": [
    "%R -o hub1_forecast_comparison\n",
    "\n",
    "hub1_forecast_comparison = hub1_forecast_comparison\n",
    "\n",
    "actual_trace = go.Scatter(\n",
    "    x=hub1_forecast_comparison.index,\n",
    "    y=hub1_forecast_comparison['Actual'],\n",
    "    mode='lines',\n",
    "    name='Actual Prices'\n",
    ")\n",
    "\n",
    "forecasted_trace = go.Scatter(\n",
    "    x=hub1_forecast_comparison.index,\n",
    "    y=hub1_forecast_comparison['Forecasted'],\n",
    "    mode='lines',\n",
    "    name='Forecasted Prices'\n",
    ")\n",
    "\n",
    "# Create the plot\n",
    "layout = go.Layout(\n",
    "    title='VECM Actual vs Forecasted Prices',\n",
    "    xaxis=dict(title='Index'),\n",
    "    yaxis=dict(title='Price'),\n",
    ")\n",
    "\n",
    "fig = go.Figure(data=[actual_trace, forecasted_trace], layout=layout)\n",
    "fig.show()\n"
   ]
  },
  {
   "cell_type": "code",
   "execution_count": 12,
   "metadata": {},
   "outputs": [],
   "source": [
    "%%R\n",
    "hub2_forecast_comparison <- data.frame(\n",
    "  Actual = hub2_actuals,\n",
    "  Forecasted = hub2_predictions\n",
    ")"
   ]
  },
  {
   "cell_type": "code",
   "execution_count": 13,
   "metadata": {},
   "outputs": [
    {
     "data": {
      "application/vnd.plotly.v1+json": {
       "config": {
        "plotlyServerURL": "https://plot.ly"
       },
       "data": [
        {
         "mode": "lines",
         "name": "Actual Prices",
         "type": "scatter",
         "x": [
          "1",
          "2",
          "3",
          "4",
          "5",
          "6",
          "7",
          "8",
          "9",
          "10",
          "11",
          "12",
          "13",
          "14",
          "15",
          "16",
          "17",
          "18",
          "19",
          "20",
          "21",
          "22",
          "23",
          "24",
          "25",
          "26",
          "27",
          "28",
          "29",
          "30",
          "31",
          "32",
          "33",
          "34",
          "35",
          "36",
          "37",
          "38",
          "39",
          "40",
          "41",
          "42",
          "43",
          "44",
          "45",
          "46",
          "47",
          "48",
          "49",
          "50",
          "51",
          "52",
          "53",
          "54",
          "55",
          "56",
          "57",
          "58",
          "59",
          "60",
          "61",
          "62",
          "63",
          "64",
          "65",
          "66",
          "67",
          "68",
          "69",
          "70",
          "71",
          "72",
          "73",
          "74",
          "75",
          "76",
          "77",
          "78",
          "79",
          "80",
          "81",
          "82",
          "83",
          "84",
          "85",
          "86",
          "87",
          "88",
          "89",
          "90",
          "91",
          "92",
          "93",
          "94",
          "95",
          "96",
          "97",
          "98",
          "99",
          "100",
          "101",
          "102",
          "103",
          "104",
          "105",
          "106",
          "107",
          "108",
          "109",
          "110",
          "111",
          "112",
          "113",
          "114",
          "115",
          "116",
          "117",
          "118",
          "119",
          "120",
          "121",
          "122",
          "123",
          "124",
          "125",
          "126",
          "127",
          "128",
          "129",
          "130",
          "131",
          "132",
          "133",
          "134",
          "135",
          "136",
          "137",
          "138",
          "139",
          "140",
          "141",
          "142",
          "143",
          "144",
          "145",
          "146",
          "147",
          "148",
          "149",
          "150",
          "151",
          "152",
          "153",
          "154",
          "155",
          "156",
          "157",
          "158",
          "159",
          "160",
          "161",
          "162",
          "163",
          "164",
          "165",
          "166",
          "167",
          "168",
          "169",
          "170",
          "171",
          "172",
          "173",
          "174",
          "175",
          "176",
          "177",
          "178",
          "179",
          "180",
          "181",
          "182",
          "183",
          "184",
          "185",
          "186",
          "187",
          "188",
          "189",
          "190",
          "191",
          "192",
          "193",
          "194",
          "195",
          "196",
          "197",
          "198",
          "199",
          "200",
          "201",
          "202",
          "203",
          "204",
          "205",
          "206",
          "207",
          "208",
          "209",
          "210",
          "211",
          "212",
          "213",
          "214",
          "215",
          "216",
          "217",
          "218",
          "219",
          "220",
          "221",
          "222",
          "223",
          "224",
          "225",
          "226",
          "227",
          "228",
          "229",
          "230",
          "231",
          "232",
          "233",
          "234",
          "235",
          "236",
          "237",
          "238",
          "239",
          "240",
          "241",
          "242",
          "243",
          "244",
          "245",
          "246",
          "247",
          "248",
          "249",
          "250"
         ],
         "y": [
          34.5815538949739,
          37.047039615109,
          37.67028764459,
          39.5698184734023,
          40.0036905858669,
          44.3311580850991,
          40.1043542498379,
          39.1846425768588,
          39.5243474255297,
          41.4881905346845,
          38.7137066229911,
          36.3072818780496,
          37.810985430102,
          35.430374313304,
          37.2227471252602,
          43.1760200634661,
          49.2848541304125,
          46.1314928174156,
          52.8489958030505,
          53.9066400518647,
          47.8279782987,
          47.9467516293036,
          49.4612754631999,
          48.3982321629645,
          49.3961060497492,
          49.6455880847579,
          47.8438547104787,
          48.5701914218446,
          49.4031323574573,
          49.2012802402157,
          50.0061869178012,
          48.6255167707374,
          47.9524311597912,
          48.7780376701812,
          48.2263332992118,
          44.6619770020814,
          45.7139594636094,
          45.4463575255059,
          47.7128112737571,
          45.947458968847,
          46.860402634183,
          46.6815934759614,
          46.1682806155526,
          45.0540638755246,
          44.2781472003276,
          45.3424038625584,
          43.8359429487836,
          44.2486965571365,
          46.9999034360392,
          47.1075084450814,
          44.1343252465281,
          42.8163674207527,
          40.4059146279046,
          42.3738683590951,
          43.6549698024363,
          40.0674596512779,
          37.9280895349234,
          39.0928191217115,
          39.7754857201351,
          38.5722933087658,
          35.8849135018937,
          34.4202579588494,
          35.4843552734842,
          34.3681441293889,
          32.7726908247176,
          35.0393858122633,
          31.8577490019449,
          32.862565257447,
          33.6338451564473,
          33.5870897737742,
          34.1897765039069,
          34.7924632340397,
          35.3951499641724,
          32.8087119118299,
          31.747530624083,
          30.8768891391135,
          30.0062476541441,
          32.2434244378476,
          33.1468331797864,
          34.4849448937114,
          31.2761074146108,
          30.3222711297642,
          30.5525017913809,
          30.433327191456,
          31.7422049339748,
          29.3880096905176,
          29.1425884600949,
          27.1648602722899,
          27.2727484901218,
          27.7895342409663,
          26.6548691438905,
          26.6184614597195,
          28.4632531477122,
          27.3667642542737,
          27.6860477019142,
          27.8043279762514,
          29.1965956938615,
          29.7281127375712,
          28.4907615927935,
          28.5022445149623,
          27.5999969290613,
          28.0077793701164,
          27.5830559252056,
          27.2891578803699,
          26.5253925683284,
          25.0582898283686,
          24.946451018528,
          24.384656907906,
          24.3799570068584,
          24.1603548640257,
          23.083445593203,
          23.6233435697956,
          23.5495574436142,
          22.8656464325929,
          22.5516347630259,
          23.6455386085236,
          24.1825161224281,
          25.5344320469512,
          24.5462708567919,
          25.5742587095233,
          26.84562732453,
          27.4265533831508,
          26.486390964616,
          26.060285938513,
          26.3703255195005,
          24.9548101136247,
          24.9599071894087,
          24.8859043914423,
          26.0906285187839,
          27.1186016992527,
          29.2620042993142,
          29.4377520728836,
          28.5037752072884,
          27.1874971849729,
          28.493315590132,
          29.1991800593715,
          27.4960487255604,
          27.5656539393319,
          27.1624151226669,
          26.6985835010976,
          26.2347518795282,
          25.7709202579589,
          25.1508636162009,
          25.8036960453134,
          26.2791278534139,
          27.710837001399,
          27.0867710785819,
          26.8059361244754,
          29.4237001398983,
          30.4769413450711,
          30.9714402702426,
          33.0755450916163,
          31.0925376189989,
          32.3654007574982,
          30.6568123656464,
          29.253152147951,
          28.2038393557853,
          28.8562005664176,
          29.6389221005221,
          28.6381362814345,
          27.524024976968,
          28.5807588630703,
          27.8482516122428,
          30.0918217490702,
          29.6208001501348,
          29.8571186064763,
          30.0934370628178,
          29.6451694134507,
          29.9436783021121,
          28.9405261541611,
          28.4089985327737,
          28.5708724878015,
          28.6315562834818,
          29.0455413382468,
          29.6404790664346,
          30.6255638584638,
          31.777112976422,
          33.0520906268127,
          34.1820793667042,
          32.824833657488,
          32.6146743098918,
          32.4045149622957,
          32.7479158562801,
          33.8452216194083,
          32.7660644214693,
          34.902102569352,
          32.2585488108643,
          31.8421223598458,
          32.2675057153581,
          31.4956331251919,
          32.8088060872829,
          32.8032743030675,
          33.8748145494251,
          34.1808066332276,
          33.6433964581841,
          32.508023339134,
          32.8738936090354,
          33.4301238611936,
          32.4335947043368,
          31.9414150203023,
          32.1212669328147,
          32.9567140956086,
          31.8471740539803,
          32.533270549698,
          32.7515149964172,
          31.4594636093766,
          31.7074483911693,
          30.6192254410209,
          31.3814488006278,
          31.1537284607773,
          30.2692189579281,
          29.3623837308493,
          28.8125082744737,
          29.2501880096905,
          29.7200477701573,
          29.3352523287952,
          30.9584314327635,
          29.9263496775514,
          30.8083038182004,
          30.274995393592,
          29.9605254717303,
          29.6991739174941,
          30.7901330740096,
          29.9904094584911,
          30.7769341795476,
          32.3129423004743,
          32.5933394752107,
          35.2437131060839,
          36.3116777561675,
          35.9144845941243,
          34.633466407343,
          35.7561585969222,
          37.4429938240011,
          39.0638956563278,
          39.258707817245,
          38.5276312826287,
          38.2751724843894,
          37.4066745146211,
          38.2062374176818,
          38.1126502200839,
          38.439535605828,
          36.5315712969598,
          35.4969034701607,
          35.1668720783431,
          35.6491773296482,
          36.6769532876105,
          37.7047292455727,
          37.5567263793633,
          37.1902910567441,
          38.9560548674378
         ]
        },
        {
         "mode": "lines",
         "name": "Forecasted Prices",
         "type": "scatter",
         "x": [
          "1",
          "2",
          "3",
          "4",
          "5",
          "6",
          "7",
          "8",
          "9",
          "10",
          "11",
          "12",
          "13",
          "14",
          "15",
          "16",
          "17",
          "18",
          "19",
          "20",
          "21",
          "22",
          "23",
          "24",
          "25",
          "26",
          "27",
          "28",
          "29",
          "30",
          "31",
          "32",
          "33",
          "34",
          "35",
          "36",
          "37",
          "38",
          "39",
          "40",
          "41",
          "42",
          "43",
          "44",
          "45",
          "46",
          "47",
          "48",
          "49",
          "50",
          "51",
          "52",
          "53",
          "54",
          "55",
          "56",
          "57",
          "58",
          "59",
          "60",
          "61",
          "62",
          "63",
          "64",
          "65",
          "66",
          "67",
          "68",
          "69",
          "70",
          "71",
          "72",
          "73",
          "74",
          "75",
          "76",
          "77",
          "78",
          "79",
          "80",
          "81",
          "82",
          "83",
          "84",
          "85",
          "86",
          "87",
          "88",
          "89",
          "90",
          "91",
          "92",
          "93",
          "94",
          "95",
          "96",
          "97",
          "98",
          "99",
          "100",
          "101",
          "102",
          "103",
          "104",
          "105",
          "106",
          "107",
          "108",
          "109",
          "110",
          "111",
          "112",
          "113",
          "114",
          "115",
          "116",
          "117",
          "118",
          "119",
          "120",
          "121",
          "122",
          "123",
          "124",
          "125",
          "126",
          "127",
          "128",
          "129",
          "130",
          "131",
          "132",
          "133",
          "134",
          "135",
          "136",
          "137",
          "138",
          "139",
          "140",
          "141",
          "142",
          "143",
          "144",
          "145",
          "146",
          "147",
          "148",
          "149",
          "150",
          "151",
          "152",
          "153",
          "154",
          "155",
          "156",
          "157",
          "158",
          "159",
          "160",
          "161",
          "162",
          "163",
          "164",
          "165",
          "166",
          "167",
          "168",
          "169",
          "170",
          "171",
          "172",
          "173",
          "174",
          "175",
          "176",
          "177",
          "178",
          "179",
          "180",
          "181",
          "182",
          "183",
          "184",
          "185",
          "186",
          "187",
          "188",
          "189",
          "190",
          "191",
          "192",
          "193",
          "194",
          "195",
          "196",
          "197",
          "198",
          "199",
          "200",
          "201",
          "202",
          "203",
          "204",
          "205",
          "206",
          "207",
          "208",
          "209",
          "210",
          "211",
          "212",
          "213",
          "214",
          "215",
          "216",
          "217",
          "218",
          "219",
          "220",
          "221",
          "222",
          "223",
          "224",
          "225",
          "226",
          "227",
          "228",
          "229",
          "230",
          "231",
          "232",
          "233",
          "234",
          "235",
          "236",
          "237",
          "238",
          "239",
          "240",
          "241",
          "242",
          "243",
          "244",
          "245",
          "246",
          "247",
          "248",
          "249",
          "250"
         ],
         "y": [
          36.72528960653682,
          35.872477326458046,
          37.988615287069436,
          36.63805044807387,
          37.809439912582015,
          35.91533519138265,
          38.21669459624123,
          38.231706568730324,
          40.21988939872023,
          40.43347640880168,
          44.36738581266017,
          40.23245220018311,
          40.34722729466007,
          41.14204423080955,
          41.15687579833348,
          40.05325596605861,
          37.84004402538973,
          39.10169001587387,
          36.80354592481827,
          38.50515784500723,
          43.362197413586486,
          48.565085909377174,
          45.93380765712548,
          52.7219025785991,
          52.87086233904756,
          48.350667350286216,
          48.901865110516695,
          49.85481616693441,
          48.89589870751844,
          49.89110578873175,
          50.16426130647381,
          48.32330252097769,
          49.213822230386754,
          49.731126748356125,
          49.37564746859982,
          50.099603365142,
          48.05722632289425,
          48.62048358095859,
          48.548525314593114,
          47.92732938321562,
          44.794308769071904,
          46.12145941482084,
          45.29567532835303,
          47.55853620793491,
          45.62067879723374,
          46.97098998299015,
          46.57796518257185,
          46.11069072722444,
          45.22947482897057,
          44.54253617474978,
          45.32597526953687,
          43.8111807060566,
          44.396312612237026,
          46.61907416111943,
          46.45998262027473,
          44.121926738799026,
          43.20723000862109,
          40.77990401166093,
          42.46896012929251,
          43.320057592677585,
          39.994849619795225,
          38.648273315489284,
          39.47082704644453,
          39.6468034820344,
          38.60354610137878,
          36.447252707861935,
          35.18473691512412,
          36.01382170869569,
          34.5938061335276,
          33.444836136396695,
          35.57881343997891,
          32.1792237417761,
          33.72023107153049,
          33.91584255443005,
          33.97834684762861,
          34.518189118528255,
          35.048964140126785,
          35.58883599595548,
          33.23510814441336,
          32.50586286427332,
          31.628299524549895,
          30.6701120537587,
          32.61216533704354,
          33.21666551916751,
          34.448517397477985,
          31.68634638778677,
          31.20787494368214,
          31.151286238149964,
          30.89324327173936,
          31.85745964675666,
          30.114357772209868,
          29.817948919260132,
          27.904534222849797,
          28.29181989528522,
          28.39996300421705,
          27.36954140428309,
          27.57700767780501,
          29.007166990218153,
          27.892361323214278,
          28.527449793660413,
          28.42412827557066,
          29.699512167508345,
          30.09488204115076,
          29.081996734140898,
          29.267382378577313,
          28.281247210140478,
          28.732575137437067,
          28.189863984752918,
          27.97552770580939,
          27.276860869299117,
          25.96351619055177,
          25.85202429895714,
          25.201667943748934,
          25.231208890687903,
          24.93735831594585,
          23.93139841924856,
          24.551735988010556,
          24.21833802295573,
          23.691266022643173,
          23.452760826092685,
          24.36548168744164,
          24.685393322927546,
          25.985252946746606,
          25.064186682498903,
          26.180829127294256,
          27.178713316603243,
          27.672065659549453,
          26.919371175978206,
          26.657654694943055,
          26.946913499529376,
          25.484074406118964,
          25.676679115410163,
          25.46169414483427,
          26.532124955429758,
          27.329370043398082,
          29.314207065325256,
          29.385118225031384,
          28.743637686878365,
          27.719374441184723,
          28.884321476625537,
          29.22579141212639,
          27.84964680114033,
          28.183520406825327,
          27.590574047346074,
          27.287544004546778,
          26.875614863425845,
          26.450568433290574,
          25.84385064768989,
          26.490575530001824,
          26.7466813886807,
          28.09749430842745,
          27.434566042826656,
          27.432287722787954,
          29.77004409884718,
          30.461284558792503,
          31.04114627117452,
          33.15838009526603,
          31.08740789191852,
          32.806956927791354,
          30.818143040254096,
          29.878616565417854,
          28.8682352597543,
          29.3468859617814,
          29.86106862661901,
          28.9693801028575,
          28.159499155786836,
          29.11861248830661,
          28.487207089525448,
          30.170194895046873,
          29.970343095217373,
          30.482197200096486,
          30.233817682080552,
          30.223529022887607,
          30.383590645617712,
          29.420704823099413,
          29.065484916022,
          29.15309270626765,
          29.097262479469904,
          29.53568476991698,
          30.016724886818338,
          30.929913454042953,
          31.982120092609975,
          33.16506547319557,
          34.190906321846064,
          33.02760849103932,
          33.40939882356118,
          32.48069270463104,
          33.316650498653495,
          34.00968961557949,
          32.9620330148913,
          35.09695824571613,
          32.45192695096577,
          32.497017578113095,
          32.63706461118679,
          31.84132100918425,
          33.14195624016237,
          32.927385486167346,
          34.05994878641344,
          34.27807889711389,
          33.898367188824004,
          32.91355275678524,
          33.405468506734735,
          33.68361511142358,
          32.77945906010513,
          32.48870958257471,
          32.60013235510057,
          33.28559160327174,
          32.173925993016375,
          33.84712187710298,
          32.82551739599672,
          32.58861632369029,
          32.83124417334236,
          31.71061219051228,
          32.47601284548203,
          32.153654333237036,
          31.453487989186407,
          30.602036651226346,
          30.154897214816845,
          30.459104160182545,
          30.81778188110971,
          30.352337066133416,
          31.96524939884365,
          30.863915122255506,
          31.84426638870515,
          31.243212553969126,
          31.01742595946501,
          30.822558662072673,
          31.73108572876462,
          30.909019356487846,
          31.757788328656375,
          32.99886454277819,
          33.20205073804461,
          35.37628623662452,
          36.53644036543666,
          36.125010862917065,
          35.132928700898525,
          36.204773024323,
          37.52610757589289,
          38.9265127835919,
          39.211602109865346,
          38.72681735812334,
          38.64189956036076,
          37.85398378810729,
          38.541961997352345,
          38.40334523654076,
          38.642324706077005,
          36.95870983193759,
          36.249933155927174,
          35.72905856871749,
          36.07544831298336
         ]
        }
       ],
       "layout": {
        "template": {
         "data": {
          "bar": [
           {
            "error_x": {
             "color": "#2a3f5f"
            },
            "error_y": {
             "color": "#2a3f5f"
            },
            "marker": {
             "line": {
              "color": "#E5ECF6",
              "width": 0.5
             },
             "pattern": {
              "fillmode": "overlay",
              "size": 10,
              "solidity": 0.2
             }
            },
            "type": "bar"
           }
          ],
          "barpolar": [
           {
            "marker": {
             "line": {
              "color": "#E5ECF6",
              "width": 0.5
             },
             "pattern": {
              "fillmode": "overlay",
              "size": 10,
              "solidity": 0.2
             }
            },
            "type": "barpolar"
           }
          ],
          "carpet": [
           {
            "aaxis": {
             "endlinecolor": "#2a3f5f",
             "gridcolor": "white",
             "linecolor": "white",
             "minorgridcolor": "white",
             "startlinecolor": "#2a3f5f"
            },
            "baxis": {
             "endlinecolor": "#2a3f5f",
             "gridcolor": "white",
             "linecolor": "white",
             "minorgridcolor": "white",
             "startlinecolor": "#2a3f5f"
            },
            "type": "carpet"
           }
          ],
          "choropleth": [
           {
            "colorbar": {
             "outlinewidth": 0,
             "ticks": ""
            },
            "type": "choropleth"
           }
          ],
          "contour": [
           {
            "colorbar": {
             "outlinewidth": 0,
             "ticks": ""
            },
            "colorscale": [
             [
              0,
              "#0d0887"
             ],
             [
              0.1111111111111111,
              "#46039f"
             ],
             [
              0.2222222222222222,
              "#7201a8"
             ],
             [
              0.3333333333333333,
              "#9c179e"
             ],
             [
              0.4444444444444444,
              "#bd3786"
             ],
             [
              0.5555555555555556,
              "#d8576b"
             ],
             [
              0.6666666666666666,
              "#ed7953"
             ],
             [
              0.7777777777777778,
              "#fb9f3a"
             ],
             [
              0.8888888888888888,
              "#fdca26"
             ],
             [
              1,
              "#f0f921"
             ]
            ],
            "type": "contour"
           }
          ],
          "contourcarpet": [
           {
            "colorbar": {
             "outlinewidth": 0,
             "ticks": ""
            },
            "type": "contourcarpet"
           }
          ],
          "heatmap": [
           {
            "colorbar": {
             "outlinewidth": 0,
             "ticks": ""
            },
            "colorscale": [
             [
              0,
              "#0d0887"
             ],
             [
              0.1111111111111111,
              "#46039f"
             ],
             [
              0.2222222222222222,
              "#7201a8"
             ],
             [
              0.3333333333333333,
              "#9c179e"
             ],
             [
              0.4444444444444444,
              "#bd3786"
             ],
             [
              0.5555555555555556,
              "#d8576b"
             ],
             [
              0.6666666666666666,
              "#ed7953"
             ],
             [
              0.7777777777777778,
              "#fb9f3a"
             ],
             [
              0.8888888888888888,
              "#fdca26"
             ],
             [
              1,
              "#f0f921"
             ]
            ],
            "type": "heatmap"
           }
          ],
          "heatmapgl": [
           {
            "colorbar": {
             "outlinewidth": 0,
             "ticks": ""
            },
            "colorscale": [
             [
              0,
              "#0d0887"
             ],
             [
              0.1111111111111111,
              "#46039f"
             ],
             [
              0.2222222222222222,
              "#7201a8"
             ],
             [
              0.3333333333333333,
              "#9c179e"
             ],
             [
              0.4444444444444444,
              "#bd3786"
             ],
             [
              0.5555555555555556,
              "#d8576b"
             ],
             [
              0.6666666666666666,
              "#ed7953"
             ],
             [
              0.7777777777777778,
              "#fb9f3a"
             ],
             [
              0.8888888888888888,
              "#fdca26"
             ],
             [
              1,
              "#f0f921"
             ]
            ],
            "type": "heatmapgl"
           }
          ],
          "histogram": [
           {
            "marker": {
             "pattern": {
              "fillmode": "overlay",
              "size": 10,
              "solidity": 0.2
             }
            },
            "type": "histogram"
           }
          ],
          "histogram2d": [
           {
            "colorbar": {
             "outlinewidth": 0,
             "ticks": ""
            },
            "colorscale": [
             [
              0,
              "#0d0887"
             ],
             [
              0.1111111111111111,
              "#46039f"
             ],
             [
              0.2222222222222222,
              "#7201a8"
             ],
             [
              0.3333333333333333,
              "#9c179e"
             ],
             [
              0.4444444444444444,
              "#bd3786"
             ],
             [
              0.5555555555555556,
              "#d8576b"
             ],
             [
              0.6666666666666666,
              "#ed7953"
             ],
             [
              0.7777777777777778,
              "#fb9f3a"
             ],
             [
              0.8888888888888888,
              "#fdca26"
             ],
             [
              1,
              "#f0f921"
             ]
            ],
            "type": "histogram2d"
           }
          ],
          "histogram2dcontour": [
           {
            "colorbar": {
             "outlinewidth": 0,
             "ticks": ""
            },
            "colorscale": [
             [
              0,
              "#0d0887"
             ],
             [
              0.1111111111111111,
              "#46039f"
             ],
             [
              0.2222222222222222,
              "#7201a8"
             ],
             [
              0.3333333333333333,
              "#9c179e"
             ],
             [
              0.4444444444444444,
              "#bd3786"
             ],
             [
              0.5555555555555556,
              "#d8576b"
             ],
             [
              0.6666666666666666,
              "#ed7953"
             ],
             [
              0.7777777777777778,
              "#fb9f3a"
             ],
             [
              0.8888888888888888,
              "#fdca26"
             ],
             [
              1,
              "#f0f921"
             ]
            ],
            "type": "histogram2dcontour"
           }
          ],
          "mesh3d": [
           {
            "colorbar": {
             "outlinewidth": 0,
             "ticks": ""
            },
            "type": "mesh3d"
           }
          ],
          "parcoords": [
           {
            "line": {
             "colorbar": {
              "outlinewidth": 0,
              "ticks": ""
             }
            },
            "type": "parcoords"
           }
          ],
          "pie": [
           {
            "automargin": true,
            "type": "pie"
           }
          ],
          "scatter": [
           {
            "fillpattern": {
             "fillmode": "overlay",
             "size": 10,
             "solidity": 0.2
            },
            "type": "scatter"
           }
          ],
          "scatter3d": [
           {
            "line": {
             "colorbar": {
              "outlinewidth": 0,
              "ticks": ""
             }
            },
            "marker": {
             "colorbar": {
              "outlinewidth": 0,
              "ticks": ""
             }
            },
            "type": "scatter3d"
           }
          ],
          "scattercarpet": [
           {
            "marker": {
             "colorbar": {
              "outlinewidth": 0,
              "ticks": ""
             }
            },
            "type": "scattercarpet"
           }
          ],
          "scattergeo": [
           {
            "marker": {
             "colorbar": {
              "outlinewidth": 0,
              "ticks": ""
             }
            },
            "type": "scattergeo"
           }
          ],
          "scattergl": [
           {
            "marker": {
             "colorbar": {
              "outlinewidth": 0,
              "ticks": ""
             }
            },
            "type": "scattergl"
           }
          ],
          "scattermapbox": [
           {
            "marker": {
             "colorbar": {
              "outlinewidth": 0,
              "ticks": ""
             }
            },
            "type": "scattermapbox"
           }
          ],
          "scatterpolar": [
           {
            "marker": {
             "colorbar": {
              "outlinewidth": 0,
              "ticks": ""
             }
            },
            "type": "scatterpolar"
           }
          ],
          "scatterpolargl": [
           {
            "marker": {
             "colorbar": {
              "outlinewidth": 0,
              "ticks": ""
             }
            },
            "type": "scatterpolargl"
           }
          ],
          "scatterternary": [
           {
            "marker": {
             "colorbar": {
              "outlinewidth": 0,
              "ticks": ""
             }
            },
            "type": "scatterternary"
           }
          ],
          "surface": [
           {
            "colorbar": {
             "outlinewidth": 0,
             "ticks": ""
            },
            "colorscale": [
             [
              0,
              "#0d0887"
             ],
             [
              0.1111111111111111,
              "#46039f"
             ],
             [
              0.2222222222222222,
              "#7201a8"
             ],
             [
              0.3333333333333333,
              "#9c179e"
             ],
             [
              0.4444444444444444,
              "#bd3786"
             ],
             [
              0.5555555555555556,
              "#d8576b"
             ],
             [
              0.6666666666666666,
              "#ed7953"
             ],
             [
              0.7777777777777778,
              "#fb9f3a"
             ],
             [
              0.8888888888888888,
              "#fdca26"
             ],
             [
              1,
              "#f0f921"
             ]
            ],
            "type": "surface"
           }
          ],
          "table": [
           {
            "cells": {
             "fill": {
              "color": "#EBF0F8"
             },
             "line": {
              "color": "white"
             }
            },
            "header": {
             "fill": {
              "color": "#C8D4E3"
             },
             "line": {
              "color": "white"
             }
            },
            "type": "table"
           }
          ]
         },
         "layout": {
          "annotationdefaults": {
           "arrowcolor": "#2a3f5f",
           "arrowhead": 0,
           "arrowwidth": 1
          },
          "autotypenumbers": "strict",
          "coloraxis": {
           "colorbar": {
            "outlinewidth": 0,
            "ticks": ""
           }
          },
          "colorscale": {
           "diverging": [
            [
             0,
             "#8e0152"
            ],
            [
             0.1,
             "#c51b7d"
            ],
            [
             0.2,
             "#de77ae"
            ],
            [
             0.3,
             "#f1b6da"
            ],
            [
             0.4,
             "#fde0ef"
            ],
            [
             0.5,
             "#f7f7f7"
            ],
            [
             0.6,
             "#e6f5d0"
            ],
            [
             0.7,
             "#b8e186"
            ],
            [
             0.8,
             "#7fbc41"
            ],
            [
             0.9,
             "#4d9221"
            ],
            [
             1,
             "#276419"
            ]
           ],
           "sequential": [
            [
             0,
             "#0d0887"
            ],
            [
             0.1111111111111111,
             "#46039f"
            ],
            [
             0.2222222222222222,
             "#7201a8"
            ],
            [
             0.3333333333333333,
             "#9c179e"
            ],
            [
             0.4444444444444444,
             "#bd3786"
            ],
            [
             0.5555555555555556,
             "#d8576b"
            ],
            [
             0.6666666666666666,
             "#ed7953"
            ],
            [
             0.7777777777777778,
             "#fb9f3a"
            ],
            [
             0.8888888888888888,
             "#fdca26"
            ],
            [
             1,
             "#f0f921"
            ]
           ],
           "sequentialminus": [
            [
             0,
             "#0d0887"
            ],
            [
             0.1111111111111111,
             "#46039f"
            ],
            [
             0.2222222222222222,
             "#7201a8"
            ],
            [
             0.3333333333333333,
             "#9c179e"
            ],
            [
             0.4444444444444444,
             "#bd3786"
            ],
            [
             0.5555555555555556,
             "#d8576b"
            ],
            [
             0.6666666666666666,
             "#ed7953"
            ],
            [
             0.7777777777777778,
             "#fb9f3a"
            ],
            [
             0.8888888888888888,
             "#fdca26"
            ],
            [
             1,
             "#f0f921"
            ]
           ]
          },
          "colorway": [
           "#636efa",
           "#EF553B",
           "#00cc96",
           "#ab63fa",
           "#FFA15A",
           "#19d3f3",
           "#FF6692",
           "#B6E880",
           "#FF97FF",
           "#FECB52"
          ],
          "font": {
           "color": "#2a3f5f"
          },
          "geo": {
           "bgcolor": "white",
           "lakecolor": "white",
           "landcolor": "#E5ECF6",
           "showlakes": true,
           "showland": true,
           "subunitcolor": "white"
          },
          "hoverlabel": {
           "align": "left"
          },
          "hovermode": "closest",
          "mapbox": {
           "style": "light"
          },
          "paper_bgcolor": "white",
          "plot_bgcolor": "#E5ECF6",
          "polar": {
           "angularaxis": {
            "gridcolor": "white",
            "linecolor": "white",
            "ticks": ""
           },
           "bgcolor": "#E5ECF6",
           "radialaxis": {
            "gridcolor": "white",
            "linecolor": "white",
            "ticks": ""
           }
          },
          "scene": {
           "xaxis": {
            "backgroundcolor": "#E5ECF6",
            "gridcolor": "white",
            "gridwidth": 2,
            "linecolor": "white",
            "showbackground": true,
            "ticks": "",
            "zerolinecolor": "white"
           },
           "yaxis": {
            "backgroundcolor": "#E5ECF6",
            "gridcolor": "white",
            "gridwidth": 2,
            "linecolor": "white",
            "showbackground": true,
            "ticks": "",
            "zerolinecolor": "white"
           },
           "zaxis": {
            "backgroundcolor": "#E5ECF6",
            "gridcolor": "white",
            "gridwidth": 2,
            "linecolor": "white",
            "showbackground": true,
            "ticks": "",
            "zerolinecolor": "white"
           }
          },
          "shapedefaults": {
           "line": {
            "color": "#2a3f5f"
           }
          },
          "ternary": {
           "aaxis": {
            "gridcolor": "white",
            "linecolor": "white",
            "ticks": ""
           },
           "baxis": {
            "gridcolor": "white",
            "linecolor": "white",
            "ticks": ""
           },
           "bgcolor": "#E5ECF6",
           "caxis": {
            "gridcolor": "white",
            "linecolor": "white",
            "ticks": ""
           }
          },
          "title": {
           "x": 0.05
          },
          "xaxis": {
           "automargin": true,
           "gridcolor": "white",
           "linecolor": "white",
           "ticks": "",
           "title": {
            "standoff": 15
           },
           "zerolinecolor": "white",
           "zerolinewidth": 2
          },
          "yaxis": {
           "automargin": true,
           "gridcolor": "white",
           "linecolor": "white",
           "ticks": "",
           "title": {
            "standoff": 15
           },
           "zerolinecolor": "white",
           "zerolinewidth": 2
          }
         }
        },
        "title": {
         "text": "VECM Actual vs Forecasted Prices"
        },
        "xaxis": {
         "title": {
          "text": "Index"
         }
        },
        "yaxis": {
         "title": {
          "text": "Price"
         }
        }
       }
      }
     },
     "metadata": {},
     "output_type": "display_data"
    }
   ],
   "source": [
    "%R -o hub2_forecast_comparison\n",
    "\n",
    "hub2_forecast_comparison = hub2_forecast_comparison\n",
    "\n",
    "actual_trace = go.Scatter(\n",
    "    x=hub2_forecast_comparison.index,\n",
    "    y=hub2_forecast_comparison['Actual'],\n",
    "    mode='lines',\n",
    "    name='Actual Prices'\n",
    ")\n",
    "\n",
    "forecasted_trace = go.Scatter(\n",
    "    x=hub2_forecast_comparison.index,\n",
    "    y=hub2_forecast_comparison['Forecasted'],\n",
    "    mode='lines',\n",
    "    name='Forecasted Prices'\n",
    ")\n",
    "\n",
    "# Create the plot\n",
    "layout = go.Layout(\n",
    "    title='VECM Actual vs Forecasted Prices',\n",
    "    xaxis=dict(title='Index'),\n",
    "    yaxis=dict(title='Price'),\n",
    ")\n",
    "\n",
    "fig = go.Figure(data=[actual_trace, forecasted_trace], layout=layout)\n",
    "fig.show()\n"
   ]
  },
  {
   "cell_type": "code",
   "execution_count": 19,
   "metadata": {},
   "outputs": [
    {
     "name": "stdout",
     "output_type": "stream",
     "text": [
      "[1] \"Hub1: Mean Absolute Error: 2.08176266666667\"\n",
      "[1] \"Hub1: Root Mean Squared Error: 2.73317708716025\"\n",
      "[1] \"Hub2: Mean Absolute Error: 2.23126705883691\"\n",
      "[1] \"Hub2: Root Mean Squared Error: 3.08543650003223\"\n"
     ]
    }
   ],
   "source": [
    "%%R\n",
    "window_size <- 5\n",
    "horizon <- 250\n",
    "\n",
    "hubs_lag <- lag(hubs, window_size)\n",
    "\n",
    "\n",
    "hubs_prediction <- tail(hubs_lag, n = horizon)\n",
    "hubs_actual <- tail(hubs, n = horizon)\n",
    "\n",
    "\n",
    "hub1_naive_predictions <- hubs_prediction$hub1\n",
    "hub1_naive_actuals <- hubs_actual$hub1\n",
    "hub2_naive_predictions <- hubs_prediction$hub2\n",
    "hub2_naive_actuals <- hubs_actual$hub2\n",
    "\n",
    "hub1_naive_mae <- mae(hub1_naive_actuals, hub1_naive_predictions)\n",
    "hub2_naive_mae <- mae(hub2_naive_actuals, hub2_naive_predictions)\n",
    "\n",
    "hub1_naive_rmse <- rmse(hub1_naive_actuals, hub1_naive_predictions)\n",
    "hub2_naive_rmse <- rmse(hub2_naive_actuals, hub2_naive_predictions)\n",
    "\n",
    "print(paste0(\"Hub1: Mean Absolute Error: \", hub1_naive_mae))\n",
    "print(paste0(\"Hub1: Root Mean Squared Error: \", hub1_naive_rmse))\n",
    "\n",
    "print(paste0(\"Hub2: Mean Absolute Error: \", hub2_naive_mae))\n",
    "print(paste0(\"Hub2: Root Mean Squared Error: \", hub2_naive_rmse))"
   ]
  },
  {
   "cell_type": "code",
   "execution_count": 20,
   "metadata": {},
   "outputs": [
    {
     "name": "stdout",
     "output_type": "stream",
     "text": [
      "\n",
      "\tDiebold-Mariano Test\n",
      "\n",
      "data:  vecm_residsnaive_resids\n",
      "DM = -0.65126, Forecast horizon = 5, Loss function power = 1, p-value =\n",
      "0.7423\n",
      "alternative hypothesis: greater\n",
      "\n"
     ]
    }
   ],
   "source": [
    "%%R\n",
    "naive_resids <- hub1_naive_actuals - hub1_naive_predictions\n",
    "vecm_resids <- hub1_actuals - hub1_predictions\n",
    "dm.test(vecm_resids, naive_resids, h = window_size, power = 1, alternative = \"greater\")"
   ]
  },
  {
   "cell_type": "code",
   "execution_count": 21,
   "metadata": {},
   "outputs": [
    {
     "name": "stdout",
     "output_type": "stream",
     "text": [
      "\n",
      "\tDiebold-Mariano Test\n",
      "\n",
      "data:  vecm_residsnaive_resids\n",
      "DM = -0.59988, Forecast horizon = 5, Loss function power = 1, p-value =\n",
      "0.7254\n",
      "alternative hypothesis: greater\n",
      "\n"
     ]
    }
   ],
   "source": [
    "%%R\n",
    "naive_resids <- hub2_naive_actuals - hub2_naive_predictions\n",
    "vecm_resids <- hub2_actuals - hub2_predictions\n",
    "dm.test(vecm_resids, naive_resids, h = window_size, power = 1, alternative = \"greater\")"
   ]
  },
  {
   "cell_type": "code",
   "execution_count": 22,
   "metadata": {},
   "outputs": [],
   "source": [
    "%%R\n",
    "hub1_forecast_comparison <- data.frame(\n",
    "  Actual = hub1_actuals,\n",
    "  Forecasted = hub1_predictions\n",
    ")"
   ]
  },
  {
   "cell_type": "code",
   "execution_count": 23,
   "metadata": {},
   "outputs": [
    {
     "data": {
      "application/vnd.plotly.v1+json": {
       "config": {
        "plotlyServerURL": "https://plot.ly"
       },
       "data": [
        {
         "mode": "lines",
         "name": "Actual Prices",
         "type": "scatter",
         "x": [
          "1",
          "2",
          "3",
          "4",
          "5",
          "6",
          "7",
          "8",
          "9",
          "10",
          "11",
          "12",
          "13",
          "14",
          "15",
          "16",
          "17",
          "18",
          "19",
          "20",
          "21",
          "22",
          "23",
          "24",
          "25",
          "26",
          "27",
          "28",
          "29",
          "30",
          "31",
          "32",
          "33",
          "34",
          "35",
          "36",
          "37",
          "38",
          "39",
          "40",
          "41",
          "42",
          "43",
          "44",
          "45",
          "46",
          "47",
          "48",
          "49",
          "50",
          "51",
          "52",
          "53",
          "54",
          "55",
          "56",
          "57",
          "58",
          "59",
          "60",
          "61",
          "62",
          "63",
          "64",
          "65",
          "66",
          "67",
          "68",
          "69",
          "70",
          "71",
          "72",
          "73",
          "74",
          "75",
          "76",
          "77",
          "78",
          "79",
          "80",
          "81",
          "82",
          "83",
          "84",
          "85",
          "86",
          "87",
          "88",
          "89",
          "90",
          "91",
          "92",
          "93",
          "94",
          "95",
          "96",
          "97",
          "98",
          "99",
          "100",
          "101",
          "102",
          "103",
          "104",
          "105",
          "106",
          "107",
          "108",
          "109",
          "110",
          "111",
          "112",
          "113",
          "114",
          "115",
          "116",
          "117",
          "118",
          "119",
          "120",
          "121",
          "122",
          "123",
          "124",
          "125",
          "126",
          "127",
          "128",
          "129",
          "130",
          "131",
          "132",
          "133",
          "134",
          "135",
          "136",
          "137",
          "138",
          "139",
          "140",
          "141",
          "142",
          "143",
          "144",
          "145",
          "146",
          "147",
          "148",
          "149",
          "150",
          "151",
          "152",
          "153",
          "154",
          "155",
          "156",
          "157",
          "158",
          "159",
          "160",
          "161",
          "162",
          "163",
          "164",
          "165",
          "166",
          "167",
          "168",
          "169",
          "170",
          "171",
          "172",
          "173",
          "174",
          "175",
          "176",
          "177",
          "178",
          "179",
          "180",
          "181",
          "182",
          "183",
          "184",
          "185",
          "186",
          "187",
          "188",
          "189",
          "190",
          "191",
          "192",
          "193",
          "194",
          "195",
          "196",
          "197",
          "198",
          "199",
          "200",
          "201",
          "202",
          "203",
          "204",
          "205",
          "206",
          "207",
          "208",
          "209",
          "210",
          "211",
          "212",
          "213",
          "214",
          "215",
          "216",
          "217",
          "218",
          "219",
          "220",
          "221",
          "222",
          "223",
          "224",
          "225",
          "226",
          "227",
          "228",
          "229",
          "230",
          "231",
          "232",
          "233",
          "234",
          "235",
          "236",
          "237",
          "238",
          "239",
          "240",
          "241",
          "242",
          "243",
          "244",
          "245",
          "246",
          "247",
          "248",
          "249",
          "250"
         ],
         "y": [
          42.753,
          44.069,
          43.462,
          44.531,
          44.902,
          48.254,
          44.49,
          43.685,
          48.697,
          48.057,
          46.578,
          44.781,
          45.73,
          44.633,
          45.869,
          49.677,
          53.954,
          51.543,
          56.704,
          57.981,
          54.642,
          55.142,
          57.177,
          57.43,
          58.032,
          58.365,
          55.62,
          54.894,
          55.407,
          55.238,
          55.486,
          50.42,
          50.237,
          51.215,
          50.923,
          47.409,
          48.095,
          47.877,
          50.318,
          48.919,
          49.722,
          49.899,
          49.134,
          47.972,
          47.17,
          47.566,
          46.006,
          46.129,
          48.357,
          48.31,
          45.667,
          44.348,
          42.089,
          42.965,
          44.273,
          41.023,
          39.088,
          40.224,
          40.817,
          39.469,
          37.06,
          35.676,
          36.879,
          35.782,
          34.211,
          36.423,
          33.682,
          34.451,
          35.068,
          35.32,
          35.6976666666667,
          36.0753333333333,
          36.453,
          33.99,
          32.392,
          31.7185,
          31.045,
          32.755,
          33.843,
          34.695,
          32.052,
          31.083,
          31.285,
          31.301,
          31.301,
          30.457,
          30.238,
          28.277,
          28.7,
          29.314,
          28.43,
          28.678,
          30.073,
          29,
          29.298,
          29.373,
          30.48,
          31.06,
          30.117,
          30.094,
          29.137,
          29.278,
          28.825,
          28.446,
          27.812,
          26.571,
          26.211,
          25.595,
          25.641,
          25.529,
          24.405,
          24.854,
          24.598,
          23.886,
          23.59,
          24.531,
          24.955,
          26.04,
          25.33,
          26.038,
          27.211,
          27.781,
          26.948,
          26.279,
          26.658,
          25.356,
          25.212,
          25.233,
          26.38,
          27.325,
          29.137,
          29.173,
          27.984,
          26.739,
          27.946,
          28.774,
          27.807,
          28.317,
          28.071,
          27.744,
          27.417,
          27.09,
          26.431,
          27.069,
          27.549,
          28.912,
          28.39,
          28.085,
          30.395,
          31.615,
          31.876,
          33.883,
          31.879,
          32.969,
          31.424,
          30.101,
          29.216,
          29.739,
          30.4,
          29.588,
          28.679,
          29.728,
          30.5855,
          31.443,
          31.198,
          32.31,
          31.602,
          31.291,
          31.51,
          30.692,
          30.259,
          30.485,
          30.5,
          30.992,
          31.591,
          32.579,
          33.833,
          35.22,
          36.239,
          34.929,
          35.954,
          34.452,
          34.806,
          35.786,
          34.806,
          36.368,
          34.252,
          33.743,
          34.076,
          33.485,
          34.659,
          34.745,
          35.723,
          36.216,
          35.959,
          34.768,
          35.243,
          35.89,
          35.108,
          34.551,
          34.634,
          35.452,
          34.427,
          38.898,
          38.734,
          38.165,
          38.643,
          37.829,
          38.118,
          37.896,
          37.321,
          36.355,
          35.889,
          36.309,
          37.011,
          36.388,
          37.45,
          36.641,
          37.168,
          36.882,
          36.496,
          36.392,
          37.281,
          36.655,
          37.066,
          38.216,
          38.5,
          39.113,
          40.143,
          39.929,
          38.817,
          39.592,
          41.208,
          42.769,
          43.247,
          42.761,
          42.667,
          42.25,
          42.799,
          42.947,
          42.799,
          40.868,
          39.973,
          39.54,
          39.851,
          40.554,
          41.292,
          41.229,
          40.834,
          41.583
         ]
        },
        {
         "mode": "lines",
         "name": "Forecasted Prices",
         "type": "scatter",
         "x": [
          "1",
          "2",
          "3",
          "4",
          "5",
          "6",
          "7",
          "8",
          "9",
          "10",
          "11",
          "12",
          "13",
          "14",
          "15",
          "16",
          "17",
          "18",
          "19",
          "20",
          "21",
          "22",
          "23",
          "24",
          "25",
          "26",
          "27",
          "28",
          "29",
          "30",
          "31",
          "32",
          "33",
          "34",
          "35",
          "36",
          "37",
          "38",
          "39",
          "40",
          "41",
          "42",
          "43",
          "44",
          "45",
          "46",
          "47",
          "48",
          "49",
          "50",
          "51",
          "52",
          "53",
          "54",
          "55",
          "56",
          "57",
          "58",
          "59",
          "60",
          "61",
          "62",
          "63",
          "64",
          "65",
          "66",
          "67",
          "68",
          "69",
          "70",
          "71",
          "72",
          "73",
          "74",
          "75",
          "76",
          "77",
          "78",
          "79",
          "80",
          "81",
          "82",
          "83",
          "84",
          "85",
          "86",
          "87",
          "88",
          "89",
          "90",
          "91",
          "92",
          "93",
          "94",
          "95",
          "96",
          "97",
          "98",
          "99",
          "100",
          "101",
          "102",
          "103",
          "104",
          "105",
          "106",
          "107",
          "108",
          "109",
          "110",
          "111",
          "112",
          "113",
          "114",
          "115",
          "116",
          "117",
          "118",
          "119",
          "120",
          "121",
          "122",
          "123",
          "124",
          "125",
          "126",
          "127",
          "128",
          "129",
          "130",
          "131",
          "132",
          "133",
          "134",
          "135",
          "136",
          "137",
          "138",
          "139",
          "140",
          "141",
          "142",
          "143",
          "144",
          "145",
          "146",
          "147",
          "148",
          "149",
          "150",
          "151",
          "152",
          "153",
          "154",
          "155",
          "156",
          "157",
          "158",
          "159",
          "160",
          "161",
          "162",
          "163",
          "164",
          "165",
          "166",
          "167",
          "168",
          "169",
          "170",
          "171",
          "172",
          "173",
          "174",
          "175",
          "176",
          "177",
          "178",
          "179",
          "180",
          "181",
          "182",
          "183",
          "184",
          "185",
          "186",
          "187",
          "188",
          "189",
          "190",
          "191",
          "192",
          "193",
          "194",
          "195",
          "196",
          "197",
          "198",
          "199",
          "200",
          "201",
          "202",
          "203",
          "204",
          "205",
          "206",
          "207",
          "208",
          "209",
          "210",
          "211",
          "212",
          "213",
          "214",
          "215",
          "216",
          "217",
          "218",
          "219",
          "220",
          "221",
          "222",
          "223",
          "224",
          "225",
          "226",
          "227",
          "228",
          "229",
          "230",
          "231",
          "232",
          "233",
          "234",
          "235",
          "236",
          "237",
          "238",
          "239",
          "240",
          "241",
          "242",
          "243",
          "244",
          "245",
          "246",
          "247",
          "248",
          "249",
          "250"
         ],
         "y": [
          44.337421272244754,
          43.589721334532065,
          45.50355938596318,
          44.02618578370959,
          44.69978416689151,
          42.81753531183929,
          44.36177289363545,
          43.118568768735905,
          44.50977365885774,
          44.695615708027596,
          48.125783578267566,
          43.81180156840153,
          44.16424877309964,
          49.6797448941142,
          47.275147553026244,
          46.78884903842605,
          45.20637488121577,
          46.13154624825765,
          44.77906623740212,
          46.24370071621785,
          49.45323977785242,
          53.22286347971102,
          50.802898219946776,
          56.94700391486888,
          57.09582749459951,
          54.636167346788234,
          55.82248427324305,
          57.32418441028979,
          57.455416148143826,
          58.15677852203936,
          58.42041397800143,
          55.46496496663506,
          55.07990434466308,
          55.42122780336815,
          55.12595804560215,
          55.40428672403515,
          49.53731378373459,
          50.63312955696625,
          51.07542840265379,
          50.58787409277787,
          47.1410705402312,
          48.371746859813996,
          47.551270927699115,
          50.24601490507841,
          48.37789202030332,
          49.760800898031846,
          49.651948102118894,
          48.88606816610069,
          47.84666231623359,
          47.12758496993056,
          47.410721367670334,
          45.64988835855024,
          46.094587290561435,
          48.084412102342526,
          47.669730721545534,
          45.35166219912532,
          44.44634826593255,
          41.99003080942645,
          42.92797651953471,
          43.86576959289935,
          40.49283743033663,
          39.28090671923554,
          40.30975876358177,
          40.42083643984174,
          39.06877125612911,
          36.96827850244099,
          35.78240810433363,
          36.93735664596515,
          35.38100480123377,
          34.12679369147281,
          36.52618382714041,
          33.14502163273078,
          34.68576921997642,
          34.7671882267741,
          35.09163690752128,
          35.47467279862543,
          35.80027538565706,
          36.16199437047443,
          33.64724798071191,
          32.40932884653357,
          31.710742088701956,
          30.945292247951016,
          32.63280051321612,
          33.407662372303605,
          34.26462144998796,
          31.65296339046872,
          31.229128796370496,
          31.210877169763375,
          31.075945295570794,
          30.885583465078945,
          30.335297087223665,
          30.21462224875504,
          28.055454525221506,
          28.86189553587767,
          29.1333374704151,
          28.191223820698088,
          28.719481736887666,
          29.89144183843887,
          28.588432215234107,
          29.29965516556194,
          29.162863449856225,
          30.293777504464984,
          30.73123393795644,
          29.863847709201572,
          30.066606947120462,
          28.929797852052236,
          29.20663654021207,
          28.590104225713393,
          28.29736822649728,
          27.671932764339576,
          26.478699459680655,
          26.180675631609596,
          25.42967193474323,
          25.555835651346392,
          25.358091944781574,
          24.205672297014782,
          24.840705980454654,
          24.312127249906045,
          23.695941717147882,
          23.49146332935663,
          24.390980026705186,
          24.608313171717494,
          25.75887627809585,
          24.954285010847425,
          25.910315770686694,
          26.88844639200815,
          27.38305310260096,
          26.608386525640434,
          26.10392933526043,
          26.51911241863864,
          25.031189499348702,
          25.13776128467669,
          25.019029416347212,
          26.16969949106278,
          26.92985917272078,
          28.75119501429742,
          28.59938180709171,
          27.60446197037764,
          26.57042935159871,
          27.85976111943934,
          28.342592612199073,
          27.479363027437863,
          28.316730591138306,
          27.803114535265973,
          27.578530903421377,
          27.27123152811319,
          26.9528954064891,
          26.26380667399396,
          26.989964944214776,
          27.279312573574813,
          28.6819938165778,
          27.985951018545755,
          27.9518379515348,
          30.267720321220665,
          31.115117253234555,
          31.4590232824964,
          33.65303306271204,
          31.271248941870905,
          33.019931275093334,
          30.981195616871585,
          30.057370312546432,
          29.17553417294278,
          29.651960922574037,
          30.097428748719246,
          29.256762226917612,
          28.582778366324696,
          29.692515787333996,
          30.50279610491909,
          31.06446821113406,
          30.84892211412641,
          32.33590246565731,
          31.156776518423516,
          31.173596525920242,
          31.365721759976896,
          30.466509056101692,
          30.203848101276172,
          30.395294658613818,
          30.29331959908218,
          30.84393077727844,
          31.3733784744395,
          32.35387176821676,
          33.57273440819278,
          34.93185310144839,
          35.88556494241859,
          34.55859813651245,
          36.19420821732822,
          33.987258337353005,
          34.81039342149829,
          35.56977025043594,
          34.45536906229118,
          36.29071996509635,
          33.8032553573091,
          33.85188371912508,
          33.95843485290373,
          33.253625045978474,
          34.58888700301686,
          34.39993560847843,
          35.54576915589379,
          35.92398512074933,
          35.74539087531009,
          34.59927433393623,
          35.27784153932124,
          35.699996231113396,
          34.86864641990147,
          34.49908104019204,
          34.554592882085316,
          35.31036936817608,
          34.13502184390008,
          39.64303083897481,
          38.2198473701747,
          38.30533574582218,
          38.88007436049802,
          37.87434951876918,
          38.2867000596625,
          37.910090978473114,
          37.46007739232564,
          36.502598159222686,
          36.11695518387858,
          36.48966844868843,
          37.10698949325868,
          36.34443910689082,
          37.57302937101866,
          36.53548431289088,
          37.3255406952527,
          36.8729002402197,
          36.584684480492164,
          36.525161245523954,
          37.3676483546122,
          36.58024559485276,
          37.18046239444412,
          38.162989379882774,
          38.34666048057992,
          38.78636873393941,
          39.90411319778696,
          39.68737753693672,
          38.74073904020829,
          39.63741514232154,
          41.01320419636728,
          42.45235220440395,
          42.947164593007265,
          42.60510215924944,
          42.66287926262063,
          42.23278952319258,
          42.78705311447507,
          42.820492369469896,
          42.63797735981564,
          40.71116089300169,
          40.15181052489161,
          39.565852597476834,
          39.81171875525833
         ]
        }
       ],
       "layout": {
        "template": {
         "data": {
          "bar": [
           {
            "error_x": {
             "color": "#2a3f5f"
            },
            "error_y": {
             "color": "#2a3f5f"
            },
            "marker": {
             "line": {
              "color": "#E5ECF6",
              "width": 0.5
             },
             "pattern": {
              "fillmode": "overlay",
              "size": 10,
              "solidity": 0.2
             }
            },
            "type": "bar"
           }
          ],
          "barpolar": [
           {
            "marker": {
             "line": {
              "color": "#E5ECF6",
              "width": 0.5
             },
             "pattern": {
              "fillmode": "overlay",
              "size": 10,
              "solidity": 0.2
             }
            },
            "type": "barpolar"
           }
          ],
          "carpet": [
           {
            "aaxis": {
             "endlinecolor": "#2a3f5f",
             "gridcolor": "white",
             "linecolor": "white",
             "minorgridcolor": "white",
             "startlinecolor": "#2a3f5f"
            },
            "baxis": {
             "endlinecolor": "#2a3f5f",
             "gridcolor": "white",
             "linecolor": "white",
             "minorgridcolor": "white",
             "startlinecolor": "#2a3f5f"
            },
            "type": "carpet"
           }
          ],
          "choropleth": [
           {
            "colorbar": {
             "outlinewidth": 0,
             "ticks": ""
            },
            "type": "choropleth"
           }
          ],
          "contour": [
           {
            "colorbar": {
             "outlinewidth": 0,
             "ticks": ""
            },
            "colorscale": [
             [
              0,
              "#0d0887"
             ],
             [
              0.1111111111111111,
              "#46039f"
             ],
             [
              0.2222222222222222,
              "#7201a8"
             ],
             [
              0.3333333333333333,
              "#9c179e"
             ],
             [
              0.4444444444444444,
              "#bd3786"
             ],
             [
              0.5555555555555556,
              "#d8576b"
             ],
             [
              0.6666666666666666,
              "#ed7953"
             ],
             [
              0.7777777777777778,
              "#fb9f3a"
             ],
             [
              0.8888888888888888,
              "#fdca26"
             ],
             [
              1,
              "#f0f921"
             ]
            ],
            "type": "contour"
           }
          ],
          "contourcarpet": [
           {
            "colorbar": {
             "outlinewidth": 0,
             "ticks": ""
            },
            "type": "contourcarpet"
           }
          ],
          "heatmap": [
           {
            "colorbar": {
             "outlinewidth": 0,
             "ticks": ""
            },
            "colorscale": [
             [
              0,
              "#0d0887"
             ],
             [
              0.1111111111111111,
              "#46039f"
             ],
             [
              0.2222222222222222,
              "#7201a8"
             ],
             [
              0.3333333333333333,
              "#9c179e"
             ],
             [
              0.4444444444444444,
              "#bd3786"
             ],
             [
              0.5555555555555556,
              "#d8576b"
             ],
             [
              0.6666666666666666,
              "#ed7953"
             ],
             [
              0.7777777777777778,
              "#fb9f3a"
             ],
             [
              0.8888888888888888,
              "#fdca26"
             ],
             [
              1,
              "#f0f921"
             ]
            ],
            "type": "heatmap"
           }
          ],
          "heatmapgl": [
           {
            "colorbar": {
             "outlinewidth": 0,
             "ticks": ""
            },
            "colorscale": [
             [
              0,
              "#0d0887"
             ],
             [
              0.1111111111111111,
              "#46039f"
             ],
             [
              0.2222222222222222,
              "#7201a8"
             ],
             [
              0.3333333333333333,
              "#9c179e"
             ],
             [
              0.4444444444444444,
              "#bd3786"
             ],
             [
              0.5555555555555556,
              "#d8576b"
             ],
             [
              0.6666666666666666,
              "#ed7953"
             ],
             [
              0.7777777777777778,
              "#fb9f3a"
             ],
             [
              0.8888888888888888,
              "#fdca26"
             ],
             [
              1,
              "#f0f921"
             ]
            ],
            "type": "heatmapgl"
           }
          ],
          "histogram": [
           {
            "marker": {
             "pattern": {
              "fillmode": "overlay",
              "size": 10,
              "solidity": 0.2
             }
            },
            "type": "histogram"
           }
          ],
          "histogram2d": [
           {
            "colorbar": {
             "outlinewidth": 0,
             "ticks": ""
            },
            "colorscale": [
             [
              0,
              "#0d0887"
             ],
             [
              0.1111111111111111,
              "#46039f"
             ],
             [
              0.2222222222222222,
              "#7201a8"
             ],
             [
              0.3333333333333333,
              "#9c179e"
             ],
             [
              0.4444444444444444,
              "#bd3786"
             ],
             [
              0.5555555555555556,
              "#d8576b"
             ],
             [
              0.6666666666666666,
              "#ed7953"
             ],
             [
              0.7777777777777778,
              "#fb9f3a"
             ],
             [
              0.8888888888888888,
              "#fdca26"
             ],
             [
              1,
              "#f0f921"
             ]
            ],
            "type": "histogram2d"
           }
          ],
          "histogram2dcontour": [
           {
            "colorbar": {
             "outlinewidth": 0,
             "ticks": ""
            },
            "colorscale": [
             [
              0,
              "#0d0887"
             ],
             [
              0.1111111111111111,
              "#46039f"
             ],
             [
              0.2222222222222222,
              "#7201a8"
             ],
             [
              0.3333333333333333,
              "#9c179e"
             ],
             [
              0.4444444444444444,
              "#bd3786"
             ],
             [
              0.5555555555555556,
              "#d8576b"
             ],
             [
              0.6666666666666666,
              "#ed7953"
             ],
             [
              0.7777777777777778,
              "#fb9f3a"
             ],
             [
              0.8888888888888888,
              "#fdca26"
             ],
             [
              1,
              "#f0f921"
             ]
            ],
            "type": "histogram2dcontour"
           }
          ],
          "mesh3d": [
           {
            "colorbar": {
             "outlinewidth": 0,
             "ticks": ""
            },
            "type": "mesh3d"
           }
          ],
          "parcoords": [
           {
            "line": {
             "colorbar": {
              "outlinewidth": 0,
              "ticks": ""
             }
            },
            "type": "parcoords"
           }
          ],
          "pie": [
           {
            "automargin": true,
            "type": "pie"
           }
          ],
          "scatter": [
           {
            "fillpattern": {
             "fillmode": "overlay",
             "size": 10,
             "solidity": 0.2
            },
            "type": "scatter"
           }
          ],
          "scatter3d": [
           {
            "line": {
             "colorbar": {
              "outlinewidth": 0,
              "ticks": ""
             }
            },
            "marker": {
             "colorbar": {
              "outlinewidth": 0,
              "ticks": ""
             }
            },
            "type": "scatter3d"
           }
          ],
          "scattercarpet": [
           {
            "marker": {
             "colorbar": {
              "outlinewidth": 0,
              "ticks": ""
             }
            },
            "type": "scattercarpet"
           }
          ],
          "scattergeo": [
           {
            "marker": {
             "colorbar": {
              "outlinewidth": 0,
              "ticks": ""
             }
            },
            "type": "scattergeo"
           }
          ],
          "scattergl": [
           {
            "marker": {
             "colorbar": {
              "outlinewidth": 0,
              "ticks": ""
             }
            },
            "type": "scattergl"
           }
          ],
          "scattermapbox": [
           {
            "marker": {
             "colorbar": {
              "outlinewidth": 0,
              "ticks": ""
             }
            },
            "type": "scattermapbox"
           }
          ],
          "scatterpolar": [
           {
            "marker": {
             "colorbar": {
              "outlinewidth": 0,
              "ticks": ""
             }
            },
            "type": "scatterpolar"
           }
          ],
          "scatterpolargl": [
           {
            "marker": {
             "colorbar": {
              "outlinewidth": 0,
              "ticks": ""
             }
            },
            "type": "scatterpolargl"
           }
          ],
          "scatterternary": [
           {
            "marker": {
             "colorbar": {
              "outlinewidth": 0,
              "ticks": ""
             }
            },
            "type": "scatterternary"
           }
          ],
          "surface": [
           {
            "colorbar": {
             "outlinewidth": 0,
             "ticks": ""
            },
            "colorscale": [
             [
              0,
              "#0d0887"
             ],
             [
              0.1111111111111111,
              "#46039f"
             ],
             [
              0.2222222222222222,
              "#7201a8"
             ],
             [
              0.3333333333333333,
              "#9c179e"
             ],
             [
              0.4444444444444444,
              "#bd3786"
             ],
             [
              0.5555555555555556,
              "#d8576b"
             ],
             [
              0.6666666666666666,
              "#ed7953"
             ],
             [
              0.7777777777777778,
              "#fb9f3a"
             ],
             [
              0.8888888888888888,
              "#fdca26"
             ],
             [
              1,
              "#f0f921"
             ]
            ],
            "type": "surface"
           }
          ],
          "table": [
           {
            "cells": {
             "fill": {
              "color": "#EBF0F8"
             },
             "line": {
              "color": "white"
             }
            },
            "header": {
             "fill": {
              "color": "#C8D4E3"
             },
             "line": {
              "color": "white"
             }
            },
            "type": "table"
           }
          ]
         },
         "layout": {
          "annotationdefaults": {
           "arrowcolor": "#2a3f5f",
           "arrowhead": 0,
           "arrowwidth": 1
          },
          "autotypenumbers": "strict",
          "coloraxis": {
           "colorbar": {
            "outlinewidth": 0,
            "ticks": ""
           }
          },
          "colorscale": {
           "diverging": [
            [
             0,
             "#8e0152"
            ],
            [
             0.1,
             "#c51b7d"
            ],
            [
             0.2,
             "#de77ae"
            ],
            [
             0.3,
             "#f1b6da"
            ],
            [
             0.4,
             "#fde0ef"
            ],
            [
             0.5,
             "#f7f7f7"
            ],
            [
             0.6,
             "#e6f5d0"
            ],
            [
             0.7,
             "#b8e186"
            ],
            [
             0.8,
             "#7fbc41"
            ],
            [
             0.9,
             "#4d9221"
            ],
            [
             1,
             "#276419"
            ]
           ],
           "sequential": [
            [
             0,
             "#0d0887"
            ],
            [
             0.1111111111111111,
             "#46039f"
            ],
            [
             0.2222222222222222,
             "#7201a8"
            ],
            [
             0.3333333333333333,
             "#9c179e"
            ],
            [
             0.4444444444444444,
             "#bd3786"
            ],
            [
             0.5555555555555556,
             "#d8576b"
            ],
            [
             0.6666666666666666,
             "#ed7953"
            ],
            [
             0.7777777777777778,
             "#fb9f3a"
            ],
            [
             0.8888888888888888,
             "#fdca26"
            ],
            [
             1,
             "#f0f921"
            ]
           ],
           "sequentialminus": [
            [
             0,
             "#0d0887"
            ],
            [
             0.1111111111111111,
             "#46039f"
            ],
            [
             0.2222222222222222,
             "#7201a8"
            ],
            [
             0.3333333333333333,
             "#9c179e"
            ],
            [
             0.4444444444444444,
             "#bd3786"
            ],
            [
             0.5555555555555556,
             "#d8576b"
            ],
            [
             0.6666666666666666,
             "#ed7953"
            ],
            [
             0.7777777777777778,
             "#fb9f3a"
            ],
            [
             0.8888888888888888,
             "#fdca26"
            ],
            [
             1,
             "#f0f921"
            ]
           ]
          },
          "colorway": [
           "#636efa",
           "#EF553B",
           "#00cc96",
           "#ab63fa",
           "#FFA15A",
           "#19d3f3",
           "#FF6692",
           "#B6E880",
           "#FF97FF",
           "#FECB52"
          ],
          "font": {
           "color": "#2a3f5f"
          },
          "geo": {
           "bgcolor": "white",
           "lakecolor": "white",
           "landcolor": "#E5ECF6",
           "showlakes": true,
           "showland": true,
           "subunitcolor": "white"
          },
          "hoverlabel": {
           "align": "left"
          },
          "hovermode": "closest",
          "mapbox": {
           "style": "light"
          },
          "paper_bgcolor": "white",
          "plot_bgcolor": "#E5ECF6",
          "polar": {
           "angularaxis": {
            "gridcolor": "white",
            "linecolor": "white",
            "ticks": ""
           },
           "bgcolor": "#E5ECF6",
           "radialaxis": {
            "gridcolor": "white",
            "linecolor": "white",
            "ticks": ""
           }
          },
          "scene": {
           "xaxis": {
            "backgroundcolor": "#E5ECF6",
            "gridcolor": "white",
            "gridwidth": 2,
            "linecolor": "white",
            "showbackground": true,
            "ticks": "",
            "zerolinecolor": "white"
           },
           "yaxis": {
            "backgroundcolor": "#E5ECF6",
            "gridcolor": "white",
            "gridwidth": 2,
            "linecolor": "white",
            "showbackground": true,
            "ticks": "",
            "zerolinecolor": "white"
           },
           "zaxis": {
            "backgroundcolor": "#E5ECF6",
            "gridcolor": "white",
            "gridwidth": 2,
            "linecolor": "white",
            "showbackground": true,
            "ticks": "",
            "zerolinecolor": "white"
           }
          },
          "shapedefaults": {
           "line": {
            "color": "#2a3f5f"
           }
          },
          "ternary": {
           "aaxis": {
            "gridcolor": "white",
            "linecolor": "white",
            "ticks": ""
           },
           "baxis": {
            "gridcolor": "white",
            "linecolor": "white",
            "ticks": ""
           },
           "bgcolor": "#E5ECF6",
           "caxis": {
            "gridcolor": "white",
            "linecolor": "white",
            "ticks": ""
           }
          },
          "title": {
           "x": 0.05
          },
          "xaxis": {
           "automargin": true,
           "gridcolor": "white",
           "linecolor": "white",
           "ticks": "",
           "title": {
            "standoff": 15
           },
           "zerolinecolor": "white",
           "zerolinewidth": 2
          },
          "yaxis": {
           "automargin": true,
           "gridcolor": "white",
           "linecolor": "white",
           "ticks": "",
           "title": {
            "standoff": 15
           },
           "zerolinecolor": "white",
           "zerolinewidth": 2
          }
         }
        },
        "title": {
         "text": "Naïve Actual vs Forecasted Prices"
        },
        "xaxis": {
         "title": {
          "text": "Index"
         }
        },
        "yaxis": {
         "title": {
          "text": "Price"
         }
        }
       }
      }
     },
     "metadata": {},
     "output_type": "display_data"
    }
   ],
   "source": [
    "%R -o hub1_forecast_comparison\n",
    "\n",
    "actual_trace = go.Scatter(\n",
    "    x=hub1_forecast_comparison.index,\n",
    "    y=hub1_forecast_comparison['Actual'],\n",
    "    mode='lines',\n",
    "    name='Actual Prices'\n",
    ")\n",
    "\n",
    "forecasted_trace = go.Scatter(\n",
    "    x=hub1_forecast_comparison.index,\n",
    "    y=hub1_forecast_comparison['Forecasted'],\n",
    "    mode='lines',\n",
    "    name='Forecasted Prices'\n",
    ")\n",
    "\n",
    "# Create the plot\n",
    "layout = go.Layout(\n",
    "    title='Naïve Actual vs Forecasted Prices',\n",
    "    xaxis=dict(title='Index'),\n",
    "    yaxis=dict(title='Price'),\n",
    ")\n",
    "\n",
    "fig = go.Figure(data=[actual_trace, forecasted_trace], layout=layout)\n",
    "fig.show()"
   ]
  },
  {
   "cell_type": "code",
   "execution_count": 24,
   "metadata": {},
   "outputs": [],
   "source": [
    "%%R\n",
    "hub2_forecast_comparison <- data.frame(\n",
    "  Actual = hub1_actuals,\n",
    "  Forecasted = hub1_predictions\n",
    ")"
   ]
  },
  {
   "cell_type": "code",
   "execution_count": 25,
   "metadata": {},
   "outputs": [
    {
     "data": {
      "application/vnd.plotly.v1+json": {
       "config": {
        "plotlyServerURL": "https://plot.ly"
       },
       "data": [
        {
         "mode": "lines",
         "name": "Actual Prices",
         "type": "scatter",
         "x": [
          "1",
          "2",
          "3",
          "4",
          "5",
          "6",
          "7",
          "8",
          "9",
          "10",
          "11",
          "12",
          "13",
          "14",
          "15",
          "16",
          "17",
          "18",
          "19",
          "20",
          "21",
          "22",
          "23",
          "24",
          "25",
          "26",
          "27",
          "28",
          "29",
          "30",
          "31",
          "32",
          "33",
          "34",
          "35",
          "36",
          "37",
          "38",
          "39",
          "40",
          "41",
          "42",
          "43",
          "44",
          "45",
          "46",
          "47",
          "48",
          "49",
          "50",
          "51",
          "52",
          "53",
          "54",
          "55",
          "56",
          "57",
          "58",
          "59",
          "60",
          "61",
          "62",
          "63",
          "64",
          "65",
          "66",
          "67",
          "68",
          "69",
          "70",
          "71",
          "72",
          "73",
          "74",
          "75",
          "76",
          "77",
          "78",
          "79",
          "80",
          "81",
          "82",
          "83",
          "84",
          "85",
          "86",
          "87",
          "88",
          "89",
          "90",
          "91",
          "92",
          "93",
          "94",
          "95",
          "96",
          "97",
          "98",
          "99",
          "100",
          "101",
          "102",
          "103",
          "104",
          "105",
          "106",
          "107",
          "108",
          "109",
          "110",
          "111",
          "112",
          "113",
          "114",
          "115",
          "116",
          "117",
          "118",
          "119",
          "120",
          "121",
          "122",
          "123",
          "124",
          "125",
          "126",
          "127",
          "128",
          "129",
          "130",
          "131",
          "132",
          "133",
          "134",
          "135",
          "136",
          "137",
          "138",
          "139",
          "140",
          "141",
          "142",
          "143",
          "144",
          "145",
          "146",
          "147",
          "148",
          "149",
          "150",
          "151",
          "152",
          "153",
          "154",
          "155",
          "156",
          "157",
          "158",
          "159",
          "160",
          "161",
          "162",
          "163",
          "164",
          "165",
          "166",
          "167",
          "168",
          "169",
          "170",
          "171",
          "172",
          "173",
          "174",
          "175",
          "176",
          "177",
          "178",
          "179",
          "180",
          "181",
          "182",
          "183",
          "184",
          "185",
          "186",
          "187",
          "188",
          "189",
          "190",
          "191",
          "192",
          "193",
          "194",
          "195",
          "196",
          "197",
          "198",
          "199",
          "200",
          "201",
          "202",
          "203",
          "204",
          "205",
          "206",
          "207",
          "208",
          "209",
          "210",
          "211",
          "212",
          "213",
          "214",
          "215",
          "216",
          "217",
          "218",
          "219",
          "220",
          "221",
          "222",
          "223",
          "224",
          "225",
          "226",
          "227",
          "228",
          "229",
          "230",
          "231",
          "232",
          "233",
          "234",
          "235",
          "236",
          "237",
          "238",
          "239",
          "240",
          "241",
          "242",
          "243",
          "244",
          "245",
          "246",
          "247",
          "248",
          "249",
          "250"
         ],
         "y": [
          42.753,
          44.069,
          43.462,
          44.531,
          44.902,
          48.254,
          44.49,
          43.685,
          48.697,
          48.057,
          46.578,
          44.781,
          45.73,
          44.633,
          45.869,
          49.677,
          53.954,
          51.543,
          56.704,
          57.981,
          54.642,
          55.142,
          57.177,
          57.43,
          58.032,
          58.365,
          55.62,
          54.894,
          55.407,
          55.238,
          55.486,
          50.42,
          50.237,
          51.215,
          50.923,
          47.409,
          48.095,
          47.877,
          50.318,
          48.919,
          49.722,
          49.899,
          49.134,
          47.972,
          47.17,
          47.566,
          46.006,
          46.129,
          48.357,
          48.31,
          45.667,
          44.348,
          42.089,
          42.965,
          44.273,
          41.023,
          39.088,
          40.224,
          40.817,
          39.469,
          37.06,
          35.676,
          36.879,
          35.782,
          34.211,
          36.423,
          33.682,
          34.451,
          35.068,
          35.32,
          35.6976666666667,
          36.0753333333333,
          36.453,
          33.99,
          32.392,
          31.7185,
          31.045,
          32.755,
          33.843,
          34.695,
          32.052,
          31.083,
          31.285,
          31.301,
          31.301,
          30.457,
          30.238,
          28.277,
          28.7,
          29.314,
          28.43,
          28.678,
          30.073,
          29,
          29.298,
          29.373,
          30.48,
          31.06,
          30.117,
          30.094,
          29.137,
          29.278,
          28.825,
          28.446,
          27.812,
          26.571,
          26.211,
          25.595,
          25.641,
          25.529,
          24.405,
          24.854,
          24.598,
          23.886,
          23.59,
          24.531,
          24.955,
          26.04,
          25.33,
          26.038,
          27.211,
          27.781,
          26.948,
          26.279,
          26.658,
          25.356,
          25.212,
          25.233,
          26.38,
          27.325,
          29.137,
          29.173,
          27.984,
          26.739,
          27.946,
          28.774,
          27.807,
          28.317,
          28.071,
          27.744,
          27.417,
          27.09,
          26.431,
          27.069,
          27.549,
          28.912,
          28.39,
          28.085,
          30.395,
          31.615,
          31.876,
          33.883,
          31.879,
          32.969,
          31.424,
          30.101,
          29.216,
          29.739,
          30.4,
          29.588,
          28.679,
          29.728,
          30.5855,
          31.443,
          31.198,
          32.31,
          31.602,
          31.291,
          31.51,
          30.692,
          30.259,
          30.485,
          30.5,
          30.992,
          31.591,
          32.579,
          33.833,
          35.22,
          36.239,
          34.929,
          35.954,
          34.452,
          34.806,
          35.786,
          34.806,
          36.368,
          34.252,
          33.743,
          34.076,
          33.485,
          34.659,
          34.745,
          35.723,
          36.216,
          35.959,
          34.768,
          35.243,
          35.89,
          35.108,
          34.551,
          34.634,
          35.452,
          34.427,
          38.898,
          38.734,
          38.165,
          38.643,
          37.829,
          38.118,
          37.896,
          37.321,
          36.355,
          35.889,
          36.309,
          37.011,
          36.388,
          37.45,
          36.641,
          37.168,
          36.882,
          36.496,
          36.392,
          37.281,
          36.655,
          37.066,
          38.216,
          38.5,
          39.113,
          40.143,
          39.929,
          38.817,
          39.592,
          41.208,
          42.769,
          43.247,
          42.761,
          42.667,
          42.25,
          42.799,
          42.947,
          42.799,
          40.868,
          39.973,
          39.54,
          39.851,
          40.554,
          41.292,
          41.229,
          40.834,
          41.583
         ]
        },
        {
         "mode": "lines",
         "name": "Forecasted Prices",
         "type": "scatter",
         "x": [
          "1",
          "2",
          "3",
          "4",
          "5",
          "6",
          "7",
          "8",
          "9",
          "10",
          "11",
          "12",
          "13",
          "14",
          "15",
          "16",
          "17",
          "18",
          "19",
          "20",
          "21",
          "22",
          "23",
          "24",
          "25",
          "26",
          "27",
          "28",
          "29",
          "30",
          "31",
          "32",
          "33",
          "34",
          "35",
          "36",
          "37",
          "38",
          "39",
          "40",
          "41",
          "42",
          "43",
          "44",
          "45",
          "46",
          "47",
          "48",
          "49",
          "50",
          "51",
          "52",
          "53",
          "54",
          "55",
          "56",
          "57",
          "58",
          "59",
          "60",
          "61",
          "62",
          "63",
          "64",
          "65",
          "66",
          "67",
          "68",
          "69",
          "70",
          "71",
          "72",
          "73",
          "74",
          "75",
          "76",
          "77",
          "78",
          "79",
          "80",
          "81",
          "82",
          "83",
          "84",
          "85",
          "86",
          "87",
          "88",
          "89",
          "90",
          "91",
          "92",
          "93",
          "94",
          "95",
          "96",
          "97",
          "98",
          "99",
          "100",
          "101",
          "102",
          "103",
          "104",
          "105",
          "106",
          "107",
          "108",
          "109",
          "110",
          "111",
          "112",
          "113",
          "114",
          "115",
          "116",
          "117",
          "118",
          "119",
          "120",
          "121",
          "122",
          "123",
          "124",
          "125",
          "126",
          "127",
          "128",
          "129",
          "130",
          "131",
          "132",
          "133",
          "134",
          "135",
          "136",
          "137",
          "138",
          "139",
          "140",
          "141",
          "142",
          "143",
          "144",
          "145",
          "146",
          "147",
          "148",
          "149",
          "150",
          "151",
          "152",
          "153",
          "154",
          "155",
          "156",
          "157",
          "158",
          "159",
          "160",
          "161",
          "162",
          "163",
          "164",
          "165",
          "166",
          "167",
          "168",
          "169",
          "170",
          "171",
          "172",
          "173",
          "174",
          "175",
          "176",
          "177",
          "178",
          "179",
          "180",
          "181",
          "182",
          "183",
          "184",
          "185",
          "186",
          "187",
          "188",
          "189",
          "190",
          "191",
          "192",
          "193",
          "194",
          "195",
          "196",
          "197",
          "198",
          "199",
          "200",
          "201",
          "202",
          "203",
          "204",
          "205",
          "206",
          "207",
          "208",
          "209",
          "210",
          "211",
          "212",
          "213",
          "214",
          "215",
          "216",
          "217",
          "218",
          "219",
          "220",
          "221",
          "222",
          "223",
          "224",
          "225",
          "226",
          "227",
          "228",
          "229",
          "230",
          "231",
          "232",
          "233",
          "234",
          "235",
          "236",
          "237",
          "238",
          "239",
          "240",
          "241",
          "242",
          "243",
          "244",
          "245",
          "246",
          "247",
          "248",
          "249",
          "250"
         ],
         "y": [
          44.337421272244754,
          43.589721334532065,
          45.50355938596318,
          44.02618578370959,
          44.69978416689151,
          42.81753531183929,
          44.36177289363545,
          43.118568768735905,
          44.50977365885774,
          44.695615708027596,
          48.125783578267566,
          43.81180156840153,
          44.16424877309964,
          49.6797448941142,
          47.275147553026244,
          46.78884903842605,
          45.20637488121577,
          46.13154624825765,
          44.77906623740212,
          46.24370071621785,
          49.45323977785242,
          53.22286347971102,
          50.802898219946776,
          56.94700391486888,
          57.09582749459951,
          54.636167346788234,
          55.82248427324305,
          57.32418441028979,
          57.455416148143826,
          58.15677852203936,
          58.42041397800143,
          55.46496496663506,
          55.07990434466308,
          55.42122780336815,
          55.12595804560215,
          55.40428672403515,
          49.53731378373459,
          50.63312955696625,
          51.07542840265379,
          50.58787409277787,
          47.1410705402312,
          48.371746859813996,
          47.551270927699115,
          50.24601490507841,
          48.37789202030332,
          49.760800898031846,
          49.651948102118894,
          48.88606816610069,
          47.84666231623359,
          47.12758496993056,
          47.410721367670334,
          45.64988835855024,
          46.094587290561435,
          48.084412102342526,
          47.669730721545534,
          45.35166219912532,
          44.44634826593255,
          41.99003080942645,
          42.92797651953471,
          43.86576959289935,
          40.49283743033663,
          39.28090671923554,
          40.30975876358177,
          40.42083643984174,
          39.06877125612911,
          36.96827850244099,
          35.78240810433363,
          36.93735664596515,
          35.38100480123377,
          34.12679369147281,
          36.52618382714041,
          33.14502163273078,
          34.68576921997642,
          34.7671882267741,
          35.09163690752128,
          35.47467279862543,
          35.80027538565706,
          36.16199437047443,
          33.64724798071191,
          32.40932884653357,
          31.710742088701956,
          30.945292247951016,
          32.63280051321612,
          33.407662372303605,
          34.26462144998796,
          31.65296339046872,
          31.229128796370496,
          31.210877169763375,
          31.075945295570794,
          30.885583465078945,
          30.335297087223665,
          30.21462224875504,
          28.055454525221506,
          28.86189553587767,
          29.1333374704151,
          28.191223820698088,
          28.719481736887666,
          29.89144183843887,
          28.588432215234107,
          29.29965516556194,
          29.162863449856225,
          30.293777504464984,
          30.73123393795644,
          29.863847709201572,
          30.066606947120462,
          28.929797852052236,
          29.20663654021207,
          28.590104225713393,
          28.29736822649728,
          27.671932764339576,
          26.478699459680655,
          26.180675631609596,
          25.42967193474323,
          25.555835651346392,
          25.358091944781574,
          24.205672297014782,
          24.840705980454654,
          24.312127249906045,
          23.695941717147882,
          23.49146332935663,
          24.390980026705186,
          24.608313171717494,
          25.75887627809585,
          24.954285010847425,
          25.910315770686694,
          26.88844639200815,
          27.38305310260096,
          26.608386525640434,
          26.10392933526043,
          26.51911241863864,
          25.031189499348702,
          25.13776128467669,
          25.019029416347212,
          26.16969949106278,
          26.92985917272078,
          28.75119501429742,
          28.59938180709171,
          27.60446197037764,
          26.57042935159871,
          27.85976111943934,
          28.342592612199073,
          27.479363027437863,
          28.316730591138306,
          27.803114535265973,
          27.578530903421377,
          27.27123152811319,
          26.9528954064891,
          26.26380667399396,
          26.989964944214776,
          27.279312573574813,
          28.6819938165778,
          27.985951018545755,
          27.9518379515348,
          30.267720321220665,
          31.115117253234555,
          31.4590232824964,
          33.65303306271204,
          31.271248941870905,
          33.019931275093334,
          30.981195616871585,
          30.057370312546432,
          29.17553417294278,
          29.651960922574037,
          30.097428748719246,
          29.256762226917612,
          28.582778366324696,
          29.692515787333996,
          30.50279610491909,
          31.06446821113406,
          30.84892211412641,
          32.33590246565731,
          31.156776518423516,
          31.173596525920242,
          31.365721759976896,
          30.466509056101692,
          30.203848101276172,
          30.395294658613818,
          30.29331959908218,
          30.84393077727844,
          31.3733784744395,
          32.35387176821676,
          33.57273440819278,
          34.93185310144839,
          35.88556494241859,
          34.55859813651245,
          36.19420821732822,
          33.987258337353005,
          34.81039342149829,
          35.56977025043594,
          34.45536906229118,
          36.29071996509635,
          33.8032553573091,
          33.85188371912508,
          33.95843485290373,
          33.253625045978474,
          34.58888700301686,
          34.39993560847843,
          35.54576915589379,
          35.92398512074933,
          35.74539087531009,
          34.59927433393623,
          35.27784153932124,
          35.699996231113396,
          34.86864641990147,
          34.49908104019204,
          34.554592882085316,
          35.31036936817608,
          34.13502184390008,
          39.64303083897481,
          38.2198473701747,
          38.30533574582218,
          38.88007436049802,
          37.87434951876918,
          38.2867000596625,
          37.910090978473114,
          37.46007739232564,
          36.502598159222686,
          36.11695518387858,
          36.48966844868843,
          37.10698949325868,
          36.34443910689082,
          37.57302937101866,
          36.53548431289088,
          37.3255406952527,
          36.8729002402197,
          36.584684480492164,
          36.525161245523954,
          37.3676483546122,
          36.58024559485276,
          37.18046239444412,
          38.162989379882774,
          38.34666048057992,
          38.78636873393941,
          39.90411319778696,
          39.68737753693672,
          38.74073904020829,
          39.63741514232154,
          41.01320419636728,
          42.45235220440395,
          42.947164593007265,
          42.60510215924944,
          42.66287926262063,
          42.23278952319258,
          42.78705311447507,
          42.820492369469896,
          42.63797735981564,
          40.71116089300169,
          40.15181052489161,
          39.565852597476834,
          39.81171875525833
         ]
        }
       ],
       "layout": {
        "template": {
         "data": {
          "bar": [
           {
            "error_x": {
             "color": "#2a3f5f"
            },
            "error_y": {
             "color": "#2a3f5f"
            },
            "marker": {
             "line": {
              "color": "#E5ECF6",
              "width": 0.5
             },
             "pattern": {
              "fillmode": "overlay",
              "size": 10,
              "solidity": 0.2
             }
            },
            "type": "bar"
           }
          ],
          "barpolar": [
           {
            "marker": {
             "line": {
              "color": "#E5ECF6",
              "width": 0.5
             },
             "pattern": {
              "fillmode": "overlay",
              "size": 10,
              "solidity": 0.2
             }
            },
            "type": "barpolar"
           }
          ],
          "carpet": [
           {
            "aaxis": {
             "endlinecolor": "#2a3f5f",
             "gridcolor": "white",
             "linecolor": "white",
             "minorgridcolor": "white",
             "startlinecolor": "#2a3f5f"
            },
            "baxis": {
             "endlinecolor": "#2a3f5f",
             "gridcolor": "white",
             "linecolor": "white",
             "minorgridcolor": "white",
             "startlinecolor": "#2a3f5f"
            },
            "type": "carpet"
           }
          ],
          "choropleth": [
           {
            "colorbar": {
             "outlinewidth": 0,
             "ticks": ""
            },
            "type": "choropleth"
           }
          ],
          "contour": [
           {
            "colorbar": {
             "outlinewidth": 0,
             "ticks": ""
            },
            "colorscale": [
             [
              0,
              "#0d0887"
             ],
             [
              0.1111111111111111,
              "#46039f"
             ],
             [
              0.2222222222222222,
              "#7201a8"
             ],
             [
              0.3333333333333333,
              "#9c179e"
             ],
             [
              0.4444444444444444,
              "#bd3786"
             ],
             [
              0.5555555555555556,
              "#d8576b"
             ],
             [
              0.6666666666666666,
              "#ed7953"
             ],
             [
              0.7777777777777778,
              "#fb9f3a"
             ],
             [
              0.8888888888888888,
              "#fdca26"
             ],
             [
              1,
              "#f0f921"
             ]
            ],
            "type": "contour"
           }
          ],
          "contourcarpet": [
           {
            "colorbar": {
             "outlinewidth": 0,
             "ticks": ""
            },
            "type": "contourcarpet"
           }
          ],
          "heatmap": [
           {
            "colorbar": {
             "outlinewidth": 0,
             "ticks": ""
            },
            "colorscale": [
             [
              0,
              "#0d0887"
             ],
             [
              0.1111111111111111,
              "#46039f"
             ],
             [
              0.2222222222222222,
              "#7201a8"
             ],
             [
              0.3333333333333333,
              "#9c179e"
             ],
             [
              0.4444444444444444,
              "#bd3786"
             ],
             [
              0.5555555555555556,
              "#d8576b"
             ],
             [
              0.6666666666666666,
              "#ed7953"
             ],
             [
              0.7777777777777778,
              "#fb9f3a"
             ],
             [
              0.8888888888888888,
              "#fdca26"
             ],
             [
              1,
              "#f0f921"
             ]
            ],
            "type": "heatmap"
           }
          ],
          "heatmapgl": [
           {
            "colorbar": {
             "outlinewidth": 0,
             "ticks": ""
            },
            "colorscale": [
             [
              0,
              "#0d0887"
             ],
             [
              0.1111111111111111,
              "#46039f"
             ],
             [
              0.2222222222222222,
              "#7201a8"
             ],
             [
              0.3333333333333333,
              "#9c179e"
             ],
             [
              0.4444444444444444,
              "#bd3786"
             ],
             [
              0.5555555555555556,
              "#d8576b"
             ],
             [
              0.6666666666666666,
              "#ed7953"
             ],
             [
              0.7777777777777778,
              "#fb9f3a"
             ],
             [
              0.8888888888888888,
              "#fdca26"
             ],
             [
              1,
              "#f0f921"
             ]
            ],
            "type": "heatmapgl"
           }
          ],
          "histogram": [
           {
            "marker": {
             "pattern": {
              "fillmode": "overlay",
              "size": 10,
              "solidity": 0.2
             }
            },
            "type": "histogram"
           }
          ],
          "histogram2d": [
           {
            "colorbar": {
             "outlinewidth": 0,
             "ticks": ""
            },
            "colorscale": [
             [
              0,
              "#0d0887"
             ],
             [
              0.1111111111111111,
              "#46039f"
             ],
             [
              0.2222222222222222,
              "#7201a8"
             ],
             [
              0.3333333333333333,
              "#9c179e"
             ],
             [
              0.4444444444444444,
              "#bd3786"
             ],
             [
              0.5555555555555556,
              "#d8576b"
             ],
             [
              0.6666666666666666,
              "#ed7953"
             ],
             [
              0.7777777777777778,
              "#fb9f3a"
             ],
             [
              0.8888888888888888,
              "#fdca26"
             ],
             [
              1,
              "#f0f921"
             ]
            ],
            "type": "histogram2d"
           }
          ],
          "histogram2dcontour": [
           {
            "colorbar": {
             "outlinewidth": 0,
             "ticks": ""
            },
            "colorscale": [
             [
              0,
              "#0d0887"
             ],
             [
              0.1111111111111111,
              "#46039f"
             ],
             [
              0.2222222222222222,
              "#7201a8"
             ],
             [
              0.3333333333333333,
              "#9c179e"
             ],
             [
              0.4444444444444444,
              "#bd3786"
             ],
             [
              0.5555555555555556,
              "#d8576b"
             ],
             [
              0.6666666666666666,
              "#ed7953"
             ],
             [
              0.7777777777777778,
              "#fb9f3a"
             ],
             [
              0.8888888888888888,
              "#fdca26"
             ],
             [
              1,
              "#f0f921"
             ]
            ],
            "type": "histogram2dcontour"
           }
          ],
          "mesh3d": [
           {
            "colorbar": {
             "outlinewidth": 0,
             "ticks": ""
            },
            "type": "mesh3d"
           }
          ],
          "parcoords": [
           {
            "line": {
             "colorbar": {
              "outlinewidth": 0,
              "ticks": ""
             }
            },
            "type": "parcoords"
           }
          ],
          "pie": [
           {
            "automargin": true,
            "type": "pie"
           }
          ],
          "scatter": [
           {
            "fillpattern": {
             "fillmode": "overlay",
             "size": 10,
             "solidity": 0.2
            },
            "type": "scatter"
           }
          ],
          "scatter3d": [
           {
            "line": {
             "colorbar": {
              "outlinewidth": 0,
              "ticks": ""
             }
            },
            "marker": {
             "colorbar": {
              "outlinewidth": 0,
              "ticks": ""
             }
            },
            "type": "scatter3d"
           }
          ],
          "scattercarpet": [
           {
            "marker": {
             "colorbar": {
              "outlinewidth": 0,
              "ticks": ""
             }
            },
            "type": "scattercarpet"
           }
          ],
          "scattergeo": [
           {
            "marker": {
             "colorbar": {
              "outlinewidth": 0,
              "ticks": ""
             }
            },
            "type": "scattergeo"
           }
          ],
          "scattergl": [
           {
            "marker": {
             "colorbar": {
              "outlinewidth": 0,
              "ticks": ""
             }
            },
            "type": "scattergl"
           }
          ],
          "scattermapbox": [
           {
            "marker": {
             "colorbar": {
              "outlinewidth": 0,
              "ticks": ""
             }
            },
            "type": "scattermapbox"
           }
          ],
          "scatterpolar": [
           {
            "marker": {
             "colorbar": {
              "outlinewidth": 0,
              "ticks": ""
             }
            },
            "type": "scatterpolar"
           }
          ],
          "scatterpolargl": [
           {
            "marker": {
             "colorbar": {
              "outlinewidth": 0,
              "ticks": ""
             }
            },
            "type": "scatterpolargl"
           }
          ],
          "scatterternary": [
           {
            "marker": {
             "colorbar": {
              "outlinewidth": 0,
              "ticks": ""
             }
            },
            "type": "scatterternary"
           }
          ],
          "surface": [
           {
            "colorbar": {
             "outlinewidth": 0,
             "ticks": ""
            },
            "colorscale": [
             [
              0,
              "#0d0887"
             ],
             [
              0.1111111111111111,
              "#46039f"
             ],
             [
              0.2222222222222222,
              "#7201a8"
             ],
             [
              0.3333333333333333,
              "#9c179e"
             ],
             [
              0.4444444444444444,
              "#bd3786"
             ],
             [
              0.5555555555555556,
              "#d8576b"
             ],
             [
              0.6666666666666666,
              "#ed7953"
             ],
             [
              0.7777777777777778,
              "#fb9f3a"
             ],
             [
              0.8888888888888888,
              "#fdca26"
             ],
             [
              1,
              "#f0f921"
             ]
            ],
            "type": "surface"
           }
          ],
          "table": [
           {
            "cells": {
             "fill": {
              "color": "#EBF0F8"
             },
             "line": {
              "color": "white"
             }
            },
            "header": {
             "fill": {
              "color": "#C8D4E3"
             },
             "line": {
              "color": "white"
             }
            },
            "type": "table"
           }
          ]
         },
         "layout": {
          "annotationdefaults": {
           "arrowcolor": "#2a3f5f",
           "arrowhead": 0,
           "arrowwidth": 1
          },
          "autotypenumbers": "strict",
          "coloraxis": {
           "colorbar": {
            "outlinewidth": 0,
            "ticks": ""
           }
          },
          "colorscale": {
           "diverging": [
            [
             0,
             "#8e0152"
            ],
            [
             0.1,
             "#c51b7d"
            ],
            [
             0.2,
             "#de77ae"
            ],
            [
             0.3,
             "#f1b6da"
            ],
            [
             0.4,
             "#fde0ef"
            ],
            [
             0.5,
             "#f7f7f7"
            ],
            [
             0.6,
             "#e6f5d0"
            ],
            [
             0.7,
             "#b8e186"
            ],
            [
             0.8,
             "#7fbc41"
            ],
            [
             0.9,
             "#4d9221"
            ],
            [
             1,
             "#276419"
            ]
           ],
           "sequential": [
            [
             0,
             "#0d0887"
            ],
            [
             0.1111111111111111,
             "#46039f"
            ],
            [
             0.2222222222222222,
             "#7201a8"
            ],
            [
             0.3333333333333333,
             "#9c179e"
            ],
            [
             0.4444444444444444,
             "#bd3786"
            ],
            [
             0.5555555555555556,
             "#d8576b"
            ],
            [
             0.6666666666666666,
             "#ed7953"
            ],
            [
             0.7777777777777778,
             "#fb9f3a"
            ],
            [
             0.8888888888888888,
             "#fdca26"
            ],
            [
             1,
             "#f0f921"
            ]
           ],
           "sequentialminus": [
            [
             0,
             "#0d0887"
            ],
            [
             0.1111111111111111,
             "#46039f"
            ],
            [
             0.2222222222222222,
             "#7201a8"
            ],
            [
             0.3333333333333333,
             "#9c179e"
            ],
            [
             0.4444444444444444,
             "#bd3786"
            ],
            [
             0.5555555555555556,
             "#d8576b"
            ],
            [
             0.6666666666666666,
             "#ed7953"
            ],
            [
             0.7777777777777778,
             "#fb9f3a"
            ],
            [
             0.8888888888888888,
             "#fdca26"
            ],
            [
             1,
             "#f0f921"
            ]
           ]
          },
          "colorway": [
           "#636efa",
           "#EF553B",
           "#00cc96",
           "#ab63fa",
           "#FFA15A",
           "#19d3f3",
           "#FF6692",
           "#B6E880",
           "#FF97FF",
           "#FECB52"
          ],
          "font": {
           "color": "#2a3f5f"
          },
          "geo": {
           "bgcolor": "white",
           "lakecolor": "white",
           "landcolor": "#E5ECF6",
           "showlakes": true,
           "showland": true,
           "subunitcolor": "white"
          },
          "hoverlabel": {
           "align": "left"
          },
          "hovermode": "closest",
          "mapbox": {
           "style": "light"
          },
          "paper_bgcolor": "white",
          "plot_bgcolor": "#E5ECF6",
          "polar": {
           "angularaxis": {
            "gridcolor": "white",
            "linecolor": "white",
            "ticks": ""
           },
           "bgcolor": "#E5ECF6",
           "radialaxis": {
            "gridcolor": "white",
            "linecolor": "white",
            "ticks": ""
           }
          },
          "scene": {
           "xaxis": {
            "backgroundcolor": "#E5ECF6",
            "gridcolor": "white",
            "gridwidth": 2,
            "linecolor": "white",
            "showbackground": true,
            "ticks": "",
            "zerolinecolor": "white"
           },
           "yaxis": {
            "backgroundcolor": "#E5ECF6",
            "gridcolor": "white",
            "gridwidth": 2,
            "linecolor": "white",
            "showbackground": true,
            "ticks": "",
            "zerolinecolor": "white"
           },
           "zaxis": {
            "backgroundcolor": "#E5ECF6",
            "gridcolor": "white",
            "gridwidth": 2,
            "linecolor": "white",
            "showbackground": true,
            "ticks": "",
            "zerolinecolor": "white"
           }
          },
          "shapedefaults": {
           "line": {
            "color": "#2a3f5f"
           }
          },
          "ternary": {
           "aaxis": {
            "gridcolor": "white",
            "linecolor": "white",
            "ticks": ""
           },
           "baxis": {
            "gridcolor": "white",
            "linecolor": "white",
            "ticks": ""
           },
           "bgcolor": "#E5ECF6",
           "caxis": {
            "gridcolor": "white",
            "linecolor": "white",
            "ticks": ""
           }
          },
          "title": {
           "x": 0.05
          },
          "xaxis": {
           "automargin": true,
           "gridcolor": "white",
           "linecolor": "white",
           "ticks": "",
           "title": {
            "standoff": 15
           },
           "zerolinecolor": "white",
           "zerolinewidth": 2
          },
          "yaxis": {
           "automargin": true,
           "gridcolor": "white",
           "linecolor": "white",
           "ticks": "",
           "title": {
            "standoff": 15
           },
           "zerolinecolor": "white",
           "zerolinewidth": 2
          }
         }
        },
        "title": {
         "text": "Naïve Actual vs Forecasted Prices"
        },
        "xaxis": {
         "title": {
          "text": "Index"
         }
        },
        "yaxis": {
         "title": {
          "text": "Price"
         }
        }
       }
      }
     },
     "metadata": {},
     "output_type": "display_data"
    }
   ],
   "source": [
    "%R -o hub2_forecast_comparison\n",
    "\n",
    "actual_trace = go.Scatter(\n",
    "    x=hub2_forecast_comparison.index,\n",
    "    y=hub2_forecast_comparison['Actual'],\n",
    "    mode='lines',\n",
    "    name='Actual Prices'\n",
    ")\n",
    "\n",
    "forecasted_trace = go.Scatter(\n",
    "    x=hub2_forecast_comparison.index,\n",
    "    y=hub2_forecast_comparison['Forecasted'],\n",
    "    mode='lines',\n",
    "    name='Forecasted Prices'\n",
    ")\n",
    "\n",
    "# Create the plot\n",
    "layout = go.Layout(\n",
    "    title='Naïve Actual vs Forecasted Prices',\n",
    "    xaxis=dict(title='Index'),\n",
    "    yaxis=dict(title='Price'),\n",
    ")\n",
    "\n",
    "fig = go.Figure(data=[actual_trace, forecasted_trace], layout=layout)\n",
    "fig.show()"
   ]
  }
 ],
 "metadata": {
  "kernelspec": {
   "display_name": "Python 3",
   "language": "python",
   "name": "python3"
  },
  "language_info": {
   "codemirror_mode": {
    "name": "ipython",
    "version": 3
   },
   "file_extension": ".py",
   "mimetype": "text/x-python",
   "name": "python",
   "nbconvert_exporter": "python",
   "pygments_lexer": "ipython3",
   "version": "3.11.9"
  }
 },
 "nbformat": 4,
 "nbformat_minor": 2
}
