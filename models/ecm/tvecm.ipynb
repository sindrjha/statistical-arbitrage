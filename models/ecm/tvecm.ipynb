{
 "cells": [
  {
   "cell_type": "markdown",
   "metadata": {},
   "source": [
    "# Statistical models in R\n",
    "This notebook is covering:\n",
    "1. Test predict method for TVECM"
   ]
  },
  {
   "cell_type": "code",
   "execution_count": 1,
   "metadata": {},
   "outputs": [],
   "source": [
    "import pandas as pd\n",
    "import plotly.express as px\n",
    "import plotly.graph_objs as go"
   ]
  },
  {
   "cell_type": "code",
   "execution_count": 2,
   "metadata": {},
   "outputs": [
    {
     "name": "stdout",
     "output_type": "stream",
     "text": [
      "Requirement already satisfied: rpy2 in /Users/sindrehaugland/Documents/Master/statistical-arbitrage/.conda/lib/python3.11/site-packages (3.5.16)\n",
      "Requirement already satisfied: cffi>=1.15.1 in /Users/sindrehaugland/Documents/Master/statistical-arbitrage/.conda/lib/python3.11/site-packages (from rpy2) (1.17.1)\n",
      "Requirement already satisfied: jinja2 in /Users/sindrehaugland/Documents/Master/statistical-arbitrage/.conda/lib/python3.11/site-packages (from rpy2) (3.1.4)\n",
      "Requirement already satisfied: tzlocal in /Users/sindrehaugland/Documents/Master/statistical-arbitrage/.conda/lib/python3.11/site-packages (from rpy2) (5.2)\n",
      "Requirement already satisfied: pycparser in /Users/sindrehaugland/Documents/Master/statistical-arbitrage/.conda/lib/python3.11/site-packages (from cffi>=1.15.1->rpy2) (2.22)\n",
      "Requirement already satisfied: MarkupSafe>=2.0 in /Users/sindrehaugland/Documents/Master/statistical-arbitrage/.conda/lib/python3.11/site-packages (from jinja2->rpy2) (2.1.5)\n",
      "Note: you may need to restart the kernel to use updated packages.\n"
     ]
    }
   ],
   "source": [
    "# rpy2 is a Python package that allows you to run R code from Python\n",
    "%pip install rpy2"
   ]
  },
  {
   "cell_type": "code",
   "execution_count": 3,
   "metadata": {},
   "outputs": [],
   "source": [
    "# Load the rpy2 extension to use R in Jupyter\n",
    "%load_ext rpy2.ipython"
   ]
  },
  {
   "cell_type": "markdown",
   "metadata": {},
   "source": [
    "The magic function `%%R` is used for running R code in Jupyter"
   ]
  },
  {
   "cell_type": "code",
   "execution_count": 4,
   "metadata": {},
   "outputs": [
    {
     "data": {
      "text/plain": [
       "Loading required package: dplyr\n",
       "\n",
       "Attaching package: ‘dplyr’\n",
       "\n",
       "The following objects are masked from ‘package:stats’:\n",
       "\n",
       "    filter, lag\n",
       "\n",
       "The following objects are masked from ‘package:base’:\n",
       "\n",
       "    intersect, setdiff, setequal, union\n",
       "\n",
       "Loading required package: zoo\n",
       "\n",
       "Attaching package: ‘zoo’\n",
       "\n",
       "The following objects are masked from ‘package:base’:\n",
       "\n",
       "    as.Date, as.Date.numeric\n",
       "\n",
       "Loading required package: psych\n",
       "Loading required package: TSA\n",
       "\n",
       "Attaching package: ‘TSA’\n",
       "\n",
       "The following objects are masked from ‘package:stats’:\n",
       "\n",
       "    acf, arima\n",
       "\n",
       "The following object is masked from ‘package:utils’:\n",
       "\n",
       "    tar\n",
       "\n",
       "Loading required package: forecast\n",
       "Registered S3 method overwritten by 'quantmod':\n",
       "  method            from\n",
       "  as.zoo.data.frame zoo \n",
       "Registered S3 methods overwritten by 'forecast':\n",
       "  method       from\n",
       "  fitted.Arima TSA \n",
       "  plot.Arima   TSA \n",
       "Loading required package: Metrics\n",
       "\n",
       "Attaching package: ‘Metrics’\n",
       "\n",
       "The following object is masked from ‘package:forecast’:\n",
       "\n",
       "    accuracy\n",
       "\n",
       "Loading required package: ggplot2\n",
       "\n",
       "Attaching package: ‘ggplot2’\n",
       "\n",
       "The following objects are masked from ‘package:psych’:\n",
       "\n",
       "    %+%, alpha\n",
       "\n",
       "Loading required package: vars\n",
       "Loading required package: MASS\n",
       "\n",
       "Attaching package: ‘MASS’\n",
       "\n",
       "The following object is masked from ‘package:dplyr’:\n",
       "\n",
       "    select\n",
       "\n",
       "Loading required package: strucchange\n",
       "Loading required package: sandwich\n",
       "Loading required package: urca\n",
       "Loading required package: lmtest\n",
       "Loading required package: svars\n",
       "Registered S3 method overwritten by 'svars':\n",
       "  method           from\n",
       "  stability.varest vars\n",
       "Loading required package: tsDyn\n",
       "\n",
       "Attaching package: ‘tsDyn’\n",
       "\n",
       "The following object is masked from ‘package:Metrics’:\n",
       "\n",
       "    mse\n",
       "\n",
       "Loading required package: devtools\n",
       "Loading required package: usethis\n"
      ]
     },
     "metadata": {},
     "output_type": "display_data"
    }
   ],
   "source": [
    "%%R\n",
    "# Install required packages\n",
    "if (require(\"dplyr\") == FALSE) {\n",
    "  install.packages(\"dplyr\")\n",
    "  library(dplyr)\n",
    "}\n",
    "if (require(\"zoo\") == FALSE) {\n",
    "  install.packages(\"zoo\")\n",
    "  library(zoo)\n",
    "}\n",
    "if (require(\"psych\") == FALSE) {\n",
    "  install.packages(\"psych\")\n",
    "  library(psych)\n",
    "}\n",
    "if (require(\"TSA\") == FALSE) {\n",
    "  install.packages(\"TSA\")\n",
    "  library(TSA)\n",
    "}\n",
    "if (require(\"forecast\") == FALSE) {\n",
    "  install.packages(\"forecast\")\n",
    "  library(forecast)\n",
    "}\n",
    "if (require(\"Metrics\") == FALSE) {\n",
    "  install.packages(\"Metrics\")\n",
    "  library(Metrics)\n",
    "}\n",
    "if (require(\"ggplot2\") == FALSE) {\n",
    "  install.packages(\"ggplot2\")\n",
    "  library(ggplot2)\n",
    "}\n",
    "if (require(\"vars\") == FALSE) {\n",
    "  install.packages(\"vars\")\n",
    "  library(vars)\n",
    "}\n",
    "if (require(\"svars\") == FALSE) {\n",
    "  install.packages(\"svars\")\n",
    "  library(svars)\n",
    "}\n",
    "if (require(\"tsDyn\") == FALSE) {\n",
    "  install.packages(\"tsDyn\")\n",
    "  library(tsDyn)\n",
    "}\n",
    "if (require(\"devtools\") == FALSE) {\n",
    "  install.packages(\"devtools\")\n",
    "  library(devtools)\n",
    "}\n"
   ]
  },
  {
   "cell_type": "code",
   "execution_count": 5,
   "metadata": {},
   "outputs": [],
   "source": [
    "%%R\n",
    "# Load data\n",
    "hub_prices <- list(\n",
    "  nbp = read.csv(\"../../data/interpolated/nbp_close_interpolated.csv\"),\n",
    "  peg = read.csv(\"../../data/interpolated/peg_close_interpolated.csv\"),\n",
    "  the = read.csv(\"../../data/interpolated/the_close_interpolated.csv\"),\n",
    "  ttf = read.csv(\"../../data/interpolated/ttf_close_interpolated.csv\"),\n",
    "  ztp = read.csv(\"../../data/interpolated/ztp_close_interpolated.csv\")\n",
    ")"
   ]
  },
  {
   "cell_type": "code",
   "execution_count": 6,
   "metadata": {},
   "outputs": [],
   "source": [
    "%%R\n",
    "# Load the prices processed pricing data for each hub\n",
    "nbp_price <- hub_prices$nbp\n",
    "peg_price <- hub_prices$peg\n",
    "the_price <- hub_prices$the\n",
    "ttf_price <- hub_prices$ttf\n",
    "ztp_price <- hub_prices$ztp"
   ]
  },
  {
   "cell_type": "code",
   "execution_count": 7,
   "metadata": {},
   "outputs": [],
   "source": [
    "%%R\n",
    "hub1 <- ttf_price\n",
    "hub2 <- nbp_price\n",
    "\n",
    "hubs <- data.frame(hub1 = hub1$CLOSE, hub2 = hub2$CLOSE)"
   ]
  },
  {
   "cell_type": "code",
   "execution_count": 8,
   "metadata": {},
   "outputs": [],
   "source": [
    "%%R\n",
    "# Based on the predict.TVAR function from the tsDyn package\n",
    "predict.TVECM <- function(object, newdata, n.ahead=5, \n",
    "                        newdataTrendStart, ...){\n",
    "  \n",
    "  ## extract parameters, coefs\n",
    "  lag <- object$lag\n",
    "  k <- object$k\n",
    "  include <- object$include\n",
    "  B <- object$coeffmat  \n",
    "  Thresh <- getTh(object)\n",
    "  nthresh <- object$model.specific$nthresh\n",
    "  beta <- object$model.specific$beta\n",
    "\n",
    "  \n",
    "  ## setup starting values (data in y), innovations (0)\n",
    "  original.data <- object$model[,1:k, drop=FALSE]\n",
    "  starting <-   tsDyn:::myTail(original.data,lag)\n",
    "  innov <- matrix(0, nrow=n.ahead, ncol=k)  \n",
    "\n",
    "  \n",
    "  \n",
    "  if(!missing(newdata)) {\n",
    "    if(!inherits(newdata, c(\"data.frame\", \"matrix\",\"zoo\", \"ts\"))) stop(\"Arg 'newdata' should be of class data.frame, matrix, zoo or ts\")\n",
    "    if(nrow(newdata)!=lag+1) stop(paste0(\"Please provide newdata with nrow=lag=\", lag+1))\n",
    "    starting <-  as.matrix(newdata)\n",
    "  }\n",
    "  \n",
    "  ## trend DOES NOT WORK YET\n",
    "  if(missing(newdataTrendStart)){\n",
    "    if(include%in%c(\"trend\", \"both\")){\n",
    "      trendStart <- object$t+1\n",
    "    }  else {\n",
    "      trendStart <- 0\n",
    "    }\n",
    "  } else {\n",
    "    trendStart <- newdataTrendStart\n",
    "  }\n",
    "  \n",
    "  \n",
    "  res <- tsDyn:::TVECM.gen(B=B, beta=beta, n=n.ahead, lag=lag, \n",
    "                      include = include, \n",
    "                      nthresh= nthresh,\n",
    "                      Thresh = Thresh, \n",
    "                      starting=starting, innov=innov)\n",
    "  \n",
    "  ## format results\n",
    "  colnames(res) <- colnames(original.data)\n",
    "  end_rows <- nrow(original.data) + n.ahead\n",
    "  if(hasArg(\"returnStarting\") && isTRUE(list(...)[\"returnStarting\"])) {\n",
    "    start_rows <- nrow(original.data)+1 - lag\n",
    "  } else {\n",
    "    start_rows <- nrow(original.data)+1\n",
    "  }\n",
    "  rownames(res) <- start_rows : end_rows\n",
    "  \n",
    "  return(res)\n",
    "}"
   ]
  },
  {
   "cell_type": "code",
   "execution_count": 9,
   "metadata": {},
   "outputs": [],
   "source": [
    "%%R\n",
    "vecm_predictions <- function(hubs,  window_size = 5, horizon = 250) {\n",
    "  \n",
    "  # Initialize empty data frames for storing predictions and actual values\n",
    "  predictions <- data.frame(matrix(ncol = ncol(hubs), nrow = 0))\n",
    "  actuals <- data.frame(matrix(ncol = ncol(hubs), nrow = 0))\n",
    "  \n",
    "  colnames(predictions) <- colnames(hubs)\n",
    "  colnames(actuals) <- colnames(hubs)\n",
    "\n",
    "  train_size <- nrow(hubs) - horizon - window_size\n",
    "  hub_train <- hubs[1:train_size, ]\n",
    "\n",
    "  n_lags <- 2\n",
    "\n",
    "  tvec <- TVECM(hub_train, include = \"both\", nthresh=2,lag=n_lags, ngridBeta=100, ngridTh=100, plot=TRUE,trim=0.05, common=\"All\")\n",
    "\n",
    "  \n",
    "  for (i in 1:horizon) {\n",
    "\n",
    "    start <- train_size - n_lags + i\n",
    "    end <- train_size + i\n",
    "\n",
    "    pred_data <- hubs[start:end, ]\n",
    "    # Fit the VECM model\n",
    "\n",
    "    hub_forecast <- predict.TVECM(tvec, newdata=pred_data, n.ahead=window_size)\n",
    "    \n",
    "    hub_prediction <- hub_forecast[window_size, , drop = FALSE]\n",
    "    \n",
    "    hub_actual <- hubs[end + window_size, ]\n",
    "    \n",
    "    predictions <- rbind(predictions, hub_prediction)\n",
    "    actuals <- rbind(actuals, hub_actual)\n",
    "  }\n",
    "  \n",
    "  # Return both data frames as a list\n",
    "  return(list(predictions = predictions, actuals = actuals))\n",
    "}\n",
    "  "
   ]
  },
  {
   "cell_type": "code",
   "execution_count": 10,
   "metadata": {},
   "outputs": [
    {
     "name": "stdout",
     "output_type": "stream",
     "text": [
      "105 (1.1%) points of the grid lead to regimes with percentage of observations < trim and were not computed\n",
      "Best threshold from first search -17.08368 \n",
      "Best cointegrating value 1.180055 \n",
      "Second best (conditionnal on the first one) -17.08368 16.88419 \t SSR 84720.66 \n",
      "There were  4  thresholds values which minimize the SSR in the iterative step, the first one was taken\n",
      "Second step best thresholds -17.10696 16.88419 \t\t\t SSR 84720.66 \n",
      "[1] \"Hub1: Mean Absolute Error: 2.15061045047991\"\n",
      "[1] \"Hub1: Root Mean Squared Error: 2.97295344413812\"\n",
      "[1] \"Hub2: Mean Absolute Error: 2.35676224468455\"\n",
      "[1] \"Hub2: Root Mean Squared Error: 3.17635172717071\"\n"
     ]
    },
    {
     "data": {
      "image/png": "[encoded data removed]",
      "text/plain": [
       "<IPython.core.display.Image object>"
      ]
     },
     "metadata": {},
     "output_type": "display_data"
    }
   ],
   "source": [
    "%%R\n",
    "vecm_output <- vecm_predictions(hubs)\n",
    "hub1_predictions <- vecm_output$predictions$hub1\n",
    "hub1_actuals <- vecm_output$actuals$hub1\n",
    "hub2_predictions <- vecm_output$predictions$hub2\n",
    "hub2_actuals <- vecm_output$actuals$hub2\n",
    "\n",
    "hub1_mae <- mae(hub1_actuals, hub1_predictions)\n",
    "hub2_mae <- mae(hub2_actuals, hub2_predictions)\n",
    "\n",
    "hub1_rmse <- rmse(hub1_actuals, hub1_predictions)\n",
    "hub2_rmse <- rmse(hub2_actuals, hub2_predictions)\n",
    "\n",
    "print(paste0(\"Hub1: Mean Absolute Error: \", hub1_mae))\n",
    "print(paste0(\"Hub1: Root Mean Squared Error: \", hub1_rmse))\n",
    "\n",
    "print(paste0(\"Hub2: Mean Absolute Error: \", hub2_mae))\n",
    "print(paste0(\"Hub2: Root Mean Squared Error: \", hub2_rmse))"
   ]
  },
  {
   "cell_type": "code",
   "execution_count": 11,
   "metadata": {},
   "outputs": [
    {
     "name": "stdout",
     "output_type": "stream",
     "text": [
      "[1] \"Hub1: Mean Absolute Error: 2.13959333333333\"\n",
      "[1] \"Hub1: Root Mean Squared Error: 2.96090183926752\"\n",
      "[1] \"Hub2: Mean Absolute Error: 2.23126705883691\"\n",
      "[1] \"Hub2: Root Mean Squared Error: 3.08543650003223\"\n"
     ]
    }
   ],
   "source": [
    "%%R\n",
    "window_size <- 5\n",
    "horizon <- 250\n",
    "\n",
    "hubs_lag <- lag(hubs, window_size)\n",
    "\n",
    "\n",
    "hubs_prediction <- tail(hubs_lag, n = horizon)\n",
    "hubs_actual <- tail(hubs, n = horizon)\n",
    "\n",
    "\n",
    "\n",
    "hub1_naive_predictions <- hubs_prediction$hub1\n",
    "hub1_naive_actuals <- hubs_actual$hub1\n",
    "hub2_naive_predictions <- hubs_prediction$hub2\n",
    "hub2_naive_actuals <- hubs_actual$hub2\n",
    "\n",
    "hub1_naive_mae <- mae(hub1_naive_actuals, hub1_naive_predictions)\n",
    "hub2_naive_mae <- mae(hub2_naive_actuals, hub2_naive_predictions)\n",
    "\n",
    "hub1_naive_rmse <- rmse(hub1_naive_actuals, hub1_naive_predictions)\n",
    "hub2_naive_rmse <- rmse(hub2_naive_actuals, hub2_naive_predictions)\n",
    "\n",
    "print(paste0(\"Hub1: Mean Absolute Error: \", hub1_naive_mae))\n",
    "print(paste0(\"Hub1: Root Mean Squared Error: \", hub1_naive_rmse))\n",
    "\n",
    "print(paste0(\"Hub2: Mean Absolute Error: \", hub2_naive_mae))\n",
    "print(paste0(\"Hub2: Root Mean Squared Error: \", hub2_naive_rmse))"
   ]
  },
  {
   "cell_type": "code",
   "execution_count": 12,
   "metadata": {},
   "outputs": [
    {
     "name": "stdout",
     "output_type": "stream",
     "text": [
      "\n",
      "\tDiebold-Mariano Test\n",
      "\n",
      "data:  vecm_residsnaive_resids\n",
      "DM = 1.1984, Forecast horizon = 5, Loss function power = 1, p-value =\n",
      "0.1159\n",
      "alternative hypothesis: greater\n",
      "\n"
     ]
    }
   ],
   "source": [
    "%%R\n",
    "\n",
    "naive_resids <- hub1_naive_actuals - hub1_naive_predictions\n",
    "vecm_resids <- hub1_actuals - hub1_predictions\n",
    "dm.test(vecm_resids, naive_resids, h = window_size, power = 1, alternative = \"greater\")"
   ]
  },
  {
   "cell_type": "code",
   "execution_count": 13,
   "metadata": {},
   "outputs": [
    {
     "name": "stdout",
     "output_type": "stream",
     "text": [
      "\n",
      "\tDiebold-Mariano Test\n",
      "\n",
      "data:  vecm_residsnaive_resids\n",
      "DM = 2.2686, Forecast horizon = 5, Loss function power = 1, p-value =\n",
      "0.01207\n",
      "alternative hypothesis: greater\n",
      "\n"
     ]
    }
   ],
   "source": [
    "%%R\n",
    "naive_resids <- hub2_naive_actuals - hub2_naive_predictions\n",
    "vecm_resids <- hub2_actuals - hub2_predictions\n",
    "dm.test(vecm_resids, naive_resids, h = window_size, power = 1, alternative = \"greater\")"
   ]
  },
  {
   "cell_type": "code",
   "execution_count": 14,
   "metadata": {},
   "outputs": [],
   "source": [
    "%%R\n",
    "hub1_forecast_comparison <- data.frame(\n",
    "  Actual = hub1_actuals,\n",
    "  Forecasted = hub1_predictions\n",
    ")"
   ]
  },
  {
   "cell_type": "code",
   "execution_count": 18,
   "metadata": {},
   "outputs": [
    {
     "data": {
      "application/vnd.plotly.v1+json": {
       "config": {
        "plotlyServerURL": "https://plot.ly"
       },
       "data": [
        {
         "mode": "lines",
         "name": "Actual Prices",
         "type": "scatter",
         "x": [
          "1",
          "2",
          "3",
          "4",
          "5",
          "6",
          "7",
          "8",
          "9",
          "10",
          "11",
          "12",
          "13",
          "14",
          "15",
          "16",
          "17",
          "18",
          "19",
          "20",
          "21",
          "22",
          "23",
          "24",
          "25",
          "26",
          "27",
          "28",
          "29",
          "30",
          "31",
          "32",
          "33",
          "34",
          "35",
          "36",
          "37",
          "38",
          "39",
          "40",
          "41",
          "42",
          "43",
          "44",
          "45",
          "46",
          "47",
          "48",
          "49",
          "50",
          "51",
          "52",
          "53",
          "54",
          "55",
          "56",
          "57",
          "58",
          "59",
          "60",
          "61",
          "62",
          "63",
          "64",
          "65",
          "66",
          "67",
          "68",
          "69",
          "70",
          "71",
          "72",
          "73",
          "74",
          "75",
          "76",
          "77",
          "78",
          "79",
          "80",
          "81",
          "82",
          "83",
          "84",
          "85",
          "86",
          "87",
          "88",
          "89",
          "90",
          "91",
          "92",
          "93",
          "94",
          "95",
          "96",
          "97",
          "98",
          "99",
          "100",
          "101",
          "102",
          "103",
          "104",
          "105",
          "106",
          "107",
          "108",
          "109",
          "110",
          "111",
          "112",
          "113",
          "114",
          "115",
          "116",
          "117",
          "118",
          "119",
          "120",
          "121",
          "122",
          "123",
          "124",
          "125",
          "126",
          "127",
          "128",
          "129",
          "130",
          "131",
          "132",
          "133",
          "134",
          "135",
          "136",
          "137",
          "138",
          "139",
          "140",
          "141",
          "142",
          "143",
          "144",
          "145",
          "146",
          "147",
          "148",
          "149",
          "150",
          "151",
          "152",
          "153",
          "154",
          "155",
          "156",
          "157",
          "158",
          "159",
          "160",
          "161",
          "162",
          "163",
          "164",
          "165",
          "166",
          "167",
          "168",
          "169",
          "170",
          "171",
          "172",
          "173",
          "174",
          "175",
          "176",
          "177",
          "178",
          "179",
          "180",
          "181",
          "182",
          "183",
          "184",
          "185",
          "186",
          "187",
          "188",
          "189",
          "190",
          "191",
          "192",
          "193",
          "194",
          "195",
          "196",
          "197",
          "198",
          "199",
          "200",
          "201",
          "202",
          "203",
          "204",
          "205",
          "206",
          "207",
          "208",
          "209",
          "210",
          "211",
          "212",
          "213",
          "214",
          "215",
          "216",
          "217",
          "218",
          "219",
          "220",
          "221",
          "222",
          "223",
          "224",
          "225",
          "226",
          "227",
          "228",
          "229",
          "230",
          "231",
          "232",
          "233",
          "234",
          "235",
          "236",
          "237",
          "238",
          "239",
          "240",
          "241",
          "242",
          "243",
          "244",
          "245",
          "246",
          "247",
          "248",
          "249",
          "250"
         ],
         "y": [
          34.475,
          36.782,
          37.284,
          39.105,
          39.791,
          44.442,
          40.322,
          39.296,
          39.736,
          41.859,
          39.335,
          36.987,
          38.441,
          36.207,
          38.231,
          43.953,
          49.455,
          46.068,
          53.002,
          53.982,
          48.467,
          48.896,
          50.833,
          50.172,
          51.112,
          51.276,
          49.264,
          49.924,
          50.809,
          50.532,
          50.547,
          48.006,
          47.757,
          48.564,
          48.057,
          44.832,
          46.057,
          45.777,
          48.129,
          46.632,
          47.873,
          47.608,
          47.037,
          45.849,
          45.064,
          45.821,
          44.065,
          44.616,
          46.834,
          46.657,
          43.984,
          42.774,
          40.36,
          42.091,
          43.496,
          40.104,
          38.133,
          39.313,
          39.968,
          38.598,
          36.118,
          34.703,
          35.812,
          34.85,
          33.189,
          35.522,
          32.568,
          33.521,
          34.203,
          34.174,
          34.6203333333333,
          35.0666666666667,
          35.513,
          33.105,
          32.35,
          31.461,
          30.572,
          32.795,
          33.41,
          34.551,
          31.58,
          30.641,
          30.942,
          30.817,
          31.991,
          29.923,
          29.656,
          27.708,
          27.893,
          28.429,
          27.264,
          27.227,
          28.929,
          27.784,
          28.079,
          28.174,
          29.391,
          30.235,
          28.991,
          29.304,
          28.341,
          28.607,
          28.186,
          27.812,
          27.117,
          25.729,
          25.436,
          24.857,
          24.966,
          24.822,
          23.704,
          24.168,
          23.977,
          23.193,
          22.934,
          24.009,
          24.392,
          25.619,
          24.865,
          25.809,
          26.885,
          27.468,
          26.572,
          25.992,
          26.392,
          24.93,
          24.775,
          24.903,
          26.049,
          27.026,
          28.822,
          28.866,
          27.742,
          26.402,
          27.776,
          28.489,
          27.132,
          27.687,
          27.34,
          26.961,
          26.582,
          26.203,
          25.563,
          26.206,
          26.606,
          27.908,
          27.351,
          27.1,
          29.377,
          30.732,
          31.143,
          33.139,
          31.289,
          32.309,
          30.758,
          29.31,
          28.417,
          29.018,
          29.771,
          28.886,
          27.994,
          29.118,
          28.73,
          30.913,
          30.528,
          31.801,
          31.067,
          30.609,
          30.865,
          30.029,
          29.578,
          29.669,
          29.734,
          30.248,
          30.769,
          31.768,
          33.004,
          34.389,
          35.228,
          34.115,
          35.243,
          33.534,
          33.879,
          35.192,
          34.223,
          36.014,
          33.797,
          33.355,
          33.686,
          33.109,
          34.258,
          34.285,
          35.294,
          35.724,
          35.36,
          34.21,
          34.7,
          35.338,
          34.464,
          33.936,
          34.08,
          34.853,
          33.824,
          34.565,
          34.48,
          33.485,
          33.685,
          32.691,
          33.246,
          33.067,
          32.286,
          31.335,
          30.784,
          31.112,
          31.719,
          31.371,
          32.797,
          31.893,
          32.674,
          32.17,
          31.839,
          31.622,
          32.621,
          31.779,
          32.475,
          33.873,
          34.361,
          35.868,
          36.969,
          36.649,
          35.498,
          36.676,
          38.451,
          40.095,
          40.396,
          39.658,
          39.48,
          38.967,
          39.601,
          39.644,
          39.845,
          37.957,
          37.01,
          36.587,
          36.863,
          37.656,
          38.689,
          38.52,
          38.601,
          39.823
         ]
        },
        {
         "mode": "lines",
         "name": "Forecasted Prices",
         "type": "scatter",
         "x": [
          "1",
          "2",
          "3",
          "4",
          "5",
          "6",
          "7",
          "8",
          "9",
          "10",
          "11",
          "12",
          "13",
          "14",
          "15",
          "16",
          "17",
          "18",
          "19",
          "20",
          "21",
          "22",
          "23",
          "24",
          "25",
          "26",
          "27",
          "28",
          "29",
          "30",
          "31",
          "32",
          "33",
          "34",
          "35",
          "36",
          "37",
          "38",
          "39",
          "40",
          "41",
          "42",
          "43",
          "44",
          "45",
          "46",
          "47",
          "48",
          "49",
          "50",
          "51",
          "52",
          "53",
          "54",
          "55",
          "56",
          "57",
          "58",
          "59",
          "60",
          "61",
          "62",
          "63",
          "64",
          "65",
          "66",
          "67",
          "68",
          "69",
          "70",
          "71",
          "72",
          "73",
          "74",
          "75",
          "76",
          "77",
          "78",
          "79",
          "80",
          "81",
          "82",
          "83",
          "84",
          "85",
          "86",
          "87",
          "88",
          "89",
          "90",
          "91",
          "92",
          "93",
          "94",
          "95",
          "96",
          "97",
          "98",
          "99",
          "100",
          "101",
          "102",
          "103",
          "104",
          "105",
          "106",
          "107",
          "108",
          "109",
          "110",
          "111",
          "112",
          "113",
          "114",
          "115",
          "116",
          "117",
          "118",
          "119",
          "120",
          "121",
          "122",
          "123",
          "124",
          "125",
          "126",
          "127",
          "128",
          "129",
          "130",
          "131",
          "132",
          "133",
          "134",
          "135",
          "136",
          "137",
          "138",
          "139",
          "140",
          "141",
          "142",
          "143",
          "144",
          "145",
          "146",
          "147",
          "148",
          "149",
          "150",
          "151",
          "152",
          "153",
          "154",
          "155",
          "156",
          "157",
          "158",
          "159",
          "160",
          "161",
          "162",
          "163",
          "164",
          "165",
          "166",
          "167",
          "168",
          "169",
          "170",
          "171",
          "172",
          "173",
          "174",
          "175",
          "176",
          "177",
          "178",
          "179",
          "180",
          "181",
          "182",
          "183",
          "184",
          "185",
          "186",
          "187",
          "188",
          "189",
          "190",
          "191",
          "192",
          "193",
          "194",
          "195",
          "196",
          "197",
          "198",
          "199",
          "200",
          "201",
          "202",
          "203",
          "204",
          "205",
          "206",
          "207",
          "208",
          "209",
          "210",
          "211",
          "212",
          "213",
          "214",
          "215",
          "216",
          "217",
          "218",
          "219",
          "220",
          "221",
          "222",
          "223",
          "224",
          "225",
          "226",
          "227",
          "228",
          "229",
          "230",
          "231",
          "232",
          "233",
          "234",
          "235",
          "236",
          "237",
          "238",
          "239",
          "240",
          "241",
          "242",
          "243",
          "244",
          "245",
          "246",
          "247",
          "248",
          "249",
          "250"
         ],
         "y": [
          36.00943351599791,
          34.706232358174574,
          37.086841888700455,
          35.30124657130472,
          36.754773368310794,
          34.323136075463665,
          37.20681953364262,
          37.154150877648846,
          39.21622734543685,
          39.593443116907586,
          44.44526927342841,
          39.48437041437177,
          39.713977217483865,
          39.89474369265531,
          41.85860659839361,
          38.87228198815647,
          37.07511311311616,
          38.79123027759609,
          35.930984912384474,
          38.49321402928332,
          44.02832956346739,
          49.35227617144829,
          45.553910633269275,
          53.747167379382496,
          53.22320419149964,
          47.958279411684515,
          49.27887422097936,
          50.68284654760127,
          49.69657725297118,
          51.13951859903068,
          51.238182502757276,
          49.246008402455665,
          50.28009736417719,
          50.80197392167844,
          50.439595266944984,
          50.83395033036427,
          48.454708603890346,
          48.27918000259965,
          48.51295029835893,
          47.94406826442518,
          44.62890903838878,
          46.33447431865247,
          45.58984477728151,
          48.27093435933901,
          46.20834221052588,
          47.94088802739859,
          47.39365822986358,
          47.095808379036974,
          45.906591639714556,
          45.19781375591461,
          46.049344371533714,
          44.07266229199733,
          44.89224000395916,
          47.001328082188586,
          46.65772044444065,
          43.8854446735619,
          42.898148123510204,
          40.35463406297469,
          42.526543092729916,
          43.42763843626284,
          39.69946643414872,
          38.319201071513504,
          39.55203550852207,
          39.89091773142117,
          38.52913799924006,
          36.158943257912426,
          34.84920317621502,
          36.01822796778666,
          34.64437409603192,
          33.20560513675381,
          35.84862597717357,
          32.10178837002459,
          33.864726166374254,
          34.19747388396101,
          34.144310758704286,
          34.70749793562147,
          35.15453869310049,
          35.599661820796484,
          32.95617218604345,
          32.46248599983024,
          31.43529111242823,
          30.66341882910011,
          33.04098330744596,
          33.303514385307906,
          34.707481601723366,
          31.323163451750595,
          30.8694261784766,
          31.06259911191688,
          30.78276687592814,
          32.12820296807623,
          29.67781247161366,
          29.815420677470254,
          27.666680125776203,
          28.116733311789083,
          28.435430535340586,
          27.17822718586719,
          27.393886384483153,
          29.087475304667887,
          27.62453954254277,
          28.270961174717993,
          28.188341934877826,
          29.52466112610554,
          30.137438140449365,
          28.766615889576403,
          29.40459279568055,
          28.210067471280468,
          28.814791705314313,
          28.20789857548323,
          27.89012626814509,
          27.159135073706217,
          25.72360499112637,
          25.631770429901575,
          24.95301487034532,
          25.04099922924771,
          24.778218041070566,
          23.684228737448922,
          24.38171183713962,
          24.00440756613062,
          23.271126894286613,
          23.05603899799884,
          24.111642351433066,
          24.37177915489537,
          25.750622528432547,
          24.694967244640086,
          25.91975538396337,
          26.94340737277217,
          27.465898299818527,
          26.476884476175112,
          26.118602710609153,
          26.527106453472605,
          24.82510599288849,
          25.016295844354524,
          24.949015930124624,
          26.073651340252535,
          27.00781428188176,
          28.9413222880923,
          28.83756621152059,
          27.797035234754055,
          26.54801014174775,
          28.004786058244324,
          28.371626261164977,
          26.910026829789068,
          27.64797406199836,
          27.12087483411557,
          26.967295104875696,
          26.583650223242547,
          26.20541940885519,
          25.581985948698,
          26.34827581849337,
          26.60841775710827,
          28.01700311555565,
          27.22864352356452,
          27.148107443462184,
          29.63112284079566,
          30.59605758033332,
          30.967240094880562,
          33.273387588067486,
          30.995460256589755,
          32.617042166804545,
          30.62603172566217,
          29.396850390599827,
          28.529149147007942,
          29.138975311803545,
          29.79249087419758,
          28.761476670840572,
          27.97700370135262,
          29.213436952841082,
          28.498635129606647,
          31.003833977121932,
          30.290708223529755,
          31.624133707287935,
          30.865069927047916,
          31.002988638581265,
          30.9724500421884,
          29.955178208229782,
          29.603980478266255,
          29.748931269591168,
          29.778932337444683,
          30.268293881418217,
          30.757897317447934,
          31.809453776717213,
          32.956690183787565,
          34.29319203758536,
          35.19017438992417,
          34.01655782233504,
          35.006171348755316,
          33.351253204466936,
          34.58219516236675,
          35.18690757782147,
          33.959057662243865,
          36.29981359963635,
          33.504672628782245,
          33.48154944218941,
          33.8153406228983,
          33.04877092109425,
          34.39392562216333,
          34.23050008884894,
          35.3773190753612,
          35.64708347340105,
          35.23591140996256,
          34.172094342297605,
          34.852457979798885,
          35.284724983732815,
          34.32097247915074,
          34.00974353367042,
          34.198780354647276,
          34.935741914905776,
          33.71535851047618,
          34.70759084519143,
          34.49165824352459,
          33.48834648339402,
          33.7578723005096,
          32.6406433036113,
          33.44466687650215,
          33.080099648967824,
          32.25553098865365,
          31.387338675792687,
          30.910062194311998,
          31.254392297134036,
          31.74327652140311,
          31.267309644037024,
          32.98367634061246,
          31.748812688190174,
          32.83423474111091,
          32.11440949162516,
          31.906655353911457,
          31.673989410541665,
          32.73978674344206,
          31.69914996710227,
          32.67376591355968,
          33.963592788427576,
          34.246497314154915,
          36.16887422058948,
          37.22920978799886,
          36.50196905490432,
          35.43919294244063,
          36.83088960669132,
          38.39150940284656,
          39.969501220354566,
          40.214388736380805,
          39.57868038567868,
          39.55723727538934,
          38.86334294804291,
          39.649137835180035,
          39.61445029699792,
          39.86696051483035,
          37.89864591315655,
          37.16716151499887,
          36.69580464542086,
          37.0362173459918
         ]
        }
       ],
       "layout": {
        "template": {
         "data": {
          "bar": [
           {
            "error_x": {
             "color": "#2a3f5f"
            },
            "error_y": {
             "color": "#2a3f5f"
            },
            "marker": {
             "line": {
              "color": "#E5ECF6",
              "width": 0.5
             },
             "pattern": {
              "fillmode": "overlay",
              "size": 10,
              "solidity": 0.2
             }
            },
            "type": "bar"
           }
          ],
          "barpolar": [
           {
            "marker": {
             "line": {
              "color": "#E5ECF6",
              "width": 0.5
             },
             "pattern": {
              "fillmode": "overlay",
              "size": 10,
              "solidity": 0.2
             }
            },
            "type": "barpolar"
           }
          ],
          "carpet": [
           {
            "aaxis": {
             "endlinecolor": "#2a3f5f",
             "gridcolor": "white",
             "linecolor": "white",
             "minorgridcolor": "white",
             "startlinecolor": "#2a3f5f"
            },
            "baxis": {
             "endlinecolor": "#2a3f5f",
             "gridcolor": "white",
             "linecolor": "white",
             "minorgridcolor": "white",
             "startlinecolor": "#2a3f5f"
            },
            "type": "carpet"
           }
          ],
          "choropleth": [
           {
            "colorbar": {
             "outlinewidth": 0,
             "ticks": ""
            },
            "type": "choropleth"
           }
          ],
          "contour": [
           {
            "colorbar": {
             "outlinewidth": 0,
             "ticks": ""
            },
            "colorscale": [
             [
              0,
              "#0d0887"
             ],
             [
              0.1111111111111111,
              "#46039f"
             ],
             [
              0.2222222222222222,
              "#7201a8"
             ],
             [
              0.3333333333333333,
              "#9c179e"
             ],
             [
              0.4444444444444444,
              "#bd3786"
             ],
             [
              0.5555555555555556,
              "#d8576b"
             ],
             [
              0.6666666666666666,
              "#ed7953"
             ],
             [
              0.7777777777777778,
              "#fb9f3a"
             ],
             [
              0.8888888888888888,
              "#fdca26"
             ],
             [
              1,
              "#f0f921"
             ]
            ],
            "type": "contour"
           }
          ],
          "contourcarpet": [
           {
            "colorbar": {
             "outlinewidth": 0,
             "ticks": ""
            },
            "type": "contourcarpet"
           }
          ],
          "heatmap": [
           {
            "colorbar": {
             "outlinewidth": 0,
             "ticks": ""
            },
            "colorscale": [
             [
              0,
              "#0d0887"
             ],
             [
              0.1111111111111111,
              "#46039f"
             ],
             [
              0.2222222222222222,
              "#7201a8"
             ],
             [
              0.3333333333333333,
              "#9c179e"
             ],
             [
              0.4444444444444444,
              "#bd3786"
             ],
             [
              0.5555555555555556,
              "#d8576b"
             ],
             [
              0.6666666666666666,
              "#ed7953"
             ],
             [
              0.7777777777777778,
              "#fb9f3a"
             ],
             [
              0.8888888888888888,
              "#fdca26"
             ],
             [
              1,
              "#f0f921"
             ]
            ],
            "type": "heatmap"
           }
          ],
          "heatmapgl": [
           {
            "colorbar": {
             "outlinewidth": 0,
             "ticks": ""
            },
            "colorscale": [
             [
              0,
              "#0d0887"
             ],
             [
              0.1111111111111111,
              "#46039f"
             ],
             [
              0.2222222222222222,
              "#7201a8"
             ],
             [
              0.3333333333333333,
              "#9c179e"
             ],
             [
              0.4444444444444444,
              "#bd3786"
             ],
             [
              0.5555555555555556,
              "#d8576b"
             ],
             [
              0.6666666666666666,
              "#ed7953"
             ],
             [
              0.7777777777777778,
              "#fb9f3a"
             ],
             [
              0.8888888888888888,
              "#fdca26"
             ],
             [
              1,
              "#f0f921"
             ]
            ],
            "type": "heatmapgl"
           }
          ],
          "histogram": [
           {
            "marker": {
             "pattern": {
              "fillmode": "overlay",
              "size": 10,
              "solidity": 0.2
             }
            },
            "type": "histogram"
           }
          ],
          "histogram2d": [
           {
            "colorbar": {
             "outlinewidth": 0,
             "ticks": ""
            },
            "colorscale": [
             [
              0,
              "#0d0887"
             ],
             [
              0.1111111111111111,
              "#46039f"
             ],
             [
              0.2222222222222222,
              "#7201a8"
             ],
             [
              0.3333333333333333,
              "#9c179e"
             ],
             [
              0.4444444444444444,
              "#bd3786"
             ],
             [
              0.5555555555555556,
              "#d8576b"
             ],
             [
              0.6666666666666666,
              "#ed7953"
             ],
             [
              0.7777777777777778,
              "#fb9f3a"
             ],
             [
              0.8888888888888888,
              "#fdca26"
             ],
             [
              1,
              "#f0f921"
             ]
            ],
            "type": "histogram2d"
           }
          ],
          "histogram2dcontour": [
           {
            "colorbar": {
             "outlinewidth": 0,
             "ticks": ""
            },
            "colorscale": [
             [
              0,
              "#0d0887"
             ],
             [
              0.1111111111111111,
              "#46039f"
             ],
             [
              0.2222222222222222,
              "#7201a8"
             ],
             [
              0.3333333333333333,
              "#9c179e"
             ],
             [
              0.4444444444444444,
              "#bd3786"
             ],
             [
              0.5555555555555556,
              "#d8576b"
             ],
             [
              0.6666666666666666,
              "#ed7953"
             ],
             [
              0.7777777777777778,
              "#fb9f3a"
             ],
             [
              0.8888888888888888,
              "#fdca26"
             ],
             [
              1,
              "#f0f921"
             ]
            ],
            "type": "histogram2dcontour"
           }
          ],
          "mesh3d": [
           {
            "colorbar": {
             "outlinewidth": 0,
             "ticks": ""
            },
            "type": "mesh3d"
           }
          ],
          "parcoords": [
           {
            "line": {
             "colorbar": {
              "outlinewidth": 0,
              "ticks": ""
             }
            },
            "type": "parcoords"
           }
          ],
          "pie": [
           {
            "automargin": true,
            "type": "pie"
           }
          ],
          "scatter": [
           {
            "fillpattern": {
             "fillmode": "overlay",
             "size": 10,
             "solidity": 0.2
            },
            "type": "scatter"
           }
          ],
          "scatter3d": [
           {
            "line": {
             "colorbar": {
              "outlinewidth": 0,
              "ticks": ""
             }
            },
            "marker": {
             "colorbar": {
              "outlinewidth": 0,
              "ticks": ""
             }
            },
            "type": "scatter3d"
           }
          ],
          "scattercarpet": [
           {
            "marker": {
             "colorbar": {
              "outlinewidth": 0,
              "ticks": ""
             }
            },
            "type": "scattercarpet"
           }
          ],
          "scattergeo": [
           {
            "marker": {
             "colorbar": {
              "outlinewidth": 0,
              "ticks": ""
             }
            },
            "type": "scattergeo"
           }
          ],
          "scattergl": [
           {
            "marker": {
             "colorbar": {
              "outlinewidth": 0,
              "ticks": ""
             }
            },
            "type": "scattergl"
           }
          ],
          "scattermapbox": [
           {
            "marker": {
             "colorbar": {
              "outlinewidth": 0,
              "ticks": ""
             }
            },
            "type": "scattermapbox"
           }
          ],
          "scatterpolar": [
           {
            "marker": {
             "colorbar": {
              "outlinewidth": 0,
              "ticks": ""
             }
            },
            "type": "scatterpolar"
           }
          ],
          "scatterpolargl": [
           {
            "marker": {
             "colorbar": {
              "outlinewidth": 0,
              "ticks": ""
             }
            },
            "type": "scatterpolargl"
           }
          ],
          "scatterternary": [
           {
            "marker": {
             "colorbar": {
              "outlinewidth": 0,
              "ticks": ""
             }
            },
            "type": "scatterternary"
           }
          ],
          "surface": [
           {
            "colorbar": {
             "outlinewidth": 0,
             "ticks": ""
            },
            "colorscale": [
             [
              0,
              "#0d0887"
             ],
             [
              0.1111111111111111,
              "#46039f"
             ],
             [
              0.2222222222222222,
              "#7201a8"
             ],
             [
              0.3333333333333333,
              "#9c179e"
             ],
             [
              0.4444444444444444,
              "#bd3786"
             ],
             [
              0.5555555555555556,
              "#d8576b"
             ],
             [
              0.6666666666666666,
              "#ed7953"
             ],
             [
              0.7777777777777778,
              "#fb9f3a"
             ],
             [
              0.8888888888888888,
              "#fdca26"
             ],
             [
              1,
              "#f0f921"
             ]
            ],
            "type": "surface"
           }
          ],
          "table": [
           {
            "cells": {
             "fill": {
              "color": "#EBF0F8"
             },
             "line": {
              "color": "white"
             }
            },
            "header": {
             "fill": {
              "color": "#C8D4E3"
             },
             "line": {
              "color": "white"
             }
            },
            "type": "table"
           }
          ]
         },
         "layout": {
          "annotationdefaults": {
           "arrowcolor": "#2a3f5f",
           "arrowhead": 0,
           "arrowwidth": 1
          },
          "autotypenumbers": "strict",
          "coloraxis": {
           "colorbar": {
            "outlinewidth": 0,
            "ticks": ""
           }
          },
          "colorscale": {
           "diverging": [
            [
             0,
             "#8e0152"
            ],
            [
             0.1,
             "#c51b7d"
            ],
            [
             0.2,
             "#de77ae"
            ],
            [
             0.3,
             "#f1b6da"
            ],
            [
             0.4,
             "#fde0ef"
            ],
            [
             0.5,
             "#f7f7f7"
            ],
            [
             0.6,
             "#e6f5d0"
            ],
            [
             0.7,
             "#b8e186"
            ],
            [
             0.8,
             "#7fbc41"
            ],
            [
             0.9,
             "#4d9221"
            ],
            [
             1,
             "#276419"
            ]
           ],
           "sequential": [
            [
             0,
             "#0d0887"
            ],
            [
             0.1111111111111111,
             "#46039f"
            ],
            [
             0.2222222222222222,
             "#7201a8"
            ],
            [
             0.3333333333333333,
             "#9c179e"
            ],
            [
             0.4444444444444444,
             "#bd3786"
            ],
            [
             0.5555555555555556,
             "#d8576b"
            ],
            [
             0.6666666666666666,
             "#ed7953"
            ],
            [
             0.7777777777777778,
             "#fb9f3a"
            ],
            [
             0.8888888888888888,
             "#fdca26"
            ],
            [
             1,
             "#f0f921"
            ]
           ],
           "sequentialminus": [
            [
             0,
             "#0d0887"
            ],
            [
             0.1111111111111111,
             "#46039f"
            ],
            [
             0.2222222222222222,
             "#7201a8"
            ],
            [
             0.3333333333333333,
             "#9c179e"
            ],
            [
             0.4444444444444444,
             "#bd3786"
            ],
            [
             0.5555555555555556,
             "#d8576b"
            ],
            [
             0.6666666666666666,
             "#ed7953"
            ],
            [
             0.7777777777777778,
             "#fb9f3a"
            ],
            [
             0.8888888888888888,
             "#fdca26"
            ],
            [
             1,
             "#f0f921"
            ]
           ]
          },
          "colorway": [
           "#636efa",
           "#EF553B",
           "#00cc96",
           "#ab63fa",
           "#FFA15A",
           "#19d3f3",
           "#FF6692",
           "#B6E880",
           "#FF97FF",
           "#FECB52"
          ],
          "font": {
           "color": "#2a3f5f"
          },
          "geo": {
           "bgcolor": "white",
           "lakecolor": "white",
           "landcolor": "#E5ECF6",
           "showlakes": true,
           "showland": true,
           "subunitcolor": "white"
          },
          "hoverlabel": {
           "align": "left"
          },
          "hovermode": "closest",
          "mapbox": {
           "style": "light"
          },
          "paper_bgcolor": "white",
          "plot_bgcolor": "#E5ECF6",
          "polar": {
           "angularaxis": {
            "gridcolor": "white",
            "linecolor": "white",
            "ticks": ""
           },
           "bgcolor": "#E5ECF6",
           "radialaxis": {
            "gridcolor": "white",
            "linecolor": "white",
            "ticks": ""
           }
          },
          "scene": {
           "xaxis": {
            "backgroundcolor": "#E5ECF6",
            "gridcolor": "white",
            "gridwidth": 2,
            "linecolor": "white",
            "showbackground": true,
            "ticks": "",
            "zerolinecolor": "white"
           },
           "yaxis": {
            "backgroundcolor": "#E5ECF6",
            "gridcolor": "white",
            "gridwidth": 2,
            "linecolor": "white",
            "showbackground": true,
            "ticks": "",
            "zerolinecolor": "white"
           },
           "zaxis": {
            "backgroundcolor": "#E5ECF6",
            "gridcolor": "white",
            "gridwidth": 2,
            "linecolor": "white",
            "showbackground": true,
            "ticks": "",
            "zerolinecolor": "white"
           }
          },
          "shapedefaults": {
           "line": {
            "color": "#2a3f5f"
           }
          },
          "ternary": {
           "aaxis": {
            "gridcolor": "white",
            "linecolor": "white",
            "ticks": ""
           },
           "baxis": {
            "gridcolor": "white",
            "linecolor": "white",
            "ticks": ""
           },
           "bgcolor": "#E5ECF6",
           "caxis": {
            "gridcolor": "white",
            "linecolor": "white",
            "ticks": ""
           }
          },
          "title": {
           "x": 0.05
          },
          "xaxis": {
           "automargin": true,
           "gridcolor": "white",
           "linecolor": "white",
           "ticks": "",
           "title": {
            "standoff": 15
           },
           "zerolinecolor": "white",
           "zerolinewidth": 2
          },
          "yaxis": {
           "automargin": true,
           "gridcolor": "white",
           "linecolor": "white",
           "ticks": "",
           "title": {
            "standoff": 15
           },
           "zerolinecolor": "white",
           "zerolinewidth": 2
          }
         }
        },
        "title": {
         "text": "Actual vs Forecasted Prices"
        },
        "xaxis": {
         "title": {
          "text": "Index"
         }
        },
        "yaxis": {
         "title": {
          "text": "Price"
         }
        }
       }
      }
     },
     "metadata": {},
     "output_type": "display_data"
    }
   ],
   "source": [
    "%R -o hub1_forecast_comparison\n",
    "\n",
    "hub1_forecast_comparison = hub1_forecast_comparison\n",
    "\n",
    "actual_trace = go.Scatter(\n",
    "    x=hub1_forecast_comparison.index,\n",
    "    y=hub1_forecast_comparison['Actual'],\n",
    "    mode='lines',\n",
    "    name='Actual Prices'\n",
    ")\n",
    "\n",
    "forecasted_trace = go.Scatter(\n",
    "    x=hub1_forecast_comparison.index,\n",
    "    y=hub1_forecast_comparison['Forecasted'],\n",
    "    mode='lines',\n",
    "    name='Forecasted Prices'\n",
    ")\n",
    "\n",
    "# Create the plot\n",
    "layout = go.Layout(\n",
    "    title='Actual vs Forecasted Prices',\n",
    "    xaxis=dict(title='Index'),\n",
    "    yaxis=dict(title='Price'),\n",
    ")\n",
    "\n",
    "fig = go.Figure(data=[actual_trace, forecasted_trace], layout=layout)\n",
    "fig.show()\n"
   ]
  },
  {
   "cell_type": "code",
   "execution_count": 19,
   "metadata": {},
   "outputs": [],
   "source": [
    "%%R\n",
    "hub2_forecast_comparison <- data.frame(\n",
    "  Actual = hub2_actuals,\n",
    "  Forecasted = hub2_predictions\n",
    ")"
   ]
  },
  {
   "cell_type": "code",
   "execution_count": 20,
   "metadata": {},
   "outputs": [
    {
     "data": {
      "application/vnd.plotly.v1+json": {
       "config": {
        "plotlyServerURL": "https://plot.ly"
       },
       "data": [
        {
         "mode": "lines",
         "name": "Actual Prices",
         "type": "scatter",
         "x": [
          "1",
          "2",
          "3",
          "4",
          "5",
          "6",
          "7",
          "8",
          "9",
          "10",
          "11",
          "12",
          "13",
          "14",
          "15",
          "16",
          "17",
          "18",
          "19",
          "20",
          "21",
          "22",
          "23",
          "24",
          "25",
          "26",
          "27",
          "28",
          "29",
          "30",
          "31",
          "32",
          "33",
          "34",
          "35",
          "36",
          "37",
          "38",
          "39",
          "40",
          "41",
          "42",
          "43",
          "44",
          "45",
          "46",
          "47",
          "48",
          "49",
          "50",
          "51",
          "52",
          "53",
          "54",
          "55",
          "56",
          "57",
          "58",
          "59",
          "60",
          "61",
          "62",
          "63",
          "64",
          "65",
          "66",
          "67",
          "68",
          "69",
          "70",
          "71",
          "72",
          "73",
          "74",
          "75",
          "76",
          "77",
          "78",
          "79",
          "80",
          "81",
          "82",
          "83",
          "84",
          "85",
          "86",
          "87",
          "88",
          "89",
          "90",
          "91",
          "92",
          "93",
          "94",
          "95",
          "96",
          "97",
          "98",
          "99",
          "100",
          "101",
          "102",
          "103",
          "104",
          "105",
          "106",
          "107",
          "108",
          "109",
          "110",
          "111",
          "112",
          "113",
          "114",
          "115",
          "116",
          "117",
          "118",
          "119",
          "120",
          "121",
          "122",
          "123",
          "124",
          "125",
          "126",
          "127",
          "128",
          "129",
          "130",
          "131",
          "132",
          "133",
          "134",
          "135",
          "136",
          "137",
          "138",
          "139",
          "140",
          "141",
          "142",
          "143",
          "144",
          "145",
          "146",
          "147",
          "148",
          "149",
          "150",
          "151",
          "152",
          "153",
          "154",
          "155",
          "156",
          "157",
          "158",
          "159",
          "160",
          "161",
          "162",
          "163",
          "164",
          "165",
          "166",
          "167",
          "168",
          "169",
          "170",
          "171",
          "172",
          "173",
          "174",
          "175",
          "176",
          "177",
          "178",
          "179",
          "180",
          "181",
          "182",
          "183",
          "184",
          "185",
          "186",
          "187",
          "188",
          "189",
          "190",
          "191",
          "192",
          "193",
          "194",
          "195",
          "196",
          "197",
          "198",
          "199",
          "200",
          "201",
          "202",
          "203",
          "204",
          "205",
          "206",
          "207",
          "208",
          "209",
          "210",
          "211",
          "212",
          "213",
          "214",
          "215",
          "216",
          "217",
          "218",
          "219",
          "220",
          "221",
          "222",
          "223",
          "224",
          "225",
          "226",
          "227",
          "228",
          "229",
          "230",
          "231",
          "232",
          "233",
          "234",
          "235",
          "236",
          "237",
          "238",
          "239",
          "240",
          "241",
          "242",
          "243",
          "244",
          "245",
          "246",
          "247",
          "248",
          "249",
          "250"
         ],
         "y": [
          34.5815538949739,
          37.047039615109,
          37.67028764459,
          39.5698184734023,
          40.0036905858669,
          44.3311580850991,
          40.1043542498379,
          39.1846425768588,
          39.5243474255297,
          41.4881905346845,
          38.7137066229911,
          36.3072818780496,
          37.810985430102,
          35.430374313304,
          37.2227471252602,
          43.1760200634661,
          49.2848541304125,
          46.1314928174156,
          52.8489958030505,
          53.9066400518647,
          47.8279782987,
          47.9467516293036,
          49.4612754631999,
          48.3982321629645,
          49.3961060497492,
          49.6455880847579,
          47.8438547104787,
          48.5701914218446,
          49.4031323574573,
          49.2012802402157,
          50.0061869178012,
          48.6255167707374,
          47.9524311597912,
          48.7780376701812,
          48.2263332992118,
          44.6619770020814,
          45.7139594636094,
          45.4463575255059,
          47.7128112737571,
          45.947458968847,
          46.860402634183,
          46.6815934759614,
          46.1682806155526,
          45.0540638755246,
          44.2781472003276,
          45.3424038625584,
          43.8359429487836,
          44.2486965571365,
          46.9999034360392,
          47.1075084450814,
          44.1343252465281,
          42.8163674207527,
          40.4059146279046,
          42.3738683590951,
          43.6549698024363,
          40.0674596512779,
          37.9280895349234,
          39.0928191217115,
          39.7754857201351,
          38.5722933087658,
          35.8849135018937,
          34.4202579588494,
          35.4843552734842,
          34.3681441293889,
          32.7726908247176,
          35.0393858122633,
          31.8577490019449,
          32.862565257447,
          33.6338451564473,
          33.5870897737742,
          34.1897765039069,
          34.7924632340397,
          35.3951499641724,
          32.8087119118299,
          31.747530624083,
          30.8768891391135,
          30.0062476541441,
          32.2434244378476,
          33.1468331797864,
          34.4849448937114,
          31.2761074146108,
          30.3222711297642,
          30.5525017913809,
          30.433327191456,
          31.7422049339748,
          29.3880096905176,
          29.1425884600949,
          27.1648602722899,
          27.2727484901218,
          27.7895342409663,
          26.6548691438905,
          26.6184614597195,
          28.4632531477122,
          27.3667642542737,
          27.6860477019142,
          27.8043279762514,
          29.1965956938615,
          29.7281127375712,
          28.4907615927935,
          28.5022445149623,
          27.5999969290613,
          28.0077793701164,
          27.5830559252056,
          27.2891578803699,
          26.5253925683284,
          25.0582898283686,
          24.946451018528,
          24.384656907906,
          24.3799570068584,
          24.1603548640257,
          23.083445593203,
          23.6233435697956,
          23.5495574436142,
          22.8656464325929,
          22.5516347630259,
          23.6455386085236,
          24.1825161224281,
          25.5344320469512,
          24.5462708567919,
          25.5742587095233,
          26.84562732453,
          27.4265533831508,
          26.486390964616,
          26.060285938513,
          26.3703255195005,
          24.9548101136247,
          24.9599071894087,
          24.8859043914423,
          26.0906285187839,
          27.1186016992527,
          29.2620042993142,
          29.4377520728836,
          28.5037752072884,
          27.1874971849729,
          28.493315590132,
          29.1991800593715,
          27.4960487255604,
          27.5656539393319,
          27.1624151226669,
          26.6985835010976,
          26.2347518795282,
          25.7709202579589,
          25.1508636162009,
          25.8036960453134,
          26.2791278534139,
          27.710837001399,
          27.0867710785819,
          26.8059361244754,
          29.4237001398983,
          30.4769413450711,
          30.9714402702426,
          33.0755450916163,
          31.0925376189989,
          32.3654007574982,
          30.6568123656464,
          29.253152147951,
          28.2038393557853,
          28.8562005664176,
          29.6389221005221,
          28.6381362814345,
          27.524024976968,
          28.5807588630703,
          27.8482516122428,
          30.0918217490702,
          29.6208001501348,
          29.8571186064763,
          30.0934370628178,
          29.6451694134507,
          29.9436783021121,
          28.9405261541611,
          28.4089985327737,
          28.5708724878015,
          28.6315562834818,
          29.0455413382468,
          29.6404790664346,
          30.6255638584638,
          31.777112976422,
          33.0520906268127,
          34.1820793667042,
          32.824833657488,
          32.6146743098918,
          32.4045149622957,
          32.7479158562801,
          33.8452216194083,
          32.7660644214693,
          34.902102569352,
          32.2585488108643,
          31.8421223598458,
          32.2675057153581,
          31.4956331251919,
          32.8088060872829,
          32.8032743030675,
          33.8748145494251,
          34.1808066332276,
          33.6433964581841,
          32.508023339134,
          32.8738936090354,
          33.4301238611936,
          32.4335947043368,
          31.9414150203023,
          32.1212669328147,
          32.9567140956086,
          31.8471740539803,
          32.533270549698,
          32.7515149964172,
          31.4594636093766,
          31.7074483911693,
          30.6192254410209,
          31.3814488006278,
          31.1537284607773,
          30.2692189579281,
          29.3623837308493,
          28.8125082744737,
          29.2501880096905,
          29.7200477701573,
          29.3352523287952,
          30.9584314327635,
          29.9263496775514,
          30.8083038182004,
          30.274995393592,
          29.9605254717303,
          29.6991739174941,
          30.7901330740096,
          29.9904094584911,
          30.7769341795476,
          32.3129423004743,
          32.5933394752107,
          35.2437131060839,
          36.3116777561675,
          35.9144845941243,
          34.633466407343,
          35.7561585969222,
          37.4429938240011,
          39.0638956563278,
          39.258707817245,
          38.5276312826287,
          38.2751724843894,
          37.4066745146211,
          38.2062374176818,
          38.1126502200839,
          38.439535605828,
          36.5315712969598,
          35.4969034701607,
          35.1668720783431,
          35.6491773296482,
          36.6769532876105,
          37.7047292455727,
          37.5567263793633,
          37.1902910567441,
          38.9560548674378
         ]
        },
        {
         "mode": "lines",
         "name": "Forecasted Prices",
         "type": "scatter",
         "x": [
          "1",
          "2",
          "3",
          "4",
          "5",
          "6",
          "7",
          "8",
          "9",
          "10",
          "11",
          "12",
          "13",
          "14",
          "15",
          "16",
          "17",
          "18",
          "19",
          "20",
          "21",
          "22",
          "23",
          "24",
          "25",
          "26",
          "27",
          "28",
          "29",
          "30",
          "31",
          "32",
          "33",
          "34",
          "35",
          "36",
          "37",
          "38",
          "39",
          "40",
          "41",
          "42",
          "43",
          "44",
          "45",
          "46",
          "47",
          "48",
          "49",
          "50",
          "51",
          "52",
          "53",
          "54",
          "55",
          "56",
          "57",
          "58",
          "59",
          "60",
          "61",
          "62",
          "63",
          "64",
          "65",
          "66",
          "67",
          "68",
          "69",
          "70",
          "71",
          "72",
          "73",
          "74",
          "75",
          "76",
          "77",
          "78",
          "79",
          "80",
          "81",
          "82",
          "83",
          "84",
          "85",
          "86",
          "87",
          "88",
          "89",
          "90",
          "91",
          "92",
          "93",
          "94",
          "95",
          "96",
          "97",
          "98",
          "99",
          "100",
          "101",
          "102",
          "103",
          "104",
          "105",
          "106",
          "107",
          "108",
          "109",
          "110",
          "111",
          "112",
          "113",
          "114",
          "115",
          "116",
          "117",
          "118",
          "119",
          "120",
          "121",
          "122",
          "123",
          "124",
          "125",
          "126",
          "127",
          "128",
          "129",
          "130",
          "131",
          "132",
          "133",
          "134",
          "135",
          "136",
          "137",
          "138",
          "139",
          "140",
          "141",
          "142",
          "143",
          "144",
          "145",
          "146",
          "147",
          "148",
          "149",
          "150",
          "151",
          "152",
          "153",
          "154",
          "155",
          "156",
          "157",
          "158",
          "159",
          "160",
          "161",
          "162",
          "163",
          "164",
          "165",
          "166",
          "167",
          "168",
          "169",
          "170",
          "171",
          "172",
          "173",
          "174",
          "175",
          "176",
          "177",
          "178",
          "179",
          "180",
          "181",
          "182",
          "183",
          "184",
          "185",
          "186",
          "187",
          "188",
          "189",
          "190",
          "191",
          "192",
          "193",
          "194",
          "195",
          "196",
          "197",
          "198",
          "199",
          "200",
          "201",
          "202",
          "203",
          "204",
          "205",
          "206",
          "207",
          "208",
          "209",
          "210",
          "211",
          "212",
          "213",
          "214",
          "215",
          "216",
          "217",
          "218",
          "219",
          "220",
          "221",
          "222",
          "223",
          "224",
          "225",
          "226",
          "227",
          "228",
          "229",
          "230",
          "231",
          "232",
          "233",
          "234",
          "235",
          "236",
          "237",
          "238",
          "239",
          "240",
          "241",
          "242",
          "243",
          "244",
          "245",
          "246",
          "247",
          "248",
          "249",
          "250"
         ],
         "y": [
          36.190507242847914,
          34.878490704830725,
          37.54895828197657,
          35.69365298728112,
          37.41390147297221,
          34.8671264271935,
          38.19039564865839,
          38.0900516101982,
          40.38905879509597,
          40.45377543820757,
          45.192239036291866,
          39.6330382306991,
          40.33003436446517,
          40.34547506622256,
          42.172222003705485,
          38.67608327468078,
          36.91184357980729,
          38.787801639801316,
          35.49783046697226,
          38.09101434245433,
          43.90838332940885,
          49.86950878590932,
          46.092249453255626,
          54.829995751994886,
          53.871973731828014,
          47.95797134442272,
          49.295330383294356,
          50.081930946384475,
          48.4984629882007,
          50.112072510101605,
          50.22387640372023,
          48.38924255935375,
          49.67308526762893,
          50.078650609524246,
          49.74845928375533,
          51.02178427721935,
          49.79499238326508,
          49.44412133964928,
          49.63948843543992,
          48.93553161381694,
          45.170866828246346,
          46.898667884096234,
          45.93787401054389,
          48.701206630407334,
          46.12741111028843,
          47.727811553868605,
          47.09157901452853,
          46.89038623950854,
          45.753692798964074,
          45.07624654425166,
          46.28978551643215,
          44.44390221420855,
          45.30918849282182,
          47.97241567618526,
          47.849769380874655,
          44.76748543778375,
          43.74351293454671,
          41.04849796495131,
          43.64935194980907,
          44.31611182451215,
          40.19516750304583,
          38.78317433745844,
          40.031111333785205,
          40.28094608001446,
          39.03408885964663,
          36.453831417575714,
          35.10918305930228,
          36.26981515952313,
          34.565194609950865,
          33.20004064606617,
          35.95297376912132,
          31.621429463377915,
          33.726163631103205,
          34.01800526744959,
          33.948038784680996,
          34.7221645513248,
          35.33931750754111,
          35.975393658513056,
          33.03897224279829,
          32.33948713013914,
          31.214391044169677,
          30.441540738902408,
          32.96237528600847,
          33.38846860219154,
          35.12359659906421,
          31.328206914583454,
          31.018433276309985,
          31.09370451295774,
          30.754259161717876,
          32.313649011483264,
          29.4040896308475,
          29.696128410269697,
          27.360730108829923,
          27.845219458040802,
          28.07849587657085,
          26.76875702772697,
          27.07619347724061,
          28.95905494200098,
          27.401144713135018,
          28.226287944771936,
          28.11551408539416,
          29.699769503259212,
          29.97347648046265,
          28.51847320875431,
          28.95843877794212,
          27.688727027133524,
          28.52362326660725,
          27.85569071375774,
          27.641356842902592,
          26.820419126296258,
          25.260268134897025,
          25.393178871699824,
          24.68697042265866,
          24.691080824290708,
          24.3044867223646,
          23.203887698836017,
          24.067328554026222,
          23.74159404148385,
          23.116537377196835,
          22.884003723252185,
          23.993793612933672,
          24.358395827002063,
          25.95657363102167,
          24.57556908067353,
          26.004024399604454,
          27.20043568411836,
          27.7377184068252,
          26.668091119286693,
          26.51434327115377,
          26.863784330868988,
          25.089870443675988,
          25.54656769859784,
          25.246298719559878,
          26.457074455681976,
          27.427399526851335,
          29.79664929574306,
          29.792657282734396,
          28.979300513666402,
          27.78162908851447,
          29.27817175072752,
          29.53266556582536,
          27.651667318643153,
          27.98643108548523,
          27.248689166339705,
          27.015789797175152,
          26.52704746424259,
          26.041994108669655,
          25.40851979977988,
          26.240608162805092,
          26.536959340901895,
          28.148961630068786,
          27.21366002417126,
          27.168154642501687,
          30.104577542337843,
          30.7031799003635,
          31.160810751542318,
          33.701107557764495,
          31.102758068271548,
          33.211488095808015,
          30.873895967724703,
          29.744153844085833,
          28.70318652280191,
          29.382040773900165,
          30.03460428826541,
          28.82129069376966,
          27.834424206979232,
          29.05256455470606,
          27.84893355438411,
          30.552090542019194,
          29.583448130908742,
          29.994214310749715,
          30.021229559494042,
          30.309895287155904,
          30.355930605887252,
          29.09670429572783,
          28.68563232309282,
          28.894563815399447,
          28.906086760295082,
          29.315963119065476,
          29.869034217884426,
          30.945721185342144,
          32.02220324198789,
          33.26333793958649,
          34.45277467819229,
          32.9972488494878,
          32.72756641940334,
          32.3138920495072,
          33.81922859932508,
          34.20597584243054,
          32.730363515958445,
          35.60811126208012,
          32.14941358389214,
          32.29927743635233,
          32.68642051571993,
          31.662470573446296,
          33.263850655023134,
          32.98844538363234,
          34.28898458972945,
          34.39492409093578,
          33.7865863163567,
          32.70292512257184,
          33.331612740635514,
          33.62548304307604,
          32.4620517177813,
          32.22667645008256,
          32.460713573636326,
          33.27515999887756,
          31.88707846083627,
          32.94180152539741,
          32.948169848412604,
          31.648062919326687,
          32.01232940626773,
          30.69989564723189,
          31.80585489771262,
          31.329310228356647,
          30.39066138939775,
          29.553642120719815,
          29.082522577520272,
          29.555967555210657,
          29.900796047164945,
          29.33456285111992,
          31.36127234646055,
          29.86854889421114,
          31.195316765503037,
          30.347377248596864,
          30.19972391711086,
          29.91308032637671,
          31.119110577774155,
          30.02177026504084,
          31.21724883809737,
          32.65302430419211,
          32.69822068390049,
          35.88810519856423,
          36.995530518402454,
          36.180197710070864,
          34.9796413933211,
          36.41393482011743,
          37.845213425550874,
          39.403399276776504,
          39.51374186233731,
          38.88226420083481,
          38.82932699826003,
          37.71761768316402,
          38.69583404148429,
          38.47220691242584,
          38.87652141488691,
          36.79655648707551,
          36.05142376813872,
          35.63619696311949,
          36.20235537573865
         ]
        }
       ],
       "layout": {
        "template": {
         "data": {
          "bar": [
           {
            "error_x": {
             "color": "#2a3f5f"
            },
            "error_y": {
             "color": "#2a3f5f"
            },
            "marker": {
             "line": {
              "color": "#E5ECF6",
              "width": 0.5
             },
             "pattern": {
              "fillmode": "overlay",
              "size": 10,
              "solidity": 0.2
             }
            },
            "type": "bar"
           }
          ],
          "barpolar": [
           {
            "marker": {
             "line": {
              "color": "#E5ECF6",
              "width": 0.5
             },
             "pattern": {
              "fillmode": "overlay",
              "size": 10,
              "solidity": 0.2
             }
            },
            "type": "barpolar"
           }
          ],
          "carpet": [
           {
            "aaxis": {
             "endlinecolor": "#2a3f5f",
             "gridcolor": "white",
             "linecolor": "white",
             "minorgridcolor": "white",
             "startlinecolor": "#2a3f5f"
            },
            "baxis": {
             "endlinecolor": "#2a3f5f",
             "gridcolor": "white",
             "linecolor": "white",
             "minorgridcolor": "white",
             "startlinecolor": "#2a3f5f"
            },
            "type": "carpet"
           }
          ],
          "choropleth": [
           {
            "colorbar": {
             "outlinewidth": 0,
             "ticks": ""
            },
            "type": "choropleth"
           }
          ],
          "contour": [
           {
            "colorbar": {
             "outlinewidth": 0,
             "ticks": ""
            },
            "colorscale": [
             [
              0,
              "#0d0887"
             ],
             [
              0.1111111111111111,
              "#46039f"
             ],
             [
              0.2222222222222222,
              "#7201a8"
             ],
             [
              0.3333333333333333,
              "#9c179e"
             ],
             [
              0.4444444444444444,
              "#bd3786"
             ],
             [
              0.5555555555555556,
              "#d8576b"
             ],
             [
              0.6666666666666666,
              "#ed7953"
             ],
             [
              0.7777777777777778,
              "#fb9f3a"
             ],
             [
              0.8888888888888888,
              "#fdca26"
             ],
             [
              1,
              "#f0f921"
             ]
            ],
            "type": "contour"
           }
          ],
          "contourcarpet": [
           {
            "colorbar": {
             "outlinewidth": 0,
             "ticks": ""
            },
            "type": "contourcarpet"
           }
          ],
          "heatmap": [
           {
            "colorbar": {
             "outlinewidth": 0,
             "ticks": ""
            },
            "colorscale": [
             [
              0,
              "#0d0887"
             ],
             [
              0.1111111111111111,
              "#46039f"
             ],
             [
              0.2222222222222222,
              "#7201a8"
             ],
             [
              0.3333333333333333,
              "#9c179e"
             ],
             [
              0.4444444444444444,
              "#bd3786"
             ],
             [
              0.5555555555555556,
              "#d8576b"
             ],
             [
              0.6666666666666666,
              "#ed7953"
             ],
             [
              0.7777777777777778,
              "#fb9f3a"
             ],
             [
              0.8888888888888888,
              "#fdca26"
             ],
             [
              1,
              "#f0f921"
             ]
            ],
            "type": "heatmap"
           }
          ],
          "heatmapgl": [
           {
            "colorbar": {
             "outlinewidth": 0,
             "ticks": ""
            },
            "colorscale": [
             [
              0,
              "#0d0887"
             ],
             [
              0.1111111111111111,
              "#46039f"
             ],
             [
              0.2222222222222222,
              "#7201a8"
             ],
             [
              0.3333333333333333,
              "#9c179e"
             ],
             [
              0.4444444444444444,
              "#bd3786"
             ],
             [
              0.5555555555555556,
              "#d8576b"
             ],
             [
              0.6666666666666666,
              "#ed7953"
             ],
             [
              0.7777777777777778,
              "#fb9f3a"
             ],
             [
              0.8888888888888888,
              "#fdca26"
             ],
             [
              1,
              "#f0f921"
             ]
            ],
            "type": "heatmapgl"
           }
          ],
          "histogram": [
           {
            "marker": {
             "pattern": {
              "fillmode": "overlay",
              "size": 10,
              "solidity": 0.2
             }
            },
            "type": "histogram"
           }
          ],
          "histogram2d": [
           {
            "colorbar": {
             "outlinewidth": 0,
             "ticks": ""
            },
            "colorscale": [
             [
              0,
              "#0d0887"
             ],
             [
              0.1111111111111111,
              "#46039f"
             ],
             [
              0.2222222222222222,
              "#7201a8"
             ],
             [
              0.3333333333333333,
              "#9c179e"
             ],
             [
              0.4444444444444444,
              "#bd3786"
             ],
             [
              0.5555555555555556,
              "#d8576b"
             ],
             [
              0.6666666666666666,
              "#ed7953"
             ],
             [
              0.7777777777777778,
              "#fb9f3a"
             ],
             [
              0.8888888888888888,
              "#fdca26"
             ],
             [
              1,
              "#f0f921"
             ]
            ],
            "type": "histogram2d"
           }
          ],
          "histogram2dcontour": [
           {
            "colorbar": {
             "outlinewidth": 0,
             "ticks": ""
            },
            "colorscale": [
             [
              0,
              "#0d0887"
             ],
             [
              0.1111111111111111,
              "#46039f"
             ],
             [
              0.2222222222222222,
              "#7201a8"
             ],
             [
              0.3333333333333333,
              "#9c179e"
             ],
             [
              0.4444444444444444,
              "#bd3786"
             ],
             [
              0.5555555555555556,
              "#d8576b"
             ],
             [
              0.6666666666666666,
              "#ed7953"
             ],
             [
              0.7777777777777778,
              "#fb9f3a"
             ],
             [
              0.8888888888888888,
              "#fdca26"
             ],
             [
              1,
              "#f0f921"
             ]
            ],
            "type": "histogram2dcontour"
           }
          ],
          "mesh3d": [
           {
            "colorbar": {
             "outlinewidth": 0,
             "ticks": ""
            },
            "type": "mesh3d"
           }
          ],
          "parcoords": [
           {
            "line": {
             "colorbar": {
              "outlinewidth": 0,
              "ticks": ""
             }
            },
            "type": "parcoords"
           }
          ],
          "pie": [
           {
            "automargin": true,
            "type": "pie"
           }
          ],
          "scatter": [
           {
            "fillpattern": {
             "fillmode": "overlay",
             "size": 10,
             "solidity": 0.2
            },
            "type": "scatter"
           }
          ],
          "scatter3d": [
           {
            "line": {
             "colorbar": {
              "outlinewidth": 0,
              "ticks": ""
             }
            },
            "marker": {
             "colorbar": {
              "outlinewidth": 0,
              "ticks": ""
             }
            },
            "type": "scatter3d"
           }
          ],
          "scattercarpet": [
           {
            "marker": {
             "colorbar": {
              "outlinewidth": 0,
              "ticks": ""
             }
            },
            "type": "scattercarpet"
           }
          ],
          "scattergeo": [
           {
            "marker": {
             "colorbar": {
              "outlinewidth": 0,
              "ticks": ""
             }
            },
            "type": "scattergeo"
           }
          ],
          "scattergl": [
           {
            "marker": {
             "colorbar": {
              "outlinewidth": 0,
              "ticks": ""
             }
            },
            "type": "scattergl"
           }
          ],
          "scattermapbox": [
           {
            "marker": {
             "colorbar": {
              "outlinewidth": 0,
              "ticks": ""
             }
            },
            "type": "scattermapbox"
           }
          ],
          "scatterpolar": [
           {
            "marker": {
             "colorbar": {
              "outlinewidth": 0,
              "ticks": ""
             }
            },
            "type": "scatterpolar"
           }
          ],
          "scatterpolargl": [
           {
            "marker": {
             "colorbar": {
              "outlinewidth": 0,
              "ticks": ""
             }
            },
            "type": "scatterpolargl"
           }
          ],
          "scatterternary": [
           {
            "marker": {
             "colorbar": {
              "outlinewidth": 0,
              "ticks": ""
             }
            },
            "type": "scatterternary"
           }
          ],
          "surface": [
           {
            "colorbar": {
             "outlinewidth": 0,
             "ticks": ""
            },
            "colorscale": [
             [
              0,
              "#0d0887"
             ],
             [
              0.1111111111111111,
              "#46039f"
             ],
             [
              0.2222222222222222,
              "#7201a8"
             ],
             [
              0.3333333333333333,
              "#9c179e"
             ],
             [
              0.4444444444444444,
              "#bd3786"
             ],
             [
              0.5555555555555556,
              "#d8576b"
             ],
             [
              0.6666666666666666,
              "#ed7953"
             ],
             [
              0.7777777777777778,
              "#fb9f3a"
             ],
             [
              0.8888888888888888,
              "#fdca26"
             ],
             [
              1,
              "#f0f921"
             ]
            ],
            "type": "surface"
           }
          ],
          "table": [
           {
            "cells": {
             "fill": {
              "color": "#EBF0F8"
             },
             "line": {
              "color": "white"
             }
            },
            "header": {
             "fill": {
              "color": "#C8D4E3"
             },
             "line": {
              "color": "white"
             }
            },
            "type": "table"
           }
          ]
         },
         "layout": {
          "annotationdefaults": {
           "arrowcolor": "#2a3f5f",
           "arrowhead": 0,
           "arrowwidth": 1
          },
          "autotypenumbers": "strict",
          "coloraxis": {
           "colorbar": {
            "outlinewidth": 0,
            "ticks": ""
           }
          },
          "colorscale": {
           "diverging": [
            [
             0,
             "#8e0152"
            ],
            [
             0.1,
             "#c51b7d"
            ],
            [
             0.2,
             "#de77ae"
            ],
            [
             0.3,
             "#f1b6da"
            ],
            [
             0.4,
             "#fde0ef"
            ],
            [
             0.5,
             "#f7f7f7"
            ],
            [
             0.6,
             "#e6f5d0"
            ],
            [
             0.7,
             "#b8e186"
            ],
            [
             0.8,
             "#7fbc41"
            ],
            [
             0.9,
             "#4d9221"
            ],
            [
             1,
             "#276419"
            ]
           ],
           "sequential": [
            [
             0,
             "#0d0887"
            ],
            [
             0.1111111111111111,
             "#46039f"
            ],
            [
             0.2222222222222222,
             "#7201a8"
            ],
            [
             0.3333333333333333,
             "#9c179e"
            ],
            [
             0.4444444444444444,
             "#bd3786"
            ],
            [
             0.5555555555555556,
             "#d8576b"
            ],
            [
             0.6666666666666666,
             "#ed7953"
            ],
            [
             0.7777777777777778,
             "#fb9f3a"
            ],
            [
             0.8888888888888888,
             "#fdca26"
            ],
            [
             1,
             "#f0f921"
            ]
           ],
           "sequentialminus": [
            [
             0,
             "#0d0887"
            ],
            [
             0.1111111111111111,
             "#46039f"
            ],
            [
             0.2222222222222222,
             "#7201a8"
            ],
            [
             0.3333333333333333,
             "#9c179e"
            ],
            [
             0.4444444444444444,
             "#bd3786"
            ],
            [
             0.5555555555555556,
             "#d8576b"
            ],
            [
             0.6666666666666666,
             "#ed7953"
            ],
            [
             0.7777777777777778,
             "#fb9f3a"
            ],
            [
             0.8888888888888888,
             "#fdca26"
            ],
            [
             1,
             "#f0f921"
            ]
           ]
          },
          "colorway": [
           "#636efa",
           "#EF553B",
           "#00cc96",
           "#ab63fa",
           "#FFA15A",
           "#19d3f3",
           "#FF6692",
           "#B6E880",
           "#FF97FF",
           "#FECB52"
          ],
          "font": {
           "color": "#2a3f5f"
          },
          "geo": {
           "bgcolor": "white",
           "lakecolor": "white",
           "landcolor": "#E5ECF6",
           "showlakes": true,
           "showland": true,
           "subunitcolor": "white"
          },
          "hoverlabel": {
           "align": "left"
          },
          "hovermode": "closest",
          "mapbox": {
           "style": "light"
          },
          "paper_bgcolor": "white",
          "plot_bgcolor": "#E5ECF6",
          "polar": {
           "angularaxis": {
            "gridcolor": "white",
            "linecolor": "white",
            "ticks": ""
           },
           "bgcolor": "#E5ECF6",
           "radialaxis": {
            "gridcolor": "white",
            "linecolor": "white",
            "ticks": ""
           }
          },
          "scene": {
           "xaxis": {
            "backgroundcolor": "#E5ECF6",
            "gridcolor": "white",
            "gridwidth": 2,
            "linecolor": "white",
            "showbackground": true,
            "ticks": "",
            "zerolinecolor": "white"
           },
           "yaxis": {
            "backgroundcolor": "#E5ECF6",
            "gridcolor": "white",
            "gridwidth": 2,
            "linecolor": "white",
            "showbackground": true,
            "ticks": "",
            "zerolinecolor": "white"
           },
           "zaxis": {
            "backgroundcolor": "#E5ECF6",
            "gridcolor": "white",
            "gridwidth": 2,
            "linecolor": "white",
            "showbackground": true,
            "ticks": "",
            "zerolinecolor": "white"
           }
          },
          "shapedefaults": {
           "line": {
            "color": "#2a3f5f"
           }
          },
          "ternary": {
           "aaxis": {
            "gridcolor": "white",
            "linecolor": "white",
            "ticks": ""
           },
           "baxis": {
            "gridcolor": "white",
            "linecolor": "white",
            "ticks": ""
           },
           "bgcolor": "#E5ECF6",
           "caxis": {
            "gridcolor": "white",
            "linecolor": "white",
            "ticks": ""
           }
          },
          "title": {
           "x": 0.05
          },
          "xaxis": {
           "automargin": true,
           "gridcolor": "white",
           "linecolor": "white",
           "ticks": "",
           "title": {
            "standoff": 15
           },
           "zerolinecolor": "white",
           "zerolinewidth": 2
          },
          "yaxis": {
           "automargin": true,
           "gridcolor": "white",
           "linecolor": "white",
           "ticks": "",
           "title": {
            "standoff": 15
           },
           "zerolinecolor": "white",
           "zerolinewidth": 2
          }
         }
        },
        "title": {
         "text": "Actual vs Forecasted Prices"
        },
        "xaxis": {
         "title": {
          "text": "Index"
         }
        },
        "yaxis": {
         "title": {
          "text": "Price"
         }
        }
       }
      }
     },
     "metadata": {},
     "output_type": "display_data"
    }
   ],
   "source": [
    "%R -o hub2_forecast_comparison\n",
    "\n",
    "hub2_forecast_comparison = hub2_forecast_comparison\n",
    "\n",
    "actual_trace = go.Scatter(\n",
    "    x=hub2_forecast_comparison.index,\n",
    "    y=hub2_forecast_comparison['Actual'],\n",
    "    mode='lines',\n",
    "    name='Actual Prices'\n",
    ")\n",
    "\n",
    "forecasted_trace = go.Scatter(\n",
    "    x=hub2_forecast_comparison.index,\n",
    "    y=hub2_forecast_comparison['Forecasted'],\n",
    "    mode='lines',\n",
    "    name='Forecasted Prices'\n",
    ")\n",
    "\n",
    "# Create the plot\n",
    "layout = go.Layout(\n",
    "    title='Actual vs Forecasted Prices',\n",
    "    xaxis=dict(title='Index'),\n",
    "    yaxis=dict(title='Price'),\n",
    ")\n",
    "\n",
    "fig = go.Figure(data=[actual_trace, forecasted_trace], layout=layout)\n",
    "fig.show()\n"
   ]
  }
 ],
 "metadata": {
  "kernelspec": {
   "display_name": "Python 3",
   "language": "python",
   "name": "python3"
  },
  "language_info": {
   "codemirror_mode": {
    "name": "ipython",
    "version": 3
   },
   "file_extension": ".py",
   "mimetype": "text/x-python",
   "name": "python",
   "nbconvert_exporter": "python",
   "pygments_lexer": "ipython3",
   "version": "3.11.9"
  }
 },
 "nbformat": 4,
 "nbformat_minor": 2
}
