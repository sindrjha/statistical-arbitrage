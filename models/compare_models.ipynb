{
 "cells": [
  {
   "cell_type": "markdown",
   "metadata": {},
   "source": [
    "# Statistical models in R\n",
    "This notebook is covering:\n",
    "1. Comparing models using MAE and RMSE as well as performing Diebold-Mariano"
   ]
  },
  {
   "cell_type": "code",
   "execution_count": 33,
   "metadata": {},
   "outputs": [],
   "source": [
    "import pandas as pd\n",
    "import plotly.express as px\n",
    "import plotly.graph_objs as go"
   ]
  },
  {
   "cell_type": "code",
   "execution_count": 34,
   "metadata": {},
   "outputs": [
    {
     "name": "stdout",
     "output_type": "stream",
     "text": [
      "Requirement already satisfied: rpy2 in /Users/sindrehaugland/Documents/Master/statistical-arbitrage/.conda/lib/python3.11/site-packages (3.5.16)\n",
      "Requirement already satisfied: cffi>=1.15.1 in /Users/sindrehaugland/Documents/Master/statistical-arbitrage/.conda/lib/python3.11/site-packages (from rpy2) (1.17.1)\n",
      "Requirement already satisfied: jinja2 in /Users/sindrehaugland/Documents/Master/statistical-arbitrage/.conda/lib/python3.11/site-packages (from rpy2) (3.1.4)\n",
      "Requirement already satisfied: tzlocal in /Users/sindrehaugland/Documents/Master/statistical-arbitrage/.conda/lib/python3.11/site-packages (from rpy2) (5.2)\n",
      "Requirement already satisfied: pycparser in /Users/sindrehaugland/Documents/Master/statistical-arbitrage/.conda/lib/python3.11/site-packages (from cffi>=1.15.1->rpy2) (2.22)\n",
      "Requirement already satisfied: MarkupSafe>=2.0 in /Users/sindrehaugland/Documents/Master/statistical-arbitrage/.conda/lib/python3.11/site-packages (from jinja2->rpy2) (2.1.5)\n",
      "Note: you may need to restart the kernel to use updated packages.\n"
     ]
    }
   ],
   "source": [
    "# rpy2 is a Python package that allows you to run R code from Python\n",
    "%pip install rpy2"
   ]
  },
  {
   "cell_type": "code",
   "execution_count": 35,
   "metadata": {},
   "outputs": [
    {
     "name": "stdout",
     "output_type": "stream",
     "text": [
      "The rpy2.ipython extension is already loaded. To reload it, use:\n",
      "  %reload_ext rpy2.ipython\n"
     ]
    }
   ],
   "source": [
    "# Load the rpy2 extension to use R in Jupyter\n",
    "%load_ext rpy2.ipython"
   ]
  },
  {
   "cell_type": "markdown",
   "metadata": {},
   "source": [
    "The magic function `%%R` is used for running R code in Jupyter"
   ]
  },
  {
   "cell_type": "code",
   "execution_count": 37,
   "metadata": {},
   "outputs": [
    {
     "name": "stdout",
     "output_type": "stream",
     "text": [
      "$ttf_the\n",
      "$ttf_the$ttf\n",
      "               mape  rmse rmse_return da_return dv_return rmse_spread da_spread\n",
      "naive          6.1  2.96        8.05         0~     -617~      0.642         0~\n",
      "arima         6.11  2.97        8.08        52     -1.56       0.719      49.2 \n",
      "vecm          6.09  2.92        7.93      57.2       153       0.554      55.6 \n",
      "tvecm_long_t1 5.95  2.92        7.83      58.8       212       0.519~     60.4 \n",
      "ann           5.51~ 2.85~       7.68~     60.4       155       0.842      57.6 \n",
      "              corr_spread dv_spread\n",
      "naive                 NA     -33.9~\n",
      "arima             -0.032~     2.99 \n",
      "vecm               0.532      14.8 \n",
      "tvecm_long_t1      0.591      16.8 \n",
      "ann                0.408      15.5 \n",
      "\n",
      "$ttf_the$the\n",
      "               mape  rmse rmse_return da_return dv_return rmse_spread da_spread\n",
      "naive         6.02  2.94        7.93       0.4~     -609~      0.642         0~\n",
      "arima         6.03  2.95        7.97      51.6      24.5       0.719      49.2 \n",
      "vecm          6.04   2.9        7.83      58.8       166       0.554      55.6 \n",
      "tvecm_long_t1 5.92  2.92        7.75      59.6       236       0.519~     60.4 \n",
      "ann            5.5~ 2.83~       7.58~     63.2       187       0.842      57.6 \n",
      "              corr_spread dv_spread\n",
      "naive                 NA        NA \n",
      "arima             -0.032~       NA \n",
      "vecm               0.532        NA \n",
      "tvecm_long_t1      0.591        NA \n",
      "ann                0.408        NA \n",
      "\n",
      "\n",
      "$ttf_nbp\n",
      "$ttf_nbp$ttf\n",
      "               mape  rmse rmse_return da_return dv_return rmse_spread da_spread\n",
      "naive          6.1  2.96        8.05         0~     -617~       1.42~        0~\n",
      "arima         6.11  2.97        8.08        52     -1.56         1.5        50 \n",
      "vecm          5.91~ 2.94~       7.96~       62       158        1.45      61.2 \n",
      "tvecm_long_t1 6.49  3.04        8.21      47.2      15.9        1.83      54.8 \n",
      "ann           6.09  3.12        8.49      56.8      40.1        2.19      58.8 \n",
      "              corr_spread dv_spread\n",
      "naive                 NA      -107~\n",
      "arima              0.059~     6.99 \n",
      "vecm               0.199      28.3 \n",
      "tvecm_long_t1      0.276      4.79 \n",
      "ann                0.351      45.5 \n",
      "\n",
      "$ttf_nbp$nbp\n",
      "               mape  rmse rmse_return da_return dv_return rmse_spread da_spread\n",
      "naive          6.5  3.08        8.54         0~     -658~       1.42~        0~\n",
      "arima         6.51  3.08        8.54      50.8      12.3         1.5        50 \n",
      "vecm           6.2  3.03~       8.36~     62.4       180        1.45      61.2 \n",
      "tvecm_long_t1 6.53  3.06        8.48      50.4      96.1        1.83      54.8 \n",
      "ann           6.08~ 3.07        8.47        62       118        2.19      58.8 \n",
      "              corr_spread dv_spread\n",
      "naive                 NA        NA \n",
      "arima              0.059~       NA \n",
      "vecm               0.199        NA \n",
      "tvecm_long_t1      0.276        NA \n",
      "ann                0.351        NA \n",
      "\n",
      "\n",
      "$the_nbp\n",
      "$the_nbp$the\n",
      "               mape  rmse rmse_return da_return dv_return rmse_spread da_spread\n",
      "naive         6.02  2.94        7.93       0.4~     -609~        1.6~        0~\n",
      "arima         6.03  2.95        7.97      51.6      24.5        1.71      50.4 \n",
      "vecm          5.86~ 2.93~       7.88~     59.6       102        1.61      63.6 \n",
      "tvecm_long_t1 6.44  3.04        8.14      46.4      12.5        1.95        56 \n",
      "ann           5.96   3.1        8.37      57.6      47.4         1.9      58.4 \n",
      "              corr_spread dv_spread\n",
      "naive                 NA      -117~\n",
      "arima             -0.006~     -5.8 \n",
      "vecm               0.226      28.2 \n",
      "tvecm_long_t1      0.336      2.33 \n",
      "ann                0.449      48.9 \n",
      "\n",
      "$the_nbp$nbp\n",
      "               mape  rmse rmse_return da_return dv_return rmse_spread da_spread\n",
      "naive          6.5  3.08        8.54         0~     -658~        1.6~        0~\n",
      "arima         6.51  3.08        8.54      50.8      12.3        1.71      50.4 \n",
      "vecm          6.23  3.03~       8.39~       62       161        1.61      63.6 \n",
      "tvecm_long_t1 6.56  3.09        8.53        46        26        1.95        56 \n",
      "ann           6.13~ 3.09        8.51      59.6      51.3         1.9      58.4 \n",
      "              corr_spread dv_spread\n",
      "naive                 NA        NA \n",
      "arima             -0.006~       NA \n",
      "vecm               0.226        NA \n",
      "tvecm_long_t1      0.336        NA \n",
      "ann                0.449        NA \n",
      "\n",
      "\n"
     ]
    },
    {
     "data": {
      "text/plain": [
       "In addition: Warning messages:\n",
       "1: In cor(actual_spread, predicted_spread, method = \"pearson\") :\n",
       "  the standard deviation is zero\n",
       "2: In cor(actual_spread, predicted_spread, method = \"pearson\") :\n",
       "  the standard deviation is zero\n",
       "3: In cor(actual_spread, predicted_spread, method = \"pearson\") :\n",
       "  the standard deviation is zero\n",
       "4: In min(as.numeric(df[[metric]]), na.rm = TRUE) :\n",
       "  no non-missing arguments to min; returning Inf\n",
       "5: In min(as.numeric(df[[metric]]), na.rm = TRUE) :\n",
       "  no non-missing arguments to min; returning Inf\n",
       "6: In min(as.numeric(df[[metric]]), na.rm = TRUE) :\n",
       "  no non-missing arguments to min; returning Inf\n"
      ]
     },
     "metadata": {},
     "output_type": "display_data"
    }
   ],
   "source": [
    "%%R\n",
    "\n",
    "# Define the hub pairs and models\n",
    "hub_pairs <- list(c(\"ttf\", \"the\"),c(\"ttf\", \"nbp\"), c(\"the\", \"nbp\"))\n",
    "models <- c(\"naive\", \"arima\", \"vecm\", \"tvecm_long_t1\", \"ann\")\n",
    "horizon <- 250\n",
    "window_size <- 5\n",
    "\n",
    "source(\"compare_models.r\")\n",
    "\n",
    "results_list <- compare_error_metrics(hub_pairs, models, horizon, window_size)\n",
    "\n"
   ]
  },
  {
   "cell_type": "code",
   "execution_count": 19,
   "metadata": {},
   "outputs": [
    {
     "name": "stdout",
     "output_type": "stream",
     "text": [
      "$ttf_the\n",
      "$ttf_the$ttf\n",
      "                 naive    arima     vecm tvecm_long_t1 tvecm_long_t2      ann\n",
      "naive             -    0.339    0.536         0.626         0.007**  0.986   \n",
      "arima         0.661        -    0.555         0.648         0.005**  0.988   \n",
      "vecm          0.464    0.445        -         0.623         0.038*   0.990   \n",
      "tvecm_long_t1 0.374    0.352    0.377             -         0.021*   0.929   \n",
      "tvecm_long_t2 0.993    0.995    0.962         0.979             -    0.999   \n",
      "ann           0.014*   0.012*   0.010*        0.071         0.001***     -   \n",
      "\n",
      "$ttf_the$the\n",
      "                 naive    arima     vecm tvecm_long_t1 tvecm_long_t2      ann\n",
      "naive             -    0.414    0.521         0.566         0.013*   0.967   \n",
      "arima         0.586        -    0.532         0.580         0.010**  0.971   \n",
      "vecm          0.479    0.468        -         0.562         0.058    0.994   \n",
      "tvecm_long_t1 0.434    0.420    0.438             -         0.037*   0.938   \n",
      "tvecm_long_t2 0.987    0.990    0.942         0.963             -    0.999   \n",
      "ann           0.033*   0.029*   0.006**       0.062         0.001**      -   \n",
      "\n",
      "\n",
      "$ttf_nbp\n",
      "$ttf_nbp$ttf\n",
      "                 naive    arima     vecm tvecm_long_t1 tvecm_long_t2      ann\n",
      "naive             -    0.339    0.972         0.049*        0.038*   0.429   \n",
      "arima         0.661        -    0.987         0.058         0.044*   0.441   \n",
      "vecm          0.028*   0.013*       -         0.019*        0.003**  0.199   \n",
      "tvecm_long_t1 0.951    0.942    0.981             -         0.656    0.716   \n",
      "tvecm_long_t2 0.962    0.956    0.997         0.344             -    0.703   \n",
      "ann           0.571    0.559    0.801         0.284         0.297        -   \n",
      "\n",
      "$ttf_nbp$nbp\n",
      "                 naive    arima     vecm tvecm_long_t1 tvecm_long_t2      ann\n",
      "naive             -    0.285    0.964         0.492         0.007**  0.882   \n",
      "arima         0.715        -    0.976         0.570         0.009**  0.897   \n",
      "vecm          0.036*   0.024*       -         0.055         0.004**  0.619   \n",
      "tvecm_long_t1 0.508    0.430    0.945             -         0.003**  0.853   \n",
      "tvecm_long_t2 0.993    0.991    0.996         0.997             -    0.973   \n",
      "ann           0.118    0.103    0.381         0.147         0.027*       -   \n",
      "\n",
      "\n",
      "$the_nbp\n",
      "$the_nbp$the\n",
      "                 naive    arima     vecm tvecm_long_t1 tvecm_long_t2      ann\n",
      "naive             -    0.414    0.957         0.023*        0.009**  0.478   \n",
      "arima         0.586        -    0.979         0.028*        0.010*   0.486   \n",
      "vecm          0.043*   0.021*       -         0.010*        0.003**  0.272   \n",
      "tvecm_long_t1 0.977    0.972    0.990             -         0.292    0.768   \n",
      "tvecm_long_t2 0.991    0.990    0.997         0.708             -    0.801   \n",
      "ann           0.522    0.514    0.728         0.232         0.199        -   \n",
      "\n",
      "$the_nbp$nbp\n",
      "                 naive    arima     vecm tvecm_long_t1 tvecm_long_t2      ann\n",
      "naive             -    0.285    0.951         0.168         0.003**  0.840   \n",
      "arima         0.715        -    0.967         0.258         0.003**  0.857   \n",
      "vecm          0.049*   0.033*       -         0.031*        0.002**  0.555   \n",
      "tvecm_long_t1 0.832    0.742    0.969             -         0.001*** 0.857   \n",
      "tvecm_long_t2 0.997    0.997    0.998         0.999             -    0.971   \n",
      "ann           0.160    0.143    0.445         0.143         0.029*       -   \n",
      "\n",
      "\n"
     ]
    }
   ],
   "source": [
    "%%R\n",
    "source(\"compare_models.r\")\n",
    "diebold_mariano(hub_pairs, models, horizon, window_size)"
   ]
  },
  {
   "cell_type": "code",
   "execution_count": 20,
   "metadata": {},
   "outputs": [
    {
     "name": "stdout",
     "output_type": "stream",
     "text": [
      "$ttf_the\n",
      "$ttf_the$ttf\n",
      "                 naive    arima     vecm tvecm_long_t1 tvecm_long_t2      ann\n",
      "naive             -    0.339    0.536         0.626         0.007**  0.986   \n",
      "arima         0.661        -    0.555         0.648         0.005**  0.988   \n",
      "vecm          0.464    0.445        -         0.623         0.038*   0.990   \n",
      "tvecm_long_t1 0.374    0.352    0.377             -         0.021*   0.929   \n",
      "tvecm_long_t2 0.993    0.995    0.962         0.979             -    0.999   \n",
      "ann           0.014*   0.012*   0.010*        0.071         0.001***     -   \n",
      "\n",
      "$ttf_the$the\n",
      "                 naive    arima     vecm tvecm_long_t1 tvecm_long_t2      ann\n",
      "naive             -    0.414    0.521         0.566         0.013*   0.967   \n",
      "arima         0.586        -    0.532         0.580         0.010**  0.971   \n",
      "vecm          0.479    0.468        -         0.562         0.058    0.994   \n",
      "tvecm_long_t1 0.434    0.420    0.438             -         0.037*   0.938   \n",
      "tvecm_long_t2 0.987    0.990    0.942         0.963             -    0.999   \n",
      "ann           0.033*   0.029*   0.006**       0.062         0.001**      -   \n",
      "\n",
      "\n",
      "$ttf_nbp\n",
      "$ttf_nbp$ttf\n",
      "                 naive    arima     vecm tvecm_long_t1 tvecm_long_t2      ann\n",
      "naive             -    0.339    0.972         0.049*        0.038*   0.429   \n",
      "arima         0.661        -    0.987         0.058         0.044*   0.441   \n",
      "vecm          0.028*   0.013*       -         0.019*        0.003**  0.199   \n",
      "tvecm_long_t1 0.951    0.942    0.981             -         0.656    0.716   \n",
      "tvecm_long_t2 0.962    0.956    0.997         0.344             -    0.703   \n",
      "ann           0.571    0.559    0.801         0.284         0.297        -   \n",
      "\n",
      "$ttf_nbp$nbp\n",
      "                 naive    arima     vecm tvecm_long_t1 tvecm_long_t2      ann\n",
      "naive             -    0.285    0.964         0.492         0.007**  0.882   \n",
      "arima         0.715        -    0.976         0.570         0.009**  0.897   \n",
      "vecm          0.036*   0.024*       -         0.055         0.004**  0.619   \n",
      "tvecm_long_t1 0.508    0.430    0.945             -         0.003**  0.853   \n",
      "tvecm_long_t2 0.993    0.991    0.996         0.997             -    0.973   \n",
      "ann           0.118    0.103    0.381         0.147         0.027*       -   \n",
      "\n",
      "\n",
      "$the_nbp\n",
      "$the_nbp$the\n",
      "                 naive    arima     vecm tvecm_long_t1 tvecm_long_t2      ann\n",
      "naive             -    0.414    0.957         0.023*        0.009**  0.478   \n",
      "arima         0.586        -    0.979         0.028*        0.010*   0.486   \n",
      "vecm          0.043*   0.021*       -         0.010*        0.003**  0.272   \n",
      "tvecm_long_t1 0.977    0.972    0.990             -         0.292    0.768   \n",
      "tvecm_long_t2 0.991    0.990    0.997         0.708             -    0.801   \n",
      "ann           0.522    0.514    0.728         0.232         0.199        -   \n",
      "\n",
      "$the_nbp$nbp\n",
      "                 naive    arima     vecm tvecm_long_t1 tvecm_long_t2      ann\n",
      "naive             -    0.285    0.951         0.168         0.003**  0.840   \n",
      "arima         0.715        -    0.967         0.258         0.003**  0.857   \n",
      "vecm          0.049*   0.033*       -         0.031*        0.002**  0.555   \n",
      "tvecm_long_t1 0.832    0.742    0.969             -         0.001*** 0.857   \n",
      "tvecm_long_t2 0.997    0.997    0.998         0.999             -    0.971   \n",
      "ann           0.160    0.143    0.445         0.143         0.029*       -   \n",
      "\n",
      "\n"
     ]
    }
   ],
   "source": [
    "%%R\n",
    "diebold_mariano_spread(hub_pairs, models, horizon, window_size)"
   ]
  },
  {
   "cell_type": "code",
   "execution_count": 6,
   "metadata": {},
   "outputs": [
    {
     "name": "stdout",
     "output_type": "stream",
     "text": [
      "[1] \"MAPE for ttf: 5.95078067443684\"\n",
      "[1] \"RMSE for ttf: 2.92374370973872\"\n",
      "[1] \"MAPE for ttf: 6.09504827799185\"\n",
      "[1] \"RMSE for ttf: 2.91780895245976\"\n"
     ]
    }
   ],
   "source": [
    "%%R\n",
    "\n",
    "hub1_name <- \"ttf\"\n",
    "hub2_name <- \"the\"\n",
    "model1_name <- \"tvecm_long_t1\"\n",
    "model2_name <- \"vecm\"\n",
    "horizon <- 250\n",
    "window_size <- 5\n",
    "\n",
    "model1_filename <- paste0(\"../predictions/test/predictions/\", hub1_name, \"_\", hub2_name, \"_h\", horizon, \"_w\", window_size, \"_\", model1_name, \"_predictions.csv\")\n",
    "model1_predictions <- read.csv(model1_filename)\n",
    "\n",
    "#model2_filename <- paste0(\"../predictions/test/predictions/\", hub1_name, \"_h\", horizon, \"_w\", window_size, \"_\", model2_name, \"_predictions.csv\")\n",
    "#model2_predictions <- read.csv(model2_filename)\n",
    "\n",
    "model2_filename <- paste0(\"../predictions/test/predictions/\", hub1_name, \"_\", hub2_name, \"_h\", horizon, \"_w\", window_size, \"_\", model2_name, \"_predictions.csv\")\n",
    "model2_predictions <- read.csv(model2_filename)\n",
    "\n",
    "actuals_hub1_filename <- paste0(\"../data/interpolated/\", hub1_name, \"_close_interpolated.csv\")\n",
    "actuals_hub1 <- tail(read.csv(actuals_hub1_filename), horizon)\n",
    "colnames(actuals_hub1) <- c(\"Date\", hub1_name)\n",
    "\n",
    "actuals_hub2_filename <- paste0(\"../data/interpolated/\", hub2_name, \"_close_interpolated.csv\")\n",
    "actuals_hub2 <- tail(read.csv(actuals_hub2_filename), horizon)\n",
    "colnames(actuals_hub2) <- c(\"Date\", hub2_name)\n",
    "\n",
    "model1_mape_hub1 <- mape(actuals_hub1[[hub1_name]], model1_predictions[[hub1_name]])*100\n",
    "model1_rmse_hub1 <- rmse(actuals_hub1[[hub1_name]], model1_predictions[[hub1_name]])\n",
    "\n",
    "model2_mape_hub1 <- mape(actuals_hub1[[hub1_name]], model2_predictions[[hub1_name]])*100\n",
    "model2_rmse_hub1 <- rmse(actuals_hub1[[hub1_name]], model2_predictions[[hub1_name]])\n",
    "\n",
    "print(paste0(\"MAPE for \", hub1_name, \": \", model1_mape_hub1))\n",
    "print(paste0(\"RMSE for \", hub1_name, \": \", model1_rmse_hub1))\n",
    "\n",
    "print(paste0(\"MAPE for \", hub1_name, \": \", model2_mape_hub1))\n",
    "print(paste0(\"RMSE for \", hub1_name, \": \", model2_rmse_hub1))"
   ]
  },
  {
   "cell_type": "code",
   "execution_count": 7,
   "metadata": {},
   "outputs": [
    {
     "name": "stdout",
     "output_type": "stream",
     "text": [
      "[1] \"MAPE for the: 5.91787470613681\"\n",
      "[1] \"RMSE for the: 2.91450453591841\"\n",
      "[1] \"MAPE for the: 6.03477430668957\"\n",
      "[1] \"RMSE for the: 2.90185965738467\"\n"
     ]
    }
   ],
   "source": [
    "%%R\n",
    "\n",
    "model1_mape_hub2 <- mape(actuals_hub2[[hub2_name]], model1_predictions[[hub2_name]])*100\n",
    "model1_rmse_hub2 <- rmse(actuals_hub2[[hub2_name]], model1_predictions[[hub2_name]])\n",
    "\n",
    "model2_mape_hub2 <- mape(actuals_hub2[[hub2_name]], model2_predictions[[hub2_name]])*100\n",
    "model2_rmse_hub2 <- rmse(actuals_hub2[[hub2_name]], model2_predictions[[hub2_name]])\n",
    "\n",
    "print(paste0(\"MAPE for \", hub2_name, \": \", model1_mape_hub2))\n",
    "print(paste0(\"RMSE for \", hub2_name, \": \", model1_rmse_hub2))\n",
    "\n",
    "print(paste0(\"MAPE for \", hub2_name, \": \", model2_mape_hub2))\n",
    "print(paste0(\"RMSE for \", hub2_name, \": \", model2_rmse_hub2))"
   ]
  },
  {
   "cell_type": "code",
   "execution_count": 8,
   "metadata": {},
   "outputs": [
    {
     "name": "stdout",
     "output_type": "stream",
     "text": [
      "\n",
      "\tDiebold-Mariano Test\n",
      "\n",
      "data:  model1_hub1_residsmodel2_hub1_resids\n",
      "DM = -0.31266, Forecast horizon = 5, Loss function power = 1, p-value =\n",
      "0.3774\n",
      "alternative hypothesis: less\n",
      "\n"
     ]
    }
   ],
   "source": [
    "%%R\n",
    "model1_hub1_resids <- actuals_hub1[[hub1_name]] - model1_predictions[[hub1_name]]\n",
    "model2_hub1_resids <- actuals_hub1[[hub1_name]] - model2_predictions[[hub1_name]]\n",
    "hub1_dm <- dm.test(model1_hub1_resids, model2_hub1_resids, h = 5, power = 1, alternative = \"less\")\n",
    "hub1_dm"
   ]
  },
  {
   "cell_type": "code",
   "execution_count": 9,
   "metadata": {},
   "outputs": [
    {
     "name": "stdout",
     "output_type": "stream",
     "text": [
      "[1]  0.190307  2.733733  1.237164  5.067614  3.821259 10.077344\n"
     ]
    }
   ],
   "source": [
    "%%R\n",
    "head(model2_hub1_resids)"
   ]
  }
 ],
 "metadata": {
  "kernelspec": {
   "display_name": "Python 3",
   "language": "python",
   "name": "python3"
  },
  "language_info": {
   "codemirror_mode": {
    "name": "ipython",
    "version": 3
   },
   "file_extension": ".py",
   "mimetype": "text/x-python",
   "name": "python",
   "nbconvert_exporter": "python",
   "pygments_lexer": "ipython3",
   "version": "3.11.9"
  }
 },
 "nbformat": 4,
 "nbformat_minor": 2
}
