{
 "cells": [
  {
   "cell_type": "code",
   "execution_count": 18,
   "metadata": {},
   "outputs": [],
   "source": [
    "import pandas as pd"
   ]
  },
  {
   "cell_type": "code",
   "execution_count": 19,
   "metadata": {},
   "outputs": [],
   "source": [
    "nbp = pd.read_csv(\"nbp.csv\")\n",
    "peg = pd.read_csv(\"peg.csv\")\n",
    "the = pd.read_csv(\"the.csv\")\n",
    "ttf = pd.read_csv(\"ttf.csv\")\n",
    "ztp = pd.read_csv(\"ztp.csv\")"
   ]
  },
  {
   "cell_type": "code",
   "execution_count": 20,
   "metadata": {},
   "outputs": [
    {
     "data": {
      "text/html": [
       "<div>\n",
       "<style scoped>\n",
       "    .dataframe tbody tr th:only-of-type {\n",
       "        vertical-align: middle;\n",
       "    }\n",
       "\n",
       "    .dataframe tbody tr th {\n",
       "        vertical-align: top;\n",
       "    }\n",
       "\n",
       "    .dataframe thead th {\n",
       "        text-align: right;\n",
       "    }\n",
       "</style>\n",
       "<table border=\"1\" class=\"dataframe\">\n",
       "  <thead>\n",
       "    <tr style=\"text-align: right;\">\n",
       "      <th></th>\n",
       "      <th>Date</th>\n",
       "      <th>HIGH</th>\n",
       "      <th>LOW</th>\n",
       "      <th>OPEN</th>\n",
       "      <th>CLOSE</th>\n",
       "      <th>VOLUME</th>\n",
       "      <th>ticker</th>\n",
       "    </tr>\n",
       "  </thead>\n",
       "  <tbody>\n",
       "    <tr>\n",
       "      <th>0</th>\n",
       "      <td>2010-01-04</td>\n",
       "      <td>37.90</td>\n",
       "      <td>35.50</td>\n",
       "      <td>37.00</td>\n",
       "      <td>35.57</td>\n",
       "      <td>5795.0</td>\n",
       "      <td>NGLNMc1</td>\n",
       "    </tr>\n",
       "    <tr>\n",
       "      <th>1</th>\n",
       "      <td>2010-01-05</td>\n",
       "      <td>37.60</td>\n",
       "      <td>36.25</td>\n",
       "      <td>36.25</td>\n",
       "      <td>37.38</td>\n",
       "      <td>5005.0</td>\n",
       "      <td>NGLNMc1</td>\n",
       "    </tr>\n",
       "    <tr>\n",
       "      <th>2</th>\n",
       "      <td>2010-01-06</td>\n",
       "      <td>37.25</td>\n",
       "      <td>36.15</td>\n",
       "      <td>36.81</td>\n",
       "      <td>37.00</td>\n",
       "      <td>7630.0</td>\n",
       "      <td>NGLNMc1</td>\n",
       "    </tr>\n",
       "    <tr>\n",
       "      <th>3</th>\n",
       "      <td>2010-01-07</td>\n",
       "      <td>39.00</td>\n",
       "      <td>36.60</td>\n",
       "      <td>37.00</td>\n",
       "      <td>37.27</td>\n",
       "      <td>10130.0</td>\n",
       "      <td>NGLNMc1</td>\n",
       "    </tr>\n",
       "    <tr>\n",
       "      <th>4</th>\n",
       "      <td>2010-01-08</td>\n",
       "      <td>36.25</td>\n",
       "      <td>35.10</td>\n",
       "      <td>36.00</td>\n",
       "      <td>35.22</td>\n",
       "      <td>8245.0</td>\n",
       "      <td>NGLNMc1</td>\n",
       "    </tr>\n",
       "  </tbody>\n",
       "</table>\n",
       "</div>"
      ],
      "text/plain": [
       "         Date   HIGH    LOW   OPEN  CLOSE   VOLUME   ticker\n",
       "0  2010-01-04  37.90  35.50  37.00  35.57   5795.0  NGLNMc1\n",
       "1  2010-01-05  37.60  36.25  36.25  37.38   5005.0  NGLNMc1\n",
       "2  2010-01-06  37.25  36.15  36.81  37.00   7630.0  NGLNMc1\n",
       "3  2010-01-07  39.00  36.60  37.00  37.27  10130.0  NGLNMc1\n",
       "4  2010-01-08  36.25  35.10  36.00  35.22   8245.0  NGLNMc1"
      ]
     },
     "execution_count": 20,
     "metadata": {},
     "output_type": "execute_result"
    }
   ],
   "source": [
    "nbp.head()"
   ]
  },
  {
   "cell_type": "code",
   "execution_count": 21,
   "metadata": {},
   "outputs": [],
   "source": [
    "gbpeur = pd.read_csv(\"gbpeur.csv\")"
   ]
  },
  {
   "cell_type": "code",
   "execution_count": 23,
   "metadata": {},
   "outputs": [],
   "source": [
    "hubs = [nbp, peg, the, ttf, ztp, gbpeur]"
   ]
  },
  {
   "cell_type": "code",
   "execution_count": 24,
   "metadata": {},
   "outputs": [],
   "source": [
    "for hub in hubs:\n",
    "    hub[\"Date\"] = pd.to_datetime(hub[\"Date\"])\n",
    "    hub.set_index(\"Date\", inplace=True)"
   ]
  },
  {
   "cell_type": "code",
   "execution_count": 11,
   "metadata": {},
   "outputs": [
    {
     "data": {
      "text/html": [
       "<div>\n",
       "<style scoped>\n",
       "    .dataframe tbody tr th:only-of-type {\n",
       "        vertical-align: middle;\n",
       "    }\n",
       "\n",
       "    .dataframe tbody tr th {\n",
       "        vertical-align: top;\n",
       "    }\n",
       "\n",
       "    .dataframe thead th {\n",
       "        text-align: right;\n",
       "    }\n",
       "</style>\n",
       "<table border=\"1\" class=\"dataframe\">\n",
       "  <thead>\n",
       "    <tr style=\"text-align: right;\">\n",
       "      <th></th>\n",
       "      <th>HIGH</th>\n",
       "      <th>LOW</th>\n",
       "      <th>OPEN</th>\n",
       "      <th>CLOSE</th>\n",
       "      <th>VOLUME</th>\n",
       "      <th>ticker</th>\n",
       "    </tr>\n",
       "    <tr>\n",
       "      <th>Date</th>\n",
       "      <th></th>\n",
       "      <th></th>\n",
       "      <th></th>\n",
       "      <th></th>\n",
       "      <th></th>\n",
       "      <th></th>\n",
       "    </tr>\n",
       "  </thead>\n",
       "  <tbody>\n",
       "    <tr>\n",
       "      <th>2024-08-23</th>\n",
       "      <td>90.01</td>\n",
       "      <td>86.59</td>\n",
       "      <td>88.19</td>\n",
       "      <td>88.63</td>\n",
       "      <td>7185.0</td>\n",
       "      <td>NGLNMc1</td>\n",
       "    </tr>\n",
       "    <tr>\n",
       "      <th>2024-08-27</th>\n",
       "      <td>94.15</td>\n",
       "      <td>89.54</td>\n",
       "      <td>90.00</td>\n",
       "      <td>93.25</td>\n",
       "      <td>9620.0</td>\n",
       "      <td>NGLNMc1</td>\n",
       "    </tr>\n",
       "    <tr>\n",
       "      <th>2024-08-28</th>\n",
       "      <td>95.37</td>\n",
       "      <td>92.49</td>\n",
       "      <td>92.93</td>\n",
       "      <td>92.79</td>\n",
       "      <td>15685.0</td>\n",
       "      <td>NGLNMc1</td>\n",
       "    </tr>\n",
       "    <tr>\n",
       "      <th>2024-08-29</th>\n",
       "      <td>93.79</td>\n",
       "      <td>90.85</td>\n",
       "      <td>93.34</td>\n",
       "      <td>91.73</td>\n",
       "      <td>5980.0</td>\n",
       "      <td>NGLNMc1</td>\n",
       "    </tr>\n",
       "    <tr>\n",
       "      <th>2024-08-30</th>\n",
       "      <td>97.55</td>\n",
       "      <td>93.67</td>\n",
       "      <td>94.65</td>\n",
       "      <td>96.15</td>\n",
       "      <td>7110.0</td>\n",
       "      <td>NGLNMc1</td>\n",
       "    </tr>\n",
       "  </tbody>\n",
       "</table>\n",
       "</div>"
      ],
      "text/plain": [
       "             HIGH    LOW   OPEN  CLOSE   VOLUME   ticker\n",
       "Date                                                    \n",
       "2024-08-23  90.01  86.59  88.19  88.63   7185.0  NGLNMc1\n",
       "2024-08-27  94.15  89.54  90.00  93.25   9620.0  NGLNMc1\n",
       "2024-08-28  95.37  92.49  92.93  92.79  15685.0  NGLNMc1\n",
       "2024-08-29  93.79  90.85  93.34  91.73   5980.0  NGLNMc1\n",
       "2024-08-30  97.55  93.67  94.65  96.15   7110.0  NGLNMc1"
      ]
     },
     "execution_count": 11,
     "metadata": {},
     "output_type": "execute_result"
    }
   ],
   "source": [
    "nbp.tail()"
   ]
  },
  {
   "cell_type": "code",
   "execution_count": 12,
   "metadata": {},
   "outputs": [
    {
     "data": {
      "text/html": [
       "<div>\n",
       "<style scoped>\n",
       "    .dataframe tbody tr th:only-of-type {\n",
       "        vertical-align: middle;\n",
       "    }\n",
       "\n",
       "    .dataframe tbody tr th {\n",
       "        vertical-align: top;\n",
       "    }\n",
       "\n",
       "    .dataframe thead th {\n",
       "        text-align: right;\n",
       "    }\n",
       "</style>\n",
       "<table border=\"1\" class=\"dataframe\">\n",
       "  <thead>\n",
       "    <tr style=\"text-align: right;\">\n",
       "      <th></th>\n",
       "      <th>HIGH</th>\n",
       "      <th>LOW</th>\n",
       "      <th>OPEN</th>\n",
       "      <th>CLOSE</th>\n",
       "      <th>VOLUME</th>\n",
       "      <th>ticker</th>\n",
       "    </tr>\n",
       "    <tr>\n",
       "      <th>Date</th>\n",
       "      <th></th>\n",
       "      <th></th>\n",
       "      <th></th>\n",
       "      <th></th>\n",
       "      <th></th>\n",
       "      <th></th>\n",
       "    </tr>\n",
       "  </thead>\n",
       "  <tbody>\n",
       "    <tr>\n",
       "      <th>2024-08-26</th>\n",
       "      <td>37.920</td>\n",
       "      <td>36.135</td>\n",
       "      <td>36.845</td>\n",
       "      <td>37.656</td>\n",
       "      <td>31852.0</td>\n",
       "      <td>TFMBMc1</td>\n",
       "    </tr>\n",
       "    <tr>\n",
       "      <th>2024-08-27</th>\n",
       "      <td>39.045</td>\n",
       "      <td>37.285</td>\n",
       "      <td>37.995</td>\n",
       "      <td>38.689</td>\n",
       "      <td>81747.0</td>\n",
       "      <td>TFMBMc1</td>\n",
       "    </tr>\n",
       "    <tr>\n",
       "      <th>2024-08-28</th>\n",
       "      <td>39.580</td>\n",
       "      <td>38.300</td>\n",
       "      <td>38.555</td>\n",
       "      <td>38.520</td>\n",
       "      <td>81003.0</td>\n",
       "      <td>TFMBMc1</td>\n",
       "    </tr>\n",
       "    <tr>\n",
       "      <th>2024-08-29</th>\n",
       "      <td>39.040</td>\n",
       "      <td>37.915</td>\n",
       "      <td>38.420</td>\n",
       "      <td>38.601</td>\n",
       "      <td>46400.0</td>\n",
       "      <td>TFMBMc1</td>\n",
       "    </tr>\n",
       "    <tr>\n",
       "      <th>2024-08-30</th>\n",
       "      <td>40.325</td>\n",
       "      <td>38.750</td>\n",
       "      <td>39.170</td>\n",
       "      <td>39.823</td>\n",
       "      <td>80076.0</td>\n",
       "      <td>TFMBMc1</td>\n",
       "    </tr>\n",
       "  </tbody>\n",
       "</table>\n",
       "</div>"
      ],
      "text/plain": [
       "              HIGH     LOW    OPEN   CLOSE   VOLUME   ticker\n",
       "Date                                                        \n",
       "2024-08-26  37.920  36.135  36.845  37.656  31852.0  TFMBMc1\n",
       "2024-08-27  39.045  37.285  37.995  38.689  81747.0  TFMBMc1\n",
       "2024-08-28  39.580  38.300  38.555  38.520  81003.0  TFMBMc1\n",
       "2024-08-29  39.040  37.915  38.420  38.601  46400.0  TFMBMc1\n",
       "2024-08-30  40.325  38.750  39.170  39.823  80076.0  TFMBMc1"
      ]
     },
     "execution_count": 12,
     "metadata": {},
     "output_type": "execute_result"
    }
   ],
   "source": [
    "ttf.tail()"
   ]
  },
  {
   "cell_type": "code",
   "execution_count": 28,
   "metadata": {},
   "outputs": [],
   "source": [
    "import numpy as np\n",
    "min_dates = []\n",
    "\n",
    "for hub in hubs:\n",
    "    min_dates.append(np.min(hub.index.to_list()))"
   ]
  },
  {
   "cell_type": "code",
   "execution_count": 29,
   "metadata": {},
   "outputs": [
    {
     "data": {
      "text/plain": [
       "[Timestamp('2010-01-04 00:00:00'),\n",
       " Timestamp('2018-09-28 00:00:00'),\n",
       " Timestamp('2015-01-02 00:00:00'),\n",
       " Timestamp('2010-03-12 00:00:00'),\n",
       " Timestamp('2014-11-28 00:00:00'),\n",
       " Timestamp('2010-01-01 00:00:00')]"
      ]
     },
     "execution_count": 29,
     "metadata": {},
     "output_type": "execute_result"
    }
   ],
   "source": [
    "min_dates"
   ]
  },
  {
   "cell_type": "code",
   "execution_count": 37,
   "metadata": {},
   "outputs": [],
   "source": [
    "for idx, hub in enumerate(hubs):\n",
    "    hubs[idx] = hub[hub.index >= '2018-10-01'].copy()"
   ]
  },
  {
   "cell_type": "code",
   "execution_count": 40,
   "metadata": {},
   "outputs": [],
   "source": [
    "nbp, peg, the, ttf, ztp, gbpeur = hubs[0], hubs[1], hubs[2], hubs[3], hubs[4], hubs[5]"
   ]
  },
  {
   "cell_type": "code",
   "execution_count": 47,
   "metadata": {},
   "outputs": [
    {
     "data": {
      "text/html": [
       "<div>\n",
       "<style scoped>\n",
       "    .dataframe tbody tr th:only-of-type {\n",
       "        vertical-align: middle;\n",
       "    }\n",
       "\n",
       "    .dataframe tbody tr th {\n",
       "        vertical-align: top;\n",
       "    }\n",
       "\n",
       "    .dataframe thead th {\n",
       "        text-align: right;\n",
       "    }\n",
       "</style>\n",
       "<table border=\"1\" class=\"dataframe\">\n",
       "  <thead>\n",
       "    <tr style=\"text-align: right;\">\n",
       "      <th></th>\n",
       "      <th>CLOSE</th>\n",
       "      <th>HIGH</th>\n",
       "      <th>LOW</th>\n",
       "      <th>OPEN</th>\n",
       "      <th>COUNT</th>\n",
       "      <th>ticker</th>\n",
       "    </tr>\n",
       "    <tr>\n",
       "      <th>Date</th>\n",
       "      <th></th>\n",
       "      <th></th>\n",
       "      <th></th>\n",
       "      <th></th>\n",
       "      <th></th>\n",
       "      <th></th>\n",
       "    </tr>\n",
       "  </thead>\n",
       "  <tbody>\n",
       "    <tr>\n",
       "      <th>2024-08-26</th>\n",
       "      <td>1.1811</td>\n",
       "      <td>1.1833</td>\n",
       "      <td>1.1789</td>\n",
       "      <td>1.1798</td>\n",
       "      <td>19596.0</td>\n",
       "      <td>GBPEUR=</td>\n",
       "    </tr>\n",
       "    <tr>\n",
       "      <th>2024-08-27</th>\n",
       "      <td>1.1850</td>\n",
       "      <td>1.1859</td>\n",
       "      <td>1.1805</td>\n",
       "      <td>1.1807</td>\n",
       "      <td>20530.0</td>\n",
       "      <td>GBPEUR=</td>\n",
       "    </tr>\n",
       "    <tr>\n",
       "      <th>2024-08-28</th>\n",
       "      <td>1.1862</td>\n",
       "      <td>1.1890</td>\n",
       "      <td>1.1832</td>\n",
       "      <td>1.1844</td>\n",
       "      <td>22115.0</td>\n",
       "      <td>GBPEUR=</td>\n",
       "    </tr>\n",
       "    <tr>\n",
       "      <th>2024-08-29</th>\n",
       "      <td>1.1882</td>\n",
       "      <td>1.1900</td>\n",
       "      <td>1.1856</td>\n",
       "      <td>1.1859</td>\n",
       "      <td>22926.0</td>\n",
       "      <td>GBPEUR=</td>\n",
       "    </tr>\n",
       "    <tr>\n",
       "      <th>2024-08-30</th>\n",
       "      <td>1.1874</td>\n",
       "      <td>1.1904</td>\n",
       "      <td>1.1856</td>\n",
       "      <td>1.1880</td>\n",
       "      <td>21146.0</td>\n",
       "      <td>GBPEUR=</td>\n",
       "    </tr>\n",
       "  </tbody>\n",
       "</table>\n",
       "</div>"
      ],
      "text/plain": [
       "             CLOSE    HIGH     LOW    OPEN    COUNT   ticker\n",
       "Date                                                        \n",
       "2024-08-26  1.1811  1.1833  1.1789  1.1798  19596.0  GBPEUR=\n",
       "2024-08-27  1.1850  1.1859  1.1805  1.1807  20530.0  GBPEUR=\n",
       "2024-08-28  1.1862  1.1890  1.1832  1.1844  22115.0  GBPEUR=\n",
       "2024-08-29  1.1882  1.1900  1.1856  1.1859  22926.0  GBPEUR=\n",
       "2024-08-30  1.1874  1.1904  1.1856  1.1880  21146.0  GBPEUR="
      ]
     },
     "execution_count": 47,
     "metadata": {},
     "output_type": "execute_result"
    }
   ],
   "source": [
    "gbpeur.tail()"
   ]
  },
  {
   "cell_type": "code",
   "execution_count": 50,
   "metadata": {},
   "outputs": [],
   "source": [
    "nbp_eur_mwh = nbp.copy()"
   ]
  },
  {
   "cell_type": "code",
   "execution_count": 51,
   "metadata": {},
   "outputs": [],
   "source": [
    "nbp_eur_mwh[['CLOSE']] = nbp_eur_mwh[['CLOSE']]  * gbpeur[['CLOSE']]  /(2.9307)"
   ]
  },
  {
   "cell_type": "code",
   "execution_count": 57,
   "metadata": {},
   "outputs": [
    {
     "data": {
      "image/png": "[encoded data removed]",
      "text/plain": [
       "<Figure size 640x480 with 1 Axes>"
      ]
     },
     "metadata": {},
     "output_type": "display_data"
    }
   ],
   "source": [
    "import matplotlib.pyplot as plt\n",
    "\n",
    "plt.plot(nbp_eur_mwh.index, nbp_eur_mwh[['CLOSE']], label = \"NBP\")\n",
    "\n",
    "plt.plot(ttf.index, ttf[['CLOSE']], label = \"TTF\")\n",
    "plt.legend()\n",
    "plt.show()"
   ]
  },
  {
   "cell_type": "code",
   "execution_count": 59,
   "metadata": {},
   "outputs": [
    {
     "data": {
      "image/png": "[encoded data removed]",
      "text/plain": [
       "<Figure size 640x480 with 1 Axes>"
      ]
     },
     "metadata": {},
     "output_type": "display_data"
    }
   ],
   "source": [
    "import matplotlib.pyplot as plt\n",
    "\n",
    "plt.plot(the.index, the[['CLOSE']], label = \"the\")\n",
    "\n",
    "plt.plot(ttf.index, ttf[['CLOSE']], label = \"TTF\")\n",
    "plt.legend()\n",
    "plt.show()"
   ]
  }
 ],
 "metadata": {
  "kernelspec": {
   "display_name": ".venv",
   "language": "python",
   "name": "python3"
  },
  "language_info": {
   "codemirror_mode": {
    "name": "ipython",
    "version": 3
   },
   "file_extension": ".py",
   "mimetype": "text/x-python",
   "name": "python",
   "nbconvert_exporter": "python",
   "pygments_lexer": "ipython3",
   "version": "3.12.3"
  }
 },
 "nbformat": 4,
 "nbformat_minor": 2
}
