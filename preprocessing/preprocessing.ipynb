{
 "cells": [
  {
   "cell_type": "markdown",
   "metadata": {},
   "source": [
    "# Statistical models in R\n",
    "This notebook is covering:\n",
    "1. Data preprocessing:\n",
    "    1. Aligning all dataframe to 5-day week from 2018-10-01 to 2024-08-30.\n",
    "    2. Interpolating missing values."
   ]
  },
  {
   "cell_type": "code",
   "execution_count": 1,
   "metadata": {},
   "outputs": [],
   "source": [
    "import pandas as pd\n",
    "import plotly.express as px\n",
    "import plotly.graph_objs as go"
   ]
  },
  {
   "cell_type": "markdown",
   "metadata": {},
   "source": [
    "Removing duplicates and converting NBP to MWh / EUR"
   ]
  },
  {
   "cell_type": "code",
   "execution_count": 2,
   "metadata": {},
   "outputs": [],
   "source": [
    "nbp = pd.read_csv(\"../data/raw/nbp.csv\")\n",
    "peg = pd.read_csv(\"../data/raw/peg.csv\")\n",
    "the = pd.read_csv(\"../data/raw/the.csv\")\n",
    "ttf = pd.read_csv(\"../data/raw/ttf.csv\")\n",
    "ztp = pd.read_csv(\"../data/raw/ztp.csv\")\n",
    "gbpeur = pd.read_csv(\"../data/raw/gbpeur.csv\")\n",
    "hubs = [nbp, peg, the, ttf, ztp, gbpeur]"
   ]
  },
  {
   "cell_type": "code",
   "execution_count": 3,
   "metadata": {},
   "outputs": [],
   "source": [
    "for idx, hub in enumerate(hubs):\n",
    "    hub[\"Date\"] = pd.to_datetime(hub[\"Date\"])\n",
    "    hub.set_index(\"Date\", inplace=True)\n",
    "    hub = hub[~hub.index.duplicated(keep='first')]\n",
    "    hubs[idx] = hub\n",
    "\n",
    "nbp, peg, the, ttf, ztp, gbpeur = hubs"
   ]
  },
  {
   "cell_type": "code",
   "execution_count": 4,
   "metadata": {},
   "outputs": [],
   "source": [
    "nbp_eur_mwh = nbp.copy()\n",
    "nbp_eur_mwh['CLOSE'] = nbp_eur_mwh['CLOSE'] * gbpeur['CLOSE'] / 2.9307"
   ]
  },
  {
   "cell_type": "code",
   "execution_count": 5,
   "metadata": {},
   "outputs": [],
   "source": [
    "nbp_eur_mwh[['CLOSE']].to_csv(\"../data/close/nbp_close.csv\")\n",
    "peg[['CLOSE']].to_csv(\"../data/close/peg_close.csv\")\n",
    "the[['CLOSE']].to_csv(\"../data/close/the_close.csv\")\n",
    "ttf[['CLOSE']].to_csv(\"../data/close/ttf_close.csv\")\n",
    "ztp[['CLOSE']].to_csv(\"../data/close/ztp_close.csv\")"
   ]
  },
  {
   "cell_type": "markdown",
   "metadata": {},
   "source": [
    "Continuing preprocessing in R"
   ]
  },
  {
   "cell_type": "code",
   "execution_count": 6,
   "metadata": {},
   "outputs": [
    {
     "name": "stdout",
     "output_type": "stream",
     "text": [
      "Requirement already satisfied: rpy2 in /Users/sindrehaugland/Documents/Master/statistical-arbitrage/.conda/lib/python3.11/site-packages (3.5.16)\n",
      "Requirement already satisfied: cffi>=1.15.1 in /Users/sindrehaugland/Documents/Master/statistical-arbitrage/.conda/lib/python3.11/site-packages (from rpy2) (1.17.1)\n",
      "Requirement already satisfied: jinja2 in /Users/sindrehaugland/Documents/Master/statistical-arbitrage/.conda/lib/python3.11/site-packages (from rpy2) (3.1.4)\n",
      "Requirement already satisfied: tzlocal in /Users/sindrehaugland/Documents/Master/statistical-arbitrage/.conda/lib/python3.11/site-packages (from rpy2) (5.2)\n",
      "Requirement already satisfied: pycparser in /Users/sindrehaugland/Documents/Master/statistical-arbitrage/.conda/lib/python3.11/site-packages (from cffi>=1.15.1->rpy2) (2.22)\n",
      "Requirement already satisfied: MarkupSafe>=2.0 in /Users/sindrehaugland/Documents/Master/statistical-arbitrage/.conda/lib/python3.11/site-packages (from jinja2->rpy2) (2.1.5)\n",
      "Note: you may need to restart the kernel to use updated packages.\n"
     ]
    }
   ],
   "source": [
    "# rpy2 is a Python package that allows you to run R code from Python\n",
    "%pip install rpy2"
   ]
  },
  {
   "cell_type": "code",
   "execution_count": 7,
   "metadata": {},
   "outputs": [],
   "source": [
    "# Load the rpy2 extension to use R in Jupyter\n",
    "%load_ext rpy2.ipython"
   ]
  },
  {
   "cell_type": "markdown",
   "metadata": {},
   "source": [
    "The magic function `%%R` is used for running R code in Jupyter"
   ]
  },
  {
   "cell_type": "markdown",
   "metadata": {},
   "source": [
    "Loading required libraries"
   ]
  },
  {
   "cell_type": "code",
   "execution_count": 12,
   "metadata": {},
   "outputs": [
    {
     "data": {
      "text/plain": [
       "Loading required package: zoo\n",
       "\n",
       "Attaching package: ‘zoo’\n",
       "\n",
       "The following objects are masked from ‘package:base’:\n",
       "\n",
       "    as.Date, as.Date.numeric\n",
       "\n"
      ]
     },
     "metadata": {},
     "output_type": "display_data"
    }
   ],
   "source": [
    "%%R\n",
    "# Install required packages\n",
    "if (require(\"dplyr\") == FALSE) {\n",
    "  install.packages(\"dplyr\")\n",
    "  library(dplyr)\n",
    "}\n",
    "if (require(\"zoo\") == FALSE) {\n",
    "  install.packages(\"zoo\")\n",
    "  library(zoo)\n",
    "}\n",
    "\n"
   ]
  },
  {
   "cell_type": "code",
   "execution_count": 9,
   "metadata": {},
   "outputs": [],
   "source": [
    "%%R\n",
    "# Load data\n",
    "hub_prices <- list(\n",
    "  nbp = read.csv(\"../data/close/nbp_close.csv\"),\n",
    "  the = read.csv(\"../data/close/the_close.csv\"),\n",
    "  ttf = read.csv(\"../data/close/ttf_close.csv\")\n",
    ")"
   ]
  },
  {
   "cell_type": "code",
   "execution_count": 10,
   "metadata": {},
   "outputs": [],
   "source": [
    "%%R\n",
    "# Create a date index with a 5 day week to align data\n",
    "start_date <- as.Date(\"2018-10-01\")\n",
    "end_date <- as.Date(\"2024-08-30\")\n",
    "date_seq <- seq.Date(start_date, end_date, by = \"day\")\n",
    "date_index <- date_seq[!weekdays(date_seq) %in% c(\"Saturday\", \"Sunday\")]"
   ]
  },
  {
   "cell_type": "code",
   "execution_count": 13,
   "metadata": {},
   "outputs": [
    {
     "name": "stdout",
     "output_type": "stream",
     "text": [
      "$nbp\n",
      "         Date\n",
      "1  2018-12-25\n",
      "2  2019-01-01\n",
      "3  2019-04-19\n",
      "4  2019-04-22\n",
      "5  2019-05-06\n",
      "6  2019-05-27\n",
      "7  2019-08-26\n",
      "8  2019-12-25\n",
      "9  2019-12-26\n",
      "10 2020-01-01\n",
      "11 2020-04-10\n",
      "12 2020-12-25\n",
      "13 2020-12-28\n",
      "14 2021-01-01\n",
      "15 2021-04-02\n",
      "16 2021-04-05\n",
      "17 2021-05-03\n",
      "18 2021-05-31\n",
      "19 2021-08-30\n",
      "20 2021-12-27\n",
      "21 2021-12-28\n",
      "22 2022-01-03\n",
      "23 2022-04-15\n",
      "24 2022-04-18\n",
      "25 2022-05-02\n",
      "26 2022-06-02\n",
      "27 2022-06-03\n",
      "28 2022-08-29\n",
      "29 2022-12-26\n",
      "30 2022-12-27\n",
      "31 2023-01-02\n",
      "32 2023-04-07\n",
      "33 2023-04-10\n",
      "34 2023-05-01\n",
      "35 2023-05-08\n",
      "36 2023-05-29\n",
      "37 2023-08-28\n",
      "38 2023-12-25\n",
      "39 2023-12-26\n",
      "40 2024-01-01\n",
      "41 2024-03-29\n",
      "42 2024-04-01\n",
      "43 2024-05-06\n",
      "44 2024-05-27\n",
      "45 2024-08-26\n",
      "\n",
      "$the\n",
      "         Date\n",
      "1  2018-11-06\n",
      "2  2018-11-07\n",
      "3  2018-12-07\n",
      "4  2018-12-25\n",
      "5  2018-12-26\n",
      "6  2019-01-01\n",
      "7  2019-01-30\n",
      "8  2019-04-19\n",
      "9  2019-04-22\n",
      "10 2019-05-01\n",
      "11 2019-05-06\n",
      "12 2019-05-27\n",
      "13 2019-07-02\n",
      "14 2019-07-03\n",
      "15 2019-08-26\n",
      "16 2019-09-04\n",
      "17 2019-11-06\n",
      "18 2019-11-07\n",
      "19 2019-12-25\n",
      "20 2019-12-26\n",
      "21 2020-01-01\n",
      "22 2020-04-10\n",
      "23 2020-04-13\n",
      "24 2020-05-01\n",
      "25 2020-06-01\n",
      "26 2020-06-02\n",
      "27 2020-07-02\n",
      "28 2020-12-25\n",
      "29 2021-01-01\n",
      "30 2021-04-02\n",
      "31 2021-04-05\n",
      "32 2022-04-15\n",
      "33 2022-04-18\n",
      "34 2022-12-26\n",
      "35 2023-04-07\n",
      "36 2023-04-10\n",
      "37 2023-05-01\n",
      "38 2023-12-25\n",
      "39 2023-12-26\n",
      "40 2024-01-01\n",
      "41 2024-03-29\n",
      "42 2024-04-01\n",
      "43 2024-05-01\n",
      "\n",
      "$ttf\n",
      "         Date\n",
      "1  2018-12-25\n",
      "2  2018-12-26\n",
      "3  2019-01-01\n",
      "4  2019-04-19\n",
      "5  2019-04-22\n",
      "6  2019-12-25\n",
      "7  2019-12-26\n",
      "8  2020-01-01\n",
      "9  2020-04-10\n",
      "10 2020-04-13\n",
      "11 2020-12-25\n",
      "12 2021-01-01\n",
      "13 2021-04-02\n",
      "14 2021-04-05\n",
      "15 2022-04-15\n",
      "16 2022-04-18\n",
      "17 2022-12-26\n",
      "18 2023-04-07\n",
      "19 2023-04-10\n",
      "20 2023-12-25\n",
      "21 2023-12-26\n",
      "22 2024-01-01\n",
      "23 2024-03-29\n",
      "24 2024-04-01\n",
      "\n"
     ]
    }
   ],
   "source": [
    "%%R\n",
    "missing_dates <- lapply(hub_prices, function(df) {\n",
    "  df$Date <- as.Date(df$Date)\n",
    "  df <- merge(data.frame(Date = date_index), df, by = \"Date\", all.x = TRUE)\n",
    "  \n",
    "  # Find missing dates\n",
    "  missing <- df %>%\n",
    "    filter(is.na(CLOSE)) %>%\n",
    "    select(Date)\n",
    "  \n",
    "  # Apply interpolation after recording missing dates\n",
    "  df <- df %>%\n",
    "    mutate(CLOSE = na.approx(CLOSE, rule = 2))\n",
    "  \n",
    "  return(list(data = df, missing_dates = missing))\n",
    "})\n",
    "\n",
    "# Extract and print the missing dates for each hub\n",
    "missing_dates_list <- lapply(missing_dates, function(x) x$missing_dates)\n",
    "names(missing_dates_list) <- names(hub_prices) # Assign names for clarity\n",
    "missing_dates_list"
   ]
  },
  {
   "cell_type": "code",
   "execution_count": 11,
   "metadata": {},
   "outputs": [],
   "source": [
    "%%R\n",
    "# Merge the hub data with the created date index so that all data is aligned and fill in missing values\n",
    "hub_prices <- lapply(hub_prices, function(df) {\n",
    "  df$Date <- as.Date(df$Date)\n",
    "  df <- merge(data.frame(Date = date_index), df, by = \"Date\", all.x = TRUE)\n",
    "  df <- df %>%\n",
    "    mutate(CLOSE = na.approx(CLOSE, rule = 2))\n",
    "  return(df)\n",
    "})"
   ]
  },
  {
   "cell_type": "code",
   "execution_count": 12,
   "metadata": {},
   "outputs": [
    {
     "name": "stdout",
     "output_type": "stream",
     "text": [
      "Error in select(., Date) : unused argument (Date)\n"
     ]
    },
    {
     "ename": "RInterpreterError",
     "evalue": "Failed to parse and evaluate line '# List to store missing dates for each hub\\nmissing_dates <- lapply(hub_prices, function(df) {\\n  df$Date <- as.Date(df$Date)\\n  df <- merge(data.frame(Date = date_index), df, by = \"Date\", all.x = TRUE)\\n  \\n  # Find missing dates\\n  missing <- df %>%\\n    filter(is.na(CLOSE)) %>%\\n    select(Date)\\n  \\n  # Apply interpolation after recording missing dates\\n  df <- df %>%\\n    mutate(CLOSE = na.approx(CLOSE, rule = 2))\\n  \\n  return(list(data = df, missing_dates = missing))\\n})\\n\\n# Extract and print the missing dates for each hub\\nmissing_dates_list <- lapply(missing_dates, function(x) x$missing_dates)\\nnames(missing_dates_list) <- names(hub_prices) # Assign names for clarity\\nmissing_dates_list\\n'.\nR error message: 'Error in select(., Date) : unused argument (Date)'",
     "output_type": "error",
     "traceback": [
      "\u001b[0;31m---------------------------------------------------------------------------\u001b[0m",
      "\u001b[0;31mRRuntimeError\u001b[0m                             Traceback (most recent call last)",
      "File \u001b[0;32m~/Documents/Master/statistical-arbitrage/.conda/lib/python3.11/site-packages/rpy2/ipython/rmagic.py:407\u001b[0m, in \u001b[0;36mRMagics.eval\u001b[0;34m(self, code)\u001b[0m\n\u001b[1;32m    406\u001b[0m     r_expr \u001b[38;5;241m=\u001b[39m ri\u001b[38;5;241m.\u001b[39mparse(code)\n\u001b[0;32m--> 407\u001b[0m     value, visible \u001b[38;5;241m=\u001b[39m \u001b[43mri\u001b[49m\u001b[38;5;241;43m.\u001b[39;49m\u001b[43mevalr_expr_with_visible\u001b[49m\u001b[43m(\u001b[49m\n\u001b[1;32m    408\u001b[0m \u001b[43m        \u001b[49m\u001b[43mr_expr\u001b[49m\n\u001b[1;32m    409\u001b[0m \u001b[43m    \u001b[49m\u001b[43m)\u001b[49m\n\u001b[1;32m    410\u001b[0m \u001b[38;5;28;01mexcept\u001b[39;00m (ri\u001b[38;5;241m.\u001b[39membedded\u001b[38;5;241m.\u001b[39mRRuntimeError, \u001b[38;5;167;01mValueError\u001b[39;00m) \u001b[38;5;28;01mas\u001b[39;00m exception:\n\u001b[1;32m    411\u001b[0m     \u001b[38;5;66;03m# Otherwise next return seems to have copy of error.\u001b[39;00m\n",
      "File \u001b[0;32m~/Documents/Master/statistical-arbitrage/.conda/lib/python3.11/site-packages/rpy2/rinterface.py:192\u001b[0m, in \u001b[0;36mevalr_expr_with_visible\u001b[0;34m(expr, envir)\u001b[0m\n\u001b[1;32m    191\u001b[0m \u001b[38;5;28;01mif\u001b[39;00m error_occured[\u001b[38;5;241m0\u001b[39m]:\n\u001b[0;32m--> 192\u001b[0m     \u001b[38;5;28;01mraise\u001b[39;00m embedded\u001b[38;5;241m.\u001b[39mRRuntimeError(_rinterface\u001b[38;5;241m.\u001b[39m_geterrmessage())\n\u001b[1;32m    193\u001b[0m res \u001b[38;5;241m=\u001b[39m conversion\u001b[38;5;241m.\u001b[39m_cdata_to_rinterface(r_res)\n",
      "\u001b[0;31mRRuntimeError\u001b[0m: Error in select(., Date) : unused argument (Date)\n",
      "\nDuring handling of the above exception, another exception occurred:\n",
      "\u001b[0;31mRInterpreterError\u001b[0m                         Traceback (most recent call last)",
      "Cell \u001b[0;32mIn[12], line 1\u001b[0m\n\u001b[0;32m----> 1\u001b[0m \u001b[43mget_ipython\u001b[49m\u001b[43m(\u001b[49m\u001b[43m)\u001b[49m\u001b[38;5;241;43m.\u001b[39;49m\u001b[43mrun_cell_magic\u001b[49m\u001b[43m(\u001b[49m\u001b[38;5;124;43m'\u001b[39;49m\u001b[38;5;124;43mR\u001b[39;49m\u001b[38;5;124;43m'\u001b[39;49m\u001b[43m,\u001b[49m\u001b[43m \u001b[49m\u001b[38;5;124;43m'\u001b[39;49m\u001b[38;5;124;43m'\u001b[39;49m\u001b[43m,\u001b[49m\u001b[43m \u001b[49m\u001b[38;5;124;43m'\u001b[39;49m\u001b[38;5;124;43m# List to store missing dates for each hub\u001b[39;49m\u001b[38;5;130;43;01m\\n\u001b[39;49;00m\u001b[38;5;124;43mmissing_dates <- lapply(hub_prices, function(df) \u001b[39;49m\u001b[38;5;124;43m{\u001b[39;49m\u001b[38;5;130;43;01m\\n\u001b[39;49;00m\u001b[38;5;124;43m  df$Date <- as.Date(df$Date)\u001b[39;49m\u001b[38;5;130;43;01m\\n\u001b[39;49;00m\u001b[38;5;124;43m  df <- merge(data.frame(Date = date_index), df, by = \u001b[39;49m\u001b[38;5;124;43m\"\u001b[39;49m\u001b[38;5;124;43mDate\u001b[39;49m\u001b[38;5;124;43m\"\u001b[39;49m\u001b[38;5;124;43m, all.x = TRUE)\u001b[39;49m\u001b[38;5;130;43;01m\\n\u001b[39;49;00m\u001b[38;5;124;43m  \u001b[39;49m\u001b[38;5;130;43;01m\\n\u001b[39;49;00m\u001b[38;5;124;43m  # Find missing dates\u001b[39;49m\u001b[38;5;130;43;01m\\n\u001b[39;49;00m\u001b[38;5;124;43m  missing <- df \u001b[39;49m\u001b[38;5;124;43m%\u001b[39;49m\u001b[38;5;124;43m>\u001b[39;49m\u001b[38;5;124;43m%\u001b[39;49m\u001b[38;5;130;43;01m\\n\u001b[39;49;00m\u001b[38;5;124;43m    filter(is.na(CLOSE)) \u001b[39;49m\u001b[38;5;124;43m%\u001b[39;49m\u001b[38;5;124;43m>\u001b[39;49m\u001b[38;5;124;43m%\u001b[39;49m\u001b[38;5;130;43;01m\\n\u001b[39;49;00m\u001b[38;5;124;43m    select(Date)\u001b[39;49m\u001b[38;5;130;43;01m\\n\u001b[39;49;00m\u001b[38;5;124;43m  \u001b[39;49m\u001b[38;5;130;43;01m\\n\u001b[39;49;00m\u001b[38;5;124;43m  # Apply interpolation after recording missing dates\u001b[39;49m\u001b[38;5;130;43;01m\\n\u001b[39;49;00m\u001b[38;5;124;43m  df <- df \u001b[39;49m\u001b[38;5;124;43m%\u001b[39;49m\u001b[38;5;124;43m>\u001b[39;49m\u001b[38;5;124;43m%\u001b[39;49m\u001b[38;5;130;43;01m\\n\u001b[39;49;00m\u001b[38;5;124;43m    mutate(CLOSE = na.approx(CLOSE, rule = 2))\u001b[39;49m\u001b[38;5;130;43;01m\\n\u001b[39;49;00m\u001b[38;5;124;43m  \u001b[39;49m\u001b[38;5;130;43;01m\\n\u001b[39;49;00m\u001b[38;5;124;43m  return(list(data = df, missing_dates = missing))\u001b[39;49m\u001b[38;5;130;43;01m\\n\u001b[39;49;00m\u001b[38;5;124;43m})\u001b[39;49m\u001b[38;5;130;43;01m\\n\u001b[39;49;00m\u001b[38;5;130;43;01m\\n\u001b[39;49;00m\u001b[38;5;124;43m# Extract and print the missing dates for each hub\u001b[39;49m\u001b[38;5;130;43;01m\\n\u001b[39;49;00m\u001b[38;5;124;43mmissing_dates_list <- lapply(missing_dates, function(x) x$missing_dates)\u001b[39;49m\u001b[38;5;130;43;01m\\n\u001b[39;49;00m\u001b[38;5;124;43mnames(missing_dates_list) <- names(hub_prices) # Assign names for clarity\u001b[39;49m\u001b[38;5;130;43;01m\\n\u001b[39;49;00m\u001b[38;5;124;43mmissing_dates_list\u001b[39;49m\u001b[38;5;130;43;01m\\n\u001b[39;49;00m\u001b[38;5;124;43m'\u001b[39;49m\u001b[43m)\u001b[49m\n",
      "File \u001b[0;32m~/Documents/Master/statistical-arbitrage/.conda/lib/python3.11/site-packages/IPython/core/interactiveshell.py:2541\u001b[0m, in \u001b[0;36mInteractiveShell.run_cell_magic\u001b[0;34m(self, magic_name, line, cell)\u001b[0m\n\u001b[1;32m   2539\u001b[0m \u001b[38;5;28;01mwith\u001b[39;00m \u001b[38;5;28mself\u001b[39m\u001b[38;5;241m.\u001b[39mbuiltin_trap:\n\u001b[1;32m   2540\u001b[0m     args \u001b[38;5;241m=\u001b[39m (magic_arg_s, cell)\n\u001b[0;32m-> 2541\u001b[0m     result \u001b[38;5;241m=\u001b[39m \u001b[43mfn\u001b[49m\u001b[43m(\u001b[49m\u001b[38;5;241;43m*\u001b[39;49m\u001b[43margs\u001b[49m\u001b[43m,\u001b[49m\u001b[43m \u001b[49m\u001b[38;5;241;43m*\u001b[39;49m\u001b[38;5;241;43m*\u001b[39;49m\u001b[43mkwargs\u001b[49m\u001b[43m)\u001b[49m\n\u001b[1;32m   2543\u001b[0m \u001b[38;5;66;03m# The code below prevents the output from being displayed\u001b[39;00m\n\u001b[1;32m   2544\u001b[0m \u001b[38;5;66;03m# when using magics with decorator @output_can_be_silenced\u001b[39;00m\n\u001b[1;32m   2545\u001b[0m \u001b[38;5;66;03m# when the last Python token in the expression is a ';'.\u001b[39;00m\n\u001b[1;32m   2546\u001b[0m \u001b[38;5;28;01mif\u001b[39;00m \u001b[38;5;28mgetattr\u001b[39m(fn, magic\u001b[38;5;241m.\u001b[39mMAGIC_OUTPUT_CAN_BE_SILENCED, \u001b[38;5;28;01mFalse\u001b[39;00m):\n",
      "File \u001b[0;32m~/Documents/Master/statistical-arbitrage/.conda/lib/python3.11/site-packages/rpy2/ipython/rmagic.py:984\u001b[0m, in \u001b[0;36mRMagics.R\u001b[0;34m(self, line, cell, local_ns)\u001b[0m\n\u001b[1;32m    982\u001b[0m     \u001b[38;5;28;01mif\u001b[39;00m \u001b[38;5;129;01mnot\u001b[39;00m e\u001b[38;5;241m.\u001b[39mstdout\u001b[38;5;241m.\u001b[39mendswith(e\u001b[38;5;241m.\u001b[39merr):\n\u001b[1;32m    983\u001b[0m         \u001b[38;5;28mprint\u001b[39m(e\u001b[38;5;241m.\u001b[39merr)\n\u001b[0;32m--> 984\u001b[0m     \u001b[38;5;28;01mraise\u001b[39;00m e\n\u001b[1;32m    985\u001b[0m \u001b[38;5;28;01mfinally\u001b[39;00m:\n\u001b[1;32m    986\u001b[0m     \u001b[38;5;28;01mif\u001b[39;00m \u001b[38;5;28mself\u001b[39m\u001b[38;5;241m.\u001b[39mdevice \u001b[38;5;129;01min\u001b[39;00m DEVICES_STATIC:\n",
      "File \u001b[0;32m~/Documents/Master/statistical-arbitrage/.conda/lib/python3.11/site-packages/rpy2/ipython/rmagic.py:949\u001b[0m, in \u001b[0;36mRMagics.R\u001b[0;34m(self, line, cell, local_ns)\u001b[0m\n\u001b[1;32m    947\u001b[0m         return_output \u001b[38;5;241m=\u001b[39m \u001b[38;5;28;01mFalse\u001b[39;00m\n\u001b[1;32m    948\u001b[0m \u001b[38;5;28;01melse\u001b[39;00m:\n\u001b[0;32m--> 949\u001b[0m     text_result, result, visible \u001b[38;5;241m=\u001b[39m \u001b[38;5;28;43mself\u001b[39;49m\u001b[38;5;241;43m.\u001b[39;49m\u001b[43meval\u001b[49m\u001b[43m(\u001b[49m\u001b[43mcode\u001b[49m\u001b[43m)\u001b[49m\n\u001b[1;32m    950\u001b[0m     text_output \u001b[38;5;241m+\u001b[39m\u001b[38;5;241m=\u001b[39m text_result\n\u001b[1;32m    951\u001b[0m     \u001b[38;5;28;01mif\u001b[39;00m visible:\n",
      "File \u001b[0;32m~/Documents/Master/statistical-arbitrage/.conda/lib/python3.11/site-packages/rpy2/ipython/rmagic.py:413\u001b[0m, in \u001b[0;36mRMagics.eval\u001b[0;34m(self, code)\u001b[0m\n\u001b[1;32m    410\u001b[0m \u001b[38;5;28;01mexcept\u001b[39;00m (ri\u001b[38;5;241m.\u001b[39membedded\u001b[38;5;241m.\u001b[39mRRuntimeError, \u001b[38;5;167;01mValueError\u001b[39;00m) \u001b[38;5;28;01mas\u001b[39;00m exception:\n\u001b[1;32m    411\u001b[0m     \u001b[38;5;66;03m# Otherwise next return seems to have copy of error.\u001b[39;00m\n\u001b[1;32m    412\u001b[0m     warning_or_other_msg \u001b[38;5;241m=\u001b[39m \u001b[38;5;28mself\u001b[39m\u001b[38;5;241m.\u001b[39mflush()\n\u001b[0;32m--> 413\u001b[0m     \u001b[38;5;28;01mraise\u001b[39;00m RInterpreterError(code, \u001b[38;5;28mstr\u001b[39m(exception),\n\u001b[1;32m    414\u001b[0m                             warning_or_other_msg)\n\u001b[1;32m    415\u001b[0m \u001b[38;5;28;01mfinally\u001b[39;00m:\n\u001b[1;32m    416\u001b[0m     ro\u001b[38;5;241m.\u001b[39m_print_deferred_warnings()\n",
      "\u001b[0;31mRInterpreterError\u001b[0m: Failed to parse and evaluate line '# List to store missing dates for each hub\\nmissing_dates <- lapply(hub_prices, function(df) {\\n  df$Date <- as.Date(df$Date)\\n  df <- merge(data.frame(Date = date_index), df, by = \"Date\", all.x = TRUE)\\n  \\n  # Find missing dates\\n  missing <- df %>%\\n    filter(is.na(CLOSE)) %>%\\n    select(Date)\\n  \\n  # Apply interpolation after recording missing dates\\n  df <- df %>%\\n    mutate(CLOSE = na.approx(CLOSE, rule = 2))\\n  \\n  return(list(data = df, missing_dates = missing))\\n})\\n\\n# Extract and print the missing dates for each hub\\nmissing_dates_list <- lapply(missing_dates, function(x) x$missing_dates)\\nnames(missing_dates_list) <- names(hub_prices) # Assign names for clarity\\nmissing_dates_list\\n'.\nR error message: 'Error in select(., Date) : unused argument (Date)'"
     ]
    }
   ],
   "source": [
    "%%R\n",
    "# List to store missing dates for each hub\n",
    "\n"
   ]
  },
  {
   "cell_type": "code",
   "execution_count": 38,
   "metadata": {},
   "outputs": [],
   "source": [
    "%%R\n",
    "# Load the prices processed pricing data for each hub\n",
    "nbp_price <- hub_prices$nbp\n",
    "peg_price <- hub_prices$peg\n",
    "the_price <- hub_prices$the\n",
    "ttf_price <- hub_prices$ttf\n",
    "ztp_price <- hub_prices$ztp"
   ]
  },
  {
   "cell_type": "code",
   "execution_count": 39,
   "metadata": {},
   "outputs": [],
   "source": [
    "%%R\n",
    "write.csv(nbp_price, \"../data/interpolated/nbp_close_interpolated.csv\", row.names = FALSE)\n",
    "write.csv(peg_price, \"../data/interpolated/peg_close_interpolated.csv\", row.names = FALSE)\n",
    "write.csv(the_price, \"../data/interpolated/the_close_interpolated.csv\", row.names = FALSE)\n",
    "write.csv(ttf_price, \"../data/interpolated/ttf_close_interpolated.csv\", row.names = FALSE)\n",
    "write.csv(ztp_price, \"../data/interpolated/ztp_close_interpolated.csv\", row.names = FALSE)"
   ]
  }
 ],
 "metadata": {
  "kernelspec": {
   "display_name": ".conda",
   "language": "python",
   "name": "python3"
  },
  "language_info": {
   "codemirror_mode": {
    "name": "ipython",
    "version": 3
   },
   "file_extension": ".py",
   "mimetype": "text/x-python",
   "name": "python",
   "nbconvert_exporter": "python",
   "pygments_lexer": "ipython3",
   "version": "3.11.9"
  }
 },
 "nbformat": 4,
 "nbformat_minor": 2
}
