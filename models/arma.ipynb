{
 "cells": [
  {
   "cell_type": "markdown",
   "metadata": {},
   "source": [
    "# Statistical models in R\n",
    "This notebook is covering:\n",
    "1. Data preprocessing:\n",
    "    1. Aligning all dataframe to 5-day week from 2018-10-01 to 2024-08-30.\n",
    "    2. Interpolating missing values.\n",
    "2. ARMA-models."
   ]
  },
  {
   "cell_type": "code",
   "execution_count": null,
   "metadata": {},
   "outputs": [],
   "source": [
    "# rpy2 is a Python package that allows you to run R code from Python\n",
    "%pip install rpy2"
   ]
  },
  {
   "cell_type": "code",
   "execution_count": 1,
   "metadata": {},
   "outputs": [],
   "source": [
    "# Load the rpy2 extension to use R in Jupyter\n",
    "%load_ext rpy2.ipython"
   ]
  },
  {
   "cell_type": "markdown",
   "metadata": {},
   "source": [
    "The magic function `%%R` is used for running R code in Jupyter"
   ]
  },
  {
   "cell_type": "code",
   "execution_count": 159,
   "metadata": {},
   "outputs": [
    {
     "name": "stdout",
     "output_type": "stream",
     "text": [
      "\n",
      "The downloaded binary packages are in\n",
      "\t/var/folders/f_/fcfn37vd6dxf0sq0ljvgz2kh0000gn/T//RtmpeTsOGL/downloaded_packages\n"
     ]
    },
    {
     "data": {
      "text/plain": [
       "Loading required package: Metrics\n",
       "trying URL 'https://cran.uib.no/bin/macosx/big-sur-x86_64/contrib/4.3/Metrics_0.1.4.tgz'\n",
       "Content type 'application/x-gzip' length 82668 bytes (80 KB)\n",
       "==================================================\n",
       "downloaded 80 KB\n",
       "\n",
       "\n",
       "Attaching package: ‘Metrics’\n",
       "\n",
       "The following object is masked from ‘package:forecast’:\n",
       "\n",
       "    accuracy\n",
       "\n",
       "In addition: Warning message:\n",
       "In library(package, lib.loc = lib.loc, character.only = TRUE, logical.return = TRUE,  :\n",
       "  there is no package called ‘Metrics’\n"
      ]
     },
     "metadata": {},
     "output_type": "display_data"
    }
   ],
   "source": [
    "%%R\n",
    "# Install required packages\n",
    "if (require(\"dplyr\") == FALSE) {\n",
    "  install.packages(\"dplyr\")\n",
    "  library(dplyr)\n",
    "}\n",
    "if (require(\"zoo\") == FALSE) {\n",
    "  install.packages(\"zoo\")\n",
    "  library(zoo)\n",
    "}\n",
    "if (require(\"psych\") == FALSE) {\n",
    "  install.packages(\"psych\")\n",
    "  library(psych)\n",
    "}\n",
    "if (require(\"TSA\") == FALSE) {\n",
    "  install.packages(\"TSA\")\n",
    "  library(TSA)\n",
    "}\n",
    "if (require(\"forecast\") == FALSE) {\n",
    "  install.packages(\"forecast\")\n",
    "  library(forecast)\n",
    "}\n",
    "if (require(\"Metrics\") == FALSE) {\n",
    "  install.packages(\"Metrics\")\n",
    "  library(Metrics)\n",
    "}"
   ]
  },
  {
   "cell_type": "code",
   "execution_count": 76,
   "metadata": {},
   "outputs": [],
   "source": [
    "%%R\n",
    "# Load data\n",
    "hub_prices <- list(\n",
    "  nbp = read.csv(\"../data/nbp_close.csv\"),\n",
    "  peg = read.csv(\"../data/peg_close.csv\"),\n",
    "  the = read.csv(\"../data/the_close.csv\"),\n",
    "  ttf = read.csv(\"../data/ttf_close.csv\"),\n",
    "  ztp = read.csv(\"../data/ztp_close.csv\")\n",
    ")"
   ]
  },
  {
   "cell_type": "code",
   "execution_count": 77,
   "metadata": {},
   "outputs": [],
   "source": [
    "%%R\n",
    "# Create a date index with a 5 day week to align data\n",
    "start_date <- as.Date(\"2018-10-01\")\n",
    "end_date <- as.Date(\"2024-08-30\")\n",
    "date_seq <- seq.Date(start_date, end_date, by = \"day\")\n",
    "date_index <- date_seq[!weekdays(date_seq) %in% c(\"Saturday\", \"Sunday\")]"
   ]
  },
  {
   "cell_type": "code",
   "execution_count": 78,
   "metadata": {},
   "outputs": [],
   "source": [
    "%%R\n",
    "# Merge the hub data with the created date index so that all data is aligned and fill in missing values\n",
    "hub_prices <- lapply(hub_prices, function(df) {\n",
    "  df$Date <- as.Date(df$Date)\n",
    "  df <- merge(data.frame(Date = date_index), df, by = \"Date\", all.x = TRUE)\n",
    "  df <- df %>%\n",
    "    mutate(CLOSE = na.approx(CLOSE, rule = 2))\n",
    "  return(df)\n",
    "})"
   ]
  },
  {
   "cell_type": "code",
   "execution_count": 79,
   "metadata": {},
   "outputs": [],
   "source": [
    "%%R\n",
    "# Load the prices processed pricing data for each hub\n",
    "nbp_price <- hub_prices$nbp\n",
    "peg_price <- hub_prices$peg\n",
    "the_price <- hub_prices$the\n",
    "ttf_price <- hub_prices$ttf\n",
    "ztp_price <- hub_prices$ztp"
   ]
  },
  {
   "cell_type": "code",
   "execution_count": 80,
   "metadata": {},
   "outputs": [],
   "source": [
    "%%R\n",
    "# Function to store the residuals of an OLS model to be used in VAR\n",
    "store_ols_residuals <- function(hub1, hub2, file_name) {\n",
    "  ols_model <- lm(hub1$CLOSE ~ hub2$CLOSE)\n",
    "  residuals_df <- data.frame(Date = hub1$Date, Residuals = ols_model$residuals)\n",
    "  write.csv(residuals_df, file_name, row.names = FALSE)\n",
    "  return(ols_model)\n",
    "}\n",
    "folder_path <- \"intermediate_storage/\"\n",
    "ztp_ttf_ols <- store_ols_residuals(ztp_price, ttf_price, paste(folder_path, \"ztp_ttf_residuals.csv\", sep = \"\")) # paste() concatenates strings"
   ]
  },
  {
   "cell_type": "code",
   "execution_count": 89,
   "metadata": {},
   "outputs": [],
   "source": [
    "%%R\n",
    "# Calculate log returns for each hub\n",
    "hub_returns <- lapply(hub_prices, function(df) {\n",
    "  df <- df %>%\n",
    "    mutate(Return = log(CLOSE) - lag(log(CLOSE))) %>%  # Calculate log returns\n",
    "    slice(-1)  # Drop the first row\n",
    "  return(df)\n",
    "})"
   ]
  },
  {
   "cell_type": "code",
   "execution_count": 90,
   "metadata": {},
   "outputs": [],
   "source": [
    "%%R\n",
    "nbp_returns <- hub_returns$nbp\n",
    "peg_returns <- hub_returns$peg\n",
    "the_returns <- hub_returns$the\n",
    "ttf_returns <- hub_returns$ttf\n",
    "ztp_returns <- hub_returns$ztp"
   ]
  },
  {
   "cell_type": "code",
   "execution_count": 203,
   "metadata": {},
   "outputs": [],
   "source": [
    "%%R\n",
    "# Create a function to fit an ARMA with exogenous variables model\n",
    "armax_model <- function(hub1, hub2_lag1, ar_order, ma_order) {\n",
    "  armax_model <- arima(hub1$Return, order = c(ar_order, 0, ma_order), xreg = hub2_lag1$Return, optim.control = list(maxit = 1000))\n",
    "return(armax_model)\n",
    "}"
   ]
  },
  {
   "cell_type": "code",
   "execution_count": 204,
   "metadata": {},
   "outputs": [],
   "source": [
    "%%R\n",
    "expanding_window_armax_forecast <- function(hub1, hub2, ar_order, ma_order, window_size = 10) {\n",
    "  \n",
    "  n <- length(hub1$Return)\n",
    "  \n",
    "  start_points <- seq(n - 250, n - window_size, by = window_size)\n",
    "  performance <- data.frame(Interval = numeric(), MAE = numeric(), RMSE = numeric())\n",
    "\n",
    "  hub1 <- hub1 %>% slice(-1) # Drop the first row\n",
    "  hub2_lag1 <- lag(hub2) %>% slice(-1) # Drop the first row\n",
    "  \n",
    "  for (start in start_points) {\n",
    "    \n",
    "    hub1_train <- hub1[1:(start - 1), ]  # Use data up to the window for hub1\n",
    "    hub2_lag1_train <- hub2_lag1[1:(start - 1), ]  # Use data up to the window for hub2\n",
    "    \n",
    "    hub1_actual <- hub1$Return[start:(start + window_size - 1)]\n",
    "\n",
    "    armax_fit <- armax_model(hub1_train, hub2_lag1_train, ar_order, ma_order)\n",
    "      \n",
    "    # Fit the ARMA(3,3) model on hub2\n",
    "    hub2_arma <- arima(hub2_lag1_train$Return, order = c(3, 0, 3),  optim.control = list(maxit = 1000))  # Fit ARMA(3,3) on hub2\n",
    "    hub2_future_forecast <- predict(hub2_arma, n.ahead = window_size)$pred  # Forecast hub2 for the next window\n",
    "    forecasted_values <- predict(armax_fit, newxreg = hub2_future_forecast, n.ahead = window_size)$pred\n",
    "    \n",
    "    mae_value <- mae(hub1_actual, forecasted_values)\n",
    "    rmse_value <- rmse(hub1_actual, forecasted_values)\n",
    "    performance <- rbind(performance, data.frame(Interval = start, MAE = mae_value, RMSE = rmse_value))\n",
    "  }\n",
    "  \n",
    "  return(performance)\n",
    "}"
   ]
  },
  {
   "cell_type": "code",
   "execution_count": 205,
   "metadata": {},
   "outputs": [
    {
     "name": "stdout",
     "output_type": "stream",
     "text": [
      "   Interval        MAE       RMSE\n",
      "1      1294 0.04846589 0.05824988\n",
      "2      1304 0.07350453 0.08351720\n",
      "3      1314 0.02525421 0.03763769\n",
      "4      1324 0.02853729 0.03795740\n",
      "5      1334 0.01947162 0.02469868\n",
      "6      1344 0.04398321 0.04773487\n",
      "7      1354 0.04288081 0.04935471\n",
      "8      1364 0.03215316 0.03865814\n",
      "9      1374 0.02311205 0.03482855\n",
      "10     1384 0.02790288 0.03249579\n",
      "11     1394 0.02037971 0.02532583\n",
      "12     1404 0.02851127 0.03184716\n",
      "13     1414 0.03112927 0.03615746\n",
      "14     1424 0.03476898 0.04106284\n",
      "15     1434 0.03022829 0.03668812\n",
      "16     1444 0.03986259 0.04316754\n",
      "17     1454 0.02535570 0.02717345\n",
      "18     1464 0.02304191 0.02663087\n",
      "19     1474 0.02941773 0.03483940\n",
      "20     1484 0.01919158 0.02167219\n",
      "21     1494 0.01671938 0.01977047\n",
      "22     1504 0.02333681 0.02555207\n",
      "23     1514 0.02305477 0.02637328\n",
      "24     1524 0.02192526 0.02608865\n",
      "25     1534 0.01720407 0.02247230\n"
     ]
    }
   ],
   "source": [
    "%%R\n",
    "performance_metrics <- expanding_window_armax_forecast(ztp_returns, ttf_returns, ar_order = 3, ma_order = 1, window_size = 10)\n",
    "print(performance_metrics)"
   ]
  }
 ],
 "metadata": {
  "kernelspec": {
   "display_name": "Python 3",
   "language": "python",
   "name": "python3"
  },
  "language_info": {
   "codemirror_mode": {
    "name": "ipython",
    "version": 3
   },
   "file_extension": ".py",
   "mimetype": "text/x-python",
   "name": "python",
   "nbconvert_exporter": "python",
   "pygments_lexer": "ipython3",
   "version": "3.11.9"
  }
 },
 "nbformat": 4,
 "nbformat_minor": 2
}
