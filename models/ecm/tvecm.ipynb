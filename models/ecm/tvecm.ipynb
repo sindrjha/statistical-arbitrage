{
 "cells": [
  {
   "cell_type": "markdown",
   "metadata": {},
   "source": [
    "# Statistical models in R\n",
    "This notebook is covering:\n",
    "1. Test predict method for TVECM"
   ]
  },
  {
   "cell_type": "code",
   "execution_count": 141,
   "metadata": {},
   "outputs": [],
   "source": [
    "import pandas as pd\n",
    "import plotly.express as px\n",
    "import plotly.graph_objs as go"
   ]
  },
  {
   "cell_type": "code",
   "execution_count": 142,
   "metadata": {},
   "outputs": [
    {
     "name": "stdout",
     "output_type": "stream",
     "text": [
      "Requirement already satisfied: rpy2 in /Users/sindrehaugland/Documents/Master/statistical-arbitrage/.conda/lib/python3.11/site-packages (3.5.16)\n",
      "Requirement already satisfied: cffi>=1.15.1 in /Users/sindrehaugland/Documents/Master/statistical-arbitrage/.conda/lib/python3.11/site-packages (from rpy2) (1.17.1)\n",
      "Requirement already satisfied: jinja2 in /Users/sindrehaugland/Documents/Master/statistical-arbitrage/.conda/lib/python3.11/site-packages (from rpy2) (3.1.4)\n",
      "Requirement already satisfied: tzlocal in /Users/sindrehaugland/Documents/Master/statistical-arbitrage/.conda/lib/python3.11/site-packages (from rpy2) (5.2)\n",
      "Requirement already satisfied: pycparser in /Users/sindrehaugland/Documents/Master/statistical-arbitrage/.conda/lib/python3.11/site-packages (from cffi>=1.15.1->rpy2) (2.22)\n",
      "Requirement already satisfied: MarkupSafe>=2.0 in /Users/sindrehaugland/Documents/Master/statistical-arbitrage/.conda/lib/python3.11/site-packages (from jinja2->rpy2) (2.1.5)\n",
      "Note: you may need to restart the kernel to use updated packages.\n"
     ]
    }
   ],
   "source": [
    "# rpy2 is a Python package that allows you to run R code from Python\n",
    "%pip install rpy2"
   ]
  },
  {
   "cell_type": "code",
   "execution_count": 143,
   "metadata": {},
   "outputs": [
    {
     "name": "stdout",
     "output_type": "stream",
     "text": [
      "The rpy2.ipython extension is already loaded. To reload it, use:\n",
      "  %reload_ext rpy2.ipython\n"
     ]
    }
   ],
   "source": [
    "# Load the rpy2 extension to use R in Jupyter\n",
    "%load_ext rpy2.ipython"
   ]
  },
  {
   "cell_type": "markdown",
   "metadata": {},
   "source": [
    "The magic function `%%R` is used for running R code in Jupyter"
   ]
  },
  {
   "cell_type": "code",
   "execution_count": 144,
   "metadata": {},
   "outputs": [],
   "source": [
    "%%R\n",
    "# Install required packages\n",
    "if (require(\"dplyr\") == FALSE) {\n",
    "  install.packages(\"dplyr\")\n",
    "  library(dplyr)\n",
    "}\n",
    "if (require(\"zoo\") == FALSE) {\n",
    "  install.packages(\"zoo\")\n",
    "  library(zoo)\n",
    "}\n",
    "if (require(\"psych\") == FALSE) {\n",
    "  install.packages(\"psych\")\n",
    "  library(psych)\n",
    "}\n",
    "if (require(\"TSA\") == FALSE) {\n",
    "  install.packages(\"TSA\")\n",
    "  library(TSA)\n",
    "}\n",
    "if (require(\"forecast\") == FALSE) {\n",
    "  install.packages(\"forecast\")\n",
    "  library(forecast)\n",
    "}\n",
    "if (require(\"Metrics\") == FALSE) {\n",
    "  install.packages(\"Metrics\")\n",
    "  library(Metrics)\n",
    "}\n",
    "if (require(\"ggplot2\") == FALSE) {\n",
    "  install.packages(\"ggplot2\")\n",
    "  library(ggplot2)\n",
    "}\n",
    "if (require(\"vars\") == FALSE) {\n",
    "  install.packages(\"vars\")\n",
    "  library(vars)\n",
    "}\n",
    "if (require(\"svars\") == FALSE) {\n",
    "  install.packages(\"svars\")\n",
    "  library(svars)\n",
    "}\n",
    "if (require(\"tsDyn\") == FALSE) {\n",
    "  install.packages(\"tsDyn\")\n",
    "  library(tsDyn)\n",
    "}\n",
    "if (require(\"devtools\") == FALSE) {\n",
    "  install.packages(\"devtools\")\n",
    "  library(devtools)\n",
    "}\n"
   ]
  },
  {
   "cell_type": "code",
   "execution_count": 145,
   "metadata": {},
   "outputs": [],
   "source": [
    "%%R\n",
    "# Load data\n",
    "hub_prices <- list(\n",
    "  nbp = read.csv(\"../../data/interpolated/nbp_close_interpolated.csv\"),\n",
    "  peg = read.csv(\"../../data/interpolated/peg_close_interpolated.csv\"),\n",
    "  the = read.csv(\"../../data/interpolated/the_close_interpolated.csv\"),\n",
    "  ttf = read.csv(\"../../data/interpolated/ttf_close_interpolated.csv\"),\n",
    "  ztp = read.csv(\"../../data/interpolated/ztp_close_interpolated.csv\")\n",
    ")"
   ]
  },
  {
   "cell_type": "code",
   "execution_count": 175,
   "metadata": {},
   "outputs": [
    {
     "name": "stdout",
     "output_type": "stream",
     "text": [
      "SC(n) \n",
      "    5 \n"
     ]
    }
   ],
   "source": [
    "%%R\n",
    "\n",
    "hub1_name <- \"the\"\n",
    "hub2_name <- \"nbp\"\n",
    "\n",
    "hub1 <- hub_prices[[hub1_name]]\n",
    "hub2 <- hub_prices[[hub2_name]]\n",
    "\n",
    "hubs <- data.frame(hub1 = hub1$CLOSE, hub2 = hub2$CLOSE)\n",
    "var_p <- VAR(hubs, type = \"const\", lag.max = 20, ic = \"SC\")\n",
    "\n",
    "var_p$p"
   ]
  },
  {
   "cell_type": "code",
   "execution_count": 176,
   "metadata": {},
   "outputs": [],
   "source": [
    "%%R\n",
    "# Based on the predict.TVAR function from the tsDyn package\n",
    "predict.TVECM <- function(object, newdata, n.ahead=5, \n",
    "                        newdataTrendStart, ...){\n",
    "  \n",
    "  ## extract parameters, coefs\n",
    "  lag <- object$lag\n",
    "  k <- object$k\n",
    "  include <- object$include\n",
    "  B <- object$coeffmat  \n",
    "  Thresh <- getTh(object)\n",
    "  nthresh <- object$model.specific$nthresh\n",
    "  beta <- object$model.specific$beta\n",
    "\n",
    "  \n",
    "  ## setup starting values (data in y), innovations (0)\n",
    "  original.data <- object$model[,1:k, drop=FALSE]\n",
    "  starting <-   tsDyn:::myTail(original.data,lag)\n",
    "  innov <- matrix(0, nrow=n.ahead, ncol=k)  \n",
    "\n",
    "  \n",
    "  \n",
    "  if(!missing(newdata)) {\n",
    "    if(!inherits(newdata, c(\"data.frame\", \"matrix\",\"zoo\", \"ts\"))) stop(\"Arg 'newdata' should be of class data.frame, matrix, zoo or ts\")\n",
    "    if(nrow(newdata)!=lag+1) stop(paste0(\"Please provide newdata with nrow=lag=\", lag+1))\n",
    "    starting <-  as.matrix(newdata)\n",
    "  }\n",
    "  \n",
    "  ## trend DOES NOT WORK YET\n",
    "  if(missing(newdataTrendStart)){\n",
    "    if(include%in%c(\"trend\", \"both\")){\n",
    "      trendStart <- object$t+1\n",
    "    }  else {\n",
    "      trendStart <- 0\n",
    "    }\n",
    "  } else {\n",
    "    trendStart <- newdataTrendStart\n",
    "  }\n",
    "  \n",
    "  \n",
    "  res <- tsDyn:::TVECM.gen(B=B, beta=beta, n=n.ahead, lag=lag, \n",
    "                      include = include, \n",
    "                      nthresh= nthresh,\n",
    "                      Thresh = Thresh, \n",
    "                      starting=starting, innov=innov)\n",
    "  \n",
    "  ## format results\n",
    "  colnames(res) <- colnames(original.data)\n",
    "  end_rows <- nrow(original.data) + n.ahead\n",
    "  if(hasArg(\"returnStarting\") && isTRUE(list(...)[\"returnStarting\"])) {\n",
    "    start_rows <- nrow(original.data)+1 - lag\n",
    "  } else {\n",
    "    start_rows <- nrow(original.data)+1\n",
    "  }\n",
    "  rownames(res) <- start_rows : end_rows\n",
    "  \n",
    "  return(res)\n",
    "}"
   ]
  },
  {
   "cell_type": "code",
   "execution_count": 177,
   "metadata": {},
   "outputs": [],
   "source": [
    "%%R\n",
    "vecm_predictions <- function(hubs,  window_size = 5, horizon = 250) {\n",
    "  \n",
    "  # Initialize empty data frames for storing predictions and actual values\n",
    "  predictions <- data.frame(matrix(ncol = ncol(hubs), nrow = 0))\n",
    "  actuals <- data.frame(matrix(ncol = ncol(hubs), nrow = 0))\n",
    "  \n",
    "  colnames(predictions) <- colnames(hubs)\n",
    "  colnames(actuals) <- colnames(hubs)\n",
    "\n",
    "  train_size <- nrow(hubs) - horizon - window_size\n",
    "  hub_train <- hubs[1:train_size, ]\n",
    "\n",
    "  n_lags <- 4\n",
    "\n",
    "  tvec <- TVECM(hub_train, include = \"both\", nthresh=2,lag=n_lags, ngridBeta=100, ngridTh=100, plot=TRUE,trim=0.05, common=\"All\")\n",
    "\n",
    "  \n",
    "  for (i in 1:horizon) {\n",
    "\n",
    "    start <- train_size - n_lags + i\n",
    "    end <- train_size + i\n",
    "\n",
    "    pred_data <- hubs[start:end, ]\n",
    "    # Fit the VECM model\n",
    "\n",
    "    hub_forecast <- predict.TVECM(tvec, newdata=pred_data, n.ahead=window_size)\n",
    "    \n",
    "    hub_prediction <- hub_forecast[window_size, , drop = FALSE]\n",
    "    \n",
    "    hub_actual <- hubs[end + window_size, ]\n",
    "    \n",
    "    predictions <- rbind(predictions, hub_prediction)\n",
    "    actuals <- rbind(actuals, hub_actual)\n",
    "  }\n",
    "  \n",
    "  # Return both data frames as a list\n",
    "  return(list(predictions = predictions, actuals = actuals))\n",
    "}\n",
    "  "
   ]
  },
  {
   "cell_type": "code",
   "execution_count": 178,
   "metadata": {},
   "outputs": [
    {
     "name": "stdout",
     "output_type": "stream",
     "text": [
      "110 (1.1%) points of the grid lead to regimes with percentage of observations < trim and were not computed\n",
      "Best threshold from first search -17.52875 \n",
      "Best cointegrating value 1.2179 \n",
      "There were  2  thresholds values which minimize the SSR in the conditional step, the first one was taken\n",
      "Second best (conditionnal on the first one) -17.52875 29.23529 \t SSR 75282.21 \n",
      "There were  8  thresholds values which minimize the SSR in the iterative step, the first one was taken\n",
      "Second step best thresholds -17.64274 29.23529 \t\t\t SSR 74950.79 \n",
      "[1] \"Pair: the | nbp\"\n",
      "[1] \"the: Mean Absolute Error: 2.04357324943311\"\n",
      "[1] \"the: Root Mean Squared Error: 2.67585628980499\"\n",
      "[1] \"nbp: Mean Absolute Error: 2.13720798783016\"\n",
      "[1] \"nbp: Root Mean Squared Error: 2.98085551925433\"\n"
     ]
    },
    {
     "data": {
      "image/png": "[encoded data removed]",
      "text/plain": [
       "<IPython.core.display.Image object>"
      ]
     },
     "metadata": {},
     "output_type": "display_data"
    }
   ],
   "source": [
    "%%R\n",
    "vecm_output <- vecm_predictions(hubs)\n",
    "hub1_predictions <- vecm_output$predictions$hub1\n",
    "hub1_actuals <- vecm_output$actuals$hub1\n",
    "hub2_predictions <- vecm_output$predictions$hub2\n",
    "hub2_actuals <- vecm_output$actuals$hub2\n",
    "\n",
    "hub1_mae <- mae(hub1_actuals, hub1_predictions)\n",
    "hub2_mae <- mae(hub2_actuals, hub2_predictions)\n",
    "\n",
    "hub1_rmse <- rmse(hub1_actuals, hub1_predictions)\n",
    "hub2_rmse <- rmse(hub2_actuals, hub2_predictions)\n",
    "\n",
    "print(paste0(\"Pair: \", hub1_name, \" | \", hub2_name))\n",
    "print(paste0(hub1_name,\": Mean Absolute Error: \", hub1_mae))\n",
    "print(paste0(hub1_name,\": Root Mean Squared Error: \", hub1_rmse))\n",
    "\n",
    "print(paste0(hub2_name,\": Mean Absolute Error: \", hub2_mae))\n",
    "print(paste0(hub2_name,\": Root Mean Squared Error: \", hub2_rmse))"
   ]
  },
  {
   "cell_type": "code",
   "execution_count": 179,
   "metadata": {},
   "outputs": [],
   "source": [
    "%%R\n",
    "predictions <- vecm_output$predictions\n",
    "actuals <- vecm_output$actuals\n",
    "\n",
    "colnames(predictions) <- c(hub1_name, hub2_name)\n",
    "colnames(actuals) <- c(hub1_name, hub2_name)\n",
    "\n",
    "prediction_dates = tail(hub1$Date, horizon)\n",
    "predictions <- cbind(data.frame(Date = prediction_dates), predictions)\n",
    "actuals <- cbind(data.frame(Date = prediction_dates), actuals)"
   ]
  },
  {
   "cell_type": "code",
   "execution_count": 180,
   "metadata": {},
   "outputs": [],
   "source": [
    "%%R\n",
    "write.csv(predictions, paste0(\"../../predictions/\",hub1_name,\"_\", hub2_name, \"_h\", horizon, \"_w\", window_size, \"_tvecm_predictions.csv\"), row.names = FALSE)\n",
    "write.csv(actuals, paste0(\"../../predictions/\",hub1_name,\"_\", hub2_name, \"_h\", horizon, \"_w\", window_size, \"_actuals.csv\"), row.names = FALSE)"
   ]
  },
  {
   "cell_type": "code",
   "execution_count": 181,
   "metadata": {},
   "outputs": [
    {
     "name": "stdout",
     "output_type": "stream",
     "text": [
      "[1] \"Pair: the | nbp\"\n",
      "[1] \"Hub1: Mean Absolute Error: 2.08176266666667\"\n",
      "[1] \"Hub1: Root Mean Squared Error: 2.73317708716025\"\n",
      "[1] \"Hub2: Mean Absolute Error: 2.23126705883691\"\n",
      "[1] \"Hub2: Root Mean Squared Error: 3.08543650003223\"\n"
     ]
    }
   ],
   "source": [
    "%%R\n",
    "window_size <- 5\n",
    "horizon <- 250\n",
    "\n",
    "hubs_lag <- lag(hubs, window_size)\n",
    "\n",
    "\n",
    "hubs_prediction <- tail(hubs_lag, n = horizon)\n",
    "hubs_actual <- tail(hubs, n = horizon)\n",
    "\n",
    "\n",
    "\n",
    "hub1_naive_predictions <- hubs_prediction$hub1\n",
    "hub1_naive_actuals <- hubs_actual$hub1\n",
    "hub2_naive_predictions <- hubs_prediction$hub2\n",
    "hub2_naive_actuals <- hubs_actual$hub2\n",
    "\n",
    "hub1_naive_mae <- mae(hub1_naive_actuals, hub1_naive_predictions)\n",
    "hub2_naive_mae <- mae(hub2_naive_actuals, hub2_naive_predictions)\n",
    "\n",
    "hub1_naive_rmse <- rmse(hub1_naive_actuals, hub1_naive_predictions)\n",
    "hub2_naive_rmse <- rmse(hub2_naive_actuals, hub2_naive_predictions)\n",
    "\n",
    "print(paste0(\"Pair: \", hub1_name, \" | \", hub2_name))\n",
    "\n",
    "print(paste0(\"Hub1: Mean Absolute Error: \", hub1_naive_mae))\n",
    "print(paste0(\"Hub1: Root Mean Squared Error: \", hub1_naive_rmse))\n",
    "\n",
    "print(paste0(\"Hub2: Mean Absolute Error: \", hub2_naive_mae))\n",
    "print(paste0(\"Hub2: Root Mean Squared Error: \", hub2_naive_rmse))"
   ]
  },
  {
   "cell_type": "code",
   "execution_count": 182,
   "metadata": {},
   "outputs": [],
   "source": [
    "%%R\n",
    "naive_predictions <- hubs_prediction\n",
    "naive_actuals <- hubs_actual\n",
    "colnames(naive_predictions) <- c(hub1_name, hub2_name)\n",
    "colnames(naive_actuals) <- c(hub1_name, hub2_name)\n",
    "prediction_dates = tail(hub1$Date, horizon)\n",
    "naive_predictions <- cbind(data.frame(Date = prediction_dates), naive_predictions)\n",
    "naive_actuals <- cbind(data.frame(Date = prediction_dates), naive_actuals)"
   ]
  },
  {
   "cell_type": "code",
   "execution_count": 183,
   "metadata": {},
   "outputs": [],
   "source": [
    "%%R\n",
    "write.csv(naive_predictions, paste0(\"../../predictions/\",hub1_name,\"_\", hub2_name, \"_h\", horizon, \"_w\", window_size, \"_naive_predictions.csv\"), row.names = FALSE)\n",
    "write.csv(naive_predictions, paste0(\"../../predictions/\",hub1_name,\"_\", hub2_name, \"_h\", horizon, \"_w\", window_size, \"_last_available_data.csv\"), row.names = FALSE)"
   ]
  },
  {
   "cell_type": "code",
   "execution_count": 184,
   "metadata": {},
   "outputs": [
    {
     "name": "stdout",
     "output_type": "stream",
     "text": [
      "[1] \"Pair: the | nbp\"\n",
      "[1] \"the: Diebold-Mariano Test:\"\n",
      "\n",
      "\tDiebold-Mariano Test\n",
      "\n",
      "data:  vecm_residsnaive_resids\n",
      "DM = -0.32809, Forecast horizon = 5, Loss function power = 1, p-value =\n",
      "0.6284\n",
      "alternative hypothesis: greater\n",
      "\n"
     ]
    }
   ],
   "source": [
    "%%R\n",
    "\n",
    "naive_resids <- hub1_naive_actuals - hub1_naive_predictions\n",
    "vecm_resids <- hub1_actuals - hub1_predictions\n",
    "print(paste0(\"Pair: \", hub1_name, \" | \", hub2_name))\n",
    "print(paste0(hub1_name,\": Diebold-Mariano Test:\"))\n",
    "dm.test(vecm_resids, naive_resids, h = window_size, power = 1, alternative = \"greater\")"
   ]
  },
  {
   "cell_type": "code",
   "execution_count": 185,
   "metadata": {},
   "outputs": [
    {
     "name": "stdout",
     "output_type": "stream",
     "text": [
      "[1] \"Pair: the | nbp\"\n",
      "[1] \"nbp: Diebold-Mariano Test:\"\n",
      "\n",
      "\tDiebold-Mariano Test\n",
      "\n",
      "data:  vecm_residsnaive_resids\n",
      "DM = -2.0198, Forecast horizon = 5, Loss function power = 1, p-value =\n",
      "0.9778\n",
      "alternative hypothesis: greater\n",
      "\n"
     ]
    }
   ],
   "source": [
    "%%R\n",
    "naive_resids <- hub2_naive_actuals - hub2_naive_predictions\n",
    "vecm_resids <- hub2_actuals - hub2_predictions\n",
    "print(paste0(\"Pair: \", hub1_name, \" | \", hub2_name))\n",
    "print(paste0(hub2_name,\": Diebold-Mariano Test:\"))\n",
    "dm.test(vecm_resids, naive_resids, h = window_size, power = 1, alternative = \"greater\")"
   ]
  },
  {
   "cell_type": "code",
   "execution_count": 186,
   "metadata": {},
   "outputs": [],
   "source": [
    "%%R\n",
    "hub1_forecast_comparison <- data.frame(\n",
    "  Actual = hub1_actuals,\n",
    "  Forecasted = hub1_predictions\n",
    ")"
   ]
  },
  {
   "cell_type": "code",
   "execution_count": 187,
   "metadata": {},
   "outputs": [
    {
     "data": {
      "application/vnd.plotly.v1+json": {
       "config": {
        "plotlyServerURL": "https://plot.ly"
       },
       "data": [
        {
         "mode": "lines",
         "name": "Actual Prices",
         "type": "scatter",
         "x": [
          "1",
          "2",
          "3",
          "4",
          "5",
          "6",
          "7",
          "8",
          "9",
          "10",
          "11",
          "12",
          "13",
          "14",
          "15",
          "16",
          "17",
          "18",
          "19",
          "20",
          "21",
          "22",
          "23",
          "24",
          "25",
          "26",
          "27",
          "28",
          "29",
          "30",
          "31",
          "32",
          "33",
          "34",
          "35",
          "36",
          "37",
          "38",
          "39",
          "40",
          "41",
          "42",
          "43",
          "44",
          "45",
          "46",
          "47",
          "48",
          "49",
          "50",
          "51",
          "52",
          "53",
          "54",
          "55",
          "56",
          "57",
          "58",
          "59",
          "60",
          "61",
          "62",
          "63",
          "64",
          "65",
          "66",
          "67",
          "68",
          "69",
          "70",
          "71",
          "72",
          "73",
          "74",
          "75",
          "76",
          "77",
          "78",
          "79",
          "80",
          "81",
          "82",
          "83",
          "84",
          "85",
          "86",
          "87",
          "88",
          "89",
          "90",
          "91",
          "92",
          "93",
          "94",
          "95",
          "96",
          "97",
          "98",
          "99",
          "100",
          "101",
          "102",
          "103",
          "104",
          "105",
          "106",
          "107",
          "108",
          "109",
          "110",
          "111",
          "112",
          "113",
          "114",
          "115",
          "116",
          "117",
          "118",
          "119",
          "120",
          "121",
          "122",
          "123",
          "124",
          "125",
          "126",
          "127",
          "128",
          "129",
          "130",
          "131",
          "132",
          "133",
          "134",
          "135",
          "136",
          "137",
          "138",
          "139",
          "140",
          "141",
          "142",
          "143",
          "144",
          "145",
          "146",
          "147",
          "148",
          "149",
          "150",
          "151",
          "152",
          "153",
          "154",
          "155",
          "156",
          "157",
          "158",
          "159",
          "160",
          "161",
          "162",
          "163",
          "164",
          "165",
          "166",
          "167",
          "168",
          "169",
          "170",
          "171",
          "172",
          "173",
          "174",
          "175",
          "176",
          "177",
          "178",
          "179",
          "180",
          "181",
          "182",
          "183",
          "184",
          "185",
          "186",
          "187",
          "188",
          "189",
          "190",
          "191",
          "192",
          "193",
          "194",
          "195",
          "196",
          "197",
          "198",
          "199",
          "200",
          "201",
          "202",
          "203",
          "204",
          "205",
          "206",
          "207",
          "208",
          "209",
          "210",
          "211",
          "212",
          "213",
          "214",
          "215",
          "216",
          "217",
          "218",
          "219",
          "220",
          "221",
          "222",
          "223",
          "224",
          "225",
          "226",
          "227",
          "228",
          "229",
          "230",
          "231",
          "232",
          "233",
          "234",
          "235",
          "236",
          "237",
          "238",
          "239",
          "240",
          "241",
          "242",
          "243",
          "244",
          "245",
          "246",
          "247",
          "248",
          "249",
          "250"
         ],
         "y": [
          42.753,
          44.069,
          43.462,
          44.531,
          44.902,
          48.254,
          44.49,
          43.685,
          48.697,
          48.057,
          46.578,
          44.781,
          45.73,
          44.633,
          45.869,
          49.677,
          53.954,
          51.543,
          56.704,
          57.981,
          54.642,
          55.142,
          57.177,
          57.43,
          58.032,
          58.365,
          55.62,
          54.894,
          55.407,
          55.238,
          55.486,
          50.42,
          50.237,
          51.215,
          50.923,
          47.409,
          48.095,
          47.877,
          50.318,
          48.919,
          49.722,
          49.899,
          49.134,
          47.972,
          47.17,
          47.566,
          46.006,
          46.129,
          48.357,
          48.31,
          45.667,
          44.348,
          42.089,
          42.965,
          44.273,
          41.023,
          39.088,
          40.224,
          40.817,
          39.469,
          37.06,
          35.676,
          36.879,
          35.782,
          34.211,
          36.423,
          33.682,
          34.451,
          35.068,
          35.32,
          35.6976666666667,
          36.0753333333333,
          36.453,
          33.99,
          32.392,
          31.7185,
          31.045,
          32.755,
          33.843,
          34.695,
          32.052,
          31.083,
          31.285,
          31.301,
          31.301,
          30.457,
          30.238,
          28.277,
          28.7,
          29.314,
          28.43,
          28.678,
          30.073,
          29,
          29.298,
          29.373,
          30.48,
          31.06,
          30.117,
          30.094,
          29.137,
          29.278,
          28.825,
          28.446,
          27.812,
          26.571,
          26.211,
          25.595,
          25.641,
          25.529,
          24.405,
          24.854,
          24.598,
          23.886,
          23.59,
          24.531,
          24.955,
          26.04,
          25.33,
          26.038,
          27.211,
          27.781,
          26.948,
          26.279,
          26.658,
          25.356,
          25.212,
          25.233,
          26.38,
          27.325,
          29.137,
          29.173,
          27.984,
          26.739,
          27.946,
          28.774,
          27.807,
          28.317,
          28.071,
          27.744,
          27.417,
          27.09,
          26.431,
          27.069,
          27.549,
          28.912,
          28.39,
          28.085,
          30.395,
          31.615,
          31.876,
          33.883,
          31.879,
          32.969,
          31.424,
          30.101,
          29.216,
          29.739,
          30.4,
          29.588,
          28.679,
          29.728,
          30.5855,
          31.443,
          31.198,
          32.31,
          31.602,
          31.291,
          31.51,
          30.692,
          30.259,
          30.485,
          30.5,
          30.992,
          31.591,
          32.579,
          33.833,
          35.22,
          36.239,
          34.929,
          35.954,
          34.452,
          34.806,
          35.786,
          34.806,
          36.368,
          34.252,
          33.743,
          34.076,
          33.485,
          34.659,
          34.745,
          35.723,
          36.216,
          35.959,
          34.768,
          35.243,
          35.89,
          35.108,
          34.551,
          34.634,
          35.452,
          34.427,
          38.898,
          38.734,
          38.165,
          38.643,
          37.829,
          38.118,
          37.896,
          37.321,
          36.355,
          35.889,
          36.309,
          37.011,
          36.388,
          37.45,
          36.641,
          37.168,
          36.882,
          36.496,
          36.392,
          37.281,
          36.655,
          37.066,
          38.216,
          38.5,
          39.113,
          40.143,
          39.929,
          38.817,
          39.592,
          41.208,
          42.769,
          43.247,
          42.761,
          42.667,
          42.25,
          42.799,
          42.947,
          42.799,
          40.868,
          39.973,
          39.54,
          39.851,
          40.554,
          41.292,
          41.229,
          40.834,
          41.583
         ]
        },
        {
         "mode": "lines",
         "name": "Forecasted Prices",
         "type": "scatter",
         "x": [
          "1",
          "2",
          "3",
          "4",
          "5",
          "6",
          "7",
          "8",
          "9",
          "10",
          "11",
          "12",
          "13",
          "14",
          "15",
          "16",
          "17",
          "18",
          "19",
          "20",
          "21",
          "22",
          "23",
          "24",
          "25",
          "26",
          "27",
          "28",
          "29",
          "30",
          "31",
          "32",
          "33",
          "34",
          "35",
          "36",
          "37",
          "38",
          "39",
          "40",
          "41",
          "42",
          "43",
          "44",
          "45",
          "46",
          "47",
          "48",
          "49",
          "50",
          "51",
          "52",
          "53",
          "54",
          "55",
          "56",
          "57",
          "58",
          "59",
          "60",
          "61",
          "62",
          "63",
          "64",
          "65",
          "66",
          "67",
          "68",
          "69",
          "70",
          "71",
          "72",
          "73",
          "74",
          "75",
          "76",
          "77",
          "78",
          "79",
          "80",
          "81",
          "82",
          "83",
          "84",
          "85",
          "86",
          "87",
          "88",
          "89",
          "90",
          "91",
          "92",
          "93",
          "94",
          "95",
          "96",
          "97",
          "98",
          "99",
          "100",
          "101",
          "102",
          "103",
          "104",
          "105",
          "106",
          "107",
          "108",
          "109",
          "110",
          "111",
          "112",
          "113",
          "114",
          "115",
          "116",
          "117",
          "118",
          "119",
          "120",
          "121",
          "122",
          "123",
          "124",
          "125",
          "126",
          "127",
          "128",
          "129",
          "130",
          "131",
          "132",
          "133",
          "134",
          "135",
          "136",
          "137",
          "138",
          "139",
          "140",
          "141",
          "142",
          "143",
          "144",
          "145",
          "146",
          "147",
          "148",
          "149",
          "150",
          "151",
          "152",
          "153",
          "154",
          "155",
          "156",
          "157",
          "158",
          "159",
          "160",
          "161",
          "162",
          "163",
          "164",
          "165",
          "166",
          "167",
          "168",
          "169",
          "170",
          "171",
          "172",
          "173",
          "174",
          "175",
          "176",
          "177",
          "178",
          "179",
          "180",
          "181",
          "182",
          "183",
          "184",
          "185",
          "186",
          "187",
          "188",
          "189",
          "190",
          "191",
          "192",
          "193",
          "194",
          "195",
          "196",
          "197",
          "198",
          "199",
          "200",
          "201",
          "202",
          "203",
          "204",
          "205",
          "206",
          "207",
          "208",
          "209",
          "210",
          "211",
          "212",
          "213",
          "214",
          "215",
          "216",
          "217",
          "218",
          "219",
          "220",
          "221",
          "222",
          "223",
          "224",
          "225",
          "226",
          "227",
          "228",
          "229",
          "230",
          "231",
          "232",
          "233",
          "234",
          "235",
          "236",
          "237",
          "238",
          "239",
          "240",
          "241",
          "242",
          "243",
          "244",
          "245",
          "246",
          "247",
          "248",
          "249",
          "250"
         ],
         "y": [
          46.26784078607135,
          45.8415720650799,
          47.00746133133851,
          45.02053354867104,
          45.58810255142799,
          43.358477694789016,
          44.574074146499136,
          43.32283909368352,
          45.286534326893154,
          45.51502530848465,
          48.68777558820753,
          44.37111484988252,
          43.659899183730055,
          49.24700676380782,
          46.86661591264199,
          46.7917077421971,
          46.19649188316935,
          44.83059890350618,
          44.75929001576321,
          46.68026055616609,
          49.9723305341315,
          55.67177286039149,
          54.100922705878354,
          58.26688407007984,
          57.6647475372324,
          55.71614737347855,
          54.535949222114986,
          55.235820686369095,
          57.47191558728781,
          58.40823936029546,
          58.51263074789781,
          55.433452601021536,
          54.05747539405926,
          54.6149276828853,
          54.71167683739855,
          54.80030375873098,
          47.802510713076906,
          48.72523164949304,
          49.50918642954377,
          48.41213137626901,
          45.40353632040751,
          45.87511681121642,
          45.34804244770694,
          49.03196676085408,
          47.695794521484736,
          48.70224194318557,
          48.482588060906636,
          47.629205516253876,
          46.30861203486989,
          45.35297168996598,
          45.47006265022402,
          44.05063169382873,
          44.55844404066646,
          46.576703538605756,
          46.882411458976954,
          44.424102660039615,
          42.18427451155142,
          38.91428437430503,
          40.00127709147676,
          42.103687217012435,
          39.45262219874061,
          37.03681655926211,
          37.47750325100931,
          38.445699986915386,
          37.928419131308765,
          35.43114187817719,
          33.35514235389631,
          34.524317786083095,
          33.83435979291016,
          32.78860662185279,
          35.18471812251021,
          32.07752960494278,
          33.48167795491951,
          33.593755275020996,
          34.53676022311321,
          35.059881604295256,
          35.16539006307304,
          35.65841012828252,
          32.81992055708284,
          30.63868759766644,
          29.528961935122148,
          29.130987497049272,
          31.15801092559254,
          32.922921492923116,
          34.288696201837375,
          31.221305626152645,
          29.775663373790707,
          29.072096570346663,
          29.650027034461125,
          29.76665650989065,
          29.680043076839308,
          29.304229854775798,
          26.14388991086278,
          27.50547190225413,
          28.102870490495633,
          27.554149257328913,
          28.255989078080113,
          29.35980791288343,
          28.42966606255139,
          29.191176438461945,
          28.649380009661062,
          29.88232866625402,
          30.737410620495567,
          29.84733675654898,
          29.452013013081704,
          27.950382915295126,
          28.259325735483838,
          27.818542133741506,
          27.579469887102018,
          26.86023264881834,
          25.5034414674521,
          24.952876167268318,
          24.3381207875573,
          24.83456696809474,
          24.79903743602987,
          23.61209798590837,
          24.171660697649642,
          23.78295394252913,
          23.275222064838445,
          22.981641215971948,
          23.826209326392377,
          24.433694048184716,
          25.91288150121463,
          25.130652729194274,
          25.67245778013221,
          26.55526659947162,
          27.46700403081951,
          26.537009145176267,
          25.3721911464396,
          25.49343751813557,
          24.11139129839852,
          24.03273715283029,
          24.00750200912347,
          25.520170123565435,
          26.723158591519805,
          28.909900685239016,
          28.87777441631795,
          27.36378908798658,
          25.434859744484488,
          26.336716069303606,
          27.297930011085295,
          26.99270783603966,
          27.517575433328552,
          26.680267098066135,
          26.68585906854371,
          26.503098231965534,
          26.121827732684597,
          25.417141129851363,
          26.253764755111447,
          26.906073433760664,
          28.668694435964426,
          28.15216669518193,
          27.761810760475324,
          29.875558763145357,
          31.326114070736104,
          31.95157347344876,
          33.86409525819804,
          31.192320973392878,
          32.30007152748294,
          29.957457532730324,
          28.662446726589167,
          27.47306148070531,
          28.02135670260619,
          29.13936063505702,
          28.811095470572766,
          27.857598782010406,
          28.623142756741487,
          30.124968072310274,
          30.765472097349022,
          30.67562022020669,
          32.88785435577624,
          30.61080653827254,
          30.53994553795098,
          31.01239388537674,
          29.66076057833646,
          29.405137210877452,
          29.50080628217486,
          29.624183235148184,
          30.477186196940934,
          31.201803554146366,
          32.322305599996625,
          33.80075035653129,
          35.3369341656485,
          36.306212367683656,
          34.67475102890964,
          35.97937820063973,
          32.954788954170496,
          33.71184805543278,
          35.36256373858559,
          33.915833349060165,
          35.767549933244396,
          33.25754154244053,
          32.869615393969724,
          32.50455615706003,
          32.27224410066693,
          33.926014115711666,
          33.964536389061195,
          35.32997773972782,
          35.78039410819646,
          35.5221607401368,
          33.86734764974338,
          34.230681901021335,
          34.945674039944734,
          34.3736450874732,
          33.84902829339711,
          33.65289981764671,
          34.69880387374502,
          33.77458704873372,
          40.19760438347574,
          38.67480079570382,
          38.37302802773857,
          39.833824838835355,
          37.989586936489516,
          38.55982496929347,
          38.379150665718704,
          38.1350111051657,
          36.761190984443495,
          36.1522775519205,
          36.77416200623092,
          37.82333311452364,
          37.292462870174674,
          38.40275623585901,
          37.572527612932284,
          38.12732807172672,
          37.48432009391035,
          37.17565222010392,
          36.91076325595913,
          37.87497148382847,
          37.31320109283755,
          37.894291731582435,
          38.83596599437609,
          39.436923736417796,
          39.52059544502556,
          40.778002160991576,
          40.79491974650464,
          38.612025858125435,
          38.98831554951475,
          40.71687497738292,
          42.96129424705022,
          43.680524047458476,
          42.88939119220349,
          42.23748156340108,
          41.58795640777,
          42.11477778675955,
          42.45985352548171,
          42.47196620687226,
          40.20121611625472,
          39.28250847218995,
          38.293356562229135,
          38.85795182382364
         ]
        }
       ],
       "layout": {
        "template": {
         "data": {
          "bar": [
           {
            "error_x": {
             "color": "#2a3f5f"
            },
            "error_y": {
             "color": "#2a3f5f"
            },
            "marker": {
             "line": {
              "color": "#E5ECF6",
              "width": 0.5
             },
             "pattern": {
              "fillmode": "overlay",
              "size": 10,
              "solidity": 0.2
             }
            },
            "type": "bar"
           }
          ],
          "barpolar": [
           {
            "marker": {
             "line": {
              "color": "#E5ECF6",
              "width": 0.5
             },
             "pattern": {
              "fillmode": "overlay",
              "size": 10,
              "solidity": 0.2
             }
            },
            "type": "barpolar"
           }
          ],
          "carpet": [
           {
            "aaxis": {
             "endlinecolor": "#2a3f5f",
             "gridcolor": "white",
             "linecolor": "white",
             "minorgridcolor": "white",
             "startlinecolor": "#2a3f5f"
            },
            "baxis": {
             "endlinecolor": "#2a3f5f",
             "gridcolor": "white",
             "linecolor": "white",
             "minorgridcolor": "white",
             "startlinecolor": "#2a3f5f"
            },
            "type": "carpet"
           }
          ],
          "choropleth": [
           {
            "colorbar": {
             "outlinewidth": 0,
             "ticks": ""
            },
            "type": "choropleth"
           }
          ],
          "contour": [
           {
            "colorbar": {
             "outlinewidth": 0,
             "ticks": ""
            },
            "colorscale": [
             [
              0,
              "#0d0887"
             ],
             [
              0.1111111111111111,
              "#46039f"
             ],
             [
              0.2222222222222222,
              "#7201a8"
             ],
             [
              0.3333333333333333,
              "#9c179e"
             ],
             [
              0.4444444444444444,
              "#bd3786"
             ],
             [
              0.5555555555555556,
              "#d8576b"
             ],
             [
              0.6666666666666666,
              "#ed7953"
             ],
             [
              0.7777777777777778,
              "#fb9f3a"
             ],
             [
              0.8888888888888888,
              "#fdca26"
             ],
             [
              1,
              "#f0f921"
             ]
            ],
            "type": "contour"
           }
          ],
          "contourcarpet": [
           {
            "colorbar": {
             "outlinewidth": 0,
             "ticks": ""
            },
            "type": "contourcarpet"
           }
          ],
          "heatmap": [
           {
            "colorbar": {
             "outlinewidth": 0,
             "ticks": ""
            },
            "colorscale": [
             [
              0,
              "#0d0887"
             ],
             [
              0.1111111111111111,
              "#46039f"
             ],
             [
              0.2222222222222222,
              "#7201a8"
             ],
             [
              0.3333333333333333,
              "#9c179e"
             ],
             [
              0.4444444444444444,
              "#bd3786"
             ],
             [
              0.5555555555555556,
              "#d8576b"
             ],
             [
              0.6666666666666666,
              "#ed7953"
             ],
             [
              0.7777777777777778,
              "#fb9f3a"
             ],
             [
              0.8888888888888888,
              "#fdca26"
             ],
             [
              1,
              "#f0f921"
             ]
            ],
            "type": "heatmap"
           }
          ],
          "heatmapgl": [
           {
            "colorbar": {
             "outlinewidth": 0,
             "ticks": ""
            },
            "colorscale": [
             [
              0,
              "#0d0887"
             ],
             [
              0.1111111111111111,
              "#46039f"
             ],
             [
              0.2222222222222222,
              "#7201a8"
             ],
             [
              0.3333333333333333,
              "#9c179e"
             ],
             [
              0.4444444444444444,
              "#bd3786"
             ],
             [
              0.5555555555555556,
              "#d8576b"
             ],
             [
              0.6666666666666666,
              "#ed7953"
             ],
             [
              0.7777777777777778,
              "#fb9f3a"
             ],
             [
              0.8888888888888888,
              "#fdca26"
             ],
             [
              1,
              "#f0f921"
             ]
            ],
            "type": "heatmapgl"
           }
          ],
          "histogram": [
           {
            "marker": {
             "pattern": {
              "fillmode": "overlay",
              "size": 10,
              "solidity": 0.2
             }
            },
            "type": "histogram"
           }
          ],
          "histogram2d": [
           {
            "colorbar": {
             "outlinewidth": 0,
             "ticks": ""
            },
            "colorscale": [
             [
              0,
              "#0d0887"
             ],
             [
              0.1111111111111111,
              "#46039f"
             ],
             [
              0.2222222222222222,
              "#7201a8"
             ],
             [
              0.3333333333333333,
              "#9c179e"
             ],
             [
              0.4444444444444444,
              "#bd3786"
             ],
             [
              0.5555555555555556,
              "#d8576b"
             ],
             [
              0.6666666666666666,
              "#ed7953"
             ],
             [
              0.7777777777777778,
              "#fb9f3a"
             ],
             [
              0.8888888888888888,
              "#fdca26"
             ],
             [
              1,
              "#f0f921"
             ]
            ],
            "type": "histogram2d"
           }
          ],
          "histogram2dcontour": [
           {
            "colorbar": {
             "outlinewidth": 0,
             "ticks": ""
            },
            "colorscale": [
             [
              0,
              "#0d0887"
             ],
             [
              0.1111111111111111,
              "#46039f"
             ],
             [
              0.2222222222222222,
              "#7201a8"
             ],
             [
              0.3333333333333333,
              "#9c179e"
             ],
             [
              0.4444444444444444,
              "#bd3786"
             ],
             [
              0.5555555555555556,
              "#d8576b"
             ],
             [
              0.6666666666666666,
              "#ed7953"
             ],
             [
              0.7777777777777778,
              "#fb9f3a"
             ],
             [
              0.8888888888888888,
              "#fdca26"
             ],
             [
              1,
              "#f0f921"
             ]
            ],
            "type": "histogram2dcontour"
           }
          ],
          "mesh3d": [
           {
            "colorbar": {
             "outlinewidth": 0,
             "ticks": ""
            },
            "type": "mesh3d"
           }
          ],
          "parcoords": [
           {
            "line": {
             "colorbar": {
              "outlinewidth": 0,
              "ticks": ""
             }
            },
            "type": "parcoords"
           }
          ],
          "pie": [
           {
            "automargin": true,
            "type": "pie"
           }
          ],
          "scatter": [
           {
            "fillpattern": {
             "fillmode": "overlay",
             "size": 10,
             "solidity": 0.2
            },
            "type": "scatter"
           }
          ],
          "scatter3d": [
           {
            "line": {
             "colorbar": {
              "outlinewidth": 0,
              "ticks": ""
             }
            },
            "marker": {
             "colorbar": {
              "outlinewidth": 0,
              "ticks": ""
             }
            },
            "type": "scatter3d"
           }
          ],
          "scattercarpet": [
           {
            "marker": {
             "colorbar": {
              "outlinewidth": 0,
              "ticks": ""
             }
            },
            "type": "scattercarpet"
           }
          ],
          "scattergeo": [
           {
            "marker": {
             "colorbar": {
              "outlinewidth": 0,
              "ticks": ""
             }
            },
            "type": "scattergeo"
           }
          ],
          "scattergl": [
           {
            "marker": {
             "colorbar": {
              "outlinewidth": 0,
              "ticks": ""
             }
            },
            "type": "scattergl"
           }
          ],
          "scattermapbox": [
           {
            "marker": {
             "colorbar": {
              "outlinewidth": 0,
              "ticks": ""
             }
            },
            "type": "scattermapbox"
           }
          ],
          "scatterpolar": [
           {
            "marker": {
             "colorbar": {
              "outlinewidth": 0,
              "ticks": ""
             }
            },
            "type": "scatterpolar"
           }
          ],
          "scatterpolargl": [
           {
            "marker": {
             "colorbar": {
              "outlinewidth": 0,
              "ticks": ""
             }
            },
            "type": "scatterpolargl"
           }
          ],
          "scatterternary": [
           {
            "marker": {
             "colorbar": {
              "outlinewidth": 0,
              "ticks": ""
             }
            },
            "type": "scatterternary"
           }
          ],
          "surface": [
           {
            "colorbar": {
             "outlinewidth": 0,
             "ticks": ""
            },
            "colorscale": [
             [
              0,
              "#0d0887"
             ],
             [
              0.1111111111111111,
              "#46039f"
             ],
             [
              0.2222222222222222,
              "#7201a8"
             ],
             [
              0.3333333333333333,
              "#9c179e"
             ],
             [
              0.4444444444444444,
              "#bd3786"
             ],
             [
              0.5555555555555556,
              "#d8576b"
             ],
             [
              0.6666666666666666,
              "#ed7953"
             ],
             [
              0.7777777777777778,
              "#fb9f3a"
             ],
             [
              0.8888888888888888,
              "#fdca26"
             ],
             [
              1,
              "#f0f921"
             ]
            ],
            "type": "surface"
           }
          ],
          "table": [
           {
            "cells": {
             "fill": {
              "color": "#EBF0F8"
             },
             "line": {
              "color": "white"
             }
            },
            "header": {
             "fill": {
              "color": "#C8D4E3"
             },
             "line": {
              "color": "white"
             }
            },
            "type": "table"
           }
          ]
         },
         "layout": {
          "annotationdefaults": {
           "arrowcolor": "#2a3f5f",
           "arrowhead": 0,
           "arrowwidth": 1
          },
          "autotypenumbers": "strict",
          "coloraxis": {
           "colorbar": {
            "outlinewidth": 0,
            "ticks": ""
           }
          },
          "colorscale": {
           "diverging": [
            [
             0,
             "#8e0152"
            ],
            [
             0.1,
             "#c51b7d"
            ],
            [
             0.2,
             "#de77ae"
            ],
            [
             0.3,
             "#f1b6da"
            ],
            [
             0.4,
             "#fde0ef"
            ],
            [
             0.5,
             "#f7f7f7"
            ],
            [
             0.6,
             "#e6f5d0"
            ],
            [
             0.7,
             "#b8e186"
            ],
            [
             0.8,
             "#7fbc41"
            ],
            [
             0.9,
             "#4d9221"
            ],
            [
             1,
             "#276419"
            ]
           ],
           "sequential": [
            [
             0,
             "#0d0887"
            ],
            [
             0.1111111111111111,
             "#46039f"
            ],
            [
             0.2222222222222222,
             "#7201a8"
            ],
            [
             0.3333333333333333,
             "#9c179e"
            ],
            [
             0.4444444444444444,
             "#bd3786"
            ],
            [
             0.5555555555555556,
             "#d8576b"
            ],
            [
             0.6666666666666666,
             "#ed7953"
            ],
            [
             0.7777777777777778,
             "#fb9f3a"
            ],
            [
             0.8888888888888888,
             "#fdca26"
            ],
            [
             1,
             "#f0f921"
            ]
           ],
           "sequentialminus": [
            [
             0,
             "#0d0887"
            ],
            [
             0.1111111111111111,
             "#46039f"
            ],
            [
             0.2222222222222222,
             "#7201a8"
            ],
            [
             0.3333333333333333,
             "#9c179e"
            ],
            [
             0.4444444444444444,
             "#bd3786"
            ],
            [
             0.5555555555555556,
             "#d8576b"
            ],
            [
             0.6666666666666666,
             "#ed7953"
            ],
            [
             0.7777777777777778,
             "#fb9f3a"
            ],
            [
             0.8888888888888888,
             "#fdca26"
            ],
            [
             1,
             "#f0f921"
            ]
           ]
          },
          "colorway": [
           "#636efa",
           "#EF553B",
           "#00cc96",
           "#ab63fa",
           "#FFA15A",
           "#19d3f3",
           "#FF6692",
           "#B6E880",
           "#FF97FF",
           "#FECB52"
          ],
          "font": {
           "color": "#2a3f5f"
          },
          "geo": {
           "bgcolor": "white",
           "lakecolor": "white",
           "landcolor": "#E5ECF6",
           "showlakes": true,
           "showland": true,
           "subunitcolor": "white"
          },
          "hoverlabel": {
           "align": "left"
          },
          "hovermode": "closest",
          "mapbox": {
           "style": "light"
          },
          "paper_bgcolor": "white",
          "plot_bgcolor": "#E5ECF6",
          "polar": {
           "angularaxis": {
            "gridcolor": "white",
            "linecolor": "white",
            "ticks": ""
           },
           "bgcolor": "#E5ECF6",
           "radialaxis": {
            "gridcolor": "white",
            "linecolor": "white",
            "ticks": ""
           }
          },
          "scene": {
           "xaxis": {
            "backgroundcolor": "#E5ECF6",
            "gridcolor": "white",
            "gridwidth": 2,
            "linecolor": "white",
            "showbackground": true,
            "ticks": "",
            "zerolinecolor": "white"
           },
           "yaxis": {
            "backgroundcolor": "#E5ECF6",
            "gridcolor": "white",
            "gridwidth": 2,
            "linecolor": "white",
            "showbackground": true,
            "ticks": "",
            "zerolinecolor": "white"
           },
           "zaxis": {
            "backgroundcolor": "#E5ECF6",
            "gridcolor": "white",
            "gridwidth": 2,
            "linecolor": "white",
            "showbackground": true,
            "ticks": "",
            "zerolinecolor": "white"
           }
          },
          "shapedefaults": {
           "line": {
            "color": "#2a3f5f"
           }
          },
          "ternary": {
           "aaxis": {
            "gridcolor": "white",
            "linecolor": "white",
            "ticks": ""
           },
           "baxis": {
            "gridcolor": "white",
            "linecolor": "white",
            "ticks": ""
           },
           "bgcolor": "#E5ECF6",
           "caxis": {
            "gridcolor": "white",
            "linecolor": "white",
            "ticks": ""
           }
          },
          "title": {
           "x": 0.05
          },
          "xaxis": {
           "automargin": true,
           "gridcolor": "white",
           "linecolor": "white",
           "ticks": "",
           "title": {
            "standoff": 15
           },
           "zerolinecolor": "white",
           "zerolinewidth": 2
          },
          "yaxis": {
           "automargin": true,
           "gridcolor": "white",
           "linecolor": "white",
           "ticks": "",
           "title": {
            "standoff": 15
           },
           "zerolinecolor": "white",
           "zerolinewidth": 2
          }
         }
        },
        "title": {
         "text": "Pair:the | nbp ---> the: TVECM Actual vs Forecasted Prices"
        },
        "xaxis": {
         "title": {
          "text": "Index"
         }
        },
        "yaxis": {
         "title": {
          "text": "Price"
         }
        }
       }
      }
     },
     "metadata": {},
     "output_type": "display_data"
    }
   ],
   "source": [
    "%R -o hub1_forecast_comparison\n",
    "%R -o hub1_name\n",
    "%R -o hub2_name\n",
    "\n",
    "hub1_forecast_comparison = hub1_forecast_comparison\n",
    "\n",
    "actual_trace = go.Scatter(\n",
    "    x=hub1_forecast_comparison.index,\n",
    "    y=hub1_forecast_comparison['Actual'],\n",
    "    mode='lines',\n",
    "    name='Actual Prices'\n",
    ")\n",
    "\n",
    "forecasted_trace = go.Scatter(\n",
    "    x=hub1_forecast_comparison.index,\n",
    "    y=hub1_forecast_comparison['Forecasted'],\n",
    "    mode='lines',\n",
    "    name='Forecasted Prices'\n",
    ")\n",
    "\n",
    "heading = \"Pair:\" + hub1_name.item() + \" | \" + hub2_name.item() + \" ---> \" + hub1_name.item() + ': TVECM Actual vs Forecasted Prices'\n",
    "# Create the plot\n",
    "layout = go.Layout(\n",
    "    title = heading,\n",
    "    xaxis=dict(title='Index'),\n",
    "    yaxis=dict(title='Price'),\n",
    ")\n",
    "\n",
    "fig = go.Figure(data=[actual_trace, forecasted_trace], layout=layout)\n",
    "fig.show()\n"
   ]
  },
  {
   "cell_type": "code",
   "execution_count": 188,
   "metadata": {},
   "outputs": [],
   "source": [
    "%%R\n",
    "hub2_forecast_comparison <- data.frame(\n",
    "  Actual = hub2_actuals,\n",
    "  Forecasted = hub2_predictions\n",
    ")"
   ]
  },
  {
   "cell_type": "code",
   "execution_count": 189,
   "metadata": {},
   "outputs": [
    {
     "data": {
      "application/vnd.plotly.v1+json": {
       "config": {
        "plotlyServerURL": "https://plot.ly"
       },
       "data": [
        {
         "mode": "lines",
         "name": "Actual Prices",
         "type": "scatter",
         "x": [
          "1",
          "2",
          "3",
          "4",
          "5",
          "6",
          "7",
          "8",
          "9",
          "10",
          "11",
          "12",
          "13",
          "14",
          "15",
          "16",
          "17",
          "18",
          "19",
          "20",
          "21",
          "22",
          "23",
          "24",
          "25",
          "26",
          "27",
          "28",
          "29",
          "30",
          "31",
          "32",
          "33",
          "34",
          "35",
          "36",
          "37",
          "38",
          "39",
          "40",
          "41",
          "42",
          "43",
          "44",
          "45",
          "46",
          "47",
          "48",
          "49",
          "50",
          "51",
          "52",
          "53",
          "54",
          "55",
          "56",
          "57",
          "58",
          "59",
          "60",
          "61",
          "62",
          "63",
          "64",
          "65",
          "66",
          "67",
          "68",
          "69",
          "70",
          "71",
          "72",
          "73",
          "74",
          "75",
          "76",
          "77",
          "78",
          "79",
          "80",
          "81",
          "82",
          "83",
          "84",
          "85",
          "86",
          "87",
          "88",
          "89",
          "90",
          "91",
          "92",
          "93",
          "94",
          "95",
          "96",
          "97",
          "98",
          "99",
          "100",
          "101",
          "102",
          "103",
          "104",
          "105",
          "106",
          "107",
          "108",
          "109",
          "110",
          "111",
          "112",
          "113",
          "114",
          "115",
          "116",
          "117",
          "118",
          "119",
          "120",
          "121",
          "122",
          "123",
          "124",
          "125",
          "126",
          "127",
          "128",
          "129",
          "130",
          "131",
          "132",
          "133",
          "134",
          "135",
          "136",
          "137",
          "138",
          "139",
          "140",
          "141",
          "142",
          "143",
          "144",
          "145",
          "146",
          "147",
          "148",
          "149",
          "150",
          "151",
          "152",
          "153",
          "154",
          "155",
          "156",
          "157",
          "158",
          "159",
          "160",
          "161",
          "162",
          "163",
          "164",
          "165",
          "166",
          "167",
          "168",
          "169",
          "170",
          "171",
          "172",
          "173",
          "174",
          "175",
          "176",
          "177",
          "178",
          "179",
          "180",
          "181",
          "182",
          "183",
          "184",
          "185",
          "186",
          "187",
          "188",
          "189",
          "190",
          "191",
          "192",
          "193",
          "194",
          "195",
          "196",
          "197",
          "198",
          "199",
          "200",
          "201",
          "202",
          "203",
          "204",
          "205",
          "206",
          "207",
          "208",
          "209",
          "210",
          "211",
          "212",
          "213",
          "214",
          "215",
          "216",
          "217",
          "218",
          "219",
          "220",
          "221",
          "222",
          "223",
          "224",
          "225",
          "226",
          "227",
          "228",
          "229",
          "230",
          "231",
          "232",
          "233",
          "234",
          "235",
          "236",
          "237",
          "238",
          "239",
          "240",
          "241",
          "242",
          "243",
          "244",
          "245",
          "246",
          "247",
          "248",
          "249",
          "250"
         ],
         "y": [
          34.5815538949739,
          37.047039615109,
          37.67028764459,
          39.5698184734023,
          40.0036905858669,
          44.3311580850991,
          40.1043542498379,
          39.1846425768588,
          39.5243474255297,
          41.4881905346845,
          38.7137066229911,
          36.3072818780496,
          37.810985430102,
          35.430374313304,
          37.2227471252602,
          43.1760200634661,
          49.2848541304125,
          46.1314928174156,
          52.8489958030505,
          53.9066400518647,
          47.8279782987,
          47.9467516293036,
          49.4612754631999,
          48.3982321629645,
          49.3961060497492,
          49.6455880847579,
          47.8438547104787,
          48.5701914218446,
          49.4031323574573,
          49.2012802402157,
          50.0061869178012,
          48.6255167707374,
          47.9524311597912,
          48.7780376701812,
          48.2263332992118,
          44.6619770020814,
          45.7139594636094,
          45.4463575255059,
          47.7128112737571,
          45.947458968847,
          46.860402634183,
          46.6815934759614,
          46.1682806155526,
          45.0540638755246,
          44.2781472003276,
          45.3424038625584,
          43.8359429487836,
          44.2486965571365,
          46.9999034360392,
          47.1075084450814,
          44.1343252465281,
          42.8163674207527,
          40.4059146279046,
          42.3738683590951,
          43.6549698024363,
          40.0674596512779,
          37.9280895349234,
          39.0928191217115,
          39.7754857201351,
          38.5722933087658,
          35.8849135018937,
          34.4202579588494,
          35.4843552734842,
          34.3681441293889,
          32.7726908247176,
          35.0393858122633,
          31.8577490019449,
          32.862565257447,
          33.6338451564473,
          33.5870897737742,
          34.1897765039069,
          34.7924632340397,
          35.3951499641724,
          32.8087119118299,
          31.747530624083,
          30.8768891391135,
          30.0062476541441,
          32.2434244378476,
          33.1468331797864,
          34.4849448937114,
          31.2761074146108,
          30.3222711297642,
          30.5525017913809,
          30.433327191456,
          31.7422049339748,
          29.3880096905176,
          29.1425884600949,
          27.1648602722899,
          27.2727484901218,
          27.7895342409663,
          26.6548691438905,
          26.6184614597195,
          28.4632531477122,
          27.3667642542737,
          27.6860477019142,
          27.8043279762514,
          29.1965956938615,
          29.7281127375712,
          28.4907615927935,
          28.5022445149623,
          27.5999969290613,
          28.0077793701164,
          27.5830559252056,
          27.2891578803699,
          26.5253925683284,
          25.0582898283686,
          24.946451018528,
          24.384656907906,
          24.3799570068584,
          24.1603548640257,
          23.083445593203,
          23.6233435697956,
          23.5495574436142,
          22.8656464325929,
          22.5516347630259,
          23.6455386085236,
          24.1825161224281,
          25.5344320469512,
          24.5462708567919,
          25.5742587095233,
          26.84562732453,
          27.4265533831508,
          26.486390964616,
          26.060285938513,
          26.3703255195005,
          24.9548101136247,
          24.9599071894087,
          24.8859043914423,
          26.0906285187839,
          27.1186016992527,
          29.2620042993142,
          29.4377520728836,
          28.5037752072884,
          27.1874971849729,
          28.493315590132,
          29.1991800593715,
          27.4960487255604,
          27.5656539393319,
          27.1624151226669,
          26.6985835010976,
          26.2347518795282,
          25.7709202579589,
          25.1508636162009,
          25.8036960453134,
          26.2791278534139,
          27.710837001399,
          27.0867710785819,
          26.8059361244754,
          29.4237001398983,
          30.4769413450711,
          30.9714402702426,
          33.0755450916163,
          31.0925376189989,
          32.3654007574982,
          30.6568123656464,
          29.253152147951,
          28.2038393557853,
          28.8562005664176,
          29.6389221005221,
          28.6381362814345,
          27.524024976968,
          28.5807588630703,
          27.8482516122428,
          30.0918217490702,
          29.6208001501348,
          29.8571186064763,
          30.0934370628178,
          29.6451694134507,
          29.9436783021121,
          28.9405261541611,
          28.4089985327737,
          28.5708724878015,
          28.6315562834818,
          29.0455413382468,
          29.6404790664346,
          30.6255638584638,
          31.777112976422,
          33.0520906268127,
          34.1820793667042,
          32.824833657488,
          32.6146743098918,
          32.4045149622957,
          32.7479158562801,
          33.8452216194083,
          32.7660644214693,
          34.902102569352,
          32.2585488108643,
          31.8421223598458,
          32.2675057153581,
          31.4956331251919,
          32.8088060872829,
          32.8032743030675,
          33.8748145494251,
          34.1808066332276,
          33.6433964581841,
          32.508023339134,
          32.8738936090354,
          33.4301238611936,
          32.4335947043368,
          31.9414150203023,
          32.1212669328147,
          32.9567140956086,
          31.8471740539803,
          32.533270549698,
          32.7515149964172,
          31.4594636093766,
          31.7074483911693,
          30.6192254410209,
          31.3814488006278,
          31.1537284607773,
          30.2692189579281,
          29.3623837308493,
          28.8125082744737,
          29.2501880096905,
          29.7200477701573,
          29.3352523287952,
          30.9584314327635,
          29.9263496775514,
          30.8083038182004,
          30.274995393592,
          29.9605254717303,
          29.6991739174941,
          30.7901330740096,
          29.9904094584911,
          30.7769341795476,
          32.3129423004743,
          32.5933394752107,
          35.2437131060839,
          36.3116777561675,
          35.9144845941243,
          34.633466407343,
          35.7561585969222,
          37.4429938240011,
          39.0638956563278,
          39.258707817245,
          38.5276312826287,
          38.2751724843894,
          37.4066745146211,
          38.2062374176818,
          38.1126502200839,
          38.439535605828,
          36.5315712969598,
          35.4969034701607,
          35.1668720783431,
          35.6491773296482,
          36.6769532876105,
          37.7047292455727,
          37.5567263793633,
          37.1902910567441,
          38.9560548674378
         ]
        },
        {
         "mode": "lines",
         "name": "Forecasted Prices",
         "type": "scatter",
         "x": [
          "1",
          "2",
          "3",
          "4",
          "5",
          "6",
          "7",
          "8",
          "9",
          "10",
          "11",
          "12",
          "13",
          "14",
          "15",
          "16",
          "17",
          "18",
          "19",
          "20",
          "21",
          "22",
          "23",
          "24",
          "25",
          "26",
          "27",
          "28",
          "29",
          "30",
          "31",
          "32",
          "33",
          "34",
          "35",
          "36",
          "37",
          "38",
          "39",
          "40",
          "41",
          "42",
          "43",
          "44",
          "45",
          "46",
          "47",
          "48",
          "49",
          "50",
          "51",
          "52",
          "53",
          "54",
          "55",
          "56",
          "57",
          "58",
          "59",
          "60",
          "61",
          "62",
          "63",
          "64",
          "65",
          "66",
          "67",
          "68",
          "69",
          "70",
          "71",
          "72",
          "73",
          "74",
          "75",
          "76",
          "77",
          "78",
          "79",
          "80",
          "81",
          "82",
          "83",
          "84",
          "85",
          "86",
          "87",
          "88",
          "89",
          "90",
          "91",
          "92",
          "93",
          "94",
          "95",
          "96",
          "97",
          "98",
          "99",
          "100",
          "101",
          "102",
          "103",
          "104",
          "105",
          "106",
          "107",
          "108",
          "109",
          "110",
          "111",
          "112",
          "113",
          "114",
          "115",
          "116",
          "117",
          "118",
          "119",
          "120",
          "121",
          "122",
          "123",
          "124",
          "125",
          "126",
          "127",
          "128",
          "129",
          "130",
          "131",
          "132",
          "133",
          "134",
          "135",
          "136",
          "137",
          "138",
          "139",
          "140",
          "141",
          "142",
          "143",
          "144",
          "145",
          "146",
          "147",
          "148",
          "149",
          "150",
          "151",
          "152",
          "153",
          "154",
          "155",
          "156",
          "157",
          "158",
          "159",
          "160",
          "161",
          "162",
          "163",
          "164",
          "165",
          "166",
          "167",
          "168",
          "169",
          "170",
          "171",
          "172",
          "173",
          "174",
          "175",
          "176",
          "177",
          "178",
          "179",
          "180",
          "181",
          "182",
          "183",
          "184",
          "185",
          "186",
          "187",
          "188",
          "189",
          "190",
          "191",
          "192",
          "193",
          "194",
          "195",
          "196",
          "197",
          "198",
          "199",
          "200",
          "201",
          "202",
          "203",
          "204",
          "205",
          "206",
          "207",
          "208",
          "209",
          "210",
          "211",
          "212",
          "213",
          "214",
          "215",
          "216",
          "217",
          "218",
          "219",
          "220",
          "221",
          "222",
          "223",
          "224",
          "225",
          "226",
          "227",
          "228",
          "229",
          "230",
          "231",
          "232",
          "233",
          "234",
          "235",
          "236",
          "237",
          "238",
          "239",
          "240",
          "241",
          "242",
          "243",
          "244",
          "245",
          "246",
          "247",
          "248",
          "249",
          "250"
         ],
         "y": [
          36.828591910479645,
          36.25528020588283,
          37.957607616380756,
          36.26721261062276,
          37.48004849295895,
          35.35520021072668,
          37.606548218444345,
          38.062645874536734,
          40.48598021464383,
          40.85362376027556,
          44.721092754005724,
          40.78629860479236,
          39.919492662775,
          38.7553745885077,
          40.55521893030626,
          38.76837833824441,
          37.7672067758316,
          37.285066767901746,
          35.37287681400249,
          37.666727803029644,
          43.194072683554126,
          50.289383407277924,
          48.530562646082686,
          54.26301473704923,
          53.881001148949096,
          48.9348808485695,
          47.91565026747504,
          47.7925563546149,
          48.00185707698777,
          49.64936568694463,
          49.79554043091721,
          48.47520860805319,
          48.92249450376258,
          49.47056819095129,
          49.318714908915595,
          50.05074985478463,
          48.76971825059943,
          48.13283050583005,
          48.42960033531703,
          46.96653296230955,
          44.32194861951952,
          44.95213198372191,
          44.29660487217382,
          46.943434982979795,
          45.649986971819914,
          46.62240156480788,
          46.15335071008206,
          45.736804192641,
          44.68776131786152,
          43.78804044983852,
          44.563317798535905,
          43.29748772439948,
          43.91522455850841,
          46.20413786625771,
          46.66550435497377,
          44.29695964043647,
          42.3837703669812,
          39.21252297389807,
          41.067399123217186,
          42.59154850300084,
          39.96062539174505,
          37.59558350146743,
          37.763213913530045,
          38.464861335066935,
          38.19905457846053,
          35.75868054142168,
          33.727440214552345,
          34.22316329276149,
          33.51453594760883,
          32.5014678308085,
          34.479943783807535,
          31.373281429972536,
          32.6507979737949,
          33.01516979677153,
          33.298520323148104,
          34.17406229962784,
          34.59587936784906,
          35.31955408547782,
          32.85953109870654,
          31.55200142999437,
          30.105861450119765,
          29.2455342300757,
          31.444535844523397,
          32.69119077180536,
          34.58309968589408,
          31.51838415807534,
          30.247619637507622,
          29.5624548710713,
          29.644730623864678,
          31.36678222812129,
          29.299291879607114,
          29.02537610765165,
          26.336781557619656,
          26.790284659442612,
          27.185860308309998,
          26.36524808247211,
          26.606937049222918,
          28.147845137987368,
          27.364578770534656,
          28.025131999433448,
          27.70972796387352,
          29.01693503550807,
          29.763474819013485,
          28.75771115303002,
          28.5217419027268,
          27.314768791729758,
          27.752151741373037,
          27.37660358567556,
          27.184717985570316,
          26.37811279195377,
          24.867518776516196,
          24.586043380660104,
          23.98790830406232,
          24.187902903998864,
          23.997785668253893,
          23.02263568404619,
          23.50347295860335,
          23.37899775174087,
          22.900643683577073,
          22.59442655370206,
          23.416184719039734,
          24.063021538014,
          25.678365923679,
          24.827711404588186,
          25.714743101587914,
          26.641341394931306,
          27.470152522112063,
          26.7213668433853,
          26.08443744183213,
          26.013305487510745,
          24.667486010678214,
          24.67288659188449,
          24.46949819867344,
          25.720594275113775,
          26.920926196536577,
          29.27622960329291,
          29.664276316550882,
          28.84476007253889,
          27.1415946094761,
          27.85339185947964,
          28.45869755314854,
          27.331182716136578,
          27.335682650407513,
          26.52929291836253,
          26.307185360781165,
          26.016303520542607,
          25.492840521272925,
          24.90822762392623,
          25.53440922975454,
          26.07843262492448,
          27.6657240060418,
          27.27967145349273,
          27.038489410647642,
          29.225691516589166,
          30.33247432076274,
          31.350224656442474,
          33.27802098338548,
          31.302810549964644,
          32.39390529800177,
          30.346778395324147,
          28.954263588727876,
          27.670266742737308,
          28.057865468625653,
          29.058611015232202,
          28.562643713388898,
          27.53608668248534,
          28.132198815027614,
          27.38257867653815,
          29.86713992557413,
          29.56646763328261,
          30.388605957679992,
          29.957826098854316,
          29.557488762240002,
          30.078613731162577,
          28.70446327975987,
          28.277361762599835,
          28.23646435221812,
          28.34236472810638,
          28.94308459668135,
          29.61129639320686,
          30.617026724519427,
          31.861650965343028,
          33.2011891401929,
          34.393104231215816,
          33.18560708681289,
          32.75932844264566,
          32.06455666684472,
          32.381899306724065,
          33.930403250702525,
          32.636509870101676,
          34.85737704535547,
          32.20140418566812,
          31.860952612215854,
          31.64730500700205,
          31.050624752640775,
          32.581206603985116,
          32.580393195036145,
          33.85752417412256,
          34.164566583919154,
          33.69532450076489,
          32.48054421886392,
          32.55466981188445,
          33.01928313592192,
          32.28925057111525,
          31.950461295044022,
          31.864529030028713,
          32.67736427358057,
          31.84498204824539,
          32.44088311481546,
          32.394789142261935,
          31.313726212880542,
          32.519800088563976,
          30.773251394503244,
          31.76159275776045,
          31.601871803834975,
          30.953456520952024,
          29.891291629894706,
          29.13568639193682,
          29.56282183730836,
          30.11030611593263,
          30.03482317528643,
          31.65113122556184,
          30.727863780449667,
          31.599978144497424,
          30.801595236882086,
          30.576419985216354,
          30.157887124343375,
          31.168272210312917,
          30.517204235038534,
          31.465061739048398,
          32.77095362705295,
          33.28935495278856,
          36.01892558548013,
          37.04833159116591,
          36.94170325838752,
          35.01859874580177,
          35.681159722230156,
          37.171861020492294,
          39.211502773753246,
          39.71914504167806,
          38.98196344899192,
          38.33946547816743,
          37.23928633569347,
          37.968642880969796,
          37.960438983077054,
          38.59569754522193,
          36.734446310004365,
          35.6194972693598,
          34.78060125364675,
          35.23739181223305
         ]
        }
       ],
       "layout": {
        "template": {
         "data": {
          "bar": [
           {
            "error_x": {
             "color": "#2a3f5f"
            },
            "error_y": {
             "color": "#2a3f5f"
            },
            "marker": {
             "line": {
              "color": "#E5ECF6",
              "width": 0.5
             },
             "pattern": {
              "fillmode": "overlay",
              "size": 10,
              "solidity": 0.2
             }
            },
            "type": "bar"
           }
          ],
          "barpolar": [
           {
            "marker": {
             "line": {
              "color": "#E5ECF6",
              "width": 0.5
             },
             "pattern": {
              "fillmode": "overlay",
              "size": 10,
              "solidity": 0.2
             }
            },
            "type": "barpolar"
           }
          ],
          "carpet": [
           {
            "aaxis": {
             "endlinecolor": "#2a3f5f",
             "gridcolor": "white",
             "linecolor": "white",
             "minorgridcolor": "white",
             "startlinecolor": "#2a3f5f"
            },
            "baxis": {
             "endlinecolor": "#2a3f5f",
             "gridcolor": "white",
             "linecolor": "white",
             "minorgridcolor": "white",
             "startlinecolor": "#2a3f5f"
            },
            "type": "carpet"
           }
          ],
          "choropleth": [
           {
            "colorbar": {
             "outlinewidth": 0,
             "ticks": ""
            },
            "type": "choropleth"
           }
          ],
          "contour": [
           {
            "colorbar": {
             "outlinewidth": 0,
             "ticks": ""
            },
            "colorscale": [
             [
              0,
              "#0d0887"
             ],
             [
              0.1111111111111111,
              "#46039f"
             ],
             [
              0.2222222222222222,
              "#7201a8"
             ],
             [
              0.3333333333333333,
              "#9c179e"
             ],
             [
              0.4444444444444444,
              "#bd3786"
             ],
             [
              0.5555555555555556,
              "#d8576b"
             ],
             [
              0.6666666666666666,
              "#ed7953"
             ],
             [
              0.7777777777777778,
              "#fb9f3a"
             ],
             [
              0.8888888888888888,
              "#fdca26"
             ],
             [
              1,
              "#f0f921"
             ]
            ],
            "type": "contour"
           }
          ],
          "contourcarpet": [
           {
            "colorbar": {
             "outlinewidth": 0,
             "ticks": ""
            },
            "type": "contourcarpet"
           }
          ],
          "heatmap": [
           {
            "colorbar": {
             "outlinewidth": 0,
             "ticks": ""
            },
            "colorscale": [
             [
              0,
              "#0d0887"
             ],
             [
              0.1111111111111111,
              "#46039f"
             ],
             [
              0.2222222222222222,
              "#7201a8"
             ],
             [
              0.3333333333333333,
              "#9c179e"
             ],
             [
              0.4444444444444444,
              "#bd3786"
             ],
             [
              0.5555555555555556,
              "#d8576b"
             ],
             [
              0.6666666666666666,
              "#ed7953"
             ],
             [
              0.7777777777777778,
              "#fb9f3a"
             ],
             [
              0.8888888888888888,
              "#fdca26"
             ],
             [
              1,
              "#f0f921"
             ]
            ],
            "type": "heatmap"
           }
          ],
          "heatmapgl": [
           {
            "colorbar": {
             "outlinewidth": 0,
             "ticks": ""
            },
            "colorscale": [
             [
              0,
              "#0d0887"
             ],
             [
              0.1111111111111111,
              "#46039f"
             ],
             [
              0.2222222222222222,
              "#7201a8"
             ],
             [
              0.3333333333333333,
              "#9c179e"
             ],
             [
              0.4444444444444444,
              "#bd3786"
             ],
             [
              0.5555555555555556,
              "#d8576b"
             ],
             [
              0.6666666666666666,
              "#ed7953"
             ],
             [
              0.7777777777777778,
              "#fb9f3a"
             ],
             [
              0.8888888888888888,
              "#fdca26"
             ],
             [
              1,
              "#f0f921"
             ]
            ],
            "type": "heatmapgl"
           }
          ],
          "histogram": [
           {
            "marker": {
             "pattern": {
              "fillmode": "overlay",
              "size": 10,
              "solidity": 0.2
             }
            },
            "type": "histogram"
           }
          ],
          "histogram2d": [
           {
            "colorbar": {
             "outlinewidth": 0,
             "ticks": ""
            },
            "colorscale": [
             [
              0,
              "#0d0887"
             ],
             [
              0.1111111111111111,
              "#46039f"
             ],
             [
              0.2222222222222222,
              "#7201a8"
             ],
             [
              0.3333333333333333,
              "#9c179e"
             ],
             [
              0.4444444444444444,
              "#bd3786"
             ],
             [
              0.5555555555555556,
              "#d8576b"
             ],
             [
              0.6666666666666666,
              "#ed7953"
             ],
             [
              0.7777777777777778,
              "#fb9f3a"
             ],
             [
              0.8888888888888888,
              "#fdca26"
             ],
             [
              1,
              "#f0f921"
             ]
            ],
            "type": "histogram2d"
           }
          ],
          "histogram2dcontour": [
           {
            "colorbar": {
             "outlinewidth": 0,
             "ticks": ""
            },
            "colorscale": [
             [
              0,
              "#0d0887"
             ],
             [
              0.1111111111111111,
              "#46039f"
             ],
             [
              0.2222222222222222,
              "#7201a8"
             ],
             [
              0.3333333333333333,
              "#9c179e"
             ],
             [
              0.4444444444444444,
              "#bd3786"
             ],
             [
              0.5555555555555556,
              "#d8576b"
             ],
             [
              0.6666666666666666,
              "#ed7953"
             ],
             [
              0.7777777777777778,
              "#fb9f3a"
             ],
             [
              0.8888888888888888,
              "#fdca26"
             ],
             [
              1,
              "#f0f921"
             ]
            ],
            "type": "histogram2dcontour"
           }
          ],
          "mesh3d": [
           {
            "colorbar": {
             "outlinewidth": 0,
             "ticks": ""
            },
            "type": "mesh3d"
           }
          ],
          "parcoords": [
           {
            "line": {
             "colorbar": {
              "outlinewidth": 0,
              "ticks": ""
             }
            },
            "type": "parcoords"
           }
          ],
          "pie": [
           {
            "automargin": true,
            "type": "pie"
           }
          ],
          "scatter": [
           {
            "fillpattern": {
             "fillmode": "overlay",
             "size": 10,
             "solidity": 0.2
            },
            "type": "scatter"
           }
          ],
          "scatter3d": [
           {
            "line": {
             "colorbar": {
              "outlinewidth": 0,
              "ticks": ""
             }
            },
            "marker": {
             "colorbar": {
              "outlinewidth": 0,
              "ticks": ""
             }
            },
            "type": "scatter3d"
           }
          ],
          "scattercarpet": [
           {
            "marker": {
             "colorbar": {
              "outlinewidth": 0,
              "ticks": ""
             }
            },
            "type": "scattercarpet"
           }
          ],
          "scattergeo": [
           {
            "marker": {
             "colorbar": {
              "outlinewidth": 0,
              "ticks": ""
             }
            },
            "type": "scattergeo"
           }
          ],
          "scattergl": [
           {
            "marker": {
             "colorbar": {
              "outlinewidth": 0,
              "ticks": ""
             }
            },
            "type": "scattergl"
           }
          ],
          "scattermapbox": [
           {
            "marker": {
             "colorbar": {
              "outlinewidth": 0,
              "ticks": ""
             }
            },
            "type": "scattermapbox"
           }
          ],
          "scatterpolar": [
           {
            "marker": {
             "colorbar": {
              "outlinewidth": 0,
              "ticks": ""
             }
            },
            "type": "scatterpolar"
           }
          ],
          "scatterpolargl": [
           {
            "marker": {
             "colorbar": {
              "outlinewidth": 0,
              "ticks": ""
             }
            },
            "type": "scatterpolargl"
           }
          ],
          "scatterternary": [
           {
            "marker": {
             "colorbar": {
              "outlinewidth": 0,
              "ticks": ""
             }
            },
            "type": "scatterternary"
           }
          ],
          "surface": [
           {
            "colorbar": {
             "outlinewidth": 0,
             "ticks": ""
            },
            "colorscale": [
             [
              0,
              "#0d0887"
             ],
             [
              0.1111111111111111,
              "#46039f"
             ],
             [
              0.2222222222222222,
              "#7201a8"
             ],
             [
              0.3333333333333333,
              "#9c179e"
             ],
             [
              0.4444444444444444,
              "#bd3786"
             ],
             [
              0.5555555555555556,
              "#d8576b"
             ],
             [
              0.6666666666666666,
              "#ed7953"
             ],
             [
              0.7777777777777778,
              "#fb9f3a"
             ],
             [
              0.8888888888888888,
              "#fdca26"
             ],
             [
              1,
              "#f0f921"
             ]
            ],
            "type": "surface"
           }
          ],
          "table": [
           {
            "cells": {
             "fill": {
              "color": "#EBF0F8"
             },
             "line": {
              "color": "white"
             }
            },
            "header": {
             "fill": {
              "color": "#C8D4E3"
             },
             "line": {
              "color": "white"
             }
            },
            "type": "table"
           }
          ]
         },
         "layout": {
          "annotationdefaults": {
           "arrowcolor": "#2a3f5f",
           "arrowhead": 0,
           "arrowwidth": 1
          },
          "autotypenumbers": "strict",
          "coloraxis": {
           "colorbar": {
            "outlinewidth": 0,
            "ticks": ""
           }
          },
          "colorscale": {
           "diverging": [
            [
             0,
             "#8e0152"
            ],
            [
             0.1,
             "#c51b7d"
            ],
            [
             0.2,
             "#de77ae"
            ],
            [
             0.3,
             "#f1b6da"
            ],
            [
             0.4,
             "#fde0ef"
            ],
            [
             0.5,
             "#f7f7f7"
            ],
            [
             0.6,
             "#e6f5d0"
            ],
            [
             0.7,
             "#b8e186"
            ],
            [
             0.8,
             "#7fbc41"
            ],
            [
             0.9,
             "#4d9221"
            ],
            [
             1,
             "#276419"
            ]
           ],
           "sequential": [
            [
             0,
             "#0d0887"
            ],
            [
             0.1111111111111111,
             "#46039f"
            ],
            [
             0.2222222222222222,
             "#7201a8"
            ],
            [
             0.3333333333333333,
             "#9c179e"
            ],
            [
             0.4444444444444444,
             "#bd3786"
            ],
            [
             0.5555555555555556,
             "#d8576b"
            ],
            [
             0.6666666666666666,
             "#ed7953"
            ],
            [
             0.7777777777777778,
             "#fb9f3a"
            ],
            [
             0.8888888888888888,
             "#fdca26"
            ],
            [
             1,
             "#f0f921"
            ]
           ],
           "sequentialminus": [
            [
             0,
             "#0d0887"
            ],
            [
             0.1111111111111111,
             "#46039f"
            ],
            [
             0.2222222222222222,
             "#7201a8"
            ],
            [
             0.3333333333333333,
             "#9c179e"
            ],
            [
             0.4444444444444444,
             "#bd3786"
            ],
            [
             0.5555555555555556,
             "#d8576b"
            ],
            [
             0.6666666666666666,
             "#ed7953"
            ],
            [
             0.7777777777777778,
             "#fb9f3a"
            ],
            [
             0.8888888888888888,
             "#fdca26"
            ],
            [
             1,
             "#f0f921"
            ]
           ]
          },
          "colorway": [
           "#636efa",
           "#EF553B",
           "#00cc96",
           "#ab63fa",
           "#FFA15A",
           "#19d3f3",
           "#FF6692",
           "#B6E880",
           "#FF97FF",
           "#FECB52"
          ],
          "font": {
           "color": "#2a3f5f"
          },
          "geo": {
           "bgcolor": "white",
           "lakecolor": "white",
           "landcolor": "#E5ECF6",
           "showlakes": true,
           "showland": true,
           "subunitcolor": "white"
          },
          "hoverlabel": {
           "align": "left"
          },
          "hovermode": "closest",
          "mapbox": {
           "style": "light"
          },
          "paper_bgcolor": "white",
          "plot_bgcolor": "#E5ECF6",
          "polar": {
           "angularaxis": {
            "gridcolor": "white",
            "linecolor": "white",
            "ticks": ""
           },
           "bgcolor": "#E5ECF6",
           "radialaxis": {
            "gridcolor": "white",
            "linecolor": "white",
            "ticks": ""
           }
          },
          "scene": {
           "xaxis": {
            "backgroundcolor": "#E5ECF6",
            "gridcolor": "white",
            "gridwidth": 2,
            "linecolor": "white",
            "showbackground": true,
            "ticks": "",
            "zerolinecolor": "white"
           },
           "yaxis": {
            "backgroundcolor": "#E5ECF6",
            "gridcolor": "white",
            "gridwidth": 2,
            "linecolor": "white",
            "showbackground": true,
            "ticks": "",
            "zerolinecolor": "white"
           },
           "zaxis": {
            "backgroundcolor": "#E5ECF6",
            "gridcolor": "white",
            "gridwidth": 2,
            "linecolor": "white",
            "showbackground": true,
            "ticks": "",
            "zerolinecolor": "white"
           }
          },
          "shapedefaults": {
           "line": {
            "color": "#2a3f5f"
           }
          },
          "ternary": {
           "aaxis": {
            "gridcolor": "white",
            "linecolor": "white",
            "ticks": ""
           },
           "baxis": {
            "gridcolor": "white",
            "linecolor": "white",
            "ticks": ""
           },
           "bgcolor": "#E5ECF6",
           "caxis": {
            "gridcolor": "white",
            "linecolor": "white",
            "ticks": ""
           }
          },
          "title": {
           "x": 0.05
          },
          "xaxis": {
           "automargin": true,
           "gridcolor": "white",
           "linecolor": "white",
           "ticks": "",
           "title": {
            "standoff": 15
           },
           "zerolinecolor": "white",
           "zerolinewidth": 2
          },
          "yaxis": {
           "automargin": true,
           "gridcolor": "white",
           "linecolor": "white",
           "ticks": "",
           "title": {
            "standoff": 15
           },
           "zerolinecolor": "white",
           "zerolinewidth": 2
          }
         }
        },
        "title": {
         "text": "Pair:the | nbp ---> nbp: TVECM Actual vs Forecasted Prices"
        },
        "xaxis": {
         "title": {
          "text": "Index"
         }
        },
        "yaxis": {
         "title": {
          "text": "Price"
         }
        }
       }
      }
     },
     "metadata": {},
     "output_type": "display_data"
    }
   ],
   "source": [
    "%R -o hub2_forecast_comparison\n",
    "%R -o hub2_name\n",
    "\n",
    "hub2_forecast_comparison = hub2_forecast_comparison\n",
    "\n",
    "actual_trace = go.Scatter(\n",
    "    x=hub2_forecast_comparison.index,\n",
    "    y=hub2_forecast_comparison['Actual'],\n",
    "    mode='lines',\n",
    "    name='Actual Prices'\n",
    ")\n",
    "\n",
    "forecasted_trace = go.Scatter(\n",
    "    x=hub2_forecast_comparison.index,\n",
    "    y=hub2_forecast_comparison['Forecasted'],\n",
    "    mode='lines',\n",
    "    name='Forecasted Prices'\n",
    ")\n",
    "\n",
    "heading = \"Pair:\" + hub1_name.item() + \" | \" + hub2_name.item() + \" ---> \" + hub2_name.item() + ': TVECM Actual vs Forecasted Prices'\n",
    "# Create the plot\n",
    "layout = go.Layout(\n",
    "    title = heading,\n",
    "    xaxis=dict(title='Index'),\n",
    "    yaxis=dict(title='Price'),\n",
    ")\n",
    "\n",
    "fig = go.Figure(data=[actual_trace, forecasted_trace], layout=layout)\n",
    "fig.show()\n"
   ]
  }
 ],
 "metadata": {
  "kernelspec": {
   "display_name": "Python 3",
   "language": "python",
   "name": "python3"
  },
  "language_info": {
   "codemirror_mode": {
    "name": "ipython",
    "version": 3
   },
   "file_extension": ".py",
   "mimetype": "text/x-python",
   "name": "python",
   "nbconvert_exporter": "python",
   "pygments_lexer": "ipython3",
   "version": "3.11.9"
  }
 },
 "nbformat": 4,
 "nbformat_minor": 2
}
