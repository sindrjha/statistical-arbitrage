{
 "cells": [
  {
   "cell_type": "markdown",
   "metadata": {},
   "source": [
    "# Statistical models in R\n",
    "This notebook is covering:\n",
    "1. VECM"
   ]
  },
  {
   "cell_type": "code",
   "execution_count": 1,
   "metadata": {},
   "outputs": [],
   "source": [
    "import pandas as pd\n",
    "import plotly.express as px\n",
    "import plotly.graph_objs as go"
   ]
  },
  {
   "cell_type": "code",
   "execution_count": 2,
   "metadata": {},
   "outputs": [
    {
     "name": "stdout",
     "output_type": "stream",
     "text": [
      "Requirement already satisfied: rpy2 in /Users/sindrehaugland/Documents/Master/statistical-arbitrage/.conda/lib/python3.11/site-packages (3.5.16)\n",
      "Requirement already satisfied: cffi>=1.15.1 in /Users/sindrehaugland/Documents/Master/statistical-arbitrage/.conda/lib/python3.11/site-packages (from rpy2) (1.17.1)\n",
      "Requirement already satisfied: jinja2 in /Users/sindrehaugland/Documents/Master/statistical-arbitrage/.conda/lib/python3.11/site-packages (from rpy2) (3.1.4)\n",
      "Requirement already satisfied: tzlocal in /Users/sindrehaugland/Documents/Master/statistical-arbitrage/.conda/lib/python3.11/site-packages (from rpy2) (5.2)\n",
      "Requirement already satisfied: pycparser in /Users/sindrehaugland/Documents/Master/statistical-arbitrage/.conda/lib/python3.11/site-packages (from cffi>=1.15.1->rpy2) (2.22)\n",
      "Requirement already satisfied: MarkupSafe>=2.0 in /Users/sindrehaugland/Documents/Master/statistical-arbitrage/.conda/lib/python3.11/site-packages (from jinja2->rpy2) (2.1.5)\n",
      "Note: you may need to restart the kernel to use updated packages.\n"
     ]
    }
   ],
   "source": [
    "# rpy2 is a Python package that allows you to run R code from Python\n",
    "%pip install rpy2"
   ]
  },
  {
   "cell_type": "code",
   "execution_count": 3,
   "metadata": {},
   "outputs": [],
   "source": [
    "# Load the rpy2 extension to use R in Jupyter\n",
    "%load_ext rpy2.ipython"
   ]
  },
  {
   "cell_type": "markdown",
   "metadata": {},
   "source": [
    "The magic function `%%R` is used for running R code in Jupyter"
   ]
  },
  {
   "cell_type": "code",
   "execution_count": 4,
   "metadata": {},
   "outputs": [
    {
     "data": {
      "text/plain": [
       "Loading required package: tsDyn\n",
       "Registered S3 method overwritten by 'quantmod':\n",
       "  method            from\n",
       "  as.zoo.data.frame zoo \n",
       "Loading required package: Metrics\n",
       "\n",
       "Attaching package: ‘Metrics’\n",
       "\n",
       "The following object is masked from ‘package:tsDyn’:\n",
       "\n",
       "    mse\n",
       "\n",
       "Loading required package: dplyr\n",
       "\n",
       "Attaching package: ‘dplyr’\n",
       "\n",
       "The following objects are masked from ‘package:stats’:\n",
       "\n",
       "    filter, lag\n",
       "\n",
       "The following objects are masked from ‘package:base’:\n",
       "\n",
       "    intersect, setdiff, setequal, union\n",
       "\n"
      ]
     },
     "metadata": {},
     "output_type": "display_data"
    }
   ],
   "source": [
    "%%R\n",
    "source(\"tvecm.r\")\n",
    "hub1_name <- \"the\"\n",
    "hub2_name <- \"nbp\"\n",
    "validation_size <- 250\n",
    "test_size <- 250\n",
    "window_size <- 5\n",
    "nthresh <- 2"
   ]
  },
  {
   "cell_type": "code",
   "execution_count": 5,
   "metadata": {},
   "outputs": [
    {
     "data": {
      "text/plain": [
       "Loading required package: foreach\n",
       "Loading required package: doParallel\n",
       "Loading required package: iterators\n",
       "Loading required package: parallel\n"
      ]
     },
     "metadata": {},
     "output_type": "display_data"
    }
   ],
   "source": [
    "%%R\n",
    "if (require(\"foreach\") == FALSE) {\n",
    "  install.packages(\"foreach\")\n",
    "  library(foreach)\n",
    "}\n",
    "if (require(\"doParallel\") == FALSE) {\n",
    "  install.packages(\"doParallel\")\n",
    "  library(doParallel)\n",
    "}"
   ]
  },
  {
   "cell_type": "code",
   "execution_count": 6,
   "metadata": {},
   "outputs": [
    {
     "name": "stdout",
     "output_type": "stream",
     "text": [
      " [1] \"Task 1 1 1 done\" \"Task 1 1 2 done\" \"Task 1 2 1 done\" \"Task 1 2 2 done\"\n",
      " [5] \"Task 2 1 1 done\" \"Task 2 1 2 done\" \"Task 2 2 1 done\" \"Task 2 2 2 done\"\n",
      " [9] \"Task 3 1 1 done\" \"Task 3 1 2 done\" \"Task 3 2 1 done\" \"Task 3 2 2 done\"\n"
     ]
    }
   ],
   "source": [
    "%%R\n",
    "\n",
    "validation_size <- 100\n",
    "test_size <- 100\n",
    "# Set up the parallel backend to use multiple cores\n",
    "num_cores <- 11 # Use one less than the total number of cores\n",
    "cl <- makeCluster(num_cores)\n",
    "registerDoParallel(cl)\n",
    "clusterEvalQ(cl, library(tsDyn))\n",
    "\n",
    "clusterExport(cl, varlist=c(\"tvecm_system\", \"validation_size\", \"test_size\"))\n",
    "\n",
    "pairs <- list(c(\"ttf\", \"the\"), \n",
    "        c(\"ttf\", \"nbp\"), \n",
    "        c(\"the\", \"nbp\")\n",
    ")\n",
    "nthreshs <- c(1,2)\n",
    "window_sizes <- c(5, 10)\n",
    "\n",
    "# Use foreach to parallelize the loop\n",
    "results <- foreach(i = 1:length(pairs), .combine = c, .multicombine = TRUE) %:%\n",
    "           foreach(j = 1:length(nthreshs), .combine = c) %:%\n",
    "           foreach(k = 1:length(window_sizes), .combine = c) %dopar% {\n",
    "\n",
    "               pair <- pairs[[i]]\n",
    "               hub1_name <- pair[1]\n",
    "               hub2_name <- pair[2]\n",
    "               nthresh <- nthreshs[j]\n",
    "               window_size <- window_sizes[k]\n",
    "\n",
    "               print(paste(\"Starting\", hub1_name, hub2_name, nthresh, window_size))\n",
    "               run <- tvecm_system(hub1_name, hub2_name, validation_size=validation_size, test_size=test_size, window_size=window_size, nthresh=nthresh, verbose=FALSE, save=TRUE)\n",
    "               print(paste(\"Finished\", hub1_name, hub2_name, nthresh, window_size))\n",
    "               paste(\"Task\", i,j,k, \"done\")\n",
    "           }\n",
    "print(results)\n",
    "# Stop the parallel cluster\n",
    "stopCluster(cl)\n"
   ]
  },
  {
   "cell_type": "code",
   "execution_count": 7,
   "metadata": {},
   "outputs": [
    {
     "name": "stdout",
     "output_type": "stream",
     "text": [
      "[1] \"Detected cores: 11\"\n",
      "[1] \"Parallel backend registered\"\n"
     ]
    }
   ],
   "source": [
    "%%R\n",
    "num_cores <- detectCores() - 1  # Use one less than the total number of cores\n",
    "print(paste(\"Detected cores:\", num_cores))\n",
    "\n",
    "cl <- makeCluster(num_cores)\n",
    "registerDoParallel(cl)\n",
    "print(\"Parallel backend registered\")\n",
    "\n",
    "stopCluster(cl)"
   ]
  },
  {
   "cell_type": "code",
   "execution_count": 8,
   "metadata": {},
   "outputs": [
    {
     "name": "stdout",
     "output_type": "stream",
     "text": [
      " [1] \"Task 1 1 1 done\" \"Task 1 1 2 done\" \"Task 1 2 1 done\" \"Task 1 2 2 done\"\n",
      " [5] \"Task 2 1 1 done\" \"Task 2 1 2 done\" \"Task 2 2 1 done\" \"Task 2 2 2 done\"\n",
      " [9] \"Task 3 1 1 done\" \"Task 3 1 2 done\" \"Task 3 2 1 done\" \"Task 3 2 2 done\"\n"
     ]
    }
   ],
   "source": [
    "%%R\n",
    "\n",
    "num_cores <- detectCores() - 1\n",
    "cl <- makeCluster(num_cores)\n",
    "registerDoParallel(cl)\n",
    "\n",
    "results <- foreach(i = 1:length(pairs), .combine = c, .multicombine = TRUE) %:%\n",
    "           foreach(j = 1:length(nthreshs), .combine = c) %:%\n",
    "           foreach(k = 1:length(window_sizes), .combine = c) %dopar% {\n",
    "            Sys.sleep(1)  # Simulate some computation\n",
    "            paste(\"Task\", i,j,k, \"done\")\n",
    "}\n",
    "\n",
    "print(results)\n",
    "\n",
    "stopCluster(cl)"
   ]
  },
  {
   "cell_type": "code",
   "execution_count": null,
   "metadata": {},
   "outputs": [
    {
     "name": "stdout",
     "output_type": "stream",
     "text": [
      "176 (0.9%) points of the grid lead to regimes with percentage of observations < trim and were not computed\n",
      "1329 (6.6%) points of the grid lead to regimes with percentage of observations < trim and were not computed\n",
      "1305 (6.5%) points of the grid lead to regimes with percentage of observations < trim and were not computed\n",
      "1289 (6.4%) points of the grid lead to regimes with percentage of observations < trim and were not computed\n",
      "240 (1.2%) points of the grid lead to regimes with percentage of observations < trim and were not computed\n",
      "1289 (6.4%) points of the grid lead to regimes with percentage of observations < trim and were not computed\n"
     ]
    }
   ],
   "source": [
    "%%R\n",
    "pairs <- list(c(\"ttf\", \"the\"), c(\"ttf\", \"nbp\"), c(\"the\", \"nbp\"))\n",
    "nthreshs <- c(1,2)\n",
    "window_sizes <- c(1, 2, 5, 10)\n",
    "for (i in 1:length(pairs)) {\n",
    "    for (j in 1:length(nthreshs)) {\n",
    "        for(k in 1:length(window_sizes)) {\n",
    "            pair <- pairs[[i]]\n",
    "            hub1_name <- pair[1]\n",
    "            hub2_name <- pair[2]\n",
    "            nthresh <- nthreshs[j]\n",
    "            window_size <- window_sizes[k]\n",
    "            tvecm_system(hub1_name, hub2_name, validation_size=validation_size, test_size=test_size, window_size=window_size, nthresh=nthresh, verbose=FALSE, save=TRUE)\n",
    "            print(paste(\"Finished\", hub1_name, hub2_name, nthresh, window_size))\n",
    "        }\n",
    "    }\n",
    "}"
   ]
  },
  {
   "cell_type": "code",
   "execution_count": 55,
   "metadata": {},
   "outputs": [
    {
     "name": "stdout",
     "output_type": "stream",
     "text": [
      "110 (0.5%) points of the grid lead to regimes with percentage of observations < trim and were not computed\n",
      "#############\n",
      "###Model TVECM\n",
      "#############\n",
      "Full sample size: 1290 \tEnd sample size: 1284\n",
      "Number of variables: 2 \tNumber of estimated parameters 48\n",
      "AIC 7187.181 \tBIC 7439.91 \tSSR 78255.37 \n",
      "\n",
      "\n",
      "Cointegrating vector: (1, - 1.21676 )\n",
      "$Bdown\n",
      "              ECT                Const               hub1 t -1       \n",
      "Equation hub1 0.7177(4.6e-12)*** 17.6936(1.5e-11)*** -0.1086(0.6612) \n",
      "Equation hub2 0.8221(2.8e-13)*** 20.2151(1.1e-12)*** -0.1933(0.4714) \n",
      "              hub2 t -1       hub1 t -2        hub2 t -2      \n",
      "Equation hub1 0.4402(0.0623). -0.2292(0.3094)  0.1931(0.3711) \n",
      "Equation hub2 0.5478(0.0322)* -0.0531(0.8280)  0.0236(0.9195) \n",
      "              hub1 t -3          hub2 t -3         hub1 t -4      \n",
      "Equation hub1 -0.7456(0.0013)**  0.7026(0.0015)**  0.3772(0.0995).\n",
      "Equation hub2 -0.8726(0.0005)*** 0.8330(0.0005)*** 0.4663(0.0602).\n",
      "              hub2 t -4        hub1 t -5          hub2 t -5        \n",
      "Equation hub1 -0.0509(0.8146)  -0.7255(0.0016)**  0.6134(0.0048)** \n",
      "Equation hub2 -0.1387(0.5555)  -0.9531(0.0001)*** 0.8001(0.0007)***\n",
      "\n",
      "$Bup\n",
      "              ECT              Const            hub1 t -1         \n",
      "Equation hub1 -0.0070(0.5444)  0.0331(0.8334)   0.2384(3.4e-05)***\n",
      "Equation hub2 0.0194(0.1178)   -0.0002(0.9992)  0.2403(0.0001)*** \n",
      "              hub2 t -1          hub1 t -2          hub2 t -2       \n",
      "Equation hub1 -0.1170(0.0243)*   -0.1000(0.0839).   -0.0044(0.9331) \n",
      "Equation hub2 -0.1994(0.0004)*** -0.2102(0.0008)*** 0.0457(0.4176)  \n",
      "              hub1 t -3          hub2 t -3          hub1 t -4       \n",
      "Equation hub1 -0.1978(0.0006)*** 0.2123(4.6e-05)*** 0.1532(0.0083)**\n",
      "Equation hub2 -0.1929(0.0021)**  0.1955(0.0005)***  0.2010(0.0014)**\n",
      "              hub2 t -4        hub1 t -5        hub2 t -5       \n",
      "Equation hub1 -0.0268(0.6071)  -0.0342(0.5517)  -0.0399(0.4408) \n",
      "Equation hub2 -0.0997(0.0772). -0.0096(0.8775)  -0.0218(0.6975) \n",
      "\n",
      "\n",
      "Threshold\n",
      "Values: -17.53881\n",
      "Percentage of Observations in each regime 9.6% 90.4% \n"
     ]
    },
    {
     "data": {
      "image/png": "[encoded data removed]",
      "text/plain": [
       "<IPython.core.display.Image object>"
      ]
     },
     "metadata": {},
     "output_type": "display_data"
    }
   ],
   "source": [
    "%%R\n",
    "training_model <- tvecm_training_model(hub1_name, hub2_name, test_size, window_size, lag=5)\n",
    "summary(training_model)"
   ]
  },
  {
   "cell_type": "code",
   "execution_count": 56,
   "metadata": {},
   "outputs": [],
   "source": [
    "%%R\n",
    "hub1_predictions <- vecm_output$predictions$hub1\n",
    "hub1_actuals <- vecm_output$actuals$hub1\n",
    "hub2_predictions <- vecm_output$predictions$hub2\n",
    "hub2_actuals <- vecm_output$actuals$hub2\n"
   ]
  },
  {
   "cell_type": "code",
   "execution_count": 57,
   "metadata": {},
   "outputs": [],
   "source": [
    "%%R\n",
    "hub1_forecast_comparison <- data.frame(\n",
    "  Actual = hub1_actuals,\n",
    "  Forecasted = hub1_predictions\n",
    ")"
   ]
  },
  {
   "cell_type": "code",
   "execution_count": 58,
   "metadata": {},
   "outputs": [
    {
     "data": {
      "application/vnd.plotly.v1+json": {
       "config": {
        "plotlyServerURL": "https://plot.ly"
       },
       "data": [
        {
         "mode": "lines",
         "name": "Actual Prices",
         "type": "scatter",
         "x": [
          "1",
          "2",
          "3",
          "4",
          "5",
          "6",
          "7",
          "8",
          "9",
          "10",
          "11",
          "12",
          "13",
          "14",
          "15",
          "16",
          "17",
          "18",
          "19",
          "20",
          "21",
          "22",
          "23",
          "24",
          "25",
          "26",
          "27",
          "28",
          "29",
          "30",
          "31",
          "32",
          "33",
          "34",
          "35",
          "36",
          "37",
          "38",
          "39",
          "40",
          "41",
          "42",
          "43",
          "44",
          "45",
          "46",
          "47",
          "48",
          "49",
          "50",
          "51",
          "52",
          "53",
          "54",
          "55",
          "56",
          "57",
          "58",
          "59",
          "60",
          "61",
          "62",
          "63",
          "64",
          "65",
          "66",
          "67",
          "68",
          "69",
          "70",
          "71",
          "72",
          "73",
          "74",
          "75",
          "76",
          "77",
          "78",
          "79",
          "80",
          "81",
          "82",
          "83",
          "84",
          "85",
          "86",
          "87",
          "88",
          "89",
          "90",
          "91",
          "92",
          "93",
          "94",
          "95",
          "96",
          "97",
          "98",
          "99",
          "100",
          "101",
          "102",
          "103",
          "104",
          "105",
          "106",
          "107",
          "108",
          "109",
          "110",
          "111",
          "112",
          "113",
          "114",
          "115",
          "116",
          "117",
          "118",
          "119",
          "120",
          "121",
          "122",
          "123",
          "124",
          "125",
          "126",
          "127",
          "128",
          "129",
          "130",
          "131",
          "132",
          "133",
          "134",
          "135",
          "136",
          "137",
          "138",
          "139",
          "140",
          "141",
          "142",
          "143",
          "144",
          "145",
          "146",
          "147",
          "148",
          "149",
          "150",
          "151",
          "152",
          "153",
          "154",
          "155",
          "156",
          "157",
          "158",
          "159",
          "160",
          "161",
          "162",
          "163",
          "164",
          "165",
          "166",
          "167",
          "168",
          "169",
          "170",
          "171",
          "172",
          "173",
          "174",
          "175",
          "176",
          "177",
          "178",
          "179",
          "180",
          "181",
          "182",
          "183",
          "184",
          "185",
          "186",
          "187",
          "188",
          "189",
          "190",
          "191",
          "192",
          "193",
          "194",
          "195",
          "196",
          "197",
          "198",
          "199",
          "200",
          "201",
          "202",
          "203",
          "204",
          "205",
          "206",
          "207",
          "208",
          "209",
          "210",
          "211",
          "212",
          "213",
          "214",
          "215",
          "216",
          "217",
          "218",
          "219",
          "220",
          "221",
          "222",
          "223",
          "224",
          "225",
          "226",
          "227",
          "228",
          "229",
          "230",
          "231",
          "232",
          "233",
          "234",
          "235",
          "236",
          "237",
          "238",
          "239",
          "240",
          "241",
          "242",
          "243",
          "244",
          "245",
          "246",
          "247",
          "248",
          "249",
          "250"
         ],
         "y": [
          42.753,
          44.069,
          43.462,
          44.531,
          44.902,
          48.254,
          44.49,
          43.685,
          48.697,
          48.057,
          46.578,
          44.781,
          45.73,
          44.633,
          45.869,
          49.677,
          53.954,
          51.543,
          56.704,
          57.981,
          54.642,
          55.142,
          57.177,
          57.43,
          58.032,
          58.365,
          55.62,
          54.894,
          55.407,
          55.238,
          55.486,
          50.42,
          50.237,
          51.215,
          50.923,
          47.409,
          48.095,
          47.877,
          50.318,
          48.919,
          49.722,
          49.899,
          49.134,
          47.972,
          47.17,
          47.566,
          46.006,
          46.129,
          48.357,
          48.31,
          45.667,
          44.348,
          42.089,
          42.965,
          44.273,
          41.023,
          39.088,
          40.224,
          40.817,
          39.469,
          37.06,
          35.676,
          36.879,
          35.782,
          34.211,
          36.423,
          33.682,
          34.451,
          35.068,
          35.32,
          35.6976666666667,
          36.0753333333333,
          36.453,
          33.99,
          32.392,
          31.7185,
          31.045,
          32.755,
          33.843,
          34.695,
          32.052,
          31.083,
          31.285,
          31.301,
          31.301,
          30.457,
          30.238,
          28.277,
          28.7,
          29.314,
          28.43,
          28.678,
          30.073,
          29,
          29.298,
          29.373,
          30.48,
          31.06,
          30.117,
          30.094,
          29.137,
          29.278,
          28.825,
          28.446,
          27.812,
          26.571,
          26.211,
          25.595,
          25.641,
          25.529,
          24.405,
          24.854,
          24.598,
          23.886,
          23.59,
          24.531,
          24.955,
          26.04,
          25.33,
          26.038,
          27.211,
          27.781,
          26.948,
          26.279,
          26.658,
          25.356,
          25.212,
          25.233,
          26.38,
          27.325,
          29.137,
          29.173,
          27.984,
          26.739,
          27.946,
          28.774,
          27.807,
          28.317,
          28.071,
          27.744,
          27.417,
          27.09,
          26.431,
          27.069,
          27.549,
          28.912,
          28.39,
          28.085,
          30.395,
          31.615,
          31.876,
          33.883,
          31.879,
          32.969,
          31.424,
          30.101,
          29.216,
          29.739,
          30.4,
          29.588,
          28.679,
          29.728,
          30.5855,
          31.443,
          31.198,
          32.31,
          31.602,
          31.291,
          31.51,
          30.692,
          30.259,
          30.485,
          30.5,
          30.992,
          31.591,
          32.579,
          33.833,
          35.22,
          36.239,
          34.929,
          35.954,
          34.452,
          34.806,
          35.786,
          34.806,
          36.368,
          34.252,
          33.743,
          34.076,
          33.485,
          34.659,
          34.745,
          35.723,
          36.216,
          35.959,
          34.768,
          35.243,
          35.89,
          35.108,
          34.551,
          34.634,
          35.452,
          34.427,
          38.898,
          38.734,
          38.165,
          38.643,
          37.829,
          38.118,
          37.896,
          37.321,
          36.355,
          35.889,
          36.309,
          37.011,
          36.388,
          37.45,
          36.641,
          37.168,
          36.882,
          36.496,
          36.392,
          37.281,
          36.655,
          37.066,
          38.216,
          38.5,
          39.113,
          40.143,
          39.929,
          38.817,
          39.592,
          41.208,
          42.769,
          43.247,
          42.761,
          42.667,
          42.25,
          42.799,
          42.947,
          42.799,
          40.868,
          39.973,
          39.54,
          39.851,
          40.554,
          41.292,
          41.229,
          40.834,
          41.583
         ]
        },
        {
         "mode": "lines",
         "name": "Forecasted Prices",
         "type": "scatter",
         "x": [
          "1",
          "2",
          "3",
          "4",
          "5",
          "6",
          "7",
          "8",
          "9",
          "10",
          "11",
          "12",
          "13",
          "14",
          "15",
          "16",
          "17",
          "18",
          "19",
          "20",
          "21",
          "22",
          "23",
          "24",
          "25",
          "26",
          "27",
          "28",
          "29",
          "30",
          "31",
          "32",
          "33",
          "34",
          "35",
          "36",
          "37",
          "38",
          "39",
          "40",
          "41",
          "42",
          "43",
          "44",
          "45",
          "46",
          "47",
          "48",
          "49",
          "50",
          "51",
          "52",
          "53",
          "54",
          "55",
          "56",
          "57",
          "58",
          "59",
          "60",
          "61",
          "62",
          "63",
          "64",
          "65",
          "66",
          "67",
          "68",
          "69",
          "70",
          "71",
          "72",
          "73",
          "74",
          "75",
          "76",
          "77",
          "78",
          "79",
          "80",
          "81",
          "82",
          "83",
          "84",
          "85",
          "86",
          "87",
          "88",
          "89",
          "90",
          "91",
          "92",
          "93",
          "94",
          "95",
          "96",
          "97",
          "98",
          "99",
          "100",
          "101",
          "102",
          "103",
          "104",
          "105",
          "106",
          "107",
          "108",
          "109",
          "110",
          "111",
          "112",
          "113",
          "114",
          "115",
          "116",
          "117",
          "118",
          "119",
          "120",
          "121",
          "122",
          "123",
          "124",
          "125",
          "126",
          "127",
          "128",
          "129",
          "130",
          "131",
          "132",
          "133",
          "134",
          "135",
          "136",
          "137",
          "138",
          "139",
          "140",
          "141",
          "142",
          "143",
          "144",
          "145",
          "146",
          "147",
          "148",
          "149",
          "150",
          "151",
          "152",
          "153",
          "154",
          "155",
          "156",
          "157",
          "158",
          "159",
          "160",
          "161",
          "162",
          "163",
          "164",
          "165",
          "166",
          "167",
          "168",
          "169",
          "170",
          "171",
          "172",
          "173",
          "174",
          "175",
          "176",
          "177",
          "178",
          "179",
          "180",
          "181",
          "182",
          "183",
          "184",
          "185",
          "186",
          "187",
          "188",
          "189",
          "190",
          "191",
          "192",
          "193",
          "194",
          "195",
          "196",
          "197",
          "198",
          "199",
          "200",
          "201",
          "202",
          "203",
          "204",
          "205",
          "206",
          "207",
          "208",
          "209",
          "210",
          "211",
          "212",
          "213",
          "214",
          "215",
          "216",
          "217",
          "218",
          "219",
          "220",
          "221",
          "222",
          "223",
          "224",
          "225",
          "226",
          "227",
          "228",
          "229",
          "230",
          "231",
          "232",
          "233",
          "234",
          "235",
          "236",
          "237",
          "238",
          "239",
          "240",
          "241",
          "242",
          "243",
          "244",
          "245",
          "246",
          "247",
          "248",
          "249",
          "250"
         ],
         "y": [
          46.52483156156886,
          46.10006707841871,
          47.212711195582216,
          46.348066993432596,
          46.174587268476195,
          44.9019079343122,
          45.29632336457444,
          44.00593356675641,
          44.670342739786626,
          45.10590180678723,
          47.53448446819274,
          44.42266715545826,
          43.7874520616471,
          51.95950684033554,
          48.29536274920132,
          48.42166580318825,
          46.96900319967461,
          47.38803626018055,
          47.387624095074884,
          47.91203817121228,
          49.97489126865105,
          52.947211212995256,
          51.45759160571261,
          55.088181205033784,
          56.590214197763174,
          55.38933337458289,
          55.694744946276295,
          57.89654540866032,
          58.92984359121363,
          58.92325676466496,
          59.35836823043145,
          56.05175528199327,
          54.58484192249573,
          55.154306627797105,
          55.067626503927194,
          54.88781593142364,
          47.50566569757878,
          48.6313079923886,
          49.56885508201747,
          49.42102632331064,
          46.11247150762077,
          46.598977404289,
          46.48205431728088,
          48.90279070017219,
          47.73773105245155,
          48.38468158988105,
          48.80881432740908,
          47.824253700466706,
          46.77531064569635,
          46.05272461532968,
          45.96388494781116,
          44.58167582402483,
          44.54846660046706,
          46.31061229631261,
          46.181707879075645,
          43.97542676236396,
          42.75954676031989,
          40.79484040568175,
          40.85809417060074,
          42.301218181576424,
          39.4451529631965,
          37.82203403880592,
          38.89410000437912,
          39.35125914135619,
          37.97490078071396,
          35.99370650559114,
          34.7796513263059,
          36.04488326853477,
          34.95744391436499,
          33.53345710903474,
          35.621852054797124,
          33.305629624355646,
          33.85915848514118,
          34.34648824020863,
          34.81451901040929,
          34.932729698790375,
          35.154250858673485,
          35.37577201855689,
          33.18532103803369,
          31.347027136896948,
          31.02618528444531,
          30.522079403952727,
          31.7221846854,
          32.92990850964232,
          33.29497611287254,
          31.299776731858586,
          30.353936302175583,
          30.5599094635613,
          30.673700708109678,
          29.67692216103088,
          30.27021573341166,
          29.802911796131237,
          27.97447587158942,
          28.67032987793111,
          29.239730287843706,
          28.552902687273047,
          28.97578951579349,
          29.88692240835058,
          28.939544252254343,
          29.236572276304443,
          29.268991498535172,
          30.104612618150774,
          30.705536186650555,
          30.006790429674876,
          29.932115871953872,
          29.00006702831047,
          28.97992906640334,
          28.58318457667766,
          28.185676218326424,
          27.716581387504704,
          26.71301362817863,
          26.18797028650447,
          25.63254062477774,
          25.745978662109287,
          25.708294697031153,
          24.598855700364776,
          25.002591120262064,
          24.630159217818292,
          23.9866291277983,
          23.752441221931424,
          24.530355163536253,
          24.84378780123476,
          25.674435443615135,
          25.229888247881338,
          25.626179665904875,
          26.696874584396753,
          27.203702361883717,
          26.482407440699934,
          25.681035046034324,
          26.16160755591811,
          24.99447827332706,
          24.771023606751736,
          24.89674799638908,
          25.911772782189782,
          26.71028793877447,
          28.152098138909935,
          28.087302969813603,
          26.808614143448047,
          25.785272305105075,
          26.87544317971069,
          27.722105347709576,
          27.303851005413883,
          27.99146548457506,
          27.768203428275644,
          27.538384370975884,
          27.315594921089218,
          27.09280547120246,
          26.427933095805052,
          27.04763953288668,
          27.482880293872306,
          28.695325994927376,
          28.246697478997277,
          27.939434887329995,
          29.89840798452463,
          31.150892246501705,
          31.146465257350016,
          32.999777604507656,
          31.05055990563372,
          32.01410707562681,
          30.682557666465488,
          29.519220868631617,
          28.838718342095568,
          29.23171255456555,
          29.771198857633465,
          29.149633201997258,
          28.436652752076277,
          29.40644693150941,
          31.353691089806468,
          30.777120914900372,
          30.969118641830264,
          32.624226233276815,
          31.04115998242075,
          31.06937835198228,
          31.19902838415051,
          30.575914939879887,
          30.232398777719588,
          30.487134992462337,
          30.446340366523653,
          30.975336843337207,
          31.508059247472985,
          32.416997990348,
          33.63621078162901,
          34.957733044485465,
          35.76176822278406,
          34.552705947557975,
          36.46603368857227,
          33.8087237989337,
          34.46745459219864,
          35.28714990015509,
          34.42930892021397,
          35.486514273091615,
          33.951535073736146,
          33.37018884896595,
          33.65164451717445,
          33.237369911859886,
          34.22125620639138,
          34.35736111535387,
          35.18549206556873,
          35.77222830009485,
          35.68246044861717,
          34.47327248600497,
          35.05354077820041,
          35.68972598977061,
          35.07219718992485,
          34.48398078035024,
          34.52314039844399,
          35.296039175414116,
          34.37022210309699,
          41.391148996425805,
          40.01950616500433,
          40.1040487700047,
          40.594699457993286,
          39.968539894082625,
          39.86210589522926,
          39.74489449364096,
          39.440073485038376,
          38.444872556829125,
          38.11491704174182,
          38.49562373454796,
          39.31609890846697,
          38.48203936827433,
          39.13572145733185,
          38.61869180238125,
          38.83378878991342,
          38.802530348346075,
          38.345973821436274,
          38.392862613079465,
          39.05024036369583,
          38.600866565148074,
          38.695470170808456,
          39.55353635213817,
          39.86227056587634,
          38.9202947293901,
          40.25775935222165,
          40.163954214086715,
          39.21371333866237,
          39.688980958739535,
          41.19975314510909,
          42.58057577916109,
          43.19706742962752,
          42.846678507604125,
          42.84217771423891,
          42.75502267624817,
          43.007352687723454,
          43.357518878765006,
          42.81220448624643,
          41.08314540302539,
          40.41759975586974,
          39.93704543550023,
          40.138910407628195
         ]
        }
       ],
       "layout": {
        "template": {
         "data": {
          "bar": [
           {
            "error_x": {
             "color": "#2a3f5f"
            },
            "error_y": {
             "color": "#2a3f5f"
            },
            "marker": {
             "line": {
              "color": "#E5ECF6",
              "width": 0.5
             },
             "pattern": {
              "fillmode": "overlay",
              "size": 10,
              "solidity": 0.2
             }
            },
            "type": "bar"
           }
          ],
          "barpolar": [
           {
            "marker": {
             "line": {
              "color": "#E5ECF6",
              "width": 0.5
             },
             "pattern": {
              "fillmode": "overlay",
              "size": 10,
              "solidity": 0.2
             }
            },
            "type": "barpolar"
           }
          ],
          "carpet": [
           {
            "aaxis": {
             "endlinecolor": "#2a3f5f",
             "gridcolor": "white",
             "linecolor": "white",
             "minorgridcolor": "white",
             "startlinecolor": "#2a3f5f"
            },
            "baxis": {
             "endlinecolor": "#2a3f5f",
             "gridcolor": "white",
             "linecolor": "white",
             "minorgridcolor": "white",
             "startlinecolor": "#2a3f5f"
            },
            "type": "carpet"
           }
          ],
          "choropleth": [
           {
            "colorbar": {
             "outlinewidth": 0,
             "ticks": ""
            },
            "type": "choropleth"
           }
          ],
          "contour": [
           {
            "colorbar": {
             "outlinewidth": 0,
             "ticks": ""
            },
            "colorscale": [
             [
              0,
              "#0d0887"
             ],
             [
              0.1111111111111111,
              "#46039f"
             ],
             [
              0.2222222222222222,
              "#7201a8"
             ],
             [
              0.3333333333333333,
              "#9c179e"
             ],
             [
              0.4444444444444444,
              "#bd3786"
             ],
             [
              0.5555555555555556,
              "#d8576b"
             ],
             [
              0.6666666666666666,
              "#ed7953"
             ],
             [
              0.7777777777777778,
              "#fb9f3a"
             ],
             [
              0.8888888888888888,
              "#fdca26"
             ],
             [
              1,
              "#f0f921"
             ]
            ],
            "type": "contour"
           }
          ],
          "contourcarpet": [
           {
            "colorbar": {
             "outlinewidth": 0,
             "ticks": ""
            },
            "type": "contourcarpet"
           }
          ],
          "heatmap": [
           {
            "colorbar": {
             "outlinewidth": 0,
             "ticks": ""
            },
            "colorscale": [
             [
              0,
              "#0d0887"
             ],
             [
              0.1111111111111111,
              "#46039f"
             ],
             [
              0.2222222222222222,
              "#7201a8"
             ],
             [
              0.3333333333333333,
              "#9c179e"
             ],
             [
              0.4444444444444444,
              "#bd3786"
             ],
             [
              0.5555555555555556,
              "#d8576b"
             ],
             [
              0.6666666666666666,
              "#ed7953"
             ],
             [
              0.7777777777777778,
              "#fb9f3a"
             ],
             [
              0.8888888888888888,
              "#fdca26"
             ],
             [
              1,
              "#f0f921"
             ]
            ],
            "type": "heatmap"
           }
          ],
          "heatmapgl": [
           {
            "colorbar": {
             "outlinewidth": 0,
             "ticks": ""
            },
            "colorscale": [
             [
              0,
              "#0d0887"
             ],
             [
              0.1111111111111111,
              "#46039f"
             ],
             [
              0.2222222222222222,
              "#7201a8"
             ],
             [
              0.3333333333333333,
              "#9c179e"
             ],
             [
              0.4444444444444444,
              "#bd3786"
             ],
             [
              0.5555555555555556,
              "#d8576b"
             ],
             [
              0.6666666666666666,
              "#ed7953"
             ],
             [
              0.7777777777777778,
              "#fb9f3a"
             ],
             [
              0.8888888888888888,
              "#fdca26"
             ],
             [
              1,
              "#f0f921"
             ]
            ],
            "type": "heatmapgl"
           }
          ],
          "histogram": [
           {
            "marker": {
             "pattern": {
              "fillmode": "overlay",
              "size": 10,
              "solidity": 0.2
             }
            },
            "type": "histogram"
           }
          ],
          "histogram2d": [
           {
            "colorbar": {
             "outlinewidth": 0,
             "ticks": ""
            },
            "colorscale": [
             [
              0,
              "#0d0887"
             ],
             [
              0.1111111111111111,
              "#46039f"
             ],
             [
              0.2222222222222222,
              "#7201a8"
             ],
             [
              0.3333333333333333,
              "#9c179e"
             ],
             [
              0.4444444444444444,
              "#bd3786"
             ],
             [
              0.5555555555555556,
              "#d8576b"
             ],
             [
              0.6666666666666666,
              "#ed7953"
             ],
             [
              0.7777777777777778,
              "#fb9f3a"
             ],
             [
              0.8888888888888888,
              "#fdca26"
             ],
             [
              1,
              "#f0f921"
             ]
            ],
            "type": "histogram2d"
           }
          ],
          "histogram2dcontour": [
           {
            "colorbar": {
             "outlinewidth": 0,
             "ticks": ""
            },
            "colorscale": [
             [
              0,
              "#0d0887"
             ],
             [
              0.1111111111111111,
              "#46039f"
             ],
             [
              0.2222222222222222,
              "#7201a8"
             ],
             [
              0.3333333333333333,
              "#9c179e"
             ],
             [
              0.4444444444444444,
              "#bd3786"
             ],
             [
              0.5555555555555556,
              "#d8576b"
             ],
             [
              0.6666666666666666,
              "#ed7953"
             ],
             [
              0.7777777777777778,
              "#fb9f3a"
             ],
             [
              0.8888888888888888,
              "#fdca26"
             ],
             [
              1,
              "#f0f921"
             ]
            ],
            "type": "histogram2dcontour"
           }
          ],
          "mesh3d": [
           {
            "colorbar": {
             "outlinewidth": 0,
             "ticks": ""
            },
            "type": "mesh3d"
           }
          ],
          "parcoords": [
           {
            "line": {
             "colorbar": {
              "outlinewidth": 0,
              "ticks": ""
             }
            },
            "type": "parcoords"
           }
          ],
          "pie": [
           {
            "automargin": true,
            "type": "pie"
           }
          ],
          "scatter": [
           {
            "fillpattern": {
             "fillmode": "overlay",
             "size": 10,
             "solidity": 0.2
            },
            "type": "scatter"
           }
          ],
          "scatter3d": [
           {
            "line": {
             "colorbar": {
              "outlinewidth": 0,
              "ticks": ""
             }
            },
            "marker": {
             "colorbar": {
              "outlinewidth": 0,
              "ticks": ""
             }
            },
            "type": "scatter3d"
           }
          ],
          "scattercarpet": [
           {
            "marker": {
             "colorbar": {
              "outlinewidth": 0,
              "ticks": ""
             }
            },
            "type": "scattercarpet"
           }
          ],
          "scattergeo": [
           {
            "marker": {
             "colorbar": {
              "outlinewidth": 0,
              "ticks": ""
             }
            },
            "type": "scattergeo"
           }
          ],
          "scattergl": [
           {
            "marker": {
             "colorbar": {
              "outlinewidth": 0,
              "ticks": ""
             }
            },
            "type": "scattergl"
           }
          ],
          "scattermapbox": [
           {
            "marker": {
             "colorbar": {
              "outlinewidth": 0,
              "ticks": ""
             }
            },
            "type": "scattermapbox"
           }
          ],
          "scatterpolar": [
           {
            "marker": {
             "colorbar": {
              "outlinewidth": 0,
              "ticks": ""
             }
            },
            "type": "scatterpolar"
           }
          ],
          "scatterpolargl": [
           {
            "marker": {
             "colorbar": {
              "outlinewidth": 0,
              "ticks": ""
             }
            },
            "type": "scatterpolargl"
           }
          ],
          "scatterternary": [
           {
            "marker": {
             "colorbar": {
              "outlinewidth": 0,
              "ticks": ""
             }
            },
            "type": "scatterternary"
           }
          ],
          "surface": [
           {
            "colorbar": {
             "outlinewidth": 0,
             "ticks": ""
            },
            "colorscale": [
             [
              0,
              "#0d0887"
             ],
             [
              0.1111111111111111,
              "#46039f"
             ],
             [
              0.2222222222222222,
              "#7201a8"
             ],
             [
              0.3333333333333333,
              "#9c179e"
             ],
             [
              0.4444444444444444,
              "#bd3786"
             ],
             [
              0.5555555555555556,
              "#d8576b"
             ],
             [
              0.6666666666666666,
              "#ed7953"
             ],
             [
              0.7777777777777778,
              "#fb9f3a"
             ],
             [
              0.8888888888888888,
              "#fdca26"
             ],
             [
              1,
              "#f0f921"
             ]
            ],
            "type": "surface"
           }
          ],
          "table": [
           {
            "cells": {
             "fill": {
              "color": "#EBF0F8"
             },
             "line": {
              "color": "white"
             }
            },
            "header": {
             "fill": {
              "color": "#C8D4E3"
             },
             "line": {
              "color": "white"
             }
            },
            "type": "table"
           }
          ]
         },
         "layout": {
          "annotationdefaults": {
           "arrowcolor": "#2a3f5f",
           "arrowhead": 0,
           "arrowwidth": 1
          },
          "autotypenumbers": "strict",
          "coloraxis": {
           "colorbar": {
            "outlinewidth": 0,
            "ticks": ""
           }
          },
          "colorscale": {
           "diverging": [
            [
             0,
             "#8e0152"
            ],
            [
             0.1,
             "#c51b7d"
            ],
            [
             0.2,
             "#de77ae"
            ],
            [
             0.3,
             "#f1b6da"
            ],
            [
             0.4,
             "#fde0ef"
            ],
            [
             0.5,
             "#f7f7f7"
            ],
            [
             0.6,
             "#e6f5d0"
            ],
            [
             0.7,
             "#b8e186"
            ],
            [
             0.8,
             "#7fbc41"
            ],
            [
             0.9,
             "#4d9221"
            ],
            [
             1,
             "#276419"
            ]
           ],
           "sequential": [
            [
             0,
             "#0d0887"
            ],
            [
             0.1111111111111111,
             "#46039f"
            ],
            [
             0.2222222222222222,
             "#7201a8"
            ],
            [
             0.3333333333333333,
             "#9c179e"
            ],
            [
             0.4444444444444444,
             "#bd3786"
            ],
            [
             0.5555555555555556,
             "#d8576b"
            ],
            [
             0.6666666666666666,
             "#ed7953"
            ],
            [
             0.7777777777777778,
             "#fb9f3a"
            ],
            [
             0.8888888888888888,
             "#fdca26"
            ],
            [
             1,
             "#f0f921"
            ]
           ],
           "sequentialminus": [
            [
             0,
             "#0d0887"
            ],
            [
             0.1111111111111111,
             "#46039f"
            ],
            [
             0.2222222222222222,
             "#7201a8"
            ],
            [
             0.3333333333333333,
             "#9c179e"
            ],
            [
             0.4444444444444444,
             "#bd3786"
            ],
            [
             0.5555555555555556,
             "#d8576b"
            ],
            [
             0.6666666666666666,
             "#ed7953"
            ],
            [
             0.7777777777777778,
             "#fb9f3a"
            ],
            [
             0.8888888888888888,
             "#fdca26"
            ],
            [
             1,
             "#f0f921"
            ]
           ]
          },
          "colorway": [
           "#636efa",
           "#EF553B",
           "#00cc96",
           "#ab63fa",
           "#FFA15A",
           "#19d3f3",
           "#FF6692",
           "#B6E880",
           "#FF97FF",
           "#FECB52"
          ],
          "font": {
           "color": "#2a3f5f"
          },
          "geo": {
           "bgcolor": "white",
           "lakecolor": "white",
           "landcolor": "#E5ECF6",
           "showlakes": true,
           "showland": true,
           "subunitcolor": "white"
          },
          "hoverlabel": {
           "align": "left"
          },
          "hovermode": "closest",
          "mapbox": {
           "style": "light"
          },
          "paper_bgcolor": "white",
          "plot_bgcolor": "#E5ECF6",
          "polar": {
           "angularaxis": {
            "gridcolor": "white",
            "linecolor": "white",
            "ticks": ""
           },
           "bgcolor": "#E5ECF6",
           "radialaxis": {
            "gridcolor": "white",
            "linecolor": "white",
            "ticks": ""
           }
          },
          "scene": {
           "xaxis": {
            "backgroundcolor": "#E5ECF6",
            "gridcolor": "white",
            "gridwidth": 2,
            "linecolor": "white",
            "showbackground": true,
            "ticks": "",
            "zerolinecolor": "white"
           },
           "yaxis": {
            "backgroundcolor": "#E5ECF6",
            "gridcolor": "white",
            "gridwidth": 2,
            "linecolor": "white",
            "showbackground": true,
            "ticks": "",
            "zerolinecolor": "white"
           },
           "zaxis": {
            "backgroundcolor": "#E5ECF6",
            "gridcolor": "white",
            "gridwidth": 2,
            "linecolor": "white",
            "showbackground": true,
            "ticks": "",
            "zerolinecolor": "white"
           }
          },
          "shapedefaults": {
           "line": {
            "color": "#2a3f5f"
           }
          },
          "ternary": {
           "aaxis": {
            "gridcolor": "white",
            "linecolor": "white",
            "ticks": ""
           },
           "baxis": {
            "gridcolor": "white",
            "linecolor": "white",
            "ticks": ""
           },
           "bgcolor": "#E5ECF6",
           "caxis": {
            "gridcolor": "white",
            "linecolor": "white",
            "ticks": ""
           }
          },
          "title": {
           "x": 0.05
          },
          "xaxis": {
           "automargin": true,
           "gridcolor": "white",
           "linecolor": "white",
           "ticks": "",
           "title": {
            "standoff": 15
           },
           "zerolinecolor": "white",
           "zerolinewidth": 2
          },
          "yaxis": {
           "automargin": true,
           "gridcolor": "white",
           "linecolor": "white",
           "ticks": "",
           "title": {
            "standoff": 15
           },
           "zerolinecolor": "white",
           "zerolinewidth": 2
          }
         }
        },
        "title": {
         "text": "the: VECM Actual vs Forecasted Prices"
        },
        "xaxis": {
         "title": {
          "text": "Index"
         }
        },
        "yaxis": {
         "title": {
          "text": "Price"
         }
        }
       }
      }
     },
     "metadata": {},
     "output_type": "display_data"
    }
   ],
   "source": [
    "%R -o hub1_forecast_comparison\n",
    "%R -o hub1_name\n",
    "\n",
    "hub1_forecast_comparison = hub1_forecast_comparison\n",
    "\n",
    "actual_trace = go.Scatter(\n",
    "    x=hub1_forecast_comparison.index,\n",
    "    y=hub1_forecast_comparison['Actual'],\n",
    "    mode='lines',\n",
    "    name='Actual Prices'\n",
    ")\n",
    "\n",
    "forecasted_trace = go.Scatter(\n",
    "    x=hub1_forecast_comparison.index,\n",
    "    y=hub1_forecast_comparison['Forecasted'],\n",
    "    mode='lines',\n",
    "    name='Forecasted Prices'\n",
    ")\n",
    "\n",
    "# Create the plot\n",
    "layout = go.Layout(\n",
    "    title= hub1_name.item() + ': VECM Actual vs Forecasted Prices',\n",
    "    xaxis=dict(title='Index'),\n",
    "    yaxis=dict(title='Price'),\n",
    ")\n",
    "\n",
    "fig = go.Figure(data=[actual_trace, forecasted_trace], layout=layout)\n",
    "fig.show()\n"
   ]
  },
  {
   "cell_type": "code",
   "execution_count": 59,
   "metadata": {},
   "outputs": [],
   "source": [
    "%%R\n",
    "hub2_forecast_comparison <- data.frame(\n",
    "  Actual = hub2_actuals,\n",
    "  Forecasted = hub2_predictions\n",
    ")"
   ]
  },
  {
   "cell_type": "code",
   "execution_count": 60,
   "metadata": {},
   "outputs": [
    {
     "data": {
      "application/vnd.plotly.v1+json": {
       "config": {
        "plotlyServerURL": "https://plot.ly"
       },
       "data": [
        {
         "mode": "lines",
         "name": "Actual Prices",
         "type": "scatter",
         "x": [
          "1",
          "2",
          "3",
          "4",
          "5",
          "6",
          "7",
          "8",
          "9",
          "10",
          "11",
          "12",
          "13",
          "14",
          "15",
          "16",
          "17",
          "18",
          "19",
          "20",
          "21",
          "22",
          "23",
          "24",
          "25",
          "26",
          "27",
          "28",
          "29",
          "30",
          "31",
          "32",
          "33",
          "34",
          "35",
          "36",
          "37",
          "38",
          "39",
          "40",
          "41",
          "42",
          "43",
          "44",
          "45",
          "46",
          "47",
          "48",
          "49",
          "50",
          "51",
          "52",
          "53",
          "54",
          "55",
          "56",
          "57",
          "58",
          "59",
          "60",
          "61",
          "62",
          "63",
          "64",
          "65",
          "66",
          "67",
          "68",
          "69",
          "70",
          "71",
          "72",
          "73",
          "74",
          "75",
          "76",
          "77",
          "78",
          "79",
          "80",
          "81",
          "82",
          "83",
          "84",
          "85",
          "86",
          "87",
          "88",
          "89",
          "90",
          "91",
          "92",
          "93",
          "94",
          "95",
          "96",
          "97",
          "98",
          "99",
          "100",
          "101",
          "102",
          "103",
          "104",
          "105",
          "106",
          "107",
          "108",
          "109",
          "110",
          "111",
          "112",
          "113",
          "114",
          "115",
          "116",
          "117",
          "118",
          "119",
          "120",
          "121",
          "122",
          "123",
          "124",
          "125",
          "126",
          "127",
          "128",
          "129",
          "130",
          "131",
          "132",
          "133",
          "134",
          "135",
          "136",
          "137",
          "138",
          "139",
          "140",
          "141",
          "142",
          "143",
          "144",
          "145",
          "146",
          "147",
          "148",
          "149",
          "150",
          "151",
          "152",
          "153",
          "154",
          "155",
          "156",
          "157",
          "158",
          "159",
          "160",
          "161",
          "162",
          "163",
          "164",
          "165",
          "166",
          "167",
          "168",
          "169",
          "170",
          "171",
          "172",
          "173",
          "174",
          "175",
          "176",
          "177",
          "178",
          "179",
          "180",
          "181",
          "182",
          "183",
          "184",
          "185",
          "186",
          "187",
          "188",
          "189",
          "190",
          "191",
          "192",
          "193",
          "194",
          "195",
          "196",
          "197",
          "198",
          "199",
          "200",
          "201",
          "202",
          "203",
          "204",
          "205",
          "206",
          "207",
          "208",
          "209",
          "210",
          "211",
          "212",
          "213",
          "214",
          "215",
          "216",
          "217",
          "218",
          "219",
          "220",
          "221",
          "222",
          "223",
          "224",
          "225",
          "226",
          "227",
          "228",
          "229",
          "230",
          "231",
          "232",
          "233",
          "234",
          "235",
          "236",
          "237",
          "238",
          "239",
          "240",
          "241",
          "242",
          "243",
          "244",
          "245",
          "246",
          "247",
          "248",
          "249",
          "250"
         ],
         "y": [
          34.5815538949739,
          37.047039615109,
          37.67028764459,
          39.5698184734023,
          40.0036905858669,
          44.3311580850991,
          40.1043542498379,
          39.1846425768588,
          39.5243474255297,
          41.4881905346845,
          38.7137066229911,
          36.3072818780496,
          37.810985430102,
          35.430374313304,
          37.2227471252602,
          43.1760200634661,
          49.2848541304125,
          46.1314928174156,
          52.8489958030505,
          53.9066400518647,
          47.8279782987,
          47.9467516293036,
          49.4612754631999,
          48.3982321629645,
          49.3961060497492,
          49.6455880847579,
          47.8438547104787,
          48.5701914218446,
          49.4031323574573,
          49.2012802402157,
          50.0061869178012,
          48.6255167707374,
          47.9524311597912,
          48.7780376701812,
          48.2263332992118,
          44.6619770020814,
          45.7139594636094,
          45.4463575255059,
          47.7128112737571,
          45.947458968847,
          46.860402634183,
          46.6815934759614,
          46.1682806155526,
          45.0540638755246,
          44.2781472003276,
          45.3424038625584,
          43.8359429487836,
          44.2486965571365,
          46.9999034360392,
          47.1075084450814,
          44.1343252465281,
          42.8163674207527,
          40.4059146279046,
          42.3738683590951,
          43.6549698024363,
          40.0674596512779,
          37.9280895349234,
          39.0928191217115,
          39.7754857201351,
          38.5722933087658,
          35.8849135018937,
          34.4202579588494,
          35.4843552734842,
          34.3681441293889,
          32.7726908247176,
          35.0393858122633,
          31.8577490019449,
          32.862565257447,
          33.6338451564473,
          33.5870897737742,
          34.1897765039069,
          34.7924632340397,
          35.3951499641724,
          32.8087119118299,
          31.747530624083,
          30.8768891391135,
          30.0062476541441,
          32.2434244378476,
          33.1468331797864,
          34.4849448937114,
          31.2761074146108,
          30.3222711297642,
          30.5525017913809,
          30.433327191456,
          31.7422049339748,
          29.3880096905176,
          29.1425884600949,
          27.1648602722899,
          27.2727484901218,
          27.7895342409663,
          26.6548691438905,
          26.6184614597195,
          28.4632531477122,
          27.3667642542737,
          27.6860477019142,
          27.8043279762514,
          29.1965956938615,
          29.7281127375712,
          28.4907615927935,
          28.5022445149623,
          27.5999969290613,
          28.0077793701164,
          27.5830559252056,
          27.2891578803699,
          26.5253925683284,
          25.0582898283686,
          24.946451018528,
          24.384656907906,
          24.3799570068584,
          24.1603548640257,
          23.083445593203,
          23.6233435697956,
          23.5495574436142,
          22.8656464325929,
          22.5516347630259,
          23.6455386085236,
          24.1825161224281,
          25.5344320469512,
          24.5462708567919,
          25.5742587095233,
          26.84562732453,
          27.4265533831508,
          26.486390964616,
          26.060285938513,
          26.3703255195005,
          24.9548101136247,
          24.9599071894087,
          24.8859043914423,
          26.0906285187839,
          27.1186016992527,
          29.2620042993142,
          29.4377520728836,
          28.5037752072884,
          27.1874971849729,
          28.493315590132,
          29.1991800593715,
          27.4960487255604,
          27.5656539393319,
          27.1624151226669,
          26.6985835010976,
          26.2347518795282,
          25.7709202579589,
          25.1508636162009,
          25.8036960453134,
          26.2791278534139,
          27.710837001399,
          27.0867710785819,
          26.8059361244754,
          29.4237001398983,
          30.4769413450711,
          30.9714402702426,
          33.0755450916163,
          31.0925376189989,
          32.3654007574982,
          30.6568123656464,
          29.253152147951,
          28.2038393557853,
          28.8562005664176,
          29.6389221005221,
          28.6381362814345,
          27.524024976968,
          28.5807588630703,
          27.8482516122428,
          30.0918217490702,
          29.6208001501348,
          29.8571186064763,
          30.0934370628178,
          29.6451694134507,
          29.9436783021121,
          28.9405261541611,
          28.4089985327737,
          28.5708724878015,
          28.6315562834818,
          29.0455413382468,
          29.6404790664346,
          30.6255638584638,
          31.777112976422,
          33.0520906268127,
          34.1820793667042,
          32.824833657488,
          32.6146743098918,
          32.4045149622957,
          32.7479158562801,
          33.8452216194083,
          32.7660644214693,
          34.902102569352,
          32.2585488108643,
          31.8421223598458,
          32.2675057153581,
          31.4956331251919,
          32.8088060872829,
          32.8032743030675,
          33.8748145494251,
          34.1808066332276,
          33.6433964581841,
          32.508023339134,
          32.8738936090354,
          33.4301238611936,
          32.4335947043368,
          31.9414150203023,
          32.1212669328147,
          32.9567140956086,
          31.8471740539803,
          32.533270549698,
          32.7515149964172,
          31.4594636093766,
          31.7074483911693,
          30.6192254410209,
          31.3814488006278,
          31.1537284607773,
          30.2692189579281,
          29.3623837308493,
          28.8125082744737,
          29.2501880096905,
          29.7200477701573,
          29.3352523287952,
          30.9584314327635,
          29.9263496775514,
          30.8083038182004,
          30.274995393592,
          29.9605254717303,
          29.6991739174941,
          30.7901330740096,
          29.9904094584911,
          30.7769341795476,
          32.3129423004743,
          32.5933394752107,
          35.2437131060839,
          36.3116777561675,
          35.9144845941243,
          34.633466407343,
          35.7561585969222,
          37.4429938240011,
          39.0638956563278,
          39.258707817245,
          38.5276312826287,
          38.2751724843894,
          37.4066745146211,
          38.2062374176818,
          38.1126502200839,
          38.439535605828,
          36.5315712969598,
          35.4969034701607,
          35.1668720783431,
          35.6491773296482,
          36.6769532876105,
          37.7047292455727,
          37.5567263793633,
          37.1902910567441,
          38.9560548674378
         ]
        },
        {
         "mode": "lines",
         "name": "Forecasted Prices",
         "type": "scatter",
         "x": [
          "1",
          "2",
          "3",
          "4",
          "5",
          "6",
          "7",
          "8",
          "9",
          "10",
          "11",
          "12",
          "13",
          "14",
          "15",
          "16",
          "17",
          "18",
          "19",
          "20",
          "21",
          "22",
          "23",
          "24",
          "25",
          "26",
          "27",
          "28",
          "29",
          "30",
          "31",
          "32",
          "33",
          "34",
          "35",
          "36",
          "37",
          "38",
          "39",
          "40",
          "41",
          "42",
          "43",
          "44",
          "45",
          "46",
          "47",
          "48",
          "49",
          "50",
          "51",
          "52",
          "53",
          "54",
          "55",
          "56",
          "57",
          "58",
          "59",
          "60",
          "61",
          "62",
          "63",
          "64",
          "65",
          "66",
          "67",
          "68",
          "69",
          "70",
          "71",
          "72",
          "73",
          "74",
          "75",
          "76",
          "77",
          "78",
          "79",
          "80",
          "81",
          "82",
          "83",
          "84",
          "85",
          "86",
          "87",
          "88",
          "89",
          "90",
          "91",
          "92",
          "93",
          "94",
          "95",
          "96",
          "97",
          "98",
          "99",
          "100",
          "101",
          "102",
          "103",
          "104",
          "105",
          "106",
          "107",
          "108",
          "109",
          "110",
          "111",
          "112",
          "113",
          "114",
          "115",
          "116",
          "117",
          "118",
          "119",
          "120",
          "121",
          "122",
          "123",
          "124",
          "125",
          "126",
          "127",
          "128",
          "129",
          "130",
          "131",
          "132",
          "133",
          "134",
          "135",
          "136",
          "137",
          "138",
          "139",
          "140",
          "141",
          "142",
          "143",
          "144",
          "145",
          "146",
          "147",
          "148",
          "149",
          "150",
          "151",
          "152",
          "153",
          "154",
          "155",
          "156",
          "157",
          "158",
          "159",
          "160",
          "161",
          "162",
          "163",
          "164",
          "165",
          "166",
          "167",
          "168",
          "169",
          "170",
          "171",
          "172",
          "173",
          "174",
          "175",
          "176",
          "177",
          "178",
          "179",
          "180",
          "181",
          "182",
          "183",
          "184",
          "185",
          "186",
          "187",
          "188",
          "189",
          "190",
          "191",
          "192",
          "193",
          "194",
          "195",
          "196",
          "197",
          "198",
          "199",
          "200",
          "201",
          "202",
          "203",
          "204",
          "205",
          "206",
          "207",
          "208",
          "209",
          "210",
          "211",
          "212",
          "213",
          "214",
          "215",
          "216",
          "217",
          "218",
          "219",
          "220",
          "221",
          "222",
          "223",
          "224",
          "225",
          "226",
          "227",
          "228",
          "229",
          "230",
          "231",
          "232",
          "233",
          "234",
          "235",
          "236",
          "237",
          "238",
          "239",
          "240",
          "241",
          "242",
          "243",
          "244",
          "245",
          "246",
          "247",
          "248",
          "249",
          "250"
         ],
         "y": [
          36.67254608277919,
          35.895390223185274,
          37.556408266749685,
          36.73810301275498,
          37.345961518887094,
          35.80718271987049,
          37.49563633942819,
          37.869106859742296,
          39.346510688579116,
          39.84633358574843,
          43.37408652847399,
          40.123706275123894,
          39.06102344322733,
          40.63019495738975,
          41.56553594358746,
          39.67991972820067,
          37.549909819688345,
          38.53256222746046,
          36.93114354308845,
          38.15881186401701,
          42.86906130419963,
          48.10679094371084,
          46.004625401454255,
          51.198370646323795,
          52.659533995894314,
          48.20767380222366,
          47.974031734208616,
          49.44808743139314,
          48.99346937493512,
          49.66284588072823,
          49.97707922077567,
          48.15081650975051,
          48.25821445399537,
          48.96057710323582,
          48.85430925818316,
          49.38331533575233,
          47.185605095397044,
          46.689295196844654,
          47.401702694648634,
          47.048786598967844,
          43.911952557249016,
          44.482468653408496,
          44.33905778740111,
          46.34812388824101,
          45.06422458955536,
          45.70507419804559,
          45.71419331344234,
          45.1777580570639,
          44.15988699375324,
          43.40014430471789,
          44.08533115454918,
          42.8357713360106,
          43.01135895086421,
          45.29421454580635,
          45.53721482650843,
          43.04617908094759,
          41.689641052018494,
          39.5398221641149,
          40.7792148844041,
          42.05191323827045,
          39.10440261794111,
          37.047946326392584,
          37.90830829986298,
          38.557920767043505,
          37.513958474637604,
          35.16832109845047,
          33.727184067631335,
          34.59503466926732,
          33.69705008603765,
          32.23561088717736,
          34.08937205095521,
          31.59353786101027,
          32.18140297001442,
          32.88150889759803,
          32.9804596461743,
          33.435246507961224,
          33.94052549145596,
          34.44580447495067,
          32.2676356707586,
          31.010707005485678,
          30.24169520592506,
          29.47672630683313,
          31.216726697158006,
          32.21636925449063,
          33.304225522083094,
          30.7625978992408,
          29.700912249272402,
          29.829118198882515,
          29.779773874305526,
          30.537852643843706,
          29.02021723979853,
          28.63528025265958,
          26.897113687348384,
          26.946801327285673,
          27.429115989050352,
          26.544549396265882,
          26.513983440124452,
          27.98932510318951,
          27.169975599966595,
          27.367721061278882,
          27.480519264464238,
          28.622500315391612,
          29.198302558642773,
          28.23821221310663,
          28.150706021797326,
          27.348855261432448,
          27.56775326338203,
          27.219960690341292,
          26.91061101535736,
          26.26225859503609,
          24.993127155449272,
          24.722085727307842,
          24.21171507196641,
          24.184595278891067,
          24.022796943853717,
          23.053282910176854,
          23.42582983437788,
          23.34710564597387,
          22.739421373614174,
          22.42439971478189,
          23.313743260631348,
          23.82623853652008,
          24.96755529848757,
          24.27988203459233,
          25.01493087004224,
          26.170052202000946,
          26.76149392833758,
          26.011288005252513,
          25.504749061620835,
          25.769035625512632,
          24.586430237751163,
          24.450649589566947,
          24.41540093957541,
          25.4440617572081,
          26.40000604831019,
          28.24660526628213,
          28.50968950535159,
          27.63529794542766,
          26.446601097817876,
          27.467592801334508,
          28.208479353357138,
          26.979240762854918,
          27.04129098648392,
          26.73375460170814,
          26.33880259081273,
          25.939980299780967,
          25.541158008749253,
          24.95571485089234,
          25.47952823627857,
          25.94028852504504,
          27.202332603248877,
          26.785045126398952,
          26.489398789932316,
          28.667072169278146,
          29.815573730647966,
          30.24987806991668,
          32.094779601987646,
          30.502388709879096,
          31.426386212012435,
          30.07083172803649,
          28.750838324516742,
          27.785741892545264,
          28.244741824013285,
          28.938902041396815,
          28.17419906680244,
          27.190292064473734,
          28.0320810656421,
          27.919591171660212,
          29.4119522696357,
          29.23484583829066,
          29.656833404663093,
          29.59835925073425,
          29.273946022878434,
          29.479577751169234,
          28.678350685238353,
          28.172254007457422,
          28.294546705958677,
          28.344659183945733,
          28.73293793120348,
          29.280486823247838,
          30.181381762958956,
          31.282551961629483,
          32.50428084579476,
          33.543953773537396,
          32.451149859057715,
          32.5282761506009,
          31.946042290838584,
          32.25015182034263,
          33.1974157613321,
          32.36000404247689,
          33.985353798067834,
          31.981388645408764,
          31.40543434028446,
          31.723058658263056,
          31.13122239506269,
          32.18275624250375,
          32.29504586091294,
          33.20192731860352,
          33.59641987665098,
          33.22616834102584,
          32.17949597395119,
          32.45352239277763,
          32.98844852891943,
          32.21685382417591,
          31.698460364372227,
          31.795047427780457,
          32.532544490673374,
          31.64542852960835,
          33.250502265244094,
          33.332313246366226,
          32.431061620031684,
          32.616695061284396,
          31.759518194877185,
          32.21204711341072,
          32.07249660881579,
          31.373586407434576,
          30.50140358985188,
          29.98461370442491,
          30.323129181853353,
          30.829541261770448,
          30.4547038958744,
          31.687445830795603,
          30.967692596446554,
          31.562979273589125,
          31.23255692955793,
          30.898413239438767,
          30.69484340125371,
          31.56947180215804,
          30.997847442627798,
          31.520358834093845,
          32.8084082147292,
          33.163211716347334,
          34.91235650358646,
          36.03834582369358,
          35.817163822361906,
          34.718361173029315,
          35.509554266465095,
          37.04189985225033,
          38.554813319961724,
          38.916720727575374,
          38.358626761051745,
          38.130979703546835,
          37.483126839723816,
          38.04471995886881,
          38.08953714516185,
          38.22966543065604,
          36.58598343148752,
          35.593602954351866,
          35.204118775828256,
          35.55483882238035
         ]
        }
       ],
       "layout": {
        "template": {
         "data": {
          "bar": [
           {
            "error_x": {
             "color": "#2a3f5f"
            },
            "error_y": {
             "color": "#2a3f5f"
            },
            "marker": {
             "line": {
              "color": "#E5ECF6",
              "width": 0.5
             },
             "pattern": {
              "fillmode": "overlay",
              "size": 10,
              "solidity": 0.2
             }
            },
            "type": "bar"
           }
          ],
          "barpolar": [
           {
            "marker": {
             "line": {
              "color": "#E5ECF6",
              "width": 0.5
             },
             "pattern": {
              "fillmode": "overlay",
              "size": 10,
              "solidity": 0.2
             }
            },
            "type": "barpolar"
           }
          ],
          "carpet": [
           {
            "aaxis": {
             "endlinecolor": "#2a3f5f",
             "gridcolor": "white",
             "linecolor": "white",
             "minorgridcolor": "white",
             "startlinecolor": "#2a3f5f"
            },
            "baxis": {
             "endlinecolor": "#2a3f5f",
             "gridcolor": "white",
             "linecolor": "white",
             "minorgridcolor": "white",
             "startlinecolor": "#2a3f5f"
            },
            "type": "carpet"
           }
          ],
          "choropleth": [
           {
            "colorbar": {
             "outlinewidth": 0,
             "ticks": ""
            },
            "type": "choropleth"
           }
          ],
          "contour": [
           {
            "colorbar": {
             "outlinewidth": 0,
             "ticks": ""
            },
            "colorscale": [
             [
              0,
              "#0d0887"
             ],
             [
              0.1111111111111111,
              "#46039f"
             ],
             [
              0.2222222222222222,
              "#7201a8"
             ],
             [
              0.3333333333333333,
              "#9c179e"
             ],
             [
              0.4444444444444444,
              "#bd3786"
             ],
             [
              0.5555555555555556,
              "#d8576b"
             ],
             [
              0.6666666666666666,
              "#ed7953"
             ],
             [
              0.7777777777777778,
              "#fb9f3a"
             ],
             [
              0.8888888888888888,
              "#fdca26"
             ],
             [
              1,
              "#f0f921"
             ]
            ],
            "type": "contour"
           }
          ],
          "contourcarpet": [
           {
            "colorbar": {
             "outlinewidth": 0,
             "ticks": ""
            },
            "type": "contourcarpet"
           }
          ],
          "heatmap": [
           {
            "colorbar": {
             "outlinewidth": 0,
             "ticks": ""
            },
            "colorscale": [
             [
              0,
              "#0d0887"
             ],
             [
              0.1111111111111111,
              "#46039f"
             ],
             [
              0.2222222222222222,
              "#7201a8"
             ],
             [
              0.3333333333333333,
              "#9c179e"
             ],
             [
              0.4444444444444444,
              "#bd3786"
             ],
             [
              0.5555555555555556,
              "#d8576b"
             ],
             [
              0.6666666666666666,
              "#ed7953"
             ],
             [
              0.7777777777777778,
              "#fb9f3a"
             ],
             [
              0.8888888888888888,
              "#fdca26"
             ],
             [
              1,
              "#f0f921"
             ]
            ],
            "type": "heatmap"
           }
          ],
          "heatmapgl": [
           {
            "colorbar": {
             "outlinewidth": 0,
             "ticks": ""
            },
            "colorscale": [
             [
              0,
              "#0d0887"
             ],
             [
              0.1111111111111111,
              "#46039f"
             ],
             [
              0.2222222222222222,
              "#7201a8"
             ],
             [
              0.3333333333333333,
              "#9c179e"
             ],
             [
              0.4444444444444444,
              "#bd3786"
             ],
             [
              0.5555555555555556,
              "#d8576b"
             ],
             [
              0.6666666666666666,
              "#ed7953"
             ],
             [
              0.7777777777777778,
              "#fb9f3a"
             ],
             [
              0.8888888888888888,
              "#fdca26"
             ],
             [
              1,
              "#f0f921"
             ]
            ],
            "type": "heatmapgl"
           }
          ],
          "histogram": [
           {
            "marker": {
             "pattern": {
              "fillmode": "overlay",
              "size": 10,
              "solidity": 0.2
             }
            },
            "type": "histogram"
           }
          ],
          "histogram2d": [
           {
            "colorbar": {
             "outlinewidth": 0,
             "ticks": ""
            },
            "colorscale": [
             [
              0,
              "#0d0887"
             ],
             [
              0.1111111111111111,
              "#46039f"
             ],
             [
              0.2222222222222222,
              "#7201a8"
             ],
             [
              0.3333333333333333,
              "#9c179e"
             ],
             [
              0.4444444444444444,
              "#bd3786"
             ],
             [
              0.5555555555555556,
              "#d8576b"
             ],
             [
              0.6666666666666666,
              "#ed7953"
             ],
             [
              0.7777777777777778,
              "#fb9f3a"
             ],
             [
              0.8888888888888888,
              "#fdca26"
             ],
             [
              1,
              "#f0f921"
             ]
            ],
            "type": "histogram2d"
           }
          ],
          "histogram2dcontour": [
           {
            "colorbar": {
             "outlinewidth": 0,
             "ticks": ""
            },
            "colorscale": [
             [
              0,
              "#0d0887"
             ],
             [
              0.1111111111111111,
              "#46039f"
             ],
             [
              0.2222222222222222,
              "#7201a8"
             ],
             [
              0.3333333333333333,
              "#9c179e"
             ],
             [
              0.4444444444444444,
              "#bd3786"
             ],
             [
              0.5555555555555556,
              "#d8576b"
             ],
             [
              0.6666666666666666,
              "#ed7953"
             ],
             [
              0.7777777777777778,
              "#fb9f3a"
             ],
             [
              0.8888888888888888,
              "#fdca26"
             ],
             [
              1,
              "#f0f921"
             ]
            ],
            "type": "histogram2dcontour"
           }
          ],
          "mesh3d": [
           {
            "colorbar": {
             "outlinewidth": 0,
             "ticks": ""
            },
            "type": "mesh3d"
           }
          ],
          "parcoords": [
           {
            "line": {
             "colorbar": {
              "outlinewidth": 0,
              "ticks": ""
             }
            },
            "type": "parcoords"
           }
          ],
          "pie": [
           {
            "automargin": true,
            "type": "pie"
           }
          ],
          "scatter": [
           {
            "fillpattern": {
             "fillmode": "overlay",
             "size": 10,
             "solidity": 0.2
            },
            "type": "scatter"
           }
          ],
          "scatter3d": [
           {
            "line": {
             "colorbar": {
              "outlinewidth": 0,
              "ticks": ""
             }
            },
            "marker": {
             "colorbar": {
              "outlinewidth": 0,
              "ticks": ""
             }
            },
            "type": "scatter3d"
           }
          ],
          "scattercarpet": [
           {
            "marker": {
             "colorbar": {
              "outlinewidth": 0,
              "ticks": ""
             }
            },
            "type": "scattercarpet"
           }
          ],
          "scattergeo": [
           {
            "marker": {
             "colorbar": {
              "outlinewidth": 0,
              "ticks": ""
             }
            },
            "type": "scattergeo"
           }
          ],
          "scattergl": [
           {
            "marker": {
             "colorbar": {
              "outlinewidth": 0,
              "ticks": ""
             }
            },
            "type": "scattergl"
           }
          ],
          "scattermapbox": [
           {
            "marker": {
             "colorbar": {
              "outlinewidth": 0,
              "ticks": ""
             }
            },
            "type": "scattermapbox"
           }
          ],
          "scatterpolar": [
           {
            "marker": {
             "colorbar": {
              "outlinewidth": 0,
              "ticks": ""
             }
            },
            "type": "scatterpolar"
           }
          ],
          "scatterpolargl": [
           {
            "marker": {
             "colorbar": {
              "outlinewidth": 0,
              "ticks": ""
             }
            },
            "type": "scatterpolargl"
           }
          ],
          "scatterternary": [
           {
            "marker": {
             "colorbar": {
              "outlinewidth": 0,
              "ticks": ""
             }
            },
            "type": "scatterternary"
           }
          ],
          "surface": [
           {
            "colorbar": {
             "outlinewidth": 0,
             "ticks": ""
            },
            "colorscale": [
             [
              0,
              "#0d0887"
             ],
             [
              0.1111111111111111,
              "#46039f"
             ],
             [
              0.2222222222222222,
              "#7201a8"
             ],
             [
              0.3333333333333333,
              "#9c179e"
             ],
             [
              0.4444444444444444,
              "#bd3786"
             ],
             [
              0.5555555555555556,
              "#d8576b"
             ],
             [
              0.6666666666666666,
              "#ed7953"
             ],
             [
              0.7777777777777778,
              "#fb9f3a"
             ],
             [
              0.8888888888888888,
              "#fdca26"
             ],
             [
              1,
              "#f0f921"
             ]
            ],
            "type": "surface"
           }
          ],
          "table": [
           {
            "cells": {
             "fill": {
              "color": "#EBF0F8"
             },
             "line": {
              "color": "white"
             }
            },
            "header": {
             "fill": {
              "color": "#C8D4E3"
             },
             "line": {
              "color": "white"
             }
            },
            "type": "table"
           }
          ]
         },
         "layout": {
          "annotationdefaults": {
           "arrowcolor": "#2a3f5f",
           "arrowhead": 0,
           "arrowwidth": 1
          },
          "autotypenumbers": "strict",
          "coloraxis": {
           "colorbar": {
            "outlinewidth": 0,
            "ticks": ""
           }
          },
          "colorscale": {
           "diverging": [
            [
             0,
             "#8e0152"
            ],
            [
             0.1,
             "#c51b7d"
            ],
            [
             0.2,
             "#de77ae"
            ],
            [
             0.3,
             "#f1b6da"
            ],
            [
             0.4,
             "#fde0ef"
            ],
            [
             0.5,
             "#f7f7f7"
            ],
            [
             0.6,
             "#e6f5d0"
            ],
            [
             0.7,
             "#b8e186"
            ],
            [
             0.8,
             "#7fbc41"
            ],
            [
             0.9,
             "#4d9221"
            ],
            [
             1,
             "#276419"
            ]
           ],
           "sequential": [
            [
             0,
             "#0d0887"
            ],
            [
             0.1111111111111111,
             "#46039f"
            ],
            [
             0.2222222222222222,
             "#7201a8"
            ],
            [
             0.3333333333333333,
             "#9c179e"
            ],
            [
             0.4444444444444444,
             "#bd3786"
            ],
            [
             0.5555555555555556,
             "#d8576b"
            ],
            [
             0.6666666666666666,
             "#ed7953"
            ],
            [
             0.7777777777777778,
             "#fb9f3a"
            ],
            [
             0.8888888888888888,
             "#fdca26"
            ],
            [
             1,
             "#f0f921"
            ]
           ],
           "sequentialminus": [
            [
             0,
             "#0d0887"
            ],
            [
             0.1111111111111111,
             "#46039f"
            ],
            [
             0.2222222222222222,
             "#7201a8"
            ],
            [
             0.3333333333333333,
             "#9c179e"
            ],
            [
             0.4444444444444444,
             "#bd3786"
            ],
            [
             0.5555555555555556,
             "#d8576b"
            ],
            [
             0.6666666666666666,
             "#ed7953"
            ],
            [
             0.7777777777777778,
             "#fb9f3a"
            ],
            [
             0.8888888888888888,
             "#fdca26"
            ],
            [
             1,
             "#f0f921"
            ]
           ]
          },
          "colorway": [
           "#636efa",
           "#EF553B",
           "#00cc96",
           "#ab63fa",
           "#FFA15A",
           "#19d3f3",
           "#FF6692",
           "#B6E880",
           "#FF97FF",
           "#FECB52"
          ],
          "font": {
           "color": "#2a3f5f"
          },
          "geo": {
           "bgcolor": "white",
           "lakecolor": "white",
           "landcolor": "#E5ECF6",
           "showlakes": true,
           "showland": true,
           "subunitcolor": "white"
          },
          "hoverlabel": {
           "align": "left"
          },
          "hovermode": "closest",
          "mapbox": {
           "style": "light"
          },
          "paper_bgcolor": "white",
          "plot_bgcolor": "#E5ECF6",
          "polar": {
           "angularaxis": {
            "gridcolor": "white",
            "linecolor": "white",
            "ticks": ""
           },
           "bgcolor": "#E5ECF6",
           "radialaxis": {
            "gridcolor": "white",
            "linecolor": "white",
            "ticks": ""
           }
          },
          "scene": {
           "xaxis": {
            "backgroundcolor": "#E5ECF6",
            "gridcolor": "white",
            "gridwidth": 2,
            "linecolor": "white",
            "showbackground": true,
            "ticks": "",
            "zerolinecolor": "white"
           },
           "yaxis": {
            "backgroundcolor": "#E5ECF6",
            "gridcolor": "white",
            "gridwidth": 2,
            "linecolor": "white",
            "showbackground": true,
            "ticks": "",
            "zerolinecolor": "white"
           },
           "zaxis": {
            "backgroundcolor": "#E5ECF6",
            "gridcolor": "white",
            "gridwidth": 2,
            "linecolor": "white",
            "showbackground": true,
            "ticks": "",
            "zerolinecolor": "white"
           }
          },
          "shapedefaults": {
           "line": {
            "color": "#2a3f5f"
           }
          },
          "ternary": {
           "aaxis": {
            "gridcolor": "white",
            "linecolor": "white",
            "ticks": ""
           },
           "baxis": {
            "gridcolor": "white",
            "linecolor": "white",
            "ticks": ""
           },
           "bgcolor": "#E5ECF6",
           "caxis": {
            "gridcolor": "white",
            "linecolor": "white",
            "ticks": ""
           }
          },
          "title": {
           "x": 0.05
          },
          "xaxis": {
           "automargin": true,
           "gridcolor": "white",
           "linecolor": "white",
           "ticks": "",
           "title": {
            "standoff": 15
           },
           "zerolinecolor": "white",
           "zerolinewidth": 2
          },
          "yaxis": {
           "automargin": true,
           "gridcolor": "white",
           "linecolor": "white",
           "ticks": "",
           "title": {
            "standoff": 15
           },
           "zerolinecolor": "white",
           "zerolinewidth": 2
          }
         }
        },
        "title": {
         "text": "nbp: VECM Actual vs Forecasted Prices"
        },
        "xaxis": {
         "title": {
          "text": "Index"
         }
        },
        "yaxis": {
         "title": {
          "text": "Price"
         }
        }
       }
      }
     },
     "metadata": {},
     "output_type": "display_data"
    }
   ],
   "source": [
    "%R -o hub2_forecast_comparison\n",
    "%R -o hub2_name\n",
    "\n",
    "hub2_forecast_comparison = hub2_forecast_comparison\n",
    "\n",
    "actual_trace = go.Scatter(\n",
    "    x=hub2_forecast_comparison.index,\n",
    "    y=hub2_forecast_comparison['Actual'],\n",
    "    mode='lines',\n",
    "    name='Actual Prices'\n",
    ")\n",
    "\n",
    "forecasted_trace = go.Scatter(\n",
    "    x=hub2_forecast_comparison.index,\n",
    "    y=hub2_forecast_comparison['Forecasted'],\n",
    "    mode='lines',\n",
    "    name='Forecasted Prices'\n",
    ")\n",
    "\n",
    "# Create the plot\n",
    "layout = go.Layout(\n",
    "    title= hub2_name.item() + ': VECM Actual vs Forecasted Prices',\n",
    "    xaxis=dict(title='Index'),\n",
    "    yaxis=dict(title='Price'),\n",
    ")\n",
    "\n",
    "fig = go.Figure(data=[actual_trace, forecasted_trace], layout=layout)\n",
    "fig.show()\n"
   ]
  }
 ],
 "metadata": {
  "kernelspec": {
   "display_name": "Python 3",
   "language": "python",
   "name": "python3"
  },
  "language_info": {
   "codemirror_mode": {
    "name": "ipython",
    "version": 3
   },
   "file_extension": ".py",
   "mimetype": "text/x-python",
   "name": "python",
   "nbconvert_exporter": "python",
   "pygments_lexer": "ipython3",
   "version": "3.11.9"
  }
 },
 "nbformat": 4,
 "nbformat_minor": 2
}
