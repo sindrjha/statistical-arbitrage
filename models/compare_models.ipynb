{
 "cells": [
  {
   "cell_type": "markdown",
   "metadata": {},
   "source": [
    "# Statistical models in R\n",
    "This notebook is covering:\n",
    "1. Comparing models using MAE and RMSE as well as performing Diebold-Mariano"
   ]
  },
  {
   "cell_type": "code",
   "execution_count": 1,
   "metadata": {},
   "outputs": [],
   "source": [
    "import pandas as pd\n",
    "import plotly.express as px\n",
    "import plotly.graph_objs as go"
   ]
  },
  {
   "cell_type": "code",
   "execution_count": 2,
   "metadata": {},
   "outputs": [
    {
     "name": "stdout",
     "output_type": "stream",
     "text": [
      "Requirement already satisfied: rpy2 in /Users/sindrehaugland/Documents/Master/statistical-arbitrage/.conda/lib/python3.11/site-packages (3.5.16)\n",
      "Requirement already satisfied: cffi>=1.15.1 in /Users/sindrehaugland/Documents/Master/statistical-arbitrage/.conda/lib/python3.11/site-packages (from rpy2) (1.17.1)\n",
      "Requirement already satisfied: jinja2 in /Users/sindrehaugland/Documents/Master/statistical-arbitrage/.conda/lib/python3.11/site-packages (from rpy2) (3.1.4)\n",
      "Requirement already satisfied: tzlocal in /Users/sindrehaugland/Documents/Master/statistical-arbitrage/.conda/lib/python3.11/site-packages (from rpy2) (5.2)\n",
      "Requirement already satisfied: pycparser in /Users/sindrehaugland/Documents/Master/statistical-arbitrage/.conda/lib/python3.11/site-packages (from cffi>=1.15.1->rpy2) (2.22)\n",
      "Requirement already satisfied: MarkupSafe>=2.0 in /Users/sindrehaugland/Documents/Master/statistical-arbitrage/.conda/lib/python3.11/site-packages (from jinja2->rpy2) (2.1.5)\n",
      "Note: you may need to restart the kernel to use updated packages.\n"
     ]
    }
   ],
   "source": [
    "# rpy2 is a Python package that allows you to run R code from Python\n",
    "%pip install rpy2"
   ]
  },
  {
   "cell_type": "code",
   "execution_count": 3,
   "metadata": {},
   "outputs": [],
   "source": [
    "# Load the rpy2 extension to use R in Jupyter\n",
    "%load_ext rpy2.ipython"
   ]
  },
  {
   "cell_type": "markdown",
   "metadata": {},
   "source": [
    "The magic function `%%R` is used for running R code in Jupyter"
   ]
  },
  {
   "cell_type": "code",
   "execution_count": null,
   "metadata": {},
   "outputs": [
    {
     "name": "stdout",
     "output_type": "stream",
     "text": [
      "$ttf_the\n",
      "$ttf_the$ttf\n",
      "               mape  rmse rmse_return da_return dv_return rmse_spread da_spread\n",
      "naive          6.1  2.96        8.05         0~    -6.17~      0.642         0~\n",
      "arima         6.11  2.97        8.08        52    -0.016       0.719      49.2 \n",
      "vecm          6.09  2.92        7.93      57.2      1.53       0.554      55.6 \n",
      "tvecm_long_t1 5.95  2.92        7.83      58.8      2.12       0.519~     60.4 \n",
      "ann           5.51~ 2.85~       7.68~     60.4      1.55       0.842      57.6 \n",
      "ann_long      5.92  2.89           8      57.6      1.96        1.13      52.8 \n",
      "              corr_spread dv_spread\n",
      "naive                 NA    -0.339~\n",
      "arima             -0.032~     0.03 \n",
      "vecm               0.532     0.148 \n",
      "tvecm_long_t1      0.591     0.168 \n",
      "ann                0.408     0.155 \n",
      "ann_long           0.214     0.029 \n",
      "\n",
      "$ttf_the$the\n",
      "               mape  rmse rmse_return da_return dv_return rmse_spread da_spread\n",
      "naive         6.02  2.94        7.93       0.4~    -6.09~      0.642         0~\n",
      "arima         6.03  2.95        7.97      51.6     0.245       0.719      49.2 \n",
      "vecm          6.04   2.9        7.83      58.8      1.66       0.554      55.6 \n",
      "tvecm_long_t1 5.92  2.92        7.75      59.6      2.36       0.519~     60.4 \n",
      "ann            5.5~ 2.83~       7.58~     63.2      1.87       0.842      57.6 \n",
      "ann_long      5.98   2.9        7.96      54.4      1.43        1.13      52.8 \n",
      "              corr_spread dv_spread\n",
      "naive                 NA        NA \n",
      "arima             -0.032~       NA \n",
      "vecm               0.532        NA \n",
      "tvecm_long_t1      0.591        NA \n",
      "ann                0.408        NA \n",
      "ann_long           0.214        NA \n",
      "\n",
      "\n",
      "$ttf_nbp\n",
      "$ttf_nbp$ttf\n",
      "               mape  rmse rmse_return da_return dv_return rmse_spread da_spread\n",
      "naive          6.1  2.96        8.05         0~    -6.17~       1.42~        0~\n",
      "arima         6.11  2.97        8.08        52    -0.016         1.5        50 \n",
      "vecm          5.91~ 2.94~       7.96~       62      1.58        1.45      61.2 \n",
      "tvecm_long_t1 6.49  3.04        8.21      47.2     0.159        1.83      54.8 \n",
      "ann           6.09  3.12        8.49      56.8     0.401        2.19      58.8 \n",
      "ann_long      6.04  2.96        8.22      54.4     0.902        1.79      55.2 \n",
      "              corr_spread dv_spread\n",
      "naive                 NA     -1.06~\n",
      "arima              0.059~     0.07 \n",
      "vecm               0.199     0.283 \n",
      "tvecm_long_t1      0.276     0.048 \n",
      "ann                0.351     0.455 \n",
      "ann_long           0.319     0.264 \n",
      "\n",
      "$ttf_nbp$nbp\n",
      "               mape  rmse rmse_return da_return dv_return rmse_spread da_spread\n",
      "naive          6.5  3.08        8.54         0~    -6.58~       1.42~        0~\n",
      "arima         6.51  3.08        8.54      50.8     0.123         1.5        50 \n",
      "vecm           6.2  3.03~       8.36~     62.4       1.8        1.45      61.2 \n",
      "tvecm_long_t1 6.53  3.06        8.48      50.4     0.961        1.83      54.8 \n",
      "ann           6.08~ 3.07        8.47        62      1.18        2.19      58.8 \n",
      "ann_long      6.38  3.09        8.81        58      1.45        1.79      55.2 \n",
      "              corr_spread dv_spread\n",
      "naive                 NA        NA \n",
      "arima              0.059~       NA \n",
      "vecm               0.199        NA \n",
      "tvecm_long_t1      0.276        NA \n",
      "ann                0.351        NA \n",
      "ann_long           0.319        NA \n",
      "\n",
      "\n",
      "$the_nbp\n",
      "$the_nbp$the\n",
      "               mape  rmse rmse_return da_return dv_return rmse_spread da_spread\n",
      "naive         6.02  2.94        7.93       0.4~    -6.09~        1.6~        0~\n",
      "arima         6.03  2.95        7.97      51.6     0.245        1.71      50.4 \n",
      "vecm          5.86~ 2.93        7.88~     59.6      1.02        1.61      63.6 \n",
      "tvecm_long_t1 6.44  3.04        8.14      46.4     0.125        1.95        56 \n",
      "ann           5.96   3.1        8.37      57.6     0.474         1.9      58.4 \n",
      "ann_long      5.92  2.93~       8.06      52.8     0.288        2.03      58.4 \n",
      "              corr_spread dv_spread\n",
      "naive                 NA     -1.17~\n",
      "arima             -0.006~   -0.058 \n",
      "vecm               0.226     0.282 \n",
      "tvecm_long_t1      0.336     0.023 \n",
      "ann                0.449     0.489 \n",
      "ann_long           0.364     0.359 \n",
      "\n",
      "$the_nbp$nbp\n",
      "               mape  rmse rmse_return da_return dv_return rmse_spread da_spread\n",
      "naive          6.5  3.08        8.54         0~    -6.58~        1.6~        0~\n",
      "arima         6.51  3.08        8.54      50.8     0.123        1.71      50.4 \n",
      "vecm          6.23  3.03~       8.39~       62      1.61        1.61      63.6 \n",
      "tvecm_long_t1 6.56  3.09        8.53        46      0.26        1.95        56 \n",
      "ann           6.13~ 3.09        8.51      59.6     0.513         1.9      58.4 \n",
      "ann_long      6.37   3.1        8.88      56.8     0.853        2.03      58.4 \n",
      "              corr_spread dv_spread\n",
      "naive                 NA        NA \n",
      "arima             -0.006~       NA \n",
      "vecm               0.226        NA \n",
      "tvecm_long_t1      0.336        NA \n",
      "ann                0.449        NA \n",
      "ann_long           0.364        NA \n",
      "\n",
      "\n"
     ]
    },
    {
     "data": {
      "text/plain": [
       "Loading required package: dplyr\n",
       "\n",
       "Attaching package: ‘dplyr’\n",
       "\n",
       "The following objects are masked from ‘package:stats’:\n",
       "\n",
       "    filter, lag\n",
       "\n",
       "The following objects are masked from ‘package:base’:\n",
       "\n",
       "    intersect, setdiff, setequal, union\n",
       "\n",
       "Loading required package: zoo\n",
       "\n",
       "Attaching package: ‘zoo’\n",
       "\n",
       "The following objects are masked from ‘package:base’:\n",
       "\n",
       "    as.Date, as.Date.numeric\n",
       "\n",
       "Loading required package: pander\n",
       "Loading required package: Metrics\n",
       "Loading required package: forecast\n",
       "Registered S3 method overwritten by 'quantmod':\n",
       "  method            from\n",
       "  as.zoo.data.frame zoo \n",
       "\n",
       "Attaching package: ‘forecast’\n",
       "\n",
       "The following object is masked from ‘package:Metrics’:\n",
       "\n",
       "    accuracy\n",
       "\n",
       "In addition: Warning messages:\n",
       "1: In cor(actual_spread, predicted_spread, method = \"pearson\") :\n",
       "  the standard deviation is zero\n",
       "2: In cor(actual_spread, predicted_spread, method = \"pearson\") :\n",
       "  the standard deviation is zero\n",
       "3: In cor(actual_spread, predicted_spread, method = \"pearson\") :\n",
       "  the standard deviation is zero\n",
       "4: In min(as.numeric(df[[metric]]), na.rm = TRUE) :\n",
       "  no non-missing arguments to min; returning Inf\n",
       "5: In min(as.numeric(df[[metric]]), na.rm = TRUE) :\n",
       "  no non-missing arguments to min; returning Inf\n",
       "6: In min(as.numeric(df[[metric]]), na.rm = TRUE) :\n",
       "  no non-missing arguments to min; returning Inf\n"
      ]
     },
     "metadata": {},
     "output_type": "display_data"
    }
   ],
   "source": [
    "%%R\n",
    "\n",
    "hub_pairs <- list(c(\"ttf\", \"the\"),c(\"ttf\", \"nbp\"), c(\"the\", \"nbp\"))\n",
    "models <- c(\"naive\", \"arima\", \"vecm\", \"tvecm_long_t1\", \"ann\", \"ann_long\")\n",
    "horizon <- 250\n",
    "window_size <- 5\n",
    "\n",
    "source(\"compare_models.r\")\n",
    "\n",
    "results_list <- compare_error_metrics(hub_pairs, models, horizon, window_size)\n",
    "\n"
   ]
  },
  {
   "cell_type": "code",
   "execution_count": 5,
   "metadata": {},
   "outputs": [
    {
     "name": "stdout",
     "output_type": "stream",
     "text": [
      "$ttf_the\n",
      "$ttf_the$ttf\n",
      "                 naive    arima     vecm tvecm_long_t1      ann ann_long\n",
      "naive             -    0.339    0.536         0.626    0.986    0.684   \n",
      "arima         0.661        -    0.555         0.648    0.988    0.698   \n",
      "vecm          0.464    0.445        -         0.623    0.990    0.656   \n",
      "tvecm_long_t1 0.374    0.352    0.377             -    0.929    0.584   \n",
      "ann           0.014*   0.012*   0.010*        0.071        -    0.100   \n",
      "ann_long      0.316    0.302    0.344         0.416    0.900        -   \n",
      "\n",
      "$ttf_the$the\n",
      "                 naive    arima     vecm tvecm_long_t1      ann ann_long\n",
      "naive             -    0.414    0.521         0.566    0.967    0.517   \n",
      "arima         0.586        -    0.532         0.580    0.971    0.525   \n",
      "vecm          0.479    0.468        -         0.562    0.994    0.502   \n",
      "tvecm_long_t1 0.434    0.420    0.438             -    0.938    0.474   \n",
      "ann           0.033*   0.029*   0.006**       0.062        -    0.090   \n",
      "ann_long      0.483    0.475    0.498         0.526    0.910        -   \n",
      "\n",
      "\n",
      "$ttf_nbp\n",
      "$ttf_nbp$ttf\n",
      "                 naive    arima     vecm tvecm_long_t1      ann ann_long\n",
      "naive             -    0.339    0.972         0.049*   0.429    0.526   \n",
      "arima         0.661        -    0.987         0.058    0.441    0.542   \n",
      "vecm          0.028*   0.013*       -         0.019*   0.199    0.291   \n",
      "tvecm_long_t1 0.951    0.942    0.981             -    0.716    0.788   \n",
      "ann           0.571    0.559    0.801         0.284        -    0.594   \n",
      "ann_long      0.474    0.458    0.709         0.212    0.406        -   \n",
      "\n",
      "$ttf_nbp$nbp\n",
      "                 naive    arima     vecm tvecm_long_t1      ann ann_long\n",
      "naive             -    0.285    0.964         0.492    0.882    0.593   \n",
      "arima         0.715        -    0.976         0.570    0.897    0.607   \n",
      "vecm          0.036*   0.024*       -         0.055    0.619    0.280   \n",
      "tvecm_long_t1 0.508    0.430    0.945             -    0.853    0.584   \n",
      "ann           0.118    0.103    0.381         0.147        -    0.192   \n",
      "ann_long      0.407    0.393    0.720         0.416    0.808        -   \n",
      "\n",
      "\n",
      "$the_nbp\n",
      "$the_nbp$the\n",
      "                 naive    arima     vecm tvecm_long_t1      ann ann_long\n",
      "naive             -    0.414    0.957         0.023*   0.478    0.597   \n",
      "arima         0.586        -    0.979         0.028*   0.486    0.608   \n",
      "vecm          0.043*   0.021*       -         0.010*   0.272    0.378   \n",
      "tvecm_long_t1 0.977    0.972    0.990             -    0.768    0.850   \n",
      "ann           0.522    0.514    0.728         0.232        -    0.614   \n",
      "ann_long      0.403    0.392    0.622         0.150    0.386        -   \n",
      "\n",
      "$the_nbp$nbp\n",
      "                 naive    arima     vecm tvecm_long_t1      ann ann_long\n",
      "naive             -    0.285    0.951         0.168    0.840    0.610   \n",
      "arima         0.715        -    0.967         0.258    0.857    0.624   \n",
      "vecm          0.049*   0.033*       -         0.031*   0.555    0.322   \n",
      "tvecm_long_t1 0.832    0.742    0.969             -    0.857    0.646   \n",
      "ann           0.160    0.143    0.445         0.143        -    0.265   \n",
      "ann_long      0.390    0.376    0.678         0.354    0.735        -   \n",
      "\n",
      "\n"
     ]
    }
   ],
   "source": [
    "%%R\n",
    "source(\"compare_models.r\")\n",
    "diebold_mariano(hub_pairs, models, horizon, window_size)"
   ]
  },
  {
   "cell_type": "code",
   "execution_count": 6,
   "metadata": {},
   "outputs": [
    {
     "name": "stdout",
     "output_type": "stream",
     "text": [
      "$ttf_the\n",
      "$ttf_the$ttf\n",
      "                 naive    arima     vecm tvecm_long_t1      ann ann_long\n",
      "naive             -    0.000*** 0.029*        0.769    0.000*** 0.000***\n",
      "arima         1.000        -    0.988         1.000    0.000*** 0.000***\n",
      "vecm          0.971    0.012*       -         1.000    0.000*** 0.000***\n",
      "tvecm_long_t1 0.231    0.000*** 0.000***          -    0.000*** 0.000***\n",
      "ann           1.000    1.000    1.000         1.000        -    0.021*  \n",
      "ann_long      1.000    1.000    1.000         1.000    0.979        -   \n",
      "\n",
      "$ttf_the$the\n",
      "                 naive    arima     vecm tvecm_long_t1      ann ann_long\n",
      "naive             -    0.000*** 0.029*        0.769    0.000*** 0.000***\n",
      "arima         1.000        -    0.988         1.000    0.000*** 0.000***\n",
      "vecm          0.971    0.012*       -         1.000    0.000*** 0.000***\n",
      "tvecm_long_t1 0.231    0.000*** 0.000***          -    0.000*** 0.000***\n",
      "ann           1.000    1.000    1.000         1.000        -    0.021*  \n",
      "ann_long      1.000    1.000    1.000         1.000    0.979        -   \n",
      "\n",
      "\n",
      "$ttf_nbp\n",
      "$ttf_nbp$ttf\n",
      "                 naive    arima     vecm tvecm_long_t1      ann ann_long\n",
      "naive             -    0.006**  0.749         0.004**  0.015*   0.008** \n",
      "arima         0.994        -    0.943         0.013*   0.027*   0.024*  \n",
      "vecm          0.251    0.057        -         0.000*** 0.010*   0.004** \n",
      "tvecm_long_t1 0.996    0.987    1.000             -    0.203    0.485   \n",
      "ann           0.985    0.973    0.990         0.797        -    0.854   \n",
      "ann_long      0.992    0.976    0.996         0.515    0.146        -   \n",
      "\n",
      "$ttf_nbp$nbp\n",
      "                 naive    arima     vecm tvecm_long_t1      ann ann_long\n",
      "naive             -    0.006**  0.749         0.004**  0.015*   0.008** \n",
      "arima         0.994        -    0.943         0.013*   0.027*   0.024*  \n",
      "vecm          0.251    0.057        -         0.000*** 0.010*   0.004** \n",
      "tvecm_long_t1 0.996    0.987    1.000             -    0.203    0.485   \n",
      "ann           0.985    0.973    0.990         0.797        -    0.854   \n",
      "ann_long      0.992    0.976    0.996         0.515    0.146        -   \n",
      "\n",
      "\n",
      "$the_nbp\n",
      "$the_nbp$the\n",
      "                 naive    arima     vecm tvecm_long_t1      ann ann_long\n",
      "naive             -    0.000*** 0.676         0.006**  0.044*   0.003** \n",
      "arima         1.000        -    0.947         0.029*   0.092    0.014*  \n",
      "vecm          0.324    0.053        -         0.001*** 0.038*   0.003** \n",
      "tvecm_long_t1 0.994    0.971    0.999             -    0.443    0.183   \n",
      "ann           0.956    0.908    0.962         0.557        -    0.284   \n",
      "ann_long      0.997    0.986    0.997         0.817    0.716        -   \n",
      "\n",
      "$the_nbp$nbp\n",
      "                 naive    arima     vecm tvecm_long_t1      ann ann_long\n",
      "naive             -    0.000*** 0.676         0.006**  0.044*   0.003** \n",
      "arima         1.000        -    0.947         0.029*   0.092    0.014*  \n",
      "vecm          0.324    0.053        -         0.001*** 0.038*   0.003** \n",
      "tvecm_long_t1 0.994    0.971    0.999             -    0.443    0.183   \n",
      "ann           0.956    0.908    0.962         0.557        -    0.284   \n",
      "ann_long      0.997    0.986    0.997         0.817    0.716        -   \n",
      "\n",
      "\n"
     ]
    }
   ],
   "source": [
    "%%R\n",
    "diebold_mariano_spread(hub_pairs, models, horizon, window_size)"
   ]
  },
  {
   "cell_type": "code",
   "execution_count": 7,
   "metadata": {},
   "outputs": [
    {
     "name": "stdout",
     "output_type": "stream",
     "text": [
      "[1] \"MAPE for ttf: 5.95078067443684\"\n",
      "[1] \"RMSE for ttf: 2.92374370973872\"\n",
      "[1] \"MAPE for ttf: 6.09504827799185\"\n",
      "[1] \"RMSE for ttf: 2.91780895245976\"\n"
     ]
    }
   ],
   "source": [
    "%%R\n",
    "\n",
    "hub1_name <- \"ttf\"\n",
    "hub2_name <- \"the\"\n",
    "model1_name <- \"tvecm_long_t1\"\n",
    "model2_name <- \"vecm\"\n",
    "horizon <- 250\n",
    "window_size <- 5\n",
    "\n",
    "model1_filename <- paste0(\"../predictions/test/predictions/\", hub1_name, \"_\", hub2_name, \"_h\", horizon, \"_w\", window_size, \"_\", model1_name, \"_predictions.csv\")\n",
    "model1_predictions <- read.csv(model1_filename)\n",
    "\n",
    "#model2_filename <- paste0(\"../predictions/test/predictions/\", hub1_name, \"_h\", horizon, \"_w\", window_size, \"_\", model2_name, \"_predictions.csv\")\n",
    "#model2_predictions <- read.csv(model2_filename)\n",
    "\n",
    "model2_filename <- paste0(\"../predictions/test/predictions/\", hub1_name, \"_\", hub2_name, \"_h\", horizon, \"_w\", window_size, \"_\", model2_name, \"_predictions.csv\")\n",
    "model2_predictions <- read.csv(model2_filename)\n",
    "\n",
    "actuals_hub1_filename <- paste0(\"../data/interpolated/\", hub1_name, \"_close_interpolated.csv\")\n",
    "actuals_hub1 <- tail(read.csv(actuals_hub1_filename), horizon)\n",
    "colnames(actuals_hub1) <- c(\"Date\", hub1_name)\n",
    "\n",
    "actuals_hub2_filename <- paste0(\"../data/interpolated/\", hub2_name, \"_close_interpolated.csv\")\n",
    "actuals_hub2 <- tail(read.csv(actuals_hub2_filename), horizon)\n",
    "colnames(actuals_hub2) <- c(\"Date\", hub2_name)\n",
    "\n",
    "model1_mape_hub1 <- mape(actuals_hub1[[hub1_name]], model1_predictions[[hub1_name]])*100\n",
    "model1_rmse_hub1 <- rmse(actuals_hub1[[hub1_name]], model1_predictions[[hub1_name]])\n",
    "\n",
    "model2_mape_hub1 <- mape(actuals_hub1[[hub1_name]], model2_predictions[[hub1_name]])*100\n",
    "model2_rmse_hub1 <- rmse(actuals_hub1[[hub1_name]], model2_predictions[[hub1_name]])\n",
    "\n",
    "print(paste0(\"MAPE for \", hub1_name, \": \", model1_mape_hub1))\n",
    "print(paste0(\"RMSE for \", hub1_name, \": \", model1_rmse_hub1))\n",
    "\n",
    "print(paste0(\"MAPE for \", hub1_name, \": \", model2_mape_hub1))\n",
    "print(paste0(\"RMSE for \", hub1_name, \": \", model2_rmse_hub1))"
   ]
  },
  {
   "cell_type": "code",
   "execution_count": 8,
   "metadata": {},
   "outputs": [
    {
     "name": "stdout",
     "output_type": "stream",
     "text": [
      "[1] \"MAPE for the: 5.91787470613681\"\n",
      "[1] \"RMSE for the: 2.91450453591841\"\n",
      "[1] \"MAPE for the: 6.03477430668957\"\n",
      "[1] \"RMSE for the: 2.90185965738467\"\n"
     ]
    }
   ],
   "source": [
    "%%R\n",
    "\n",
    "model1_mape_hub2 <- mape(actuals_hub2[[hub2_name]], model1_predictions[[hub2_name]])*100\n",
    "model1_rmse_hub2 <- rmse(actuals_hub2[[hub2_name]], model1_predictions[[hub2_name]])\n",
    "\n",
    "model2_mape_hub2 <- mape(actuals_hub2[[hub2_name]], model2_predictions[[hub2_name]])*100\n",
    "model2_rmse_hub2 <- rmse(actuals_hub2[[hub2_name]], model2_predictions[[hub2_name]])\n",
    "\n",
    "print(paste0(\"MAPE for \", hub2_name, \": \", model1_mape_hub2))\n",
    "print(paste0(\"RMSE for \", hub2_name, \": \", model1_rmse_hub2))\n",
    "\n",
    "print(paste0(\"MAPE for \", hub2_name, \": \", model2_mape_hub2))\n",
    "print(paste0(\"RMSE for \", hub2_name, \": \", model2_rmse_hub2))"
   ]
  },
  {
   "cell_type": "code",
   "execution_count": 9,
   "metadata": {},
   "outputs": [
    {
     "name": "stdout",
     "output_type": "stream",
     "text": [
      "\n",
      "\tDiebold-Mariano Test\n",
      "\n",
      "data:  model1_hub1_residsmodel2_hub1_resids\n",
      "DM = -0.31266, Forecast horizon = 5, Loss function power = 1, p-value =\n",
      "0.3774\n",
      "alternative hypothesis: less\n",
      "\n"
     ]
    }
   ],
   "source": [
    "%%R\n",
    "model1_hub1_resids <- actuals_hub1[[hub1_name]] - model1_predictions[[hub1_name]]\n",
    "model2_hub1_resids <- actuals_hub1[[hub1_name]] - model2_predictions[[hub1_name]]\n",
    "hub1_dm <- dm.test(model1_hub1_resids, model2_hub1_resids, h = 5, power = 1, alternative = \"less\")\n",
    "hub1_dm"
   ]
  },
  {
   "cell_type": "code",
   "execution_count": 10,
   "metadata": {},
   "outputs": [
    {
     "name": "stdout",
     "output_type": "stream",
     "text": [
      "[1]  0.190307  2.733733  1.237164  5.067614  3.821259 10.077344\n"
     ]
    }
   ],
   "source": [
    "%%R\n",
    "head(model2_hub1_resids)"
   ]
  }
 ],
 "metadata": {
  "kernelspec": {
   "display_name": ".conda",
   "language": "python",
   "name": "python3"
  },
  "language_info": {
   "codemirror_mode": {
    "name": "ipython",
    "version": 3
   },
   "file_extension": ".py",
   "mimetype": "text/x-python",
   "name": "python",
   "nbconvert_exporter": "python",
   "pygments_lexer": "ipython3",
   "version": "3.11.9"
  }
 },
 "nbformat": 4,
 "nbformat_minor": 2
}
