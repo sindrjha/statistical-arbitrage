{
 "cells": [
  {
   "cell_type": "code",
   "execution_count": 15,
   "metadata": {},
   "outputs": [
    {
     "name": "stdout",
     "output_type": "stream",
     "text": [
      "[[1 2 3]\n",
      " [2 4 6]\n",
      " [3 6 9]]\n"
     ]
    }
   ],
   "source": [
    "import numpy as np\n",
    "\n",
    "a = np.array([[1, 2, 3]]).reshape(3, 1)\n",
    "b = np.array([[1, 2, 3]]).reshape(3, 1)\n",
    "\n",
    "print(np.dot(a, b.T))"
   ]
  },
  {
   "cell_type": "code",
   "execution_count": 13,
   "metadata": {},
   "outputs": [
    {
     "data": {
      "text/plain": [
       "array([[1],\n",
       "       [2],\n",
       "       [3]])"
      ]
     },
     "execution_count": 13,
     "metadata": {},
     "output_type": "execute_result"
    }
   ],
   "source": [
    "a.reshape(3, 1)"
   ]
  },
  {
   "cell_type": "code",
   "execution_count": 10,
   "metadata": {},
   "outputs": [
    {
     "data": {
      "text/plain": [
       "array([[ 0.41136455,  1.87334492, -0.60365996,  0.41197526],\n",
       "       [ 1.87334492,  8.5311706 , -2.74905387,  1.87612606],\n",
       "       [-0.60365996, -2.74905387,  0.88584527, -0.60455614],\n",
       "       [ 0.41197526,  1.87612606, -0.60455614,  0.41258687]])"
      ]
     },
     "execution_count": 10,
     "metadata": {},
     "output_type": "execute_result"
    }
   ],
   "source": [
    "k = 4\n",
    "z_t = np.random.randn(k, 1)  # Generating a random vector with standard normal distribution\n",
    "\n",
    "# Calculate the outer product\n",
    "outer_product = np.dot(z_t, z_t.T)\n",
    "outer_product"
   ]
  },
  {
   "cell_type": "code",
   "execution_count": 11,
   "metadata": {},
   "outputs": [
    {
     "name": "stdout",
     "output_type": "stream",
     "text": [
      "[[ 0.64137707]\n",
      " [ 2.92081677]\n",
      " [-0.94119354]\n",
      " [ 0.64232925]]\n"
     ]
    }
   ],
   "source": [
    "print(z_t)"
   ]
  }
 ],
 "metadata": {
  "kernelspec": {
   "display_name": "Python 3",
   "language": "python",
   "name": "python3"
  },
  "language_info": {
   "codemirror_mode": {
    "name": "ipython",
    "version": 3
   },
   "file_extension": ".py",
   "mimetype": "text/x-python",
   "name": "python",
   "nbconvert_exporter": "python",
   "pygments_lexer": "ipython3",
   "version": "3.11.9"
  }
 },
 "nbformat": 4,
 "nbformat_minor": 2
}
