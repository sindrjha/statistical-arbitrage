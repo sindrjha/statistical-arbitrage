{
 "cells": [
  {
   "cell_type": "markdown",
   "metadata": {},
   "source": [
    "# Statistical models in R\n",
    "This notebook is covering:\n",
    "1. Data preprocessing:\n",
    "    1. Aligning all dataframe to 5-day week from 2018-10-01 to 2024-08-30.\n",
    "    2. Interpolating missing values.\n",
    "2. ARMA-models."
   ]
  },
  {
   "cell_type": "code",
   "execution_count": 154,
   "metadata": {},
   "outputs": [],
   "source": [
    "import pandas as pd\n",
    "import plotly.express as px\n",
    "import plotly.graph_objs as go"
   ]
  },
  {
   "cell_type": "code",
   "execution_count": 155,
   "metadata": {},
   "outputs": [
    {
     "name": "stdout",
     "output_type": "stream",
     "text": [
      "Requirement already satisfied: rpy2 in /Users/sindrehaugland/Documents/Master/statistical-arbitrage/.conda/lib/python3.11/site-packages (3.5.16)\n",
      "Requirement already satisfied: cffi>=1.15.1 in /Users/sindrehaugland/Documents/Master/statistical-arbitrage/.conda/lib/python3.11/site-packages (from rpy2) (1.17.1)\n",
      "Requirement already satisfied: jinja2 in /Users/sindrehaugland/Documents/Master/statistical-arbitrage/.conda/lib/python3.11/site-packages (from rpy2) (3.1.4)\n",
      "Requirement already satisfied: tzlocal in /Users/sindrehaugland/Documents/Master/statistical-arbitrage/.conda/lib/python3.11/site-packages (from rpy2) (5.2)\n",
      "Requirement already satisfied: pycparser in /Users/sindrehaugland/Documents/Master/statistical-arbitrage/.conda/lib/python3.11/site-packages (from cffi>=1.15.1->rpy2) (2.22)\n",
      "Requirement already satisfied: MarkupSafe>=2.0 in /Users/sindrehaugland/Documents/Master/statistical-arbitrage/.conda/lib/python3.11/site-packages (from jinja2->rpy2) (2.1.5)\n",
      "Note: you may need to restart the kernel to use updated packages.\n"
     ]
    }
   ],
   "source": [
    "# rpy2 is a Python package that allows you to run R code from Python\n",
    "%pip install rpy2"
   ]
  },
  {
   "cell_type": "code",
   "execution_count": 156,
   "metadata": {},
   "outputs": [
    {
     "name": "stdout",
     "output_type": "stream",
     "text": [
      "The rpy2.ipython extension is already loaded. To reload it, use:\n",
      "  %reload_ext rpy2.ipython\n"
     ]
    }
   ],
   "source": [
    "# Load the rpy2 extension to use R in Jupyter\n",
    "%load_ext rpy2.ipython"
   ]
  },
  {
   "cell_type": "markdown",
   "metadata": {},
   "source": [
    "The magic function `%%R` is used for running R code in Jupyter"
   ]
  },
  {
   "cell_type": "code",
   "execution_count": 157,
   "metadata": {},
   "outputs": [],
   "source": [
    "%%R\n",
    "# Install required packages\n",
    "if (require(\"dplyr\") == FALSE) {\n",
    "  install.packages(\"dplyr\")\n",
    "  library(dplyr)\n",
    "}\n",
    "if (require(\"zoo\") == FALSE) {\n",
    "  install.packages(\"zoo\")\n",
    "  library(zoo)\n",
    "}\n",
    "if (require(\"psych\") == FALSE) {\n",
    "  install.packages(\"psych\")\n",
    "  library(psych)\n",
    "}\n",
    "if (require(\"TSA\") == FALSE) {\n",
    "  install.packages(\"TSA\")\n",
    "  library(TSA)\n",
    "}\n",
    "if (require(\"forecast\") == FALSE) {\n",
    "  install.packages(\"forecast\")\n",
    "  library(forecast)\n",
    "}\n",
    "if (require(\"Metrics\") == FALSE) {\n",
    "  install.packages(\"Metrics\")\n",
    "  library(Metrics)\n",
    "}\n",
    "if (require(\"ggplot2\") == FALSE) {\n",
    "  install.packages(\"ggplot2\")\n",
    "  library(ggplot2)\n",
    "}\n",
    "if (require(\"vars\") == FALSE) {\n",
    "  install.packages(\"vars\")\n",
    "  library(vars)\n",
    "}\n",
    "if (require(\"svars\") == FALSE) {\n",
    "  install.packages(\"svars\")\n",
    "  library(svars)\n",
    "}\n",
    "if (require(\"tsDyn\") == FALSE) {\n",
    "  install.packages(\"tsDyn\")\n",
    "  library(tsDyn)\n",
    "}\n"
   ]
  },
  {
   "cell_type": "code",
   "execution_count": 158,
   "metadata": {},
   "outputs": [],
   "source": [
    "%%R\n",
    "# Load data\n",
    "hub_prices <- list(\n",
    "  nbp = read.csv(\"../../data/interpolated/nbp_close_interpolated.csv\"),\n",
    "  peg = read.csv(\"../../data/interpolated/peg_close_interpolated.csv\"),\n",
    "  the = read.csv(\"../../data/interpolated/the_close_interpolated.csv\"),\n",
    "  ttf = read.csv(\"../../data/interpolated/ttf_close_interpolated.csv\"),\n",
    "  ztp = read.csv(\"../../data/interpolated/ztp_close_interpolated.csv\")\n",
    ")"
   ]
  },
  {
   "cell_type": "code",
   "execution_count": 188,
   "metadata": {},
   "outputs": [],
   "source": [
    "%%R\n",
    "\n",
    "hub1_name <- \"ttf\"\n",
    "hub2_name <- \"the\"\n",
    "\n",
    "hub1 <- hub_prices[[hub1_name]]\n",
    "hub2 <- hub_prices[[hub2_name]]\n",
    "\n",
    "hubs <- data.frame(hub1 = hub1$CLOSE, hub2 = hub2$CLOSE)\n"
   ]
  },
  {
   "cell_type": "code",
   "execution_count": 207,
   "metadata": {},
   "outputs": [],
   "source": [
    "%%R\n",
    "horizon <- 250\n",
    "window_size <- 5\n",
    "train_size <- nrow(hubs) - horizon - window_size\n",
    "hub_train <- hubs[1:train_size+1, ]"
   ]
  },
  {
   "cell_type": "code",
   "execution_count": 190,
   "metadata": {},
   "outputs": [],
   "source": [
    "%%R\n",
    "aics <- c()\n",
    "bics <- c()\n",
    "max_lag <- 20\n",
    "for (p in 1:max_lag) {\n",
    "  vecm <- VECM(hub_train, lag = p,  r = 1, include = \"both\", estim = \"ML\")\n",
    "  aics <- c(aics, AIC(vecm))\n",
    "  bics <- c(bics, BIC(vecm))\n",
    "}"
   ]
  },
  {
   "cell_type": "code",
   "execution_count": 191,
   "metadata": {},
   "outputs": [
    {
     "name": "stdout",
     "output_type": "stream",
     "text": [
      "[1] 16\n"
     ]
    },
    {
     "data": {
      "image/png": "[encoded data removed]",
      "text/plain": [
       "<IPython.core.display.Image object>"
      ]
     },
     "metadata": {},
     "output_type": "display_data"
    }
   ],
   "source": [
    "%%R\n",
    "aic_lags <- which.min(aics)\n",
    "print(aic_lags)\n",
    "plot(1:max_lag, aics, type = \"l\", col = \"red\", xlab = \"Lag\", ylab = \"Information Criterion\", main = \"AIC for VECM\")"
   ]
  },
  {
   "cell_type": "code",
   "execution_count": 192,
   "metadata": {},
   "outputs": [
    {
     "name": "stdout",
     "output_type": "stream",
     "text": [
      "[1] 2\n"
     ]
    },
    {
     "data": {
      "image/png": "[encoded data removed]",
      "text/plain": [
       "<IPython.core.display.Image object>"
      ]
     },
     "metadata": {},
     "output_type": "display_data"
    }
   ],
   "source": [
    "%%R\n",
    "bic_lags <- which.min(bics)\n",
    "print(bic_lags)\n",
    "plot(1:max_lag, bics, type = \"l\", col = \"red\", xlab = \"Lag\", ylab = \"Information Criterion\", main = \"AIC and BIC for VECM\")"
   ]
  },
  {
   "cell_type": "code",
   "execution_count": 194,
   "metadata": {},
   "outputs": [],
   "source": [
    "%%R\n",
    "vecm <- VECM(hub_train, lag = bic_lags,  r = 1, include = \"const\", estim = \"ML\")\n",
    "end_sample_actuals <- tail(hub_train, -(bic_lags + 1))\n",
    "in_sample_prediction <- end_sample_actuals - residuals(vecm)\n",
    "colnames(end_sample_actuals) <- c(hub1_name, hub2_name)\n",
    "colnames(in_sample_prediction) <- c(hub1_name, hub2_name)"
   ]
  },
  {
   "cell_type": "code",
   "execution_count": 195,
   "metadata": {},
   "outputs": [
    {
     "name": "stdout",
     "output_type": "stream",
     "text": [
      "[1] \"MAE for ttf : 2.53\"\n",
      "[1] \"MAE for the : 2.38\"\n"
     ]
    }
   ],
   "source": [
    "%%R\n",
    "hub1_mae <- round(Metrics::mae(end_sample_actuals[[hub1_name]], in_sample_prediction[[hub1_name]]), 2)\n",
    "hub2_mae <- round(Metrics::mae(end_sample_actuals[[hub2_name]], in_sample_prediction[[hub2_name]]), 2)\n",
    "print(paste(\"MAE for\", hub1_name, \":\", hub1_mae))\n",
    "print(paste(\"MAE for\", hub2_name, \":\", hub2_mae))"
   ]
  },
  {
   "cell_type": "code",
   "execution_count": 196,
   "metadata": {},
   "outputs": [],
   "source": [
    "%%R\n",
    "\n",
    "hub1_train_dates <- hub1[1:train_size+1, ]$Date\n",
    "end_sample_dates <- tail(hub1_train_dates, -(bic_lags + 1 ))\n",
    "in_sample_prediction <- cbind(data.frame(Date = end_sample_dates), in_sample_prediction)\n"
   ]
  },
  {
   "cell_type": "code",
   "execution_count": 197,
   "metadata": {},
   "outputs": [],
   "source": [
    "%%R\n",
    "write.csv(in_sample_prediction, paste0(\"../../predictions/in_sample/is_\",hub1_name,\"_\", hub2_name, \"_h\", horizon, \"_w\", window_size, \"_vecm_predictions.csv\"), row.names = FALSE)"
   ]
  },
  {
   "cell_type": "code",
   "execution_count": 198,
   "metadata": {},
   "outputs": [],
   "source": [
    "%%R\n",
    "vecm_predictions <- function(hubs, window_size = 5, horizon = 250) {\n",
    "  \n",
    "  # Initialize empty data frames for storing predictions and actual values\n",
    "  predictions <- data.frame(matrix(ncol = ncol(hubs), nrow = 0))\n",
    "  actuals <- data.frame(matrix(ncol = ncol(hubs), nrow = 0))\n",
    "  \n",
    "  colnames(predictions) <- colnames(hubs)\n",
    "  colnames(actuals) <- colnames(hubs)\n",
    "  \n",
    "  for (i in 1:horizon) {\n",
    "    train_size <- nrow(hubs) - horizon - window_size + i\n",
    "    hub_train <- hubs[1:train_size, ]\n",
    "    \n",
    "    # Fit the VECM model\n",
    "    vecm <- VECM(hub_train, lag = bic_lags, r = 1, include = \"both\", estim = \"ML\")\n",
    "    \n",
    "    # Predict the future values\n",
    "    hub_forecast <- predict(vecm, n.ahead = window_size)\n",
    "    \n",
    "    hub_prediction <- hub_forecast[window_size, , drop = FALSE]\n",
    "    \n",
    "    hub_actual <- hubs[train_size + window_size, ]\n",
    "    \n",
    "    predictions <- rbind(predictions, hub_prediction)\n",
    "    actuals <- rbind(actuals, hub_actual)\n",
    "  }\n",
    "  \n",
    "  # Return both data frames as a list\n",
    "  return(list(predictions = predictions, actuals = actuals))\n",
    "}\n",
    "  "
   ]
  },
  {
   "cell_type": "code",
   "execution_count": 199,
   "metadata": {},
   "outputs": [
    {
     "name": "stdout",
     "output_type": "stream",
     "text": [
      "[1] \"Pair: ttf | the\"\n",
      "[1] \"Window Size: 5\"\n",
      "[1] \"Horizon: 250\"\n",
      "[1] \"ttf: Mean Absolute Error: 2.15439601058386\"\n",
      "[1] \"ttf: Root Mean Squared Error: 3.00820138609321\"\n",
      "[1] \"the: Mean Absolute Error: 2.15991921119847\"\n",
      "[1] \"the: Root Mean Squared Error: 2.86994087281757\"\n"
     ]
    }
   ],
   "source": [
    "%%R\n",
    "horizon <- 250\n",
    "window_size <- 5\n",
    "vecm_output <- vecm_predictions(hubs, window_size = window_size, horizon = horizon)\n",
    "hub1_predictions <- vecm_output$predictions$hub1\n",
    "hub1_actuals <- vecm_output$actuals$hub1\n",
    "hub2_predictions <- vecm_output$predictions$hub2\n",
    "hub2_actuals <- vecm_output$actuals$hub2\n",
    "\n",
    "hub1_mae <- mae(hub1_actuals, hub1_predictions)\n",
    "hub2_mae <- mae(hub2_actuals, hub2_predictions)\n",
    "\n",
    "hub1_rmse <- rmse(hub1_actuals, hub1_predictions)\n",
    "hub2_rmse <- rmse(hub2_actuals, hub2_predictions)\n",
    "print(paste0(\"Pair: \", hub1_name, \" | \", hub2_name))\n",
    "print(paste0(\"Window Size: \", window_size))\n",
    "print(paste0(\"Horizon: \", horizon))\n",
    "print(paste0(hub1_name,\": Mean Absolute Error: \", hub1_mae))\n",
    "print(paste0(hub1_name,\": Root Mean Squared Error: \", hub1_rmse))\n",
    "\n",
    "print(paste0(hub2_name,\": Mean Absolute Error: \", hub2_mae))\n",
    "print(paste0(hub2_name,\": Root Mean Squared Error: \", hub2_rmse))"
   ]
  },
  {
   "cell_type": "code",
   "execution_count": 200,
   "metadata": {},
   "outputs": [],
   "source": [
    "%%R\n",
    "predictions <- vecm_output$predictions\n",
    "actuals <- vecm_output$actuals\n",
    "\n",
    "colnames(predictions) <- c(hub1_name, hub2_name)\n",
    "colnames(actuals) <- c(hub1_name, hub2_name)"
   ]
  },
  {
   "cell_type": "code",
   "execution_count": 201,
   "metadata": {},
   "outputs": [],
   "source": [
    "%%R\n",
    "\n",
    "prediction_dates = tail(hub1$Date, horizon)\n",
    "\n",
    "predictions <- cbind(data.frame(Date = prediction_dates), predictions)\n",
    "\n",
    "actuals <- cbind(data.frame(Date = prediction_dates), actuals)"
   ]
  },
  {
   "cell_type": "code",
   "execution_count": 202,
   "metadata": {},
   "outputs": [],
   "source": [
    "%%R\n",
    "write.csv(predictions, paste0(\"../../predictions/out_of_sample/\",hub1_name,\"_\", hub2_name, \"_h\", horizon, \"_w\", window_size, \"_vecm_predictions.csv\"), row.names = FALSE)"
   ]
  },
  {
   "cell_type": "code",
   "execution_count": 203,
   "metadata": {},
   "outputs": [],
   "source": [
    "%%R\n",
    "hub1_forecast_comparison <- data.frame(\n",
    "  Actual = hub1_actuals,\n",
    "  Forecasted = hub1_predictions\n",
    ")"
   ]
  },
  {
   "cell_type": "code",
   "execution_count": 204,
   "metadata": {},
   "outputs": [
    {
     "data": {
      "application/vnd.plotly.v1+json": {
       "config": {
        "plotlyServerURL": "https://plot.ly"
       },
       "data": [
        {
         "mode": "lines",
         "name": "Actual Prices",
         "type": "scatter",
         "x": [
          "1",
          "2",
          "3",
          "4",
          "5",
          "6",
          "7",
          "8",
          "9",
          "10",
          "11",
          "12",
          "13",
          "14",
          "15",
          "16",
          "17",
          "18",
          "19",
          "20",
          "21",
          "22",
          "23",
          "24",
          "25",
          "26",
          "27",
          "28",
          "29",
          "30",
          "31",
          "32",
          "33",
          "34",
          "35",
          "36",
          "37",
          "38",
          "39",
          "40",
          "41",
          "42",
          "43",
          "44",
          "45",
          "46",
          "47",
          "48",
          "49",
          "50",
          "51",
          "52",
          "53",
          "54",
          "55",
          "56",
          "57",
          "58",
          "59",
          "60",
          "61",
          "62",
          "63",
          "64",
          "65",
          "66",
          "67",
          "68",
          "69",
          "70",
          "71",
          "72",
          "73",
          "74",
          "75",
          "76",
          "77",
          "78",
          "79",
          "80",
          "81",
          "82",
          "83",
          "84",
          "85",
          "86",
          "87",
          "88",
          "89",
          "90",
          "91",
          "92",
          "93",
          "94",
          "95",
          "96",
          "97",
          "98",
          "99",
          "100",
          "101",
          "102",
          "103",
          "104",
          "105",
          "106",
          "107",
          "108",
          "109",
          "110",
          "111",
          "112",
          "113",
          "114",
          "115",
          "116",
          "117",
          "118",
          "119",
          "120",
          "121",
          "122",
          "123",
          "124",
          "125",
          "126",
          "127",
          "128",
          "129",
          "130",
          "131",
          "132",
          "133",
          "134",
          "135",
          "136",
          "137",
          "138",
          "139",
          "140",
          "141",
          "142",
          "143",
          "144",
          "145",
          "146",
          "147",
          "148",
          "149",
          "150",
          "151",
          "152",
          "153",
          "154",
          "155",
          "156",
          "157",
          "158",
          "159",
          "160",
          "161",
          "162",
          "163",
          "164",
          "165",
          "166",
          "167",
          "168",
          "169",
          "170",
          "171",
          "172",
          "173",
          "174",
          "175",
          "176",
          "177",
          "178",
          "179",
          "180",
          "181",
          "182",
          "183",
          "184",
          "185",
          "186",
          "187",
          "188",
          "189",
          "190",
          "191",
          "192",
          "193",
          "194",
          "195",
          "196",
          "197",
          "198",
          "199",
          "200",
          "201",
          "202",
          "203",
          "204",
          "205",
          "206",
          "207",
          "208",
          "209",
          "210",
          "211",
          "212",
          "213",
          "214",
          "215",
          "216",
          "217",
          "218",
          "219",
          "220",
          "221",
          "222",
          "223",
          "224",
          "225",
          "226",
          "227",
          "228",
          "229",
          "230",
          "231",
          "232",
          "233",
          "234",
          "235",
          "236",
          "237",
          "238",
          "239",
          "240",
          "241",
          "242",
          "243",
          "244",
          "245",
          "246",
          "247",
          "248",
          "249",
          "250"
         ],
         "y": [
          34.475,
          36.782,
          37.284,
          39.105,
          39.791,
          44.442,
          40.322,
          39.296,
          39.736,
          41.859,
          39.335,
          36.987,
          38.441,
          36.207,
          38.231,
          43.953,
          49.455,
          46.068,
          53.002,
          53.982,
          48.467,
          48.896,
          50.833,
          50.172,
          51.112,
          51.276,
          49.264,
          49.924,
          50.809,
          50.532,
          50.547,
          48.006,
          47.757,
          48.564,
          48.057,
          44.832,
          46.057,
          45.777,
          48.129,
          46.632,
          47.873,
          47.608,
          47.037,
          45.849,
          45.064,
          45.821,
          44.065,
          44.616,
          46.834,
          46.657,
          43.984,
          42.774,
          40.36,
          42.091,
          43.496,
          40.104,
          38.133,
          39.313,
          39.968,
          38.598,
          36.118,
          34.703,
          35.812,
          34.85,
          33.189,
          35.522,
          32.568,
          33.521,
          34.203,
          34.174,
          34.6203333333333,
          35.0666666666667,
          35.513,
          33.105,
          32.35,
          31.461,
          30.572,
          32.795,
          33.41,
          34.551,
          31.58,
          30.641,
          30.942,
          30.817,
          31.991,
          29.923,
          29.656,
          27.708,
          27.893,
          28.429,
          27.264,
          27.227,
          28.929,
          27.784,
          28.079,
          28.174,
          29.391,
          30.235,
          28.991,
          29.304,
          28.341,
          28.607,
          28.186,
          27.812,
          27.117,
          25.729,
          25.436,
          24.857,
          24.966,
          24.822,
          23.704,
          24.168,
          23.977,
          23.193,
          22.934,
          24.009,
          24.392,
          25.619,
          24.865,
          25.809,
          26.885,
          27.468,
          26.572,
          25.992,
          26.392,
          24.93,
          24.775,
          24.903,
          26.049,
          27.026,
          28.822,
          28.866,
          27.742,
          26.402,
          27.776,
          28.489,
          27.132,
          27.687,
          27.34,
          26.961,
          26.582,
          26.203,
          25.563,
          26.206,
          26.606,
          27.908,
          27.351,
          27.1,
          29.377,
          30.732,
          31.143,
          33.139,
          31.289,
          32.309,
          30.758,
          29.31,
          28.417,
          29.018,
          29.771,
          28.886,
          27.994,
          29.118,
          28.73,
          30.913,
          30.528,
          31.801,
          31.067,
          30.609,
          30.865,
          30.029,
          29.578,
          29.669,
          29.734,
          30.248,
          30.769,
          31.768,
          33.004,
          34.389,
          35.228,
          34.115,
          35.243,
          33.534,
          33.879,
          35.192,
          34.223,
          36.014,
          33.797,
          33.355,
          33.686,
          33.109,
          34.258,
          34.285,
          35.294,
          35.724,
          35.36,
          34.21,
          34.7,
          35.338,
          34.464,
          33.936,
          34.08,
          34.853,
          33.824,
          34.565,
          34.48,
          33.485,
          33.685,
          32.691,
          33.246,
          33.067,
          32.286,
          31.335,
          30.784,
          31.112,
          31.719,
          31.371,
          32.797,
          31.893,
          32.674,
          32.17,
          31.839,
          31.622,
          32.621,
          31.779,
          32.475,
          33.873,
          34.361,
          35.868,
          36.969,
          36.649,
          35.498,
          36.676,
          38.451,
          40.095,
          40.396,
          39.658,
          39.48,
          38.967,
          39.601,
          39.644,
          39.845,
          37.957,
          37.01,
          36.587,
          36.863,
          37.656,
          38.689,
          38.52,
          38.601,
          39.823
         ]
        },
        {
         "mode": "lines",
         "name": "Forecasted Prices",
         "type": "scatter",
         "x": [
          "1",
          "2",
          "3",
          "4",
          "5",
          "6",
          "7",
          "8",
          "9",
          "10",
          "11",
          "12",
          "13",
          "14",
          "15",
          "16",
          "17",
          "18",
          "19",
          "20",
          "21",
          "22",
          "23",
          "24",
          "25",
          "26",
          "27",
          "28",
          "29",
          "30",
          "31",
          "32",
          "33",
          "34",
          "35",
          "36",
          "37",
          "38",
          "39",
          "40",
          "41",
          "42",
          "43",
          "44",
          "45",
          "46",
          "47",
          "48",
          "49",
          "50",
          "51",
          "52",
          "53",
          "54",
          "55",
          "56",
          "57",
          "58",
          "59",
          "60",
          "61",
          "62",
          "63",
          "64",
          "65",
          "66",
          "67",
          "68",
          "69",
          "70",
          "71",
          "72",
          "73",
          "74",
          "75",
          "76",
          "77",
          "78",
          "79",
          "80",
          "81",
          "82",
          "83",
          "84",
          "85",
          "86",
          "87",
          "88",
          "89",
          "90",
          "91",
          "92",
          "93",
          "94",
          "95",
          "96",
          "97",
          "98",
          "99",
          "100",
          "101",
          "102",
          "103",
          "104",
          "105",
          "106",
          "107",
          "108",
          "109",
          "110",
          "111",
          "112",
          "113",
          "114",
          "115",
          "116",
          "117",
          "118",
          "119",
          "120",
          "121",
          "122",
          "123",
          "124",
          "125",
          "126",
          "127",
          "128",
          "129",
          "130",
          "131",
          "132",
          "133",
          "134",
          "135",
          "136",
          "137",
          "138",
          "139",
          "140",
          "141",
          "142",
          "143",
          "144",
          "145",
          "146",
          "147",
          "148",
          "149",
          "150",
          "151",
          "152",
          "153",
          "154",
          "155",
          "156",
          "157",
          "158",
          "159",
          "160",
          "161",
          "162",
          "163",
          "164",
          "165",
          "166",
          "167",
          "168",
          "169",
          "170",
          "171",
          "172",
          "173",
          "174",
          "175",
          "176",
          "177",
          "178",
          "179",
          "180",
          "181",
          "182",
          "183",
          "184",
          "185",
          "186",
          "187",
          "188",
          "189",
          "190",
          "191",
          "192",
          "193",
          "194",
          "195",
          "196",
          "197",
          "198",
          "199",
          "200",
          "201",
          "202",
          "203",
          "204",
          "205",
          "206",
          "207",
          "208",
          "209",
          "210",
          "211",
          "212",
          "213",
          "214",
          "215",
          "216",
          "217",
          "218",
          "219",
          "220",
          "221",
          "222",
          "223",
          "224",
          "225",
          "226",
          "227",
          "228",
          "229",
          "230",
          "231",
          "232",
          "233",
          "234",
          "235",
          "236",
          "237",
          "238",
          "239",
          "240",
          "241",
          "242",
          "243",
          "244",
          "245",
          "246",
          "247",
          "248",
          "249",
          "250"
         ],
         "y": [
          35.13018967827844,
          34.09783727559842,
          36.517406784449705,
          34.812182508339276,
          36.21699957905797,
          33.973105824797656,
          36.60329625161047,
          36.56341859307781,
          38.742131992721525,
          39.229925549767074,
          43.99860845861479,
          39.46553527972777,
          39.65324113415344,
          39.798861933566215,
          40.847317445224824,
          39.031240000061345,
          36.97735994193856,
          38.367772980400495,
          35.70210726177095,
          38.042942018617566,
          43.26149897908701,
          48.4209522129618,
          45.18318991288852,
          53.173548458438155,
          52.955064855859646,
          48.31895572345182,
          49.42642775033983,
          50.60669040360108,
          49.76292817000224,
          50.96676196740197,
          51.035150846217846,
          49.04260936676081,
          50.09155523657319,
          50.678465064868305,
          50.30452719081213,
          50.46724875867096,
          47.67960094939246,
          48.25613232572236,
          48.43290970208921,
          47.75444504605601,
          44.691594914793924,
          46.356916747301916,
          45.42154761359811,
          47.96706021225807,
          46.061365097380325,
          47.88212784935912,
          47.29381552889174,
          46.83583244125841,
          45.76440610624374,
          45.03777597079048,
          45.70028634585751,
          43.76527929135125,
          44.608715284703834,
          46.55217139327333,
          46.0935737766458,
          43.78472896015787,
          42.94646269675504,
          40.29960690187851,
          42.10261680168959,
          42.999523095067644,
          39.605126874453596,
          38.34164939542538,
          39.273238259982854,
          39.43339567912978,
          38.15996601860442,
          35.98194159545911,
          34.706153796092096,
          35.63679469017493,
          34.247500498312725,
          32.94783620290988,
          35.344884861223036,
          31.80091616451174,
          33.5257782188886,
          33.62702977015142,
          33.66635325542419,
          34.17344238811365,
          34.58316150740124,
          35.03506780092756,
          32.624676645601674,
          32.234150874630494,
          31.20927257019301,
          30.226188745350836,
          32.38939500748737,
          32.67004369415896,
          33.93330847722092,
          31.002632235789683,
          30.613055490161262,
          30.600417209509292,
          30.30105743565176,
          31.40865931939829,
          29.449503059257413,
          29.37401321895762,
          27.238549221823742,
          27.704673975636766,
          27.862885193239322,
          26.681600144714505,
          26.8974080569661,
          28.37536205190692,
          27.04997966047501,
          27.755114670021385,
          27.62397267660124,
          28.872151251132646,
          29.54231827705125,
          28.425254812172177,
          28.960206650045887,
          27.830164004427374,
          28.24708983331038,
          27.64538487540108,
          27.369916739829975,
          26.664408192348624,
          25.320593046118308,
          25.10057756922907,
          24.36076760674891,
          24.50359526154852,
          24.257874858409625,
          23.165266404692446,
          23.779805006594067,
          23.331628859187436,
          22.666957396649682,
          22.473778066800616,
          23.46398650376515,
          23.66487346690387,
          24.979503309891076,
          24.132378145921205,
          25.350175910828174,
          26.214836628832483,
          26.74981566073182,
          25.95801700575639,
          25.588452524871286,
          25.950345950968586,
          24.339004436555943,
          24.444370807926628,
          24.362705243578628,
          25.48575428392569,
          26.298644366864526,
          28.145946810542167,
          28.07157788084032,
          27.229193477634805,
          26.082565422926898,
          27.441978520032237,
          27.777566509208416,
          26.535526970736825,
          27.359867155524146,
          26.764431093972146,
          26.51257736336063,
          26.14129550892619,
          25.75966844483084,
          25.109975755635652,
          25.797758855945254,
          26.00340963274465,
          27.345172469405053,
          26.658066305923644,
          26.700239167461206,
          28.94378273760028,
          29.892448864967598,
          30.483156789547813,
          32.653649385296035,
          30.533734806546665,
          32.19465348129293,
          30.15796107983365,
          29.12692606691007,
          28.18001947287335,
          28.68597364999731,
          29.20888840093188,
          28.320507913523183,
          27.661399848270822,
          28.78174727066631,
          28.20421713672198,
          30.30217835948921,
          29.880423203922305,
          31.393391939037713,
          30.44626119050066,
          30.299538089291783,
          30.48163037505987,
          29.55445259894103,
          29.266389037732505,
          29.301781567937347,
          29.255559460235418,
          29.796178816487956,
          30.257063200542685,
          31.247318163016804,
          32.43143219078268,
          33.79136344899288,
          34.642818097362294,
          33.58002618117194,
          35.056578911170256,
          33.008447148626004,
          33.753495223121185,
          34.727197815378375,
          33.66813749560131,
          35.76801771322066,
          33.16416081127455,
          33.30165447393566,
          33.361017751772614,
          32.652726178538195,
          33.95014521806677,
          33.71031764716813,
          34.89471558804596,
          35.19511996449995,
          34.927118093956786,
          33.886127662223174,
          34.508196361999104,
          34.88535927655008,
          33.999705088433544,
          33.69059646383404,
          33.781182245577,
          34.4590892990964,
          33.32257492587037,
          34.6928271018023,
          33.72388135972269,
          33.29960793968403,
          33.58274949052292,
          32.41062229725689,
          33.12637413805739,
          32.75924945122084,
          32.090906794271966,
          31.188476337488364,
          30.683390848334017,
          30.931822639494715,
          31.40211989323581,
          30.987667332134826,
          32.59018012914837,
          31.45131857300623,
          32.52695851074077,
          31.826577162526316,
          31.632442420114618,
          31.423815966002135,
          32.3693316019693,
          31.388475864534755,
          32.30466669164911,
          33.50917572916013,
          33.89344679931191,
          35.485884352848885,
          36.55508625399225,
          36.24158035684884,
          35.29687871604604,
          36.566088517594565,
          38.03146140930003,
          39.576569341588424,
          39.93131735452131,
          39.40070098088938,
          39.368693230922574,
          38.783954363426126,
          39.45259102931805,
          39.34963302909656,
          39.59166939203773,
          37.74307239663685,
          37.08738838754366,
          36.48620049892972,
          36.68215513958356
         ]
        }
       ],
       "layout": {
        "template": {
         "data": {
          "bar": [
           {
            "error_x": {
             "color": "#2a3f5f"
            },
            "error_y": {
             "color": "#2a3f5f"
            },
            "marker": {
             "line": {
              "color": "#E5ECF6",
              "width": 0.5
             },
             "pattern": {
              "fillmode": "overlay",
              "size": 10,
              "solidity": 0.2
             }
            },
            "type": "bar"
           }
          ],
          "barpolar": [
           {
            "marker": {
             "line": {
              "color": "#E5ECF6",
              "width": 0.5
             },
             "pattern": {
              "fillmode": "overlay",
              "size": 10,
              "solidity": 0.2
             }
            },
            "type": "barpolar"
           }
          ],
          "carpet": [
           {
            "aaxis": {
             "endlinecolor": "#2a3f5f",
             "gridcolor": "white",
             "linecolor": "white",
             "minorgridcolor": "white",
             "startlinecolor": "#2a3f5f"
            },
            "baxis": {
             "endlinecolor": "#2a3f5f",
             "gridcolor": "white",
             "linecolor": "white",
             "minorgridcolor": "white",
             "startlinecolor": "#2a3f5f"
            },
            "type": "carpet"
           }
          ],
          "choropleth": [
           {
            "colorbar": {
             "outlinewidth": 0,
             "ticks": ""
            },
            "type": "choropleth"
           }
          ],
          "contour": [
           {
            "colorbar": {
             "outlinewidth": 0,
             "ticks": ""
            },
            "colorscale": [
             [
              0,
              "#0d0887"
             ],
             [
              0.1111111111111111,
              "#46039f"
             ],
             [
              0.2222222222222222,
              "#7201a8"
             ],
             [
              0.3333333333333333,
              "#9c179e"
             ],
             [
              0.4444444444444444,
              "#bd3786"
             ],
             [
              0.5555555555555556,
              "#d8576b"
             ],
             [
              0.6666666666666666,
              "#ed7953"
             ],
             [
              0.7777777777777778,
              "#fb9f3a"
             ],
             [
              0.8888888888888888,
              "#fdca26"
             ],
             [
              1,
              "#f0f921"
             ]
            ],
            "type": "contour"
           }
          ],
          "contourcarpet": [
           {
            "colorbar": {
             "outlinewidth": 0,
             "ticks": ""
            },
            "type": "contourcarpet"
           }
          ],
          "heatmap": [
           {
            "colorbar": {
             "outlinewidth": 0,
             "ticks": ""
            },
            "colorscale": [
             [
              0,
              "#0d0887"
             ],
             [
              0.1111111111111111,
              "#46039f"
             ],
             [
              0.2222222222222222,
              "#7201a8"
             ],
             [
              0.3333333333333333,
              "#9c179e"
             ],
             [
              0.4444444444444444,
              "#bd3786"
             ],
             [
              0.5555555555555556,
              "#d8576b"
             ],
             [
              0.6666666666666666,
              "#ed7953"
             ],
             [
              0.7777777777777778,
              "#fb9f3a"
             ],
             [
              0.8888888888888888,
              "#fdca26"
             ],
             [
              1,
              "#f0f921"
             ]
            ],
            "type": "heatmap"
           }
          ],
          "heatmapgl": [
           {
            "colorbar": {
             "outlinewidth": 0,
             "ticks": ""
            },
            "colorscale": [
             [
              0,
              "#0d0887"
             ],
             [
              0.1111111111111111,
              "#46039f"
             ],
             [
              0.2222222222222222,
              "#7201a8"
             ],
             [
              0.3333333333333333,
              "#9c179e"
             ],
             [
              0.4444444444444444,
              "#bd3786"
             ],
             [
              0.5555555555555556,
              "#d8576b"
             ],
             [
              0.6666666666666666,
              "#ed7953"
             ],
             [
              0.7777777777777778,
              "#fb9f3a"
             ],
             [
              0.8888888888888888,
              "#fdca26"
             ],
             [
              1,
              "#f0f921"
             ]
            ],
            "type": "heatmapgl"
           }
          ],
          "histogram": [
           {
            "marker": {
             "pattern": {
              "fillmode": "overlay",
              "size": 10,
              "solidity": 0.2
             }
            },
            "type": "histogram"
           }
          ],
          "histogram2d": [
           {
            "colorbar": {
             "outlinewidth": 0,
             "ticks": ""
            },
            "colorscale": [
             [
              0,
              "#0d0887"
             ],
             [
              0.1111111111111111,
              "#46039f"
             ],
             [
              0.2222222222222222,
              "#7201a8"
             ],
             [
              0.3333333333333333,
              "#9c179e"
             ],
             [
              0.4444444444444444,
              "#bd3786"
             ],
             [
              0.5555555555555556,
              "#d8576b"
             ],
             [
              0.6666666666666666,
              "#ed7953"
             ],
             [
              0.7777777777777778,
              "#fb9f3a"
             ],
             [
              0.8888888888888888,
              "#fdca26"
             ],
             [
              1,
              "#f0f921"
             ]
            ],
            "type": "histogram2d"
           }
          ],
          "histogram2dcontour": [
           {
            "colorbar": {
             "outlinewidth": 0,
             "ticks": ""
            },
            "colorscale": [
             [
              0,
              "#0d0887"
             ],
             [
              0.1111111111111111,
              "#46039f"
             ],
             [
              0.2222222222222222,
              "#7201a8"
             ],
             [
              0.3333333333333333,
              "#9c179e"
             ],
             [
              0.4444444444444444,
              "#bd3786"
             ],
             [
              0.5555555555555556,
              "#d8576b"
             ],
             [
              0.6666666666666666,
              "#ed7953"
             ],
             [
              0.7777777777777778,
              "#fb9f3a"
             ],
             [
              0.8888888888888888,
              "#fdca26"
             ],
             [
              1,
              "#f0f921"
             ]
            ],
            "type": "histogram2dcontour"
           }
          ],
          "mesh3d": [
           {
            "colorbar": {
             "outlinewidth": 0,
             "ticks": ""
            },
            "type": "mesh3d"
           }
          ],
          "parcoords": [
           {
            "line": {
             "colorbar": {
              "outlinewidth": 0,
              "ticks": ""
             }
            },
            "type": "parcoords"
           }
          ],
          "pie": [
           {
            "automargin": true,
            "type": "pie"
           }
          ],
          "scatter": [
           {
            "fillpattern": {
             "fillmode": "overlay",
             "size": 10,
             "solidity": 0.2
            },
            "type": "scatter"
           }
          ],
          "scatter3d": [
           {
            "line": {
             "colorbar": {
              "outlinewidth": 0,
              "ticks": ""
             }
            },
            "marker": {
             "colorbar": {
              "outlinewidth": 0,
              "ticks": ""
             }
            },
            "type": "scatter3d"
           }
          ],
          "scattercarpet": [
           {
            "marker": {
             "colorbar": {
              "outlinewidth": 0,
              "ticks": ""
             }
            },
            "type": "scattercarpet"
           }
          ],
          "scattergeo": [
           {
            "marker": {
             "colorbar": {
              "outlinewidth": 0,
              "ticks": ""
             }
            },
            "type": "scattergeo"
           }
          ],
          "scattergl": [
           {
            "marker": {
             "colorbar": {
              "outlinewidth": 0,
              "ticks": ""
             }
            },
            "type": "scattergl"
           }
          ],
          "scattermapbox": [
           {
            "marker": {
             "colorbar": {
              "outlinewidth": 0,
              "ticks": ""
             }
            },
            "type": "scattermapbox"
           }
          ],
          "scatterpolar": [
           {
            "marker": {
             "colorbar": {
              "outlinewidth": 0,
              "ticks": ""
             }
            },
            "type": "scatterpolar"
           }
          ],
          "scatterpolargl": [
           {
            "marker": {
             "colorbar": {
              "outlinewidth": 0,
              "ticks": ""
             }
            },
            "type": "scatterpolargl"
           }
          ],
          "scatterternary": [
           {
            "marker": {
             "colorbar": {
              "outlinewidth": 0,
              "ticks": ""
             }
            },
            "type": "scatterternary"
           }
          ],
          "surface": [
           {
            "colorbar": {
             "outlinewidth": 0,
             "ticks": ""
            },
            "colorscale": [
             [
              0,
              "#0d0887"
             ],
             [
              0.1111111111111111,
              "#46039f"
             ],
             [
              0.2222222222222222,
              "#7201a8"
             ],
             [
              0.3333333333333333,
              "#9c179e"
             ],
             [
              0.4444444444444444,
              "#bd3786"
             ],
             [
              0.5555555555555556,
              "#d8576b"
             ],
             [
              0.6666666666666666,
              "#ed7953"
             ],
             [
              0.7777777777777778,
              "#fb9f3a"
             ],
             [
              0.8888888888888888,
              "#fdca26"
             ],
             [
              1,
              "#f0f921"
             ]
            ],
            "type": "surface"
           }
          ],
          "table": [
           {
            "cells": {
             "fill": {
              "color": "#EBF0F8"
             },
             "line": {
              "color": "white"
             }
            },
            "header": {
             "fill": {
              "color": "#C8D4E3"
             },
             "line": {
              "color": "white"
             }
            },
            "type": "table"
           }
          ]
         },
         "layout": {
          "annotationdefaults": {
           "arrowcolor": "#2a3f5f",
           "arrowhead": 0,
           "arrowwidth": 1
          },
          "autotypenumbers": "strict",
          "coloraxis": {
           "colorbar": {
            "outlinewidth": 0,
            "ticks": ""
           }
          },
          "colorscale": {
           "diverging": [
            [
             0,
             "#8e0152"
            ],
            [
             0.1,
             "#c51b7d"
            ],
            [
             0.2,
             "#de77ae"
            ],
            [
             0.3,
             "#f1b6da"
            ],
            [
             0.4,
             "#fde0ef"
            ],
            [
             0.5,
             "#f7f7f7"
            ],
            [
             0.6,
             "#e6f5d0"
            ],
            [
             0.7,
             "#b8e186"
            ],
            [
             0.8,
             "#7fbc41"
            ],
            [
             0.9,
             "#4d9221"
            ],
            [
             1,
             "#276419"
            ]
           ],
           "sequential": [
            [
             0,
             "#0d0887"
            ],
            [
             0.1111111111111111,
             "#46039f"
            ],
            [
             0.2222222222222222,
             "#7201a8"
            ],
            [
             0.3333333333333333,
             "#9c179e"
            ],
            [
             0.4444444444444444,
             "#bd3786"
            ],
            [
             0.5555555555555556,
             "#d8576b"
            ],
            [
             0.6666666666666666,
             "#ed7953"
            ],
            [
             0.7777777777777778,
             "#fb9f3a"
            ],
            [
             0.8888888888888888,
             "#fdca26"
            ],
            [
             1,
             "#f0f921"
            ]
           ],
           "sequentialminus": [
            [
             0,
             "#0d0887"
            ],
            [
             0.1111111111111111,
             "#46039f"
            ],
            [
             0.2222222222222222,
             "#7201a8"
            ],
            [
             0.3333333333333333,
             "#9c179e"
            ],
            [
             0.4444444444444444,
             "#bd3786"
            ],
            [
             0.5555555555555556,
             "#d8576b"
            ],
            [
             0.6666666666666666,
             "#ed7953"
            ],
            [
             0.7777777777777778,
             "#fb9f3a"
            ],
            [
             0.8888888888888888,
             "#fdca26"
            ],
            [
             1,
             "#f0f921"
            ]
           ]
          },
          "colorway": [
           "#636efa",
           "#EF553B",
           "#00cc96",
           "#ab63fa",
           "#FFA15A",
           "#19d3f3",
           "#FF6692",
           "#B6E880",
           "#FF97FF",
           "#FECB52"
          ],
          "font": {
           "color": "#2a3f5f"
          },
          "geo": {
           "bgcolor": "white",
           "lakecolor": "white",
           "landcolor": "#E5ECF6",
           "showlakes": true,
           "showland": true,
           "subunitcolor": "white"
          },
          "hoverlabel": {
           "align": "left"
          },
          "hovermode": "closest",
          "mapbox": {
           "style": "light"
          },
          "paper_bgcolor": "white",
          "plot_bgcolor": "#E5ECF6",
          "polar": {
           "angularaxis": {
            "gridcolor": "white",
            "linecolor": "white",
            "ticks": ""
           },
           "bgcolor": "#E5ECF6",
           "radialaxis": {
            "gridcolor": "white",
            "linecolor": "white",
            "ticks": ""
           }
          },
          "scene": {
           "xaxis": {
            "backgroundcolor": "#E5ECF6",
            "gridcolor": "white",
            "gridwidth": 2,
            "linecolor": "white",
            "showbackground": true,
            "ticks": "",
            "zerolinecolor": "white"
           },
           "yaxis": {
            "backgroundcolor": "#E5ECF6",
            "gridcolor": "white",
            "gridwidth": 2,
            "linecolor": "white",
            "showbackground": true,
            "ticks": "",
            "zerolinecolor": "white"
           },
           "zaxis": {
            "backgroundcolor": "#E5ECF6",
            "gridcolor": "white",
            "gridwidth": 2,
            "linecolor": "white",
            "showbackground": true,
            "ticks": "",
            "zerolinecolor": "white"
           }
          },
          "shapedefaults": {
           "line": {
            "color": "#2a3f5f"
           }
          },
          "ternary": {
           "aaxis": {
            "gridcolor": "white",
            "linecolor": "white",
            "ticks": ""
           },
           "baxis": {
            "gridcolor": "white",
            "linecolor": "white",
            "ticks": ""
           },
           "bgcolor": "#E5ECF6",
           "caxis": {
            "gridcolor": "white",
            "linecolor": "white",
            "ticks": ""
           }
          },
          "title": {
           "x": 0.05
          },
          "xaxis": {
           "automargin": true,
           "gridcolor": "white",
           "linecolor": "white",
           "ticks": "",
           "title": {
            "standoff": 15
           },
           "zerolinecolor": "white",
           "zerolinewidth": 2
          },
          "yaxis": {
           "automargin": true,
           "gridcolor": "white",
           "linecolor": "white",
           "ticks": "",
           "title": {
            "standoff": 15
           },
           "zerolinecolor": "white",
           "zerolinewidth": 2
          }
         }
        },
        "title": {
         "text": "ttf: VECM Actual vs Forecasted Prices"
        },
        "xaxis": {
         "title": {
          "text": "Index"
         }
        },
        "yaxis": {
         "title": {
          "text": "Price"
         }
        }
       }
      }
     },
     "metadata": {},
     "output_type": "display_data"
    }
   ],
   "source": [
    "%R -o hub1_forecast_comparison\n",
    "%R -o hub1_name\n",
    "\n",
    "hub1_forecast_comparison = hub1_forecast_comparison\n",
    "\n",
    "actual_trace = go.Scatter(\n",
    "    x=hub1_forecast_comparison.index,\n",
    "    y=hub1_forecast_comparison['Actual'],\n",
    "    mode='lines',\n",
    "    name='Actual Prices'\n",
    ")\n",
    "\n",
    "forecasted_trace = go.Scatter(\n",
    "    x=hub1_forecast_comparison.index,\n",
    "    y=hub1_forecast_comparison['Forecasted'],\n",
    "    mode='lines',\n",
    "    name='Forecasted Prices'\n",
    ")\n",
    "\n",
    "# Create the plot\n",
    "layout = go.Layout(\n",
    "    title= hub1_name.item() + ': VECM Actual vs Forecasted Prices',\n",
    "    xaxis=dict(title='Index'),\n",
    "    yaxis=dict(title='Price'),\n",
    ")\n",
    "\n",
    "fig = go.Figure(data=[actual_trace, forecasted_trace], layout=layout)\n",
    "fig.show()\n"
   ]
  },
  {
   "cell_type": "code",
   "execution_count": 205,
   "metadata": {},
   "outputs": [],
   "source": [
    "%%R\n",
    "hub2_forecast_comparison <- data.frame(\n",
    "  Actual = hub2_actuals,\n",
    "  Forecasted = hub2_predictions\n",
    ")"
   ]
  },
  {
   "cell_type": "code",
   "execution_count": 206,
   "metadata": {},
   "outputs": [
    {
     "data": {
      "application/vnd.plotly.v1+json": {
       "config": {
        "plotlyServerURL": "https://plot.ly"
       },
       "data": [
        {
         "mode": "lines",
         "name": "Actual Prices",
         "type": "scatter",
         "x": [
          "1",
          "2",
          "3",
          "4",
          "5",
          "6",
          "7",
          "8",
          "9",
          "10",
          "11",
          "12",
          "13",
          "14",
          "15",
          "16",
          "17",
          "18",
          "19",
          "20",
          "21",
          "22",
          "23",
          "24",
          "25",
          "26",
          "27",
          "28",
          "29",
          "30",
          "31",
          "32",
          "33",
          "34",
          "35",
          "36",
          "37",
          "38",
          "39",
          "40",
          "41",
          "42",
          "43",
          "44",
          "45",
          "46",
          "47",
          "48",
          "49",
          "50",
          "51",
          "52",
          "53",
          "54",
          "55",
          "56",
          "57",
          "58",
          "59",
          "60",
          "61",
          "62",
          "63",
          "64",
          "65",
          "66",
          "67",
          "68",
          "69",
          "70",
          "71",
          "72",
          "73",
          "74",
          "75",
          "76",
          "77",
          "78",
          "79",
          "80",
          "81",
          "82",
          "83",
          "84",
          "85",
          "86",
          "87",
          "88",
          "89",
          "90",
          "91",
          "92",
          "93",
          "94",
          "95",
          "96",
          "97",
          "98",
          "99",
          "100",
          "101",
          "102",
          "103",
          "104",
          "105",
          "106",
          "107",
          "108",
          "109",
          "110",
          "111",
          "112",
          "113",
          "114",
          "115",
          "116",
          "117",
          "118",
          "119",
          "120",
          "121",
          "122",
          "123",
          "124",
          "125",
          "126",
          "127",
          "128",
          "129",
          "130",
          "131",
          "132",
          "133",
          "134",
          "135",
          "136",
          "137",
          "138",
          "139",
          "140",
          "141",
          "142",
          "143",
          "144",
          "145",
          "146",
          "147",
          "148",
          "149",
          "150",
          "151",
          "152",
          "153",
          "154",
          "155",
          "156",
          "157",
          "158",
          "159",
          "160",
          "161",
          "162",
          "163",
          "164",
          "165",
          "166",
          "167",
          "168",
          "169",
          "170",
          "171",
          "172",
          "173",
          "174",
          "175",
          "176",
          "177",
          "178",
          "179",
          "180",
          "181",
          "182",
          "183",
          "184",
          "185",
          "186",
          "187",
          "188",
          "189",
          "190",
          "191",
          "192",
          "193",
          "194",
          "195",
          "196",
          "197",
          "198",
          "199",
          "200",
          "201",
          "202",
          "203",
          "204",
          "205",
          "206",
          "207",
          "208",
          "209",
          "210",
          "211",
          "212",
          "213",
          "214",
          "215",
          "216",
          "217",
          "218",
          "219",
          "220",
          "221",
          "222",
          "223",
          "224",
          "225",
          "226",
          "227",
          "228",
          "229",
          "230",
          "231",
          "232",
          "233",
          "234",
          "235",
          "236",
          "237",
          "238",
          "239",
          "240",
          "241",
          "242",
          "243",
          "244",
          "245",
          "246",
          "247",
          "248",
          "249",
          "250"
         ],
         "y": [
          42.753,
          44.069,
          43.462,
          44.531,
          44.902,
          48.254,
          44.49,
          43.685,
          48.697,
          48.057,
          46.578,
          44.781,
          45.73,
          44.633,
          45.869,
          49.677,
          53.954,
          51.543,
          56.704,
          57.981,
          54.642,
          55.142,
          57.177,
          57.43,
          58.032,
          58.365,
          55.62,
          54.894,
          55.407,
          55.238,
          55.486,
          50.42,
          50.237,
          51.215,
          50.923,
          47.409,
          48.095,
          47.877,
          50.318,
          48.919,
          49.722,
          49.899,
          49.134,
          47.972,
          47.17,
          47.566,
          46.006,
          46.129,
          48.357,
          48.31,
          45.667,
          44.348,
          42.089,
          42.965,
          44.273,
          41.023,
          39.088,
          40.224,
          40.817,
          39.469,
          37.06,
          35.676,
          36.879,
          35.782,
          34.211,
          36.423,
          33.682,
          34.451,
          35.068,
          35.32,
          35.6976666666667,
          36.0753333333333,
          36.453,
          33.99,
          32.392,
          31.7185,
          31.045,
          32.755,
          33.843,
          34.695,
          32.052,
          31.083,
          31.285,
          31.301,
          31.301,
          30.457,
          30.238,
          28.277,
          28.7,
          29.314,
          28.43,
          28.678,
          30.073,
          29,
          29.298,
          29.373,
          30.48,
          31.06,
          30.117,
          30.094,
          29.137,
          29.278,
          28.825,
          28.446,
          27.812,
          26.571,
          26.211,
          25.595,
          25.641,
          25.529,
          24.405,
          24.854,
          24.598,
          23.886,
          23.59,
          24.531,
          24.955,
          26.04,
          25.33,
          26.038,
          27.211,
          27.781,
          26.948,
          26.279,
          26.658,
          25.356,
          25.212,
          25.233,
          26.38,
          27.325,
          29.137,
          29.173,
          27.984,
          26.739,
          27.946,
          28.774,
          27.807,
          28.317,
          28.071,
          27.744,
          27.417,
          27.09,
          26.431,
          27.069,
          27.549,
          28.912,
          28.39,
          28.085,
          30.395,
          31.615,
          31.876,
          33.883,
          31.879,
          32.969,
          31.424,
          30.101,
          29.216,
          29.739,
          30.4,
          29.588,
          28.679,
          29.728,
          30.5855,
          31.443,
          31.198,
          32.31,
          31.602,
          31.291,
          31.51,
          30.692,
          30.259,
          30.485,
          30.5,
          30.992,
          31.591,
          32.579,
          33.833,
          35.22,
          36.239,
          34.929,
          35.954,
          34.452,
          34.806,
          35.786,
          34.806,
          36.368,
          34.252,
          33.743,
          34.076,
          33.485,
          34.659,
          34.745,
          35.723,
          36.216,
          35.959,
          34.768,
          35.243,
          35.89,
          35.108,
          34.551,
          34.634,
          35.452,
          34.427,
          38.898,
          38.734,
          38.165,
          38.643,
          37.829,
          38.118,
          37.896,
          37.321,
          36.355,
          35.889,
          36.309,
          37.011,
          36.388,
          37.45,
          36.641,
          37.168,
          36.882,
          36.496,
          36.392,
          37.281,
          36.655,
          37.066,
          38.216,
          38.5,
          39.113,
          40.143,
          39.929,
          38.817,
          39.592,
          41.208,
          42.769,
          43.247,
          42.761,
          42.667,
          42.25,
          42.799,
          42.947,
          42.799,
          40.868,
          39.973,
          39.54,
          39.851,
          40.554,
          41.292,
          41.229,
          40.834,
          41.583
         ]
        },
        {
         "mode": "lines",
         "name": "Forecasted Prices",
         "type": "scatter",
         "x": [
          "1",
          "2",
          "3",
          "4",
          "5",
          "6",
          "7",
          "8",
          "9",
          "10",
          "11",
          "12",
          "13",
          "14",
          "15",
          "16",
          "17",
          "18",
          "19",
          "20",
          "21",
          "22",
          "23",
          "24",
          "25",
          "26",
          "27",
          "28",
          "29",
          "30",
          "31",
          "32",
          "33",
          "34",
          "35",
          "36",
          "37",
          "38",
          "39",
          "40",
          "41",
          "42",
          "43",
          "44",
          "45",
          "46",
          "47",
          "48",
          "49",
          "50",
          "51",
          "52",
          "53",
          "54",
          "55",
          "56",
          "57",
          "58",
          "59",
          "60",
          "61",
          "62",
          "63",
          "64",
          "65",
          "66",
          "67",
          "68",
          "69",
          "70",
          "71",
          "72",
          "73",
          "74",
          "75",
          "76",
          "77",
          "78",
          "79",
          "80",
          "81",
          "82",
          "83",
          "84",
          "85",
          "86",
          "87",
          "88",
          "89",
          "90",
          "91",
          "92",
          "93",
          "94",
          "95",
          "96",
          "97",
          "98",
          "99",
          "100",
          "101",
          "102",
          "103",
          "104",
          "105",
          "106",
          "107",
          "108",
          "109",
          "110",
          "111",
          "112",
          "113",
          "114",
          "115",
          "116",
          "117",
          "118",
          "119",
          "120",
          "121",
          "122",
          "123",
          "124",
          "125",
          "126",
          "127",
          "128",
          "129",
          "130",
          "131",
          "132",
          "133",
          "134",
          "135",
          "136",
          "137",
          "138",
          "139",
          "140",
          "141",
          "142",
          "143",
          "144",
          "145",
          "146",
          "147",
          "148",
          "149",
          "150",
          "151",
          "152",
          "153",
          "154",
          "155",
          "156",
          "157",
          "158",
          "159",
          "160",
          "161",
          "162",
          "163",
          "164",
          "165",
          "166",
          "167",
          "168",
          "169",
          "170",
          "171",
          "172",
          "173",
          "174",
          "175",
          "176",
          "177",
          "178",
          "179",
          "180",
          "181",
          "182",
          "183",
          "184",
          "185",
          "186",
          "187",
          "188",
          "189",
          "190",
          "191",
          "192",
          "193",
          "194",
          "195",
          "196",
          "197",
          "198",
          "199",
          "200",
          "201",
          "202",
          "203",
          "204",
          "205",
          "206",
          "207",
          "208",
          "209",
          "210",
          "211",
          "212",
          "213",
          "214",
          "215",
          "216",
          "217",
          "218",
          "219",
          "220",
          "221",
          "222",
          "223",
          "224",
          "225",
          "226",
          "227",
          "228",
          "229",
          "230",
          "231",
          "232",
          "233",
          "234",
          "235",
          "236",
          "237",
          "238",
          "239",
          "240",
          "241",
          "242",
          "243",
          "244",
          "245",
          "246",
          "247",
          "248",
          "249",
          "250"
         ],
         "y": [
          42.96899619526468,
          42.044558393495656,
          44.14837368604304,
          42.57986728159597,
          43.49744509793589,
          41.45148185503592,
          43.38140358365397,
          42.478544416843185,
          44.05011642836251,
          44.22019864271085,
          48.0662433837733,
          43.539030607292716,
          43.82821373451397,
          47.7196295167212,
          46.637783592813456,
          45.74044746828718,
          43.929271595526046,
          45.10858706411122,
          43.29227050581586,
          45.08857883499004,
          49.053239094793334,
          53.27611741142143,
          50.40634984504,
          57.20375065456127,
          57.204918283431354,
          53.88059596035733,
          55.172967244115746,
          56.67127700835482,
          56.482167793990904,
          57.44731879603143,
          57.691274060692244,
          55.01317473713302,
          55.04809977512099,
          55.359691747254374,
          54.96963095493812,
          55.2941817855324,
          50.42422049045603,
          51.12155106850892,
          51.38015771501204,
          50.83891025019189,
          47.42950014435339,
          48.804292842552314,
          47.908333903461326,
          50.57969991519218,
          48.646666073574,
          50.17592352297519,
          49.92374211779917,
          49.25626724698711,
          48.19571682278274,
          47.44739347256581,
          47.88636763461136,
          46.030355526626124,
          46.56636468805268,
          48.62480128578589,
          48.184697466087776,
          45.769193727478154,
          44.862336563182595,
          42.303048797756446,
          43.557983700647085,
          44.43551395736142,
          40.9241712841537,
          39.660584654820944,
          40.69419425403294,
          40.82971939864985,
          39.4864791487433,
          37.28293664160577,
          36.045568892922255,
          37.15823687947899,
          35.615831600068134,
          34.332187273151554,
          36.76596162334532,
          33.2455502597297,
          34.88995901184219,
          34.99180890836456,
          35.215939357568914,
          35.67241321513422,
          36.04830561744553,
          36.44359467389286,
          33.87336074951516,
          32.82566518639293,
          31.981779121388087,
          31.118911901796995,
          33.00148143833642,
          33.65528194658994,
          34.664492609950756,
          31.864278547158072,
          31.44700827257043,
          31.438971793902315,
          31.248480849483737,
          31.461456594276644,
          30.377219327705323,
          30.29602148711787,
          28.160027738904343,
          28.869648568023386,
          29.127932702903568,
          28.118671448605333,
          28.579768327854502,
          29.90866724414863,
          28.571430290160087,
          29.278773787611254,
          29.14543961634951,
          30.348495550121385,
          30.813326547630908,
          29.846128835839828,
          30.128678224717266,
          28.987593853751207,
          29.315614651928936,
          28.676760506911236,
          28.38079291196064,
          27.70601908631437,
          26.440891372968725,
          26.195887362810577,
          25.43279709081231,
          25.541843110155828,
          25.3174626608667,
          24.172168854005076,
          24.82015676989752,
          24.314422759243378,
          23.671954266850207,
          23.453696645026696,
          24.39846019527386,
          24.624176689903166,
          25.845846898173868,
          24.97248642053777,
          26.03400019446338,
          27.00908414365965,
          27.508540134250122,
          26.707665320976673,
          26.254096795826253,
          26.64101761711718,
          25.089943039482154,
          25.221926480722882,
          25.087920881674226,
          26.25668619041342,
          27.05012693560112,
          28.945892546156884,
          28.812284202829325,
          27.849248793883817,
          26.746303127760402,
          28.066879953911922,
          28.512315841176232,
          27.482326756047502,
          28.317266762315437,
          27.810082373390237,
          27.581272024350618,
          27.25205529483114,
          26.910558391504686,
          26.234189189321174,
          26.964276990513703,
          27.241242252587632,
          28.66574030026305,
          27.95311231371444,
          27.94070874334607,
          30.315489286234378,
          31.161123245765616,
          31.593279384226243,
          33.82033761728138,
          31.446701221056756,
          33.22049042004234,
          31.11714414453207,
          30.150581594949056,
          29.22328407561482,
          29.733872395774384,
          30.211577458892293,
          29.316961557607286,
          28.612801602746888,
          29.751967311535516,
          30.129706522071622,
          31.252182017284074,
          30.9468209492278,
          32.29983760431339,
          31.32660282532355,
          31.269377819713373,
          31.451040101787566,
          30.510478605851496,
          30.230772556022703,
          30.3964255702908,
          30.31612627003565,
          30.863277548796244,
          31.39149433300086,
          32.39336002219005,
          33.616156156418164,
          34.99270504699752,
          35.97483904084101,
          34.67506351706899,
          36.13825779831959,
          34.16354601432021,
          34.94671671568544,
          35.73223226125401,
          34.5931494806533,
          36.57229195934882,
          33.93046696965045,
          34.01143811705699,
          34.12604861673819,
          33.37701254880605,
          34.74813932638959,
          34.53587895150394,
          35.72184202518078,
          36.068761345904775,
          35.84622198575123,
          34.730833326779226,
          35.394608861289996,
          35.80471501611125,
          34.93485019303393,
          34.59206183255785,
          34.665863186357754,
          35.41148004479149,
          34.21384510312344,
          38.572977237081936,
          37.52276358022072,
          37.56844036192991,
          38.09789505711955,
          37.05713531563196,
          37.618294140451376,
          37.221352486855196,
          36.67091804021024,
          35.73700524296879,
          35.31902997601365,
          35.67764972549522,
          36.252310028708955,
          35.59543719876375,
          36.97424024417471,
          35.837585658882254,
          36.72965434793997,
          36.18227709726899,
          35.92159270624323,
          35.81893352907998,
          36.724484445225116,
          35.868934992479375,
          36.58925285620728,
          37.66123887339833,
          37.85349290360302,
          38.76264186145661,
          39.7749957867881,
          39.44846259210942,
          38.47896696218273,
          39.51155394127353,
          40.91425141015144,
          42.38809647359412,
          42.829835067062376,
          42.43743670285195,
          42.484622629251255,
          41.97994714560871,
          42.62413680631828,
          42.60332445545392,
          42.56568452475117,
          40.60967551267761,
          39.97973808694039,
          39.39547771893163,
          39.653508659231626
         ]
        }
       ],
       "layout": {
        "template": {
         "data": {
          "bar": [
           {
            "error_x": {
             "color": "#2a3f5f"
            },
            "error_y": {
             "color": "#2a3f5f"
            },
            "marker": {
             "line": {
              "color": "#E5ECF6",
              "width": 0.5
             },
             "pattern": {
              "fillmode": "overlay",
              "size": 10,
              "solidity": 0.2
             }
            },
            "type": "bar"
           }
          ],
          "barpolar": [
           {
            "marker": {
             "line": {
              "color": "#E5ECF6",
              "width": 0.5
             },
             "pattern": {
              "fillmode": "overlay",
              "size": 10,
              "solidity": 0.2
             }
            },
            "type": "barpolar"
           }
          ],
          "carpet": [
           {
            "aaxis": {
             "endlinecolor": "#2a3f5f",
             "gridcolor": "white",
             "linecolor": "white",
             "minorgridcolor": "white",
             "startlinecolor": "#2a3f5f"
            },
            "baxis": {
             "endlinecolor": "#2a3f5f",
             "gridcolor": "white",
             "linecolor": "white",
             "minorgridcolor": "white",
             "startlinecolor": "#2a3f5f"
            },
            "type": "carpet"
           }
          ],
          "choropleth": [
           {
            "colorbar": {
             "outlinewidth": 0,
             "ticks": ""
            },
            "type": "choropleth"
           }
          ],
          "contour": [
           {
            "colorbar": {
             "outlinewidth": 0,
             "ticks": ""
            },
            "colorscale": [
             [
              0,
              "#0d0887"
             ],
             [
              0.1111111111111111,
              "#46039f"
             ],
             [
              0.2222222222222222,
              "#7201a8"
             ],
             [
              0.3333333333333333,
              "#9c179e"
             ],
             [
              0.4444444444444444,
              "#bd3786"
             ],
             [
              0.5555555555555556,
              "#d8576b"
             ],
             [
              0.6666666666666666,
              "#ed7953"
             ],
             [
              0.7777777777777778,
              "#fb9f3a"
             ],
             [
              0.8888888888888888,
              "#fdca26"
             ],
             [
              1,
              "#f0f921"
             ]
            ],
            "type": "contour"
           }
          ],
          "contourcarpet": [
           {
            "colorbar": {
             "outlinewidth": 0,
             "ticks": ""
            },
            "type": "contourcarpet"
           }
          ],
          "heatmap": [
           {
            "colorbar": {
             "outlinewidth": 0,
             "ticks": ""
            },
            "colorscale": [
             [
              0,
              "#0d0887"
             ],
             [
              0.1111111111111111,
              "#46039f"
             ],
             [
              0.2222222222222222,
              "#7201a8"
             ],
             [
              0.3333333333333333,
              "#9c179e"
             ],
             [
              0.4444444444444444,
              "#bd3786"
             ],
             [
              0.5555555555555556,
              "#d8576b"
             ],
             [
              0.6666666666666666,
              "#ed7953"
             ],
             [
              0.7777777777777778,
              "#fb9f3a"
             ],
             [
              0.8888888888888888,
              "#fdca26"
             ],
             [
              1,
              "#f0f921"
             ]
            ],
            "type": "heatmap"
           }
          ],
          "heatmapgl": [
           {
            "colorbar": {
             "outlinewidth": 0,
             "ticks": ""
            },
            "colorscale": [
             [
              0,
              "#0d0887"
             ],
             [
              0.1111111111111111,
              "#46039f"
             ],
             [
              0.2222222222222222,
              "#7201a8"
             ],
             [
              0.3333333333333333,
              "#9c179e"
             ],
             [
              0.4444444444444444,
              "#bd3786"
             ],
             [
              0.5555555555555556,
              "#d8576b"
             ],
             [
              0.6666666666666666,
              "#ed7953"
             ],
             [
              0.7777777777777778,
              "#fb9f3a"
             ],
             [
              0.8888888888888888,
              "#fdca26"
             ],
             [
              1,
              "#f0f921"
             ]
            ],
            "type": "heatmapgl"
           }
          ],
          "histogram": [
           {
            "marker": {
             "pattern": {
              "fillmode": "overlay",
              "size": 10,
              "solidity": 0.2
             }
            },
            "type": "histogram"
           }
          ],
          "histogram2d": [
           {
            "colorbar": {
             "outlinewidth": 0,
             "ticks": ""
            },
            "colorscale": [
             [
              0,
              "#0d0887"
             ],
             [
              0.1111111111111111,
              "#46039f"
             ],
             [
              0.2222222222222222,
              "#7201a8"
             ],
             [
              0.3333333333333333,
              "#9c179e"
             ],
             [
              0.4444444444444444,
              "#bd3786"
             ],
             [
              0.5555555555555556,
              "#d8576b"
             ],
             [
              0.6666666666666666,
              "#ed7953"
             ],
             [
              0.7777777777777778,
              "#fb9f3a"
             ],
             [
              0.8888888888888888,
              "#fdca26"
             ],
             [
              1,
              "#f0f921"
             ]
            ],
            "type": "histogram2d"
           }
          ],
          "histogram2dcontour": [
           {
            "colorbar": {
             "outlinewidth": 0,
             "ticks": ""
            },
            "colorscale": [
             [
              0,
              "#0d0887"
             ],
             [
              0.1111111111111111,
              "#46039f"
             ],
             [
              0.2222222222222222,
              "#7201a8"
             ],
             [
              0.3333333333333333,
              "#9c179e"
             ],
             [
              0.4444444444444444,
              "#bd3786"
             ],
             [
              0.5555555555555556,
              "#d8576b"
             ],
             [
              0.6666666666666666,
              "#ed7953"
             ],
             [
              0.7777777777777778,
              "#fb9f3a"
             ],
             [
              0.8888888888888888,
              "#fdca26"
             ],
             [
              1,
              "#f0f921"
             ]
            ],
            "type": "histogram2dcontour"
           }
          ],
          "mesh3d": [
           {
            "colorbar": {
             "outlinewidth": 0,
             "ticks": ""
            },
            "type": "mesh3d"
           }
          ],
          "parcoords": [
           {
            "line": {
             "colorbar": {
              "outlinewidth": 0,
              "ticks": ""
             }
            },
            "type": "parcoords"
           }
          ],
          "pie": [
           {
            "automargin": true,
            "type": "pie"
           }
          ],
          "scatter": [
           {
            "fillpattern": {
             "fillmode": "overlay",
             "size": 10,
             "solidity": 0.2
            },
            "type": "scatter"
           }
          ],
          "scatter3d": [
           {
            "line": {
             "colorbar": {
              "outlinewidth": 0,
              "ticks": ""
             }
            },
            "marker": {
             "colorbar": {
              "outlinewidth": 0,
              "ticks": ""
             }
            },
            "type": "scatter3d"
           }
          ],
          "scattercarpet": [
           {
            "marker": {
             "colorbar": {
              "outlinewidth": 0,
              "ticks": ""
             }
            },
            "type": "scattercarpet"
           }
          ],
          "scattergeo": [
           {
            "marker": {
             "colorbar": {
              "outlinewidth": 0,
              "ticks": ""
             }
            },
            "type": "scattergeo"
           }
          ],
          "scattergl": [
           {
            "marker": {
             "colorbar": {
              "outlinewidth": 0,
              "ticks": ""
             }
            },
            "type": "scattergl"
           }
          ],
          "scattermapbox": [
           {
            "marker": {
             "colorbar": {
              "outlinewidth": 0,
              "ticks": ""
             }
            },
            "type": "scattermapbox"
           }
          ],
          "scatterpolar": [
           {
            "marker": {
             "colorbar": {
              "outlinewidth": 0,
              "ticks": ""
             }
            },
            "type": "scatterpolar"
           }
          ],
          "scatterpolargl": [
           {
            "marker": {
             "colorbar": {
              "outlinewidth": 0,
              "ticks": ""
             }
            },
            "type": "scatterpolargl"
           }
          ],
          "scatterternary": [
           {
            "marker": {
             "colorbar": {
              "outlinewidth": 0,
              "ticks": ""
             }
            },
            "type": "scatterternary"
           }
          ],
          "surface": [
           {
            "colorbar": {
             "outlinewidth": 0,
             "ticks": ""
            },
            "colorscale": [
             [
              0,
              "#0d0887"
             ],
             [
              0.1111111111111111,
              "#46039f"
             ],
             [
              0.2222222222222222,
              "#7201a8"
             ],
             [
              0.3333333333333333,
              "#9c179e"
             ],
             [
              0.4444444444444444,
              "#bd3786"
             ],
             [
              0.5555555555555556,
              "#d8576b"
             ],
             [
              0.6666666666666666,
              "#ed7953"
             ],
             [
              0.7777777777777778,
              "#fb9f3a"
             ],
             [
              0.8888888888888888,
              "#fdca26"
             ],
             [
              1,
              "#f0f921"
             ]
            ],
            "type": "surface"
           }
          ],
          "table": [
           {
            "cells": {
             "fill": {
              "color": "#EBF0F8"
             },
             "line": {
              "color": "white"
             }
            },
            "header": {
             "fill": {
              "color": "#C8D4E3"
             },
             "line": {
              "color": "white"
             }
            },
            "type": "table"
           }
          ]
         },
         "layout": {
          "annotationdefaults": {
           "arrowcolor": "#2a3f5f",
           "arrowhead": 0,
           "arrowwidth": 1
          },
          "autotypenumbers": "strict",
          "coloraxis": {
           "colorbar": {
            "outlinewidth": 0,
            "ticks": ""
           }
          },
          "colorscale": {
           "diverging": [
            [
             0,
             "#8e0152"
            ],
            [
             0.1,
             "#c51b7d"
            ],
            [
             0.2,
             "#de77ae"
            ],
            [
             0.3,
             "#f1b6da"
            ],
            [
             0.4,
             "#fde0ef"
            ],
            [
             0.5,
             "#f7f7f7"
            ],
            [
             0.6,
             "#e6f5d0"
            ],
            [
             0.7,
             "#b8e186"
            ],
            [
             0.8,
             "#7fbc41"
            ],
            [
             0.9,
             "#4d9221"
            ],
            [
             1,
             "#276419"
            ]
           ],
           "sequential": [
            [
             0,
             "#0d0887"
            ],
            [
             0.1111111111111111,
             "#46039f"
            ],
            [
             0.2222222222222222,
             "#7201a8"
            ],
            [
             0.3333333333333333,
             "#9c179e"
            ],
            [
             0.4444444444444444,
             "#bd3786"
            ],
            [
             0.5555555555555556,
             "#d8576b"
            ],
            [
             0.6666666666666666,
             "#ed7953"
            ],
            [
             0.7777777777777778,
             "#fb9f3a"
            ],
            [
             0.8888888888888888,
             "#fdca26"
            ],
            [
             1,
             "#f0f921"
            ]
           ],
           "sequentialminus": [
            [
             0,
             "#0d0887"
            ],
            [
             0.1111111111111111,
             "#46039f"
            ],
            [
             0.2222222222222222,
             "#7201a8"
            ],
            [
             0.3333333333333333,
             "#9c179e"
            ],
            [
             0.4444444444444444,
             "#bd3786"
            ],
            [
             0.5555555555555556,
             "#d8576b"
            ],
            [
             0.6666666666666666,
             "#ed7953"
            ],
            [
             0.7777777777777778,
             "#fb9f3a"
            ],
            [
             0.8888888888888888,
             "#fdca26"
            ],
            [
             1,
             "#f0f921"
            ]
           ]
          },
          "colorway": [
           "#636efa",
           "#EF553B",
           "#00cc96",
           "#ab63fa",
           "#FFA15A",
           "#19d3f3",
           "#FF6692",
           "#B6E880",
           "#FF97FF",
           "#FECB52"
          ],
          "font": {
           "color": "#2a3f5f"
          },
          "geo": {
           "bgcolor": "white",
           "lakecolor": "white",
           "landcolor": "#E5ECF6",
           "showlakes": true,
           "showland": true,
           "subunitcolor": "white"
          },
          "hoverlabel": {
           "align": "left"
          },
          "hovermode": "closest",
          "mapbox": {
           "style": "light"
          },
          "paper_bgcolor": "white",
          "plot_bgcolor": "#E5ECF6",
          "polar": {
           "angularaxis": {
            "gridcolor": "white",
            "linecolor": "white",
            "ticks": ""
           },
           "bgcolor": "#E5ECF6",
           "radialaxis": {
            "gridcolor": "white",
            "linecolor": "white",
            "ticks": ""
           }
          },
          "scene": {
           "xaxis": {
            "backgroundcolor": "#E5ECF6",
            "gridcolor": "white",
            "gridwidth": 2,
            "linecolor": "white",
            "showbackground": true,
            "ticks": "",
            "zerolinecolor": "white"
           },
           "yaxis": {
            "backgroundcolor": "#E5ECF6",
            "gridcolor": "white",
            "gridwidth": 2,
            "linecolor": "white",
            "showbackground": true,
            "ticks": "",
            "zerolinecolor": "white"
           },
           "zaxis": {
            "backgroundcolor": "#E5ECF6",
            "gridcolor": "white",
            "gridwidth": 2,
            "linecolor": "white",
            "showbackground": true,
            "ticks": "",
            "zerolinecolor": "white"
           }
          },
          "shapedefaults": {
           "line": {
            "color": "#2a3f5f"
           }
          },
          "ternary": {
           "aaxis": {
            "gridcolor": "white",
            "linecolor": "white",
            "ticks": ""
           },
           "baxis": {
            "gridcolor": "white",
            "linecolor": "white",
            "ticks": ""
           },
           "bgcolor": "#E5ECF6",
           "caxis": {
            "gridcolor": "white",
            "linecolor": "white",
            "ticks": ""
           }
          },
          "title": {
           "x": 0.05
          },
          "xaxis": {
           "automargin": true,
           "gridcolor": "white",
           "linecolor": "white",
           "ticks": "",
           "title": {
            "standoff": 15
           },
           "zerolinecolor": "white",
           "zerolinewidth": 2
          },
          "yaxis": {
           "automargin": true,
           "gridcolor": "white",
           "linecolor": "white",
           "ticks": "",
           "title": {
            "standoff": 15
           },
           "zerolinecolor": "white",
           "zerolinewidth": 2
          }
         }
        },
        "title": {
         "text": "the: VECM Actual vs Forecasted Prices"
        },
        "xaxis": {
         "title": {
          "text": "Index"
         }
        },
        "yaxis": {
         "title": {
          "text": "Price"
         }
        }
       }
      }
     },
     "metadata": {},
     "output_type": "display_data"
    }
   ],
   "source": [
    "%R -o hub2_forecast_comparison\n",
    "%R -o hub2_name\n",
    "\n",
    "hub2_forecast_comparison = hub2_forecast_comparison\n",
    "\n",
    "actual_trace = go.Scatter(\n",
    "    x=hub2_forecast_comparison.index,\n",
    "    y=hub2_forecast_comparison['Actual'],\n",
    "    mode='lines',\n",
    "    name='Actual Prices'\n",
    ")\n",
    "\n",
    "forecasted_trace = go.Scatter(\n",
    "    x=hub2_forecast_comparison.index,\n",
    "    y=hub2_forecast_comparison['Forecasted'],\n",
    "    mode='lines',\n",
    "    name='Forecasted Prices'\n",
    ")\n",
    "\n",
    "# Create the plot\n",
    "layout = go.Layout(\n",
    "    title= hub2_name.item() + ': VECM Actual vs Forecasted Prices',\n",
    "    xaxis=dict(title='Index'),\n",
    "    yaxis=dict(title='Price'),\n",
    ")\n",
    "\n",
    "fig = go.Figure(data=[actual_trace, forecasted_trace], layout=layout)\n",
    "fig.show()\n"
   ]
  }
 ],
 "metadata": {
  "kernelspec": {
   "display_name": "Python 3",
   "language": "python",
   "name": "python3"
  },
  "language_info": {
   "codemirror_mode": {
    "name": "ipython",
    "version": 3
   },
   "file_extension": ".py",
   "mimetype": "text/x-python",
   "name": "python",
   "nbconvert_exporter": "python",
   "pygments_lexer": "ipython3",
   "version": "3.11.9"
  }
 },
 "nbformat": 4,
 "nbformat_minor": 2
}
