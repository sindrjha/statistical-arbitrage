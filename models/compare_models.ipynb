{
 "cells": [
  {
   "cell_type": "markdown",
   "metadata": {},
   "source": [
    "# Statistical models in R\n",
    "This notebook is covering:\n",
    "1. Comparing models using MAE and RMSE as well as performing Diebold-Mariano"
   ]
  },
  {
   "cell_type": "code",
   "execution_count": 87,
   "metadata": {},
   "outputs": [],
   "source": [
    "import pandas as pd\n",
    "import plotly.express as px\n",
    "import plotly.graph_objs as go"
   ]
  },
  {
   "cell_type": "code",
   "execution_count": 88,
   "metadata": {},
   "outputs": [
    {
     "name": "stdout",
     "output_type": "stream",
     "text": [
      "Requirement already satisfied: rpy2 in /Users/sindrehaugland/Documents/Master/statistical-arbitrage/.conda/lib/python3.11/site-packages (3.5.16)\n",
      "Requirement already satisfied: cffi>=1.15.1 in /Users/sindrehaugland/Documents/Master/statistical-arbitrage/.conda/lib/python3.11/site-packages (from rpy2) (1.17.1)\n",
      "Requirement already satisfied: jinja2 in /Users/sindrehaugland/Documents/Master/statistical-arbitrage/.conda/lib/python3.11/site-packages (from rpy2) (3.1.4)\n",
      "Requirement already satisfied: tzlocal in /Users/sindrehaugland/Documents/Master/statistical-arbitrage/.conda/lib/python3.11/site-packages (from rpy2) (5.2)\n",
      "Requirement already satisfied: pycparser in /Users/sindrehaugland/Documents/Master/statistical-arbitrage/.conda/lib/python3.11/site-packages (from cffi>=1.15.1->rpy2) (2.22)\n",
      "Requirement already satisfied: MarkupSafe>=2.0 in /Users/sindrehaugland/Documents/Master/statistical-arbitrage/.conda/lib/python3.11/site-packages (from jinja2->rpy2) (2.1.5)\n",
      "Note: you may need to restart the kernel to use updated packages.\n"
     ]
    }
   ],
   "source": [
    "# rpy2 is a Python package that allows you to run R code from Python\n",
    "%pip install rpy2"
   ]
  },
  {
   "cell_type": "code",
   "execution_count": 89,
   "metadata": {},
   "outputs": [
    {
     "name": "stdout",
     "output_type": "stream",
     "text": [
      "The rpy2.ipython extension is already loaded. To reload it, use:\n",
      "  %reload_ext rpy2.ipython\n"
     ]
    }
   ],
   "source": [
    "# Load the rpy2 extension to use R in Jupyter\n",
    "%load_ext rpy2.ipython"
   ]
  },
  {
   "cell_type": "markdown",
   "metadata": {},
   "source": [
    "The magic function `%%R` is used for running R code in Jupyter"
   ]
  },
  {
   "cell_type": "code",
   "execution_count": 90,
   "metadata": {},
   "outputs": [
    {
     "name": "stdout",
     "output_type": "stream",
     "text": [
      "$ttf_the\n",
      "$ttf_the$ttf\n",
      "            mape  rmse\n",
      "naive       6.1  2.96 \n",
      "arima      6.11  2.97 \n",
      "vecm        6.1  2.92 \n",
      "vecm_short 6.08~ 2.91~\n",
      "tvecm_t1   6.26  2.95 \n",
      "tvecm_t2   6.79  4.12 \n",
      "\n",
      "$ttf_the$the\n",
      "            mape  rmse\n",
      "naive      6.02~ 2.94 \n",
      "arima      6.03  2.95 \n",
      "vecm       6.03   2.9~\n",
      "vecm_short 6.02~  2.9~\n",
      "tvecm_t1   6.22  2.95 \n",
      "tvecm_t2   6.67  4.02 \n",
      "\n",
      "\n",
      "$ttf_nbp\n",
      "$ttf_nbp$ttf\n",
      "            mape  rmse\n",
      "naive       6.1  2.96 \n",
      "arima      6.11  2.97 \n",
      "vecm       5.91  2.94 \n",
      "vecm_short 5.88~ 2.93~\n",
      "tvecm_t1   6.53  3.04 \n",
      "tvecm_t2   6.17  2.97 \n",
      "\n",
      "$ttf_nbp$nbp\n",
      "            mape  rmse\n",
      "naive       6.5  3.09 \n",
      "arima      6.51  3.08 \n",
      "vecm        6.2  3.03 \n",
      "vecm_short 6.17~ 3.02~\n",
      "tvecm_t1   6.51  3.06 \n",
      "tvecm_t2    6.9   3.2 \n",
      "\n",
      "\n",
      "$the_nbp\n",
      "$the_nbp$the\n",
      "            mape  rmse\n",
      "naive      6.02  2.94 \n",
      "arima      6.03  2.95 \n",
      "vecm       5.86  2.93 \n",
      "vecm_short 5.84~ 2.92~\n",
      "tvecm_t1   6.46  3.04 \n",
      "tvecm_t2   6.49  3.07 \n",
      "\n",
      "$the_nbp$nbp\n",
      "            mape  rmse\n",
      "naive       6.5  3.09 \n",
      "arima      6.51  3.08 \n",
      "vecm       6.23  3.03~\n",
      "vecm_short  6.2~ 3.03~\n",
      "tvecm_t1   6.53  3.07 \n",
      "tvecm_t2   7.02  3.24 \n",
      "\n",
      "\n"
     ]
    }
   ],
   "source": [
    "%%R\n",
    "\n",
    "# Define the hub pairs and models\n",
    "hub_pairs <- list(c(\"ttf\", \"the\"),c(\"ttf\", \"nbp\"), c(\"the\", \"nbp\"))\n",
    "models <- c(\"naive\", \"arima\", \"vecm\", \"vecm_short\", \"tvecm_t1\", \"tvecm_t2\")\n",
    "horizon <- 250\n",
    "window_size <- 5\n",
    "\n",
    "source(\"compare_models.r\")\n",
    "\n",
    "results_list <- compare_error_metrics(hub_pairs, models, horizon, window_size)\n",
    "\n"
   ]
  },
  {
   "cell_type": "code",
   "execution_count": null,
   "metadata": {},
   "outputs": [],
   "source": []
  },
  {
   "cell_type": "code",
   "execution_count": 91,
   "metadata": {},
   "outputs": [
    {
     "name": "stdout",
     "output_type": "stream",
     "text": [
      "$ttf_the\n",
      "$ttf_the$ttf\n",
      "              naive    arima     vecm vecm_short tvecm_t1 tvecm_t2\n",
      "naive          -    0.339    0.536      0.564    0.314    0.134   \n",
      "arima      0.661        -    0.555      0.583    0.322    0.138   \n",
      "vecm       0.464    0.445        -      0.973    0.174    0.111   \n",
      "vecm_short 0.436    0.417    0.027*         -    0.153    0.104   \n",
      "tvecm_t1   0.686    0.678    0.826      0.847        -    0.232   \n",
      "tvecm_t2   0.866    0.862    0.889      0.896    0.768        -   \n",
      "\n",
      "$ttf_the$the\n",
      "              naive    arima     vecm vecm_short tvecm_t1 tvecm_t2\n",
      "naive          -    0.414    0.521      0.543    0.285    0.142   \n",
      "arima      0.586        -    0.532      0.554    0.289    0.144   \n",
      "vecm       0.479    0.468        -      0.940    0.133    0.116   \n",
      "vecm_short 0.457    0.446    0.060          -    0.117    0.109   \n",
      "tvecm_t1   0.715    0.711    0.867      0.883        -    0.266   \n",
      "tvecm_t2   0.858    0.856    0.884      0.891    0.734        -   \n",
      "\n",
      "\n",
      "$ttf_nbp\n",
      "$ttf_nbp$ttf\n",
      "              naive    arima     vecm vecm_short tvecm_t1 tvecm_t2\n",
      "naive          -    0.339    0.972      0.977    0.046*   0.318   \n",
      "arima      0.661        -    0.987      0.990    0.054    0.352   \n",
      "vecm       0.028*   0.013*       -      0.987    0.018*   0.031*  \n",
      "vecm_short 0.023*   0.010*   0.013*         -    0.017*   0.027*  \n",
      "tvecm_t1   0.954    0.946    0.982      0.983        -    0.966   \n",
      "tvecm_t2   0.682    0.648    0.969      0.973    0.034*       -   \n",
      "\n",
      "$ttf_nbp$nbp\n",
      "              naive    arima     vecm vecm_short tvecm_t1 tvecm_t2\n",
      "naive          -    0.285    0.964      0.965    0.593    0.014*  \n",
      "arima      0.715        -    0.976      0.976    0.665    0.017*  \n",
      "vecm       0.036*   0.024*       -      0.882    0.061    0.009** \n",
      "vecm_short 0.035*   0.024*   0.118          -    0.061    0.009** \n",
      "tvecm_t1   0.407    0.335    0.939      0.939        -    0.004** \n",
      "tvecm_t2   0.986    0.983    0.991      0.991    0.996        -   \n",
      "\n",
      "\n",
      "$the_nbp\n",
      "$the_nbp$the\n",
      "              naive    arima     vecm vecm_short tvecm_t1 tvecm_t2\n",
      "naive          -    0.414    0.957      0.965    0.028*   0.014*  \n",
      "arima      0.586        -    0.979      0.983    0.033*   0.015*  \n",
      "vecm       0.043*   0.021*       -      0.987    0.011*   0.004** \n",
      "vecm_short 0.035*   0.017*   0.013*         -    0.010*   0.004** \n",
      "tvecm_t1   0.972    0.967    0.989      0.990        -    0.198   \n",
      "tvecm_t2   0.986    0.985    0.996      0.996    0.802        -   \n",
      "\n",
      "$the_nbp$nbp\n",
      "              naive    arima     vecm vecm_short tvecm_t1 tvecm_t2\n",
      "naive          -    0.285    0.951      0.954    0.386    0.004** \n",
      "arima      0.715        -    0.967      0.968    0.486    0.004** \n",
      "vecm       0.049*   0.033*       -      0.905    0.041*   0.002** \n",
      "vecm_short 0.046*   0.032*   0.095          -    0.041*   0.003** \n",
      "tvecm_t1   0.614    0.514    0.959      0.959        -    0.001***\n",
      "tvecm_t2   0.996    0.996    0.998      0.997    0.999        -   \n",
      "\n",
      "\n"
     ]
    }
   ],
   "source": [
    "%%R\n",
    "source(\"compare_models.r\")\n",
    "diebold_mariano(hub_pairs, models, horizon, window_size)"
   ]
  },
  {
   "cell_type": "code",
   "execution_count": 92,
   "metadata": {},
   "outputs": [
    {
     "name": "stdout",
     "output_type": "stream",
     "text": [
      "[1] \"MAPE for ttf: 6.79094937667706\"\n",
      "[1] \"RMSE for ttf: 4.12372146863511\"\n",
      "[1] \"MAPE for ttf: 6.09629307101034\"\n",
      "[1] \"RMSE for ttf: 2.96090183926752\"\n"
     ]
    }
   ],
   "source": [
    "%%R\n",
    "\n",
    "hub1_name <- \"ttf\"\n",
    "hub2_name <- \"the\"\n",
    "model1_name <- \"tvecm_t2\"\n",
    "model2_name <- \"naive\"\n",
    "\n",
    "model1_filename <- paste0(\"../predictions/test/predictions/\", hub1_name, \"_\", hub2_name, \"_h\", horizon, \"_w\", window_size, \"_\", model1_name, \"_predictions.csv\")\n",
    "model1_predictions <- read.csv(model1_filename)\n",
    "\n",
    "model2_filename <- paste0(\"../predictions/test/predictions/\", hub1_name, \"_h\", horizon, \"_w\", window_size, \"_\", model2_name, \"_predictions.csv\")\n",
    "model2_predictions <- read.csv(model2_filename)\n",
    "\n",
    "actuals_hub1_filename <- paste0(\"../data/interpolated/\", hub1_name, \"_close_interpolated.csv\")\n",
    "actuals_hub1 <- tail(read.csv(actuals_hub1_filename), horizon)\n",
    "colnames(actuals_hub1) <- c(\"Date\", hub1_name)\n",
    "\n",
    "actuals_hub2_filename <- paste0(\"../data/interpolated/\", hub2_name, \"_close_interpolated.csv\")\n",
    "actuals_hub2 <- tail(read.csv(actuals_hub2_filename), horizon)\n",
    "colnames(actuals_hub2) <- c(\"Date\", hub2_name)\n",
    "\n",
    "model1_mape_hub1 <- mape(actuals_hub1[[hub1_name]], model1_predictions[[hub1_name]])*100\n",
    "model1_rmse_hub1 <- rmse(actuals_hub1[[hub1_name]], model1_predictions[[hub1_name]])\n",
    "\n",
    "model2_mape_hub1 <- mape(actuals_hub1[[hub1_name]], model2_predictions[[hub1_name]])*100\n",
    "model2_rmse_hub1 <- rmse(actuals_hub1[[hub1_name]], model2_predictions[[hub1_name]])\n",
    "\n",
    "print(paste0(\"MAPE for \", hub1_name, \": \", model1_mape_hub1))\n",
    "print(paste0(\"RMSE for \", hub1_name, \": \", model1_rmse_hub1))\n",
    "\n",
    "print(paste0(\"MAPE for \", hub1_name, \": \", model2_mape_hub1))\n",
    "print(paste0(\"RMSE for \", hub1_name, \": \", model2_rmse_hub1))"
   ]
  },
  {
   "cell_type": "code",
   "execution_count": 93,
   "metadata": {},
   "outputs": [
    {
     "name": "stdout",
     "output_type": "stream",
     "text": [
      "[1] \"MAPE for the: 6.67212386189849\"\n",
      "[1] \"RMSE for the: 4.01953958437271\"\n",
      "[1] \"MAPE for the: 6.02219443490839\"\n",
      "[1] \"RMSE for the: 2.94050043911652\"\n"
     ]
    }
   ],
   "source": [
    "%%R\n",
    "model2_filename <- paste0(\"../predictions/test/predictions/\", hub2_name, \"_h\", horizon, \"_w\", window_size, \"_\", model2_name, \"_predictions.csv\")\n",
    "model2_predictions <- read.csv(model2_filename)\n",
    "\n",
    "model1_mape_hub2 <- mape(actuals_hub2[[hub2_name]], model1_predictions[[hub2_name]])*100\n",
    "model1_rmse_hub2 <- rmse(actuals_hub2[[hub2_name]], model1_predictions[[hub2_name]])\n",
    "\n",
    "model2_mape_hub2 <- mape(actuals_hub2[[hub2_name]], model2_predictions[[hub2_name]])*100\n",
    "model2_rmse_hub2 <- rmse(actuals_hub2[[hub2_name]], model2_predictions[[hub2_name]])\n",
    "\n",
    "print(paste0(\"MAPE for \", hub2_name, \": \", model1_mape_hub2))\n",
    "print(paste0(\"RMSE for \", hub2_name, \": \", model1_rmse_hub2))\n",
    "\n",
    "print(paste0(\"MAPE for \", hub2_name, \": \", model2_mape_hub2))\n",
    "print(paste0(\"RMSE for \", hub2_name, \": \", model2_rmse_hub2))"
   ]
  },
  {
   "cell_type": "code",
   "execution_count": 94,
   "metadata": {},
   "outputs": [
    {
     "name": "stdout",
     "output_type": "stream",
     "text": [
      "Error in ts(x) : 'ts' object must have one or more observations\n"
     ]
    },
    {
     "ename": "RInterpreterError",
     "evalue": "Failed to parse and evaluate line 'model1_hub1_resids <- actuals_hub1[[hub1_name]] - model1_predictions[[hub1_name]]\\nmodel2_hub1_resids <- actuals_hub1[[hub1_name]] - model2_predictions[[hub1_name]]\\nhub1_dm <- dm.test(model1_hub1_resids, model2_hub1_resids, h = window_size, power = 1, alternative = \"less\")\\nhub1_dm\\n'.\nR error message: \"Error in ts(x) : 'ts' object must have one or more observations\"",
     "output_type": "error",
     "traceback": [
      "\u001b[0;31m---------------------------------------------------------------------------\u001b[0m",
      "\u001b[0;31mRRuntimeError\u001b[0m                             Traceback (most recent call last)",
      "File \u001b[0;32m~/Documents/Master/statistical-arbitrage/.conda/lib/python3.11/site-packages/rpy2/ipython/rmagic.py:407\u001b[0m, in \u001b[0;36mRMagics.eval\u001b[0;34m(self, code)\u001b[0m\n\u001b[1;32m    406\u001b[0m     r_expr \u001b[38;5;241m=\u001b[39m ri\u001b[38;5;241m.\u001b[39mparse(code)\n\u001b[0;32m--> 407\u001b[0m     value, visible \u001b[38;5;241m=\u001b[39m \u001b[43mri\u001b[49m\u001b[38;5;241;43m.\u001b[39;49m\u001b[43mevalr_expr_with_visible\u001b[49m\u001b[43m(\u001b[49m\n\u001b[1;32m    408\u001b[0m \u001b[43m        \u001b[49m\u001b[43mr_expr\u001b[49m\n\u001b[1;32m    409\u001b[0m \u001b[43m    \u001b[49m\u001b[43m)\u001b[49m\n\u001b[1;32m    410\u001b[0m \u001b[38;5;28;01mexcept\u001b[39;00m (ri\u001b[38;5;241m.\u001b[39membedded\u001b[38;5;241m.\u001b[39mRRuntimeError, \u001b[38;5;167;01mValueError\u001b[39;00m) \u001b[38;5;28;01mas\u001b[39;00m exception:\n\u001b[1;32m    411\u001b[0m     \u001b[38;5;66;03m# Otherwise next return seems to have copy of error.\u001b[39;00m\n",
      "File \u001b[0;32m~/Documents/Master/statistical-arbitrage/.conda/lib/python3.11/site-packages/rpy2/rinterface.py:192\u001b[0m, in \u001b[0;36mevalr_expr_with_visible\u001b[0;34m(expr, envir)\u001b[0m\n\u001b[1;32m    191\u001b[0m \u001b[38;5;28;01mif\u001b[39;00m error_occured[\u001b[38;5;241m0\u001b[39m]:\n\u001b[0;32m--> 192\u001b[0m     \u001b[38;5;28;01mraise\u001b[39;00m embedded\u001b[38;5;241m.\u001b[39mRRuntimeError(_rinterface\u001b[38;5;241m.\u001b[39m_geterrmessage())\n\u001b[1;32m    193\u001b[0m res \u001b[38;5;241m=\u001b[39m conversion\u001b[38;5;241m.\u001b[39m_cdata_to_rinterface(r_res)\n",
      "\u001b[0;31mRRuntimeError\u001b[0m: Error in ts(x) : 'ts' object must have one or more observations\n",
      "\nDuring handling of the above exception, another exception occurred:\n",
      "\u001b[0;31mRInterpreterError\u001b[0m                         Traceback (most recent call last)",
      "Cell \u001b[0;32mIn[94], line 1\u001b[0m\n\u001b[0;32m----> 1\u001b[0m \u001b[43mget_ipython\u001b[49m\u001b[43m(\u001b[49m\u001b[43m)\u001b[49m\u001b[38;5;241;43m.\u001b[39;49m\u001b[43mrun_cell_magic\u001b[49m\u001b[43m(\u001b[49m\u001b[38;5;124;43m'\u001b[39;49m\u001b[38;5;124;43mR\u001b[39;49m\u001b[38;5;124;43m'\u001b[39;49m\u001b[43m,\u001b[49m\u001b[43m \u001b[49m\u001b[38;5;124;43m'\u001b[39;49m\u001b[38;5;124;43m'\u001b[39;49m\u001b[43m,\u001b[49m\u001b[43m \u001b[49m\u001b[38;5;124;43m'\u001b[39;49m\u001b[38;5;124;43mmodel1_hub1_resids <- actuals_hub1[[hub1_name]] - model1_predictions[[hub1_name]]\u001b[39;49m\u001b[38;5;130;43;01m\\n\u001b[39;49;00m\u001b[38;5;124;43mmodel2_hub1_resids <- actuals_hub1[[hub1_name]] - model2_predictions[[hub1_name]]\u001b[39;49m\u001b[38;5;130;43;01m\\n\u001b[39;49;00m\u001b[38;5;124;43mhub1_dm <- dm.test(model1_hub1_resids, model2_hub1_resids, h = window_size, power = 1, alternative = \u001b[39;49m\u001b[38;5;124;43m\"\u001b[39;49m\u001b[38;5;124;43mless\u001b[39;49m\u001b[38;5;124;43m\"\u001b[39;49m\u001b[38;5;124;43m)\u001b[39;49m\u001b[38;5;130;43;01m\\n\u001b[39;49;00m\u001b[38;5;124;43mhub1_dm\u001b[39;49m\u001b[38;5;130;43;01m\\n\u001b[39;49;00m\u001b[38;5;124;43m'\u001b[39;49m\u001b[43m)\u001b[49m\n",
      "File \u001b[0;32m~/Documents/Master/statistical-arbitrage/.conda/lib/python3.11/site-packages/IPython/core/interactiveshell.py:2541\u001b[0m, in \u001b[0;36mInteractiveShell.run_cell_magic\u001b[0;34m(self, magic_name, line, cell)\u001b[0m\n\u001b[1;32m   2539\u001b[0m \u001b[38;5;28;01mwith\u001b[39;00m \u001b[38;5;28mself\u001b[39m\u001b[38;5;241m.\u001b[39mbuiltin_trap:\n\u001b[1;32m   2540\u001b[0m     args \u001b[38;5;241m=\u001b[39m (magic_arg_s, cell)\n\u001b[0;32m-> 2541\u001b[0m     result \u001b[38;5;241m=\u001b[39m \u001b[43mfn\u001b[49m\u001b[43m(\u001b[49m\u001b[38;5;241;43m*\u001b[39;49m\u001b[43margs\u001b[49m\u001b[43m,\u001b[49m\u001b[43m \u001b[49m\u001b[38;5;241;43m*\u001b[39;49m\u001b[38;5;241;43m*\u001b[39;49m\u001b[43mkwargs\u001b[49m\u001b[43m)\u001b[49m\n\u001b[1;32m   2543\u001b[0m \u001b[38;5;66;03m# The code below prevents the output from being displayed\u001b[39;00m\n\u001b[1;32m   2544\u001b[0m \u001b[38;5;66;03m# when using magics with decorator @output_can_be_silenced\u001b[39;00m\n\u001b[1;32m   2545\u001b[0m \u001b[38;5;66;03m# when the last Python token in the expression is a ';'.\u001b[39;00m\n\u001b[1;32m   2546\u001b[0m \u001b[38;5;28;01mif\u001b[39;00m \u001b[38;5;28mgetattr\u001b[39m(fn, magic\u001b[38;5;241m.\u001b[39mMAGIC_OUTPUT_CAN_BE_SILENCED, \u001b[38;5;28;01mFalse\u001b[39;00m):\n",
      "File \u001b[0;32m~/Documents/Master/statistical-arbitrage/.conda/lib/python3.11/site-packages/rpy2/ipython/rmagic.py:984\u001b[0m, in \u001b[0;36mRMagics.R\u001b[0;34m(self, line, cell, local_ns)\u001b[0m\n\u001b[1;32m    982\u001b[0m     \u001b[38;5;28;01mif\u001b[39;00m \u001b[38;5;129;01mnot\u001b[39;00m e\u001b[38;5;241m.\u001b[39mstdout\u001b[38;5;241m.\u001b[39mendswith(e\u001b[38;5;241m.\u001b[39merr):\n\u001b[1;32m    983\u001b[0m         \u001b[38;5;28mprint\u001b[39m(e\u001b[38;5;241m.\u001b[39merr)\n\u001b[0;32m--> 984\u001b[0m     \u001b[38;5;28;01mraise\u001b[39;00m e\n\u001b[1;32m    985\u001b[0m \u001b[38;5;28;01mfinally\u001b[39;00m:\n\u001b[1;32m    986\u001b[0m     \u001b[38;5;28;01mif\u001b[39;00m \u001b[38;5;28mself\u001b[39m\u001b[38;5;241m.\u001b[39mdevice \u001b[38;5;129;01min\u001b[39;00m DEVICES_STATIC:\n",
      "File \u001b[0;32m~/Documents/Master/statistical-arbitrage/.conda/lib/python3.11/site-packages/rpy2/ipython/rmagic.py:949\u001b[0m, in \u001b[0;36mRMagics.R\u001b[0;34m(self, line, cell, local_ns)\u001b[0m\n\u001b[1;32m    947\u001b[0m         return_output \u001b[38;5;241m=\u001b[39m \u001b[38;5;28;01mFalse\u001b[39;00m\n\u001b[1;32m    948\u001b[0m \u001b[38;5;28;01melse\u001b[39;00m:\n\u001b[0;32m--> 949\u001b[0m     text_result, result, visible \u001b[38;5;241m=\u001b[39m \u001b[38;5;28;43mself\u001b[39;49m\u001b[38;5;241;43m.\u001b[39;49m\u001b[43meval\u001b[49m\u001b[43m(\u001b[49m\u001b[43mcode\u001b[49m\u001b[43m)\u001b[49m\n\u001b[1;32m    950\u001b[0m     text_output \u001b[38;5;241m+\u001b[39m\u001b[38;5;241m=\u001b[39m text_result\n\u001b[1;32m    951\u001b[0m     \u001b[38;5;28;01mif\u001b[39;00m visible:\n",
      "File \u001b[0;32m~/Documents/Master/statistical-arbitrage/.conda/lib/python3.11/site-packages/rpy2/ipython/rmagic.py:413\u001b[0m, in \u001b[0;36mRMagics.eval\u001b[0;34m(self, code)\u001b[0m\n\u001b[1;32m    410\u001b[0m \u001b[38;5;28;01mexcept\u001b[39;00m (ri\u001b[38;5;241m.\u001b[39membedded\u001b[38;5;241m.\u001b[39mRRuntimeError, \u001b[38;5;167;01mValueError\u001b[39;00m) \u001b[38;5;28;01mas\u001b[39;00m exception:\n\u001b[1;32m    411\u001b[0m     \u001b[38;5;66;03m# Otherwise next return seems to have copy of error.\u001b[39;00m\n\u001b[1;32m    412\u001b[0m     warning_or_other_msg \u001b[38;5;241m=\u001b[39m \u001b[38;5;28mself\u001b[39m\u001b[38;5;241m.\u001b[39mflush()\n\u001b[0;32m--> 413\u001b[0m     \u001b[38;5;28;01mraise\u001b[39;00m RInterpreterError(code, \u001b[38;5;28mstr\u001b[39m(exception),\n\u001b[1;32m    414\u001b[0m                             warning_or_other_msg)\n\u001b[1;32m    415\u001b[0m \u001b[38;5;28;01mfinally\u001b[39;00m:\n\u001b[1;32m    416\u001b[0m     ro\u001b[38;5;241m.\u001b[39m_print_deferred_warnings()\n",
      "\u001b[0;31mRInterpreterError\u001b[0m: Failed to parse and evaluate line 'model1_hub1_resids <- actuals_hub1[[hub1_name]] - model1_predictions[[hub1_name]]\\nmodel2_hub1_resids <- actuals_hub1[[hub1_name]] - model2_predictions[[hub1_name]]\\nhub1_dm <- dm.test(model1_hub1_resids, model2_hub1_resids, h = window_size, power = 1, alternative = \"less\")\\nhub1_dm\\n'.\nR error message: \"Error in ts(x) : 'ts' object must have one or more observations\""
     ]
    }
   ],
   "source": [
    "%%R\n",
    "model1_hub1_resids <- actuals_hub1[[hub1_name]] - model1_predictions[[hub1_name]]\n",
    "model2_hub1_resids <- actuals_hub1[[hub1_name]] - model2_predictions[[hub1_name]]\n",
    "hub1_dm <- dm.test(model1_hub1_resids, model2_hub1_resids, h = window_size, power = 1, alternative = \"less\")\n",
    "hub1_dm"
   ]
  }
 ],
 "metadata": {
  "kernelspec": {
   "display_name": "Python 3",
   "language": "python",
   "name": "python3"
  },
  "language_info": {
   "codemirror_mode": {
    "name": "ipython",
    "version": 3
   },
   "file_extension": ".py",
   "mimetype": "text/x-python",
   "name": "python",
   "nbconvert_exporter": "python",
   "pygments_lexer": "ipython3",
   "version": "3.11.9"
  }
 },
 "nbformat": 4,
 "nbformat_minor": 2
}
