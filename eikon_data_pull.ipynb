{
 "cells": [
  {
   "cell_type": "code",
   "execution_count": 1,
   "metadata": {},
   "outputs": [
    {
     "name": "stderr",
     "output_type": "stream",
     "text": [
      "c:\\Users\\sindrjha\\Documents\\Eikon data\\.venv\\Lib\\site-packages\\tqdm\\auto.py:21: TqdmWarning: IProgress not found. Please update jupyter and ipywidgets. See https://ipywidgets.readthedocs.io/en/stable/user_install.html\n",
      "  from .autonotebook import tqdm as notebook_tqdm\n"
     ]
    }
   ],
   "source": [
    "import eikon as ek\n",
    "from datetime import datetime\n",
    "from datetime import timedelta\n",
    "from eikon_wrapper import get_data\n",
    "import pandas as pd\n",
    "import matplotlib.pyplot as plt"
   ]
  },
  {
   "cell_type": "code",
   "execution_count": 2,
   "metadata": {},
   "outputs": [],
   "source": [
    "ek.set_app_key(\"c37ad465f3ff4feba5222c630d8c42d908c94729\")"
   ]
  },
  {
   "cell_type": "code",
   "execution_count": 7,
   "metadata": {},
   "outputs": [
    {
     "name": "stderr",
     "output_type": "stream",
     "text": [
      "Ticker:   0%|          | 0/1 [00:00<?, ?it/s]c:\\Users\\sindrjha\\Documents\\Eikon data\\.venv\\Lib\\site-packages\\eikon\\data_grid.py:255: FutureWarning: errors='ignore' is deprecated and will raise in a future version. Use to_numeric without passing `errors` and catch exceptions explicitly instead\n",
      "  df = df.apply(pd.to_numeric, errors='ignore')\n",
      "Ticker: 100%|██████████| 1/1 [00:25<00:00, 25.60s/it]\n"
     ]
    },
    {
     "data": {
      "text/plain": [
       "(      None  TR.CLOSE\n",
       " 0  NGLMNc1      <NA>,\n",
       " Empty DataFrame\n",
       " Columns: [error]\n",
       " Index: [])"
      ]
     },
     "execution_count": 7,
     "metadata": {},
     "output_type": "execute_result"
    }
   ],
   "source": [
    "get_data(['NGLMNc1'], ['TR.Close'], {})"
   ]
  },
  {
   "cell_type": "code",
   "execution_count": 19,
   "metadata": {},
   "outputs": [
    {
     "name": "stdout",
     "output_type": "stream",
     "text": [
      "[INFO] Number of dates: 3000\n",
      "[INFO] Number of tickers at once: 1\n",
      "[INFO] Max time window length: 357\n"
     ]
    },
    {
     "name": "stderr",
     "output_type": "stream",
     "text": [
      "Ticker: 100%|██████████| 8/8 [00:12<00:00,  1.62s/it]\n"
     ]
    },
    {
     "data": {
      "text/html": [
       "<div>\n",
       "<style scoped>\n",
       "    .dataframe tbody tr th:only-of-type {\n",
       "        vertical-align: middle;\n",
       "    }\n",
       "\n",
       "    .dataframe tbody tr th {\n",
       "        vertical-align: top;\n",
       "    }\n",
       "\n",
       "    .dataframe thead th {\n",
       "        text-align: right;\n",
       "    }\n",
       "</style>\n",
       "<table border=\"1\" class=\"dataframe\">\n",
       "  <thead>\n",
       "    <tr style=\"text-align: right;\">\n",
       "      <th>NGLNMc1</th>\n",
       "      <th>HIGH</th>\n",
       "      <th>LOW</th>\n",
       "      <th>OPEN</th>\n",
       "      <th>CLOSE</th>\n",
       "      <th>VOLUME</th>\n",
       "      <th>ticker</th>\n",
       "    </tr>\n",
       "    <tr>\n",
       "      <th>Date</th>\n",
       "      <th></th>\n",
       "      <th></th>\n",
       "      <th></th>\n",
       "      <th></th>\n",
       "      <th></th>\n",
       "      <th></th>\n",
       "    </tr>\n",
       "  </thead>\n",
       "  <tbody>\n",
       "    <tr>\n",
       "      <th>2000-01-04</th>\n",
       "      <td>11.65</td>\n",
       "      <td>11.55</td>\n",
       "      <td>11.65</td>\n",
       "      <td>11.58</td>\n",
       "      <td>215</td>\n",
       "      <td>NGLNMc1</td>\n",
       "    </tr>\n",
       "    <tr>\n",
       "      <th>2000-01-05</th>\n",
       "      <td>11.5</td>\n",
       "      <td>11.45</td>\n",
       "      <td>11.48</td>\n",
       "      <td>11.5</td>\n",
       "      <td>340</td>\n",
       "      <td>NGLNMc1</td>\n",
       "    </tr>\n",
       "    <tr>\n",
       "      <th>2000-01-06</th>\n",
       "      <td>11.47</td>\n",
       "      <td>11.44</td>\n",
       "      <td>11.44</td>\n",
       "      <td>11.46</td>\n",
       "      <td>225</td>\n",
       "      <td>NGLNMc1</td>\n",
       "    </tr>\n",
       "    <tr>\n",
       "      <th>2000-01-07</th>\n",
       "      <td>11.43</td>\n",
       "      <td>11.4</td>\n",
       "      <td>11.4</td>\n",
       "      <td>11.41</td>\n",
       "      <td>250</td>\n",
       "      <td>NGLNMc1</td>\n",
       "    </tr>\n",
       "    <tr>\n",
       "      <th>2000-01-10</th>\n",
       "      <td>11.53</td>\n",
       "      <td>11.5</td>\n",
       "      <td>11.51</td>\n",
       "      <td>11.51</td>\n",
       "      <td>180</td>\n",
       "      <td>NGLNMc1</td>\n",
       "    </tr>\n",
       "    <tr>\n",
       "      <th>...</th>\n",
       "      <td>...</td>\n",
       "      <td>...</td>\n",
       "      <td>...</td>\n",
       "      <td>...</td>\n",
       "      <td>...</td>\n",
       "      <td>...</td>\n",
       "    </tr>\n",
       "    <tr>\n",
       "      <th>2024-08-23</th>\n",
       "      <td>90.01</td>\n",
       "      <td>86.59</td>\n",
       "      <td>88.19</td>\n",
       "      <td>88.63</td>\n",
       "      <td>7185</td>\n",
       "      <td>NGLNMc1</td>\n",
       "    </tr>\n",
       "    <tr>\n",
       "      <th>2024-08-27</th>\n",
       "      <td>94.15</td>\n",
       "      <td>89.54</td>\n",
       "      <td>90.0</td>\n",
       "      <td>93.25</td>\n",
       "      <td>9620</td>\n",
       "      <td>NGLNMc1</td>\n",
       "    </tr>\n",
       "    <tr>\n",
       "      <th>2024-08-28</th>\n",
       "      <td>95.37</td>\n",
       "      <td>92.49</td>\n",
       "      <td>92.93</td>\n",
       "      <td>92.79</td>\n",
       "      <td>15685</td>\n",
       "      <td>NGLNMc1</td>\n",
       "    </tr>\n",
       "    <tr>\n",
       "      <th>2024-08-29</th>\n",
       "      <td>93.79</td>\n",
       "      <td>90.85</td>\n",
       "      <td>93.34</td>\n",
       "      <td>91.73</td>\n",
       "      <td>5980</td>\n",
       "      <td>NGLNMc1</td>\n",
       "    </tr>\n",
       "    <tr>\n",
       "      <th>2024-08-30</th>\n",
       "      <td>97.55</td>\n",
       "      <td>93.67</td>\n",
       "      <td>94.65</td>\n",
       "      <td>96.15</td>\n",
       "      <td>7110</td>\n",
       "      <td>NGLNMc1</td>\n",
       "    </tr>\n",
       "  </tbody>\n",
       "</table>\n",
       "<p>6289 rows × 6 columns</p>\n",
       "</div>"
      ],
      "text/plain": [
       "NGLNMc1      HIGH    LOW   OPEN  CLOSE  VOLUME   ticker\n",
       "Date                                                   \n",
       "2000-01-04  11.65  11.55  11.65  11.58     215  NGLNMc1\n",
       "2000-01-05   11.5  11.45  11.48   11.5     340  NGLNMc1\n",
       "2000-01-06  11.47  11.44  11.44  11.46     225  NGLNMc1\n",
       "2000-01-07  11.43   11.4   11.4  11.41     250  NGLNMc1\n",
       "2000-01-10  11.53   11.5  11.51  11.51     180  NGLNMc1\n",
       "...           ...    ...    ...    ...     ...      ...\n",
       "2024-08-23  90.01  86.59  88.19  88.63    7185  NGLNMc1\n",
       "2024-08-27  94.15  89.54   90.0  93.25    9620  NGLNMc1\n",
       "2024-08-28  95.37  92.49  92.93  92.79   15685  NGLNMc1\n",
       "2024-08-29  93.79  90.85  93.34  91.73    5980  NGLNMc1\n",
       "2024-08-30  97.55  93.67  94.65  96.15    7110  NGLNMc1\n",
       "\n",
       "[6289 rows x 6 columns]"
      ]
     },
     "execution_count": 19,
     "metadata": {},
     "output_type": "execute_result"
    }
   ],
   "source": [
    "ticker = \"NGLNMc1, NGLNMc2, NGLNMc3, TFUBMc1, TFUBMc2, TFUBMc3\"\n",
    "start_date = \"2000-01-01\"\n",
    "end_date = \"2024-09-01\" # A very nice man's birthday (according to some)\n",
    "fields = None\n",
    "\n",
    "params = {\"SDate\": start_date, \"EDate\": end_date}\n",
    "\n",
    "df, err = get_data(ticker, fields, params)\n",
    "df"
   ]
  }
 ],
 "metadata": {
  "kernelspec": {
   "display_name": ".venv",
   "language": "python",
   "name": "python3"
  },
  "language_info": {
   "codemirror_mode": {
    "name": "ipython",
    "version": 3
   },
   "file_extension": ".py",
   "mimetype": "text/x-python",
   "name": "python",
   "nbconvert_exporter": "python",
   "pygments_lexer": "ipython3",
   "version": "3.12.3"
  }
 },
 "nbformat": 4,
 "nbformat_minor": 2
}
