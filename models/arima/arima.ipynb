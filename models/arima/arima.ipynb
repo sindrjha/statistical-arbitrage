{
 "cells": [
  {
   "cell_type": "markdown",
   "metadata": {},
   "source": [
    "# Statistical models in R\n",
    "This notebook is covering:\n",
    "1. ARIMA-models."
   ]
  },
  {
   "cell_type": "code",
   "execution_count": 1,
   "metadata": {},
   "outputs": [],
   "source": [
    "import pandas as pd\n",
    "import plotly.express as px\n",
    "import plotly.graph_objs as go"
   ]
  },
  {
   "cell_type": "code",
   "execution_count": 2,
   "metadata": {},
   "outputs": [
    {
     "name": "stdout",
     "output_type": "stream",
     "text": [
      "Requirement already satisfied: rpy2 in /Users/sindrehaugland/Documents/Master/statistical-arbitrage/.conda/lib/python3.11/site-packages (3.5.16)\n",
      "Requirement already satisfied: cffi>=1.15.1 in /Users/sindrehaugland/Documents/Master/statistical-arbitrage/.conda/lib/python3.11/site-packages (from rpy2) (1.17.1)\n",
      "Requirement already satisfied: jinja2 in /Users/sindrehaugland/Documents/Master/statistical-arbitrage/.conda/lib/python3.11/site-packages (from rpy2) (3.1.4)\n",
      "Requirement already satisfied: tzlocal in /Users/sindrehaugland/Documents/Master/statistical-arbitrage/.conda/lib/python3.11/site-packages (from rpy2) (5.2)\n",
      "Requirement already satisfied: pycparser in /Users/sindrehaugland/Documents/Master/statistical-arbitrage/.conda/lib/python3.11/site-packages (from cffi>=1.15.1->rpy2) (2.22)\n",
      "Requirement already satisfied: MarkupSafe>=2.0 in /Users/sindrehaugland/Documents/Master/statistical-arbitrage/.conda/lib/python3.11/site-packages (from jinja2->rpy2) (2.1.5)\n",
      "Note: you may need to restart the kernel to use updated packages.\n"
     ]
    }
   ],
   "source": [
    "# rpy2 is a Python package that allows you to run R code from Python\n",
    "%pip install rpy2"
   ]
  },
  {
   "cell_type": "code",
   "execution_count": 3,
   "metadata": {},
   "outputs": [],
   "source": [
    "# Load the rpy2 extension to use R in Jupyter\n",
    "%load_ext rpy2.ipython"
   ]
  },
  {
   "cell_type": "markdown",
   "metadata": {},
   "source": [
    "The magic function `%%R` is used for running R code in Jupyter"
   ]
  },
  {
   "cell_type": "code",
   "execution_count": 4,
   "metadata": {},
   "outputs": [],
   "source": [
    "%%R\n",
    "\n",
    "hub1_name <- \"the\"\n",
    "validation_size <- 250\n",
    "test_size <- 250\n",
    "window_size <- 5\n",
    "\n",
    "\n"
   ]
  },
  {
   "cell_type": "code",
   "execution_count": 5,
   "metadata": {},
   "outputs": [
    {
     "data": {
      "text/plain": [
       "Loading required package: dplyr\n",
       "\n",
       "Attaching package: ‘dplyr’\n",
       "\n",
       "The following objects are masked from ‘package:stats’:\n",
       "\n",
       "    filter, lag\n",
       "\n",
       "The following objects are masked from ‘package:base’:\n",
       "\n",
       "    intersect, setdiff, setequal, union\n",
       "\n",
       "Loading required package: zoo\n",
       "\n",
       "Attaching package: ‘zoo’\n",
       "\n",
       "The following objects are masked from ‘package:base’:\n",
       "\n",
       "    as.Date, as.Date.numeric\n",
       "\n",
       "Loading required package: psych\n",
       "Loading required package: TSA\n",
       "\n",
       "Attaching package: ‘TSA’\n",
       "\n",
       "The following objects are masked from ‘package:stats’:\n",
       "\n",
       "    acf, arima\n",
       "\n",
       "The following object is masked from ‘package:utils’:\n",
       "\n",
       "    tar\n",
       "\n",
       "Loading required package: forecast\n",
       "Registered S3 method overwritten by 'quantmod':\n",
       "  method            from\n",
       "  as.zoo.data.frame zoo \n",
       "Registered S3 methods overwritten by 'forecast':\n",
       "  method       from\n",
       "  fitted.Arima TSA \n",
       "  plot.Arima   TSA \n",
       "This is forecast 8.23.0 \n",
       "  Crossvalidated is a great place to get help on forecasting issues:\n",
       "  http://stats.stackexchange.com/tags/forecasting.\n",
       "Loading required package: Metrics\n",
       "\n",
       "Attaching package: ‘Metrics’\n",
       "\n",
       "The following object is masked from ‘package:forecast’:\n",
       "\n",
       "    accuracy\n",
       "\n"
      ]
     },
     "metadata": {},
     "output_type": "display_data"
    }
   ],
   "source": [
    "%%R\n",
    "source(\"arima.r\")\n",
    "\n",
    "hubs <- c(\"ttf\", \"the\", \"nbp\")\n",
    "window_sizes <- c(5, 10)\n",
    "\n",
    "for (hub in hubs) {\n",
    "  for (window_size in window_sizes) {\n",
    "    arima_system(hub, validation_size, test_size, window_size, verbose = FALSE, save = TRUE)\n",
    "  }\n",
    "}"
   ]
  },
  {
   "cell_type": "code",
   "execution_count": 6,
   "metadata": {},
   "outputs": [
    {
     "name": "stdout",
     "output_type": "stream",
     "text": [
      "[1] \"AR: 4 I: 1 MA: 2\"\n",
      "[1] \"the: Mean Absolute Error: 2.99701482005169\"\n",
      "[1] \"the: Root Mean Squared Error: 3.96360344855582\"\n"
     ]
    }
   ],
   "source": [
    "%%R\n",
    "source(\"arima.r\")\n",
    "\n",
    "output <- arima_system(hub1_name, validation_size, test_size, window_size, verbose = TRUE, save = TRUE)"
   ]
  },
  {
   "cell_type": "code",
   "execution_count": 7,
   "metadata": {},
   "outputs": [],
   "source": [
    "%%R\n",
    "hub_predictions <- output$predictions$hub\n",
    "hub_actuals <- output$actuals$hub\n",
    "hub_forecast_comparison <- data.frame(\n",
    "  Actual = hub_actuals,\n",
    "  Forecasted = hub_predictions\n",
    ")"
   ]
  }
 ],
 "metadata": {
  "kernelspec": {
   "display_name": ".conda",
   "language": "python",
   "name": "python3"
  },
  "language_info": {
   "codemirror_mode": {
    "name": "ipython",
    "version": 3
   },
   "file_extension": ".py",
   "mimetype": "text/x-python",
   "name": "python",
   "nbconvert_exporter": "python",
   "pygments_lexer": "ipython3",
   "version": "3.11.9"
  }
 },
 "nbformat": 4,
 "nbformat_minor": 2
}
