{
 "cells": [
  {
   "cell_type": "markdown",
   "metadata": {},
   "source": [
    "# Statistical models in R\n",
    "This notebook is covering:\n",
    "1. VECM"
   ]
  },
  {
   "cell_type": "code",
   "execution_count": 1,
   "metadata": {},
   "outputs": [],
   "source": [
    "import pandas as pd\n",
    "import plotly.express as px\n",
    "import plotly.graph_objs as go"
   ]
  },
  {
   "cell_type": "code",
   "execution_count": 2,
   "metadata": {},
   "outputs": [
    {
     "name": "stdout",
     "output_type": "stream",
     "text": [
      "Requirement already satisfied: rpy2 in /Users/sindrehaugland/Documents/Master/statistical-arbitrage/.conda/lib/python3.11/site-packages (3.5.16)\n",
      "Requirement already satisfied: cffi>=1.15.1 in /Users/sindrehaugland/Documents/Master/statistical-arbitrage/.conda/lib/python3.11/site-packages (from rpy2) (1.17.1)\n",
      "Requirement already satisfied: jinja2 in /Users/sindrehaugland/Documents/Master/statistical-arbitrage/.conda/lib/python3.11/site-packages (from rpy2) (3.1.4)\n",
      "Requirement already satisfied: tzlocal in /Users/sindrehaugland/Documents/Master/statistical-arbitrage/.conda/lib/python3.11/site-packages (from rpy2) (5.2)\n",
      "Requirement already satisfied: pycparser in /Users/sindrehaugland/Documents/Master/statistical-arbitrage/.conda/lib/python3.11/site-packages (from cffi>=1.15.1->rpy2) (2.22)\n",
      "Requirement already satisfied: MarkupSafe>=2.0 in /Users/sindrehaugland/Documents/Master/statistical-arbitrage/.conda/lib/python3.11/site-packages (from jinja2->rpy2) (2.1.5)\n",
      "Note: you may need to restart the kernel to use updated packages.\n"
     ]
    }
   ],
   "source": [
    "# rpy2 is a Python package that allows you to run R code from Python\n",
    "%pip install rpy2"
   ]
  },
  {
   "cell_type": "code",
   "execution_count": 3,
   "metadata": {},
   "outputs": [],
   "source": [
    "# Load the rpy2 extension to use R in Jupyter\n",
    "%load_ext rpy2.ipython"
   ]
  },
  {
   "cell_type": "markdown",
   "metadata": {},
   "source": [
    "The magic function `%%R` is used for running R code in Jupyter"
   ]
  },
  {
   "cell_type": "code",
   "execution_count": 4,
   "metadata": {},
   "outputs": [
    {
     "data": {
      "text/plain": [
       "Loading required package: tsDyn\n",
       "Registered S3 method overwritten by 'quantmod':\n",
       "  method            from\n",
       "  as.zoo.data.frame zoo \n",
       "Loading required package: Metrics\n",
       "\n",
       "Attaching package: ‘Metrics’\n",
       "\n",
       "The following object is masked from ‘package:tsDyn’:\n",
       "\n",
       "    mse\n",
       "\n",
       "Loading required package: dplyr\n",
       "\n",
       "Attaching package: ‘dplyr’\n",
       "\n",
       "The following objects are masked from ‘package:stats’:\n",
       "\n",
       "    filter, lag\n",
       "\n",
       "The following objects are masked from ‘package:base’:\n",
       "\n",
       "    intersect, setdiff, setequal, union\n",
       "\n"
      ]
     },
     "metadata": {},
     "output_type": "display_data"
    }
   ],
   "source": [
    "%%R\n",
    "source(\"vecm.r\")\n",
    "hub1_name <- \"ttf\"\n",
    "hub2_name <- \"the\"\n",
    "validation_size <- 250\n",
    "test_size <- 250\n",
    "window_size <- 5"
   ]
  },
  {
   "cell_type": "code",
   "execution_count": 5,
   "metadata": {},
   "outputs": [
    {
     "name": "stdout",
     "output_type": "stream",
     "text": [
      "[1] \"Finished ttf the 5\"\n",
      "[1] \"Finished ttf the 10\"\n",
      "[1] \"Finished ttf nbp 5\"\n",
      "[1] \"Finished ttf nbp 10\"\n",
      "[1] \"Finished the nbp 5\"\n",
      "[1] \"Finished the nbp 10\"\n"
     ]
    }
   ],
   "source": [
    "%%R\n",
    "pairs <- list(c(\"ttf\", \"the\"), \n",
    "            c(\"ttf\", \"nbp\"), \n",
    "            c(\"the\", \"nbp\")\n",
    "            )\n",
    "window_sizes <- c(5, 10)\n",
    "for (i in 1:length(pairs)) {\n",
    "    for(k in 1:length(window_sizes)) {\n",
    "        pair <- pairs[[i]]\n",
    "        hub1_name <- pair[1]\n",
    "        hub2_name <- pair[2]\n",
    "        window_size <- window_sizes[k]\n",
    "        vecm_system(hub1_name, hub2_name, validation_size, test_size, window_size, verbose=FALSE, save=TRUE)\n",
    "        print(paste(\"Finished\", hub1_name, hub2_name, window_size))\n",
    "    }\n",
    "}"
   ]
  },
  {
   "cell_type": "code",
   "execution_count": 6,
   "metadata": {},
   "outputs": [
    {
     "name": "stdout",
     "output_type": "stream",
     "text": [
      "[1] \"Selected number of lags: 5\"\n",
      "[1] \"Pair: the | nbp\"\n",
      "[1] \"Window Size: 5\"\n",
      "[1] \"Test Size: 250\"\n",
      "[1] \"the: Mean Absolute Error: 2.071\"\n",
      "[1] \"the: Root Mean Squared Error: 2.927\"\n",
      "[1] \"nbp: Mean Absolute Error: 2.137\"\n",
      "[1] \"nbp: Root Mean Squared Error: 3.034\"\n"
     ]
    }
   ],
   "source": [
    "%%R\n",
    "vecm_output <- vecm_system(\"the\", \"nbp\", validation_size, test_size, 5, verbose=TRUE, save=TRUE)"
   ]
  },
  {
   "cell_type": "code",
   "execution_count": 7,
   "metadata": {},
   "outputs": [
    {
     "name": "stdout",
     "output_type": "stream",
     "text": [
      "#############\n",
      "###Model VECM \n",
      "#############\n",
      "Full sample size: 1285 \tEnd sample size: 1279\n",
      "Number of variables: 2 \tNumber of estimated slope parameters 24\n",
      "AIC 6868.471 \tBIC 6997.317 \tSSR 87041.64\n",
      "Cointegrating vector (estimated by ML):\n",
      "   hub1     hub2\n",
      "r1    1 -1.38433\n",
      "\n",
      "\n",
      "              ECT               Intercept          hub1 -1          \n",
      "Equation hub1 0.0220(0.0118).   0.2362(0.2023)     0.2716(0.0663)***\n",
      "Equation hub2 0.0414(0.0122)*** 0.4365(0.2105)*    0.3090(0.0690)***\n",
      "              hub2 -1             hub1 -2            hub2 -2           \n",
      "Equation hub1 -0.1052(0.0641)     -0.1819(0.0661)**  0.0513(0.0638)    \n",
      "Equation hub2 -0.1695(0.0667)*    -0.2080(0.0687)**  0.0747(0.0664)    \n",
      "              hub1 -3            hub2 -3           hub1 -4          \n",
      "Equation hub1 -0.2619(0.0661)*** 0.2494(0.0637)*** 0.2035(0.0665)** \n",
      "Equation hub2 -0.2687(0.0688)*** 0.2397(0.0663)*** 0.2438(0.0692)***\n",
      "              hub2 -4             hub1 -5            hub2 -5          \n",
      "Equation hub1 -0.0484(0.0641)     -0.2516(0.0662)*** 0.1191(0.0639).  \n",
      "Equation hub2 -0.1270(0.0667).    -0.2325(0.0689)*** 0.1269(0.0665).  \n"
     ]
    }
   ],
   "source": [
    "%%R\n",
    "training_model <- vecm_training_model(hub1_name, hub2_name, test_size, window_size)\n",
    "summary(training_model)"
   ]
  }
 ],
 "metadata": {
  "kernelspec": {
   "display_name": ".conda",
   "language": "python",
   "name": "python3"
  },
  "language_info": {
   "codemirror_mode": {
    "name": "ipython",
    "version": 3
   },
   "file_extension": ".py",
   "mimetype": "text/x-python",
   "name": "python",
   "nbconvert_exporter": "python",
   "pygments_lexer": "ipython3",
   "version": "3.11.9"
  }
 },
 "nbformat": 4,
 "nbformat_minor": 2
}
