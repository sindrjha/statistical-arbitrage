{
 "cells": [
  {
   "cell_type": "code",
   "execution_count": 1,
   "metadata": {},
   "outputs": [],
   "source": [
    "import pandas as pd\n",
    "import numpy as np\n",
    "import plotly.express as px\n",
    "import plotly.graph_objs as go\n",
    "\n",
    "#from trading_system_copy import TradingSystem\n",
    "#from trading_optimization_copy import OptimizeTradingSystem\n",
    "\n",
    "from trading_system import TradingSystem as TradingSystem"
   ]
  },
  {
   "cell_type": "code",
   "execution_count": 2,
   "metadata": {},
   "outputs": [
    {
     "name": "stdout",
     "output_type": "stream",
     "text": [
      "Pair: ttf-the\n",
      "Mean return: -0.0004710070803412879\n",
      "Cumulative return: -0.023550354017064394\n",
      "Std: 0.3595139196474007\n",
      "CI: (-0.04503681427586665, 0.04409480011518408)\n",
      "Pair: ttf-nbp\n",
      "Mean return: 0.002879113476933922\n",
      "Cumulative return: 0.1439556738466961\n",
      "Std: 0.9062171773518988\n",
      "CI: (-0.1094567316629357, 0.11521495861680354)\n",
      "Pair: the-nbp\n",
      "Mean return: 0.004060375404929327\n",
      "Cumulative return: 0.20301877024646633\n",
      "Std: 1.050080054805318\n",
      "CI: (-0.12610889678408108, 0.1342296475939397)\n"
     ]
    }
   ],
   "source": [
    "params = {\n",
    "    \"strategy\": \"forecasting\",\n",
    "    \"validation_size\": 250,\n",
    "    \"test_size\": 250,\n",
    "    \"window_size\": 5,\n",
    "}\n",
    "\n",
    "params[\"hub1_name\"] = \"ttf\"\n",
    "params[\"hub2_name\"] = \"nbp\"\n",
    "\n",
    "params[\"model\"] = \"vecm\" # not used, just need a model for the algo to work\n",
    "params[\"mode\"] = \"test\"\n",
    "vol_model = \"sGARCH_norm\" # not used, just need a model for the algo to work \n",
    "\n",
    "\n",
    "pairs = [\"ttf-the\", \"ttf-nbp\", \"the-nbp\"]\n",
    "results = [] \n",
    "\n",
    "for pair in pairs:\n",
    "    hub1_name = pair.split(\"-\")[0]\n",
    "    hub2_name = pair.split(\"-\")[1]\n",
    "    params[\"hub1_name\"] = hub1_name\n",
    "    params[\"hub2_name\"] = hub2_name\n",
    "    test_ts = TradingSystem(**params)\n",
    "\n",
    "    for _ in range(500):\n",
    "        test_ts.run_trading_system(volatility=vol_model,\n",
    "                        rolling_window=5, \n",
    "                        lower_threshold=100, \n",
    "                        special_strategy=\"naive\", \n",
    "                        verbose=False, \n",
    "                        plot=False)\n",
    "        mean_return, std, _, _, _ = test_ts.get_returns_stats()\n",
    "        results.append(mean_return)\n",
    "\n",
    "    print(f\"Pair: {pair}\")\n",
    "    print(f\"Mean return: {np.mean(results)}\")\n",
    "    print(f\"Cumulative return: {np.mean(results)*50}\")\n",
    "    print(f\"Std: {np.std(results)*np.sqrt(250)}\")\n",
    "    print(f\"CI: {np.mean(results) - 1.96*np.std(results),np.mean(results) + 1.96*np.std(results)}\")"
   ]
  },
  {
   "cell_type": "code",
   "execution_count": 3,
   "metadata": {},
   "outputs": [
    {
     "name": "stdout",
     "output_type": "stream",
     "text": [
      "Pair: ttf-the\n",
      "Mean return: 0.264\n",
      "Std: 0.259\n",
      "CI: 0.232% -0.296%\n",
      "Pair: ttf-nbp\n",
      "Mean return: 0.950\n",
      "Std: 0.845\n",
      "CI: 0.845% -1.055%\n",
      "Pair: the-nbp\n",
      "Mean return: 0.971\n",
      "Std: 0.901\n",
      "CI: 0.859% -1.083%\n"
     ]
    }
   ],
   "source": [
    "params = {\n",
    "    \"strategy\": \"forecasting\",\n",
    "    \"validation_size\": 250,\n",
    "    \"test_size\": 250,\n",
    "    \"window_size\": 5,\n",
    "}\n",
    "\n",
    "params[\"hub1_name\"] = \"ttf\"\n",
    "params[\"hub2_name\"] = \"nbp\"\n",
    "\n",
    "params[\"model\"] = \"vecm\" # not used, just need a model for the algo to work\n",
    "params[\"mode\"] = \"test\"\n",
    "vol_model = \"sGARCH_norm\" # not used, just need a model for the algo to work \n",
    "\n",
    "\n",
    "pairs = [\"ttf-the\", \"ttf-nbp\", \"the-nbp\"]\n",
    "results = [] \n",
    "\n",
    "for pair in pairs:\n",
    "    hub1_name = pair.split(\"-\")[0]\n",
    "    hub2_name = pair.split(\"-\")[1]\n",
    "    params[\"hub1_name\"] = hub1_name\n",
    "    params[\"hub2_name\"] = hub2_name\n",
    "    test_ts = TradingSystem(**params)\n",
    "    test_ts.run_trading_system(volatility=vol_model,\n",
    "                        rolling_window=5, \n",
    "                        lower_threshold=100, \n",
    "                        special_strategy=\"perfect_information\", \n",
    "                        verbose=False, \n",
    "                        plot=False)\n",
    "\n",
    "    mean = f\"{test_ts.get_returns_stats()[0]:.3f}\"\n",
    "    std = f\"{test_ts.get_returns_stats()[1]:.3f}\"\n",
    "\n",
    "    CI = test_ts.get_returns_stats()[3]\n",
    "    CI_f = f\"{CI[0]:.3f}% -{CI[1]:.3f}%\"\n",
    "\n",
    "    trade_rate = f\"{(1- test_ts.get_trade_rates()['no_trade_rate_returns'])*100:.1f}\"\n",
    "\n",
    "    print(f\"Pair: {pair}\")\n",
    "    print(f\"Mean return: {mean}\")\n",
    "    print(f\"Std: {std}\")\n",
    "    print(f\"CI: {CI_f}\")\n"
   ]
  }
 ],
 "metadata": {
  "kernelspec": {
   "display_name": ".conda",
   "language": "python",
   "name": "python3"
  },
  "language_info": {
   "codemirror_mode": {
    "name": "ipython",
    "version": 3
   },
   "file_extension": ".py",
   "mimetype": "text/x-python",
   "name": "python",
   "nbconvert_exporter": "python",
   "pygments_lexer": "ipython3",
   "version": "3.11.9"
  }
 },
 "nbformat": 4,
 "nbformat_minor": 2
}
